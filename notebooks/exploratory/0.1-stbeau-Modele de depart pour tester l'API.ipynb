{
 "cells": [
  {
   "cell_type": "code",
   "execution_count": 1,
   "metadata": {
    "ExecuteTime": {
     "end_time": "2020-10-17T00:48:00.190348Z",
     "start_time": "2020-10-17T00:47:59.562314Z"
    }
   },
   "outputs": [],
   "source": [
    "import pandas as pd\n",
    "#import janitor as jn"
   ]
  },
  {
   "cell_type": "code",
   "execution_count": 2,
   "metadata": {
    "ExecuteTime": {
     "end_time": "2020-10-17T00:48:00.965002Z",
     "start_time": "2020-10-17T00:48:00.957972Z"
    }
   },
   "outputs": [],
   "source": [
    "pd.set_option('max_columns', None)"
   ]
  },
  {
   "cell_type": "markdown",
   "metadata": {},
   "source": [
    "## Charger les données"
   ]
  },
  {
   "cell_type": "code",
   "execution_count": 3,
   "metadata": {
    "ExecuteTime": {
     "end_time": "2020-10-17T00:48:03.233943Z",
     "start_time": "2020-10-17T00:48:03.166446Z"
    }
   },
   "outputs": [],
   "source": [
    "data = pd.read_pickle(\"../../data/processed/maison.pkl\")\n",
    "#data.to_pickle(\"../../data/processed/maison.pkl\")"
   ]
  },
  {
   "cell_type": "code",
   "execution_count": 4,
   "metadata": {
    "ExecuteTime": {
     "end_time": "2020-10-17T00:48:03.654504Z",
     "start_time": "2020-10-17T00:48:03.562510Z"
    },
    "scrolled": true
   },
   "outputs": [
    {
     "name": "stdout",
     "output_type": "stream",
     "text": [
      "<class 'pandas.core.frame.DataFrame'>\n",
      "RangeIndex: 315650 entries, 0 to 315649\n",
      "Data columns (total 9 columns):\n",
      " #   Column                     Non-Null Count   Dtype   \n",
      "---  ------                     --------------   -----   \n",
      " 0   valeur_fonciere            315650 non-null  float64 \n",
      " 1   adresse_code_voie          315650 non-null  category\n",
      " 2   code_postal                315650 non-null  category\n",
      " 3   code_commune               315650 non-null  category\n",
      " 4   code_departement           315650 non-null  category\n",
      " 5   surface_reelle_bati        315650 non-null  float64 \n",
      " 6   nombre_pieces_principales  315650 non-null  float64 \n",
      " 7   code_nature_culture        315650 non-null  category\n",
      " 8   surface_terrain            315650 non-null  float64 \n",
      "dtypes: category(5), float64(4)\n",
      "memory usage: 14.1 MB\n",
      "None\n"
     ]
    }
   ],
   "source": [
    "# Afficher la table initiale\n",
    "print(data.info(null_counts=True))"
   ]
  },
  {
   "cell_type": "markdown",
   "metadata": {},
   "source": [
    "## Traitement des données"
   ]
  },
  {
   "cell_type": "code",
   "execution_count": 5,
   "metadata": {
    "ExecuteTime": {
     "end_time": "2020-10-17T00:48:05.666830Z",
     "start_time": "2020-10-17T00:48:05.541283Z"
    }
   },
   "outputs": [],
   "source": [
    "num_features = data.select_dtypes(\"float\").columns\n",
    "categ_features = data.select_dtypes(\"category\").columns"
   ]
  },
  {
   "cell_type": "code",
   "execution_count": 6,
   "metadata": {
    "ExecuteTime": {
     "end_time": "2020-10-17T00:48:06.469003Z",
     "start_time": "2020-10-17T00:48:06.131315Z"
    }
   },
   "outputs": [],
   "source": [
    "data[categ_features] = data[categ_features].astype(\"str\")"
   ]
  },
  {
   "cell_type": "code",
   "execution_count": 7,
   "metadata": {
    "ExecuteTime": {
     "end_time": "2020-10-17T00:48:08.060848Z",
     "start_time": "2020-10-17T00:48:08.051848Z"
    }
   },
   "outputs": [],
   "source": [
    "#data[\"code_postal\"] = data[\"code_postal\"].astype(\"str\")\n",
    "cat_f_to_keep = [\"code_postal\"]\n",
    "cat_f_to_ignore = categ_features[categ_features!=cat_f_to_keep[0]]\n",
    "\n",
    "target = 'valeur_fonciere'\n",
    "\n",
    "num_f_to_keep = list(num_features[num_features!=target])"
   ]
  },
  {
   "cell_type": "code",
   "execution_count": null,
   "metadata": {
    "ExecuteTime": {
     "end_time": "2020-10-16T23:15:24.707116Z",
     "start_time": "2020-10-16T23:15:24.423354Z"
    }
   },
   "outputs": [],
   "source": [
    "sub_pc = (data[\"code_postal\"].value_counts().cumsum()<40000)\n",
    "list_sub_pc = list(sub_pc.index[sub_pc])\n",
    "df = data[data[\"code_postal\"].isin(list_sub_pc)]\n",
    "\n",
    "df = df[(df[\"valeur_fonciere\"]>30000) & (df[\"valeur_fonciere\"]<300000)]\n",
    "print(data.shape, df.shape)"
   ]
  },
  {
   "cell_type": "code",
   "execution_count": 8,
   "metadata": {
    "ExecuteTime": {
     "end_time": "2020-10-17T00:48:10.707812Z",
     "start_time": "2020-10-17T00:48:10.623769Z"
    }
   },
   "outputs": [
    {
     "name": "stdout",
     "output_type": "stream",
     "text": [
      "(315650, 9) (243287, 9)\n"
     ]
    }
   ],
   "source": [
    "df = data[(data[\"valeur_fonciere\"]>30000) & (data[\"valeur_fonciere\"]<300000)]\n",
    "print(data.shape, df.shape)"
   ]
  },
  {
   "cell_type": "markdown",
   "metadata": {},
   "source": [
    "## Pycaret - Regression"
   ]
  },
  {
   "cell_type": "markdown",
   "metadata": {},
   "source": [
    "PROB : pour la scission des données, faire proportionnel dans chaque classe. Mais il y a peut-etre des classes manquantes dans les données d'entrainement que l'on a seulement dans l'ensemble de test."
   ]
  },
  {
   "cell_type": "code",
   "execution_count": 9,
   "metadata": {
    "ExecuteTime": {
     "end_time": "2020-10-17T00:48:17.408629Z",
     "start_time": "2020-10-17T00:48:17.395629Z"
    }
   },
   "outputs": [],
   "source": [
    "from pycaret.regression import *"
   ]
  },
  {
   "cell_type": "code",
   "execution_count": null,
   "metadata": {
    "ExecuteTime": {
     "start_time": "2020-10-17T00:48:17.663Z"
    },
    "scrolled": false
   },
   "outputs": [
    {
     "data": {
      "application/vnd.jupyter.widget-view+json": {
       "model_id": "bd9e6e05055c407aa41f602e23f6d951",
       "version_major": 2,
       "version_minor": 0
      },
      "text/plain": [
       "IntProgress(value=0, description='Processing: ', max=13)"
      ]
     },
     "metadata": {},
     "output_type": "display_data"
    },
    {
     "data": {
      "text/html": [
       "<div>\n",
       "<style scoped>\n",
       "    .dataframe tbody tr th:only-of-type {\n",
       "        vertical-align: middle;\n",
       "    }\n",
       "\n",
       "    .dataframe tbody tr th {\n",
       "        vertical-align: top;\n",
       "    }\n",
       "\n",
       "    .dataframe thead th {\n",
       "        text-align: right;\n",
       "    }\n",
       "</style>\n",
       "<table border=\"1\" class=\"dataframe\">\n",
       "  <thead>\n",
       "    <tr style=\"text-align: right;\">\n",
       "      <th></th>\n",
       "      <th></th>\n",
       "      <th></th>\n",
       "    </tr>\n",
       "    <tr>\n",
       "      <th></th>\n",
       "      <th></th>\n",
       "      <th></th>\n",
       "    </tr>\n",
       "  </thead>\n",
       "  <tbody>\n",
       "    <tr>\n",
       "      <th>Initiated</th>\n",
       "      <td>. . . . . . . . . . . . . . . . . .</td>\n",
       "      <td>20:48:22</td>\n",
       "    </tr>\n",
       "    <tr>\n",
       "      <th>Status</th>\n",
       "      <td>. . . . . . . . . . . . . . . . . .</td>\n",
       "      <td>Preparing Data for Modeling</td>\n",
       "    </tr>\n",
       "    <tr>\n",
       "      <th>ETC</th>\n",
       "      <td>. . . . . . . . . . . . . . . . . .</td>\n",
       "      <td>Calculating ETC</td>\n",
       "    </tr>\n",
       "  </tbody>\n",
       "</table>\n",
       "</div>"
      ],
      "text/plain": [
       "                                                                           \n",
       "                                                                           \n",
       "Initiated  . . . . . . . . . . . . . . . . . .                     20:48:22\n",
       "Status     . . . . . . . . . . . . . . . . . .  Preparing Data for Modeling\n",
       "ETC        . . . . . . . . . . . . . . . . . .              Calculating ETC"
      ]
     },
     "metadata": {},
     "output_type": "display_data"
    },
    {
     "data": {
      "text/html": [
       "        <script type=\"text/javascript\">\n",
       "        window.PlotlyConfig = {MathJaxConfig: 'local'};\n",
       "        if (window.MathJax) {MathJax.Hub.Config({SVG: {font: \"STIX-Web\"}});}\n",
       "        if (typeof require !== 'undefined') {\n",
       "        require.undef(\"plotly\");\n",
       "        requirejs.config({\n",
       "            paths: {\n",
       "                'plotly': ['https://cdn.plot.ly/plotly-latest.min']\n",
       "            }\n",
       "        });\n",
       "        require(['plotly'], function(Plotly) {\n",
       "            window._Plotly = Plotly;\n",
       "        });\n",
       "        }\n",
       "        </script>\n",
       "        "
      ]
     },
     "metadata": {},
     "output_type": "display_data"
    },
    {
     "data": {
      "application/vnd.jupyter.widget-view+json": {
       "model_id": "25133070995543f6aa2b4979d366c98a",
       "version_major": 2,
       "version_minor": 0
      },
      "text/plain": [
       "Text(value=\"Following data types have been inferred automatically, if they are correct press enter to continue…"
      ]
     },
     "metadata": {},
     "output_type": "display_data"
    },
    {
     "data": {
      "text/html": [
       "<div>\n",
       "<style scoped>\n",
       "    .dataframe tbody tr th:only-of-type {\n",
       "        vertical-align: middle;\n",
       "    }\n",
       "\n",
       "    .dataframe tbody tr th {\n",
       "        vertical-align: top;\n",
       "    }\n",
       "\n",
       "    .dataframe thead th {\n",
       "        text-align: right;\n",
       "    }\n",
       "</style>\n",
       "<table border=\"1\" class=\"dataframe\">\n",
       "  <thead>\n",
       "    <tr style=\"text-align: right;\">\n",
       "      <th></th>\n",
       "      <th>Data Type</th>\n",
       "    </tr>\n",
       "  </thead>\n",
       "  <tbody>\n",
       "    <tr>\n",
       "      <th>valeur_fonciere</th>\n",
       "      <td>Label</td>\n",
       "    </tr>\n",
       "    <tr>\n",
       "      <th>code_postal</th>\n",
       "      <td>Categorical</td>\n",
       "    </tr>\n",
       "    <tr>\n",
       "      <th>surface_reelle_bati</th>\n",
       "      <td>Numeric</td>\n",
       "    </tr>\n",
       "    <tr>\n",
       "      <th>nombre_pieces_principales</th>\n",
       "      <td>Numeric</td>\n",
       "    </tr>\n",
       "    <tr>\n",
       "      <th>surface_terrain</th>\n",
       "      <td>Numeric</td>\n",
       "    </tr>\n",
       "  </tbody>\n",
       "</table>\n",
       "</div>"
      ],
      "text/plain": [
       "                             Data Type\n",
       "valeur_fonciere                  Label\n",
       "code_postal                Categorical\n",
       "surface_reelle_bati            Numeric\n",
       "nombre_pieces_principales      Numeric\n",
       "surface_terrain                Numeric"
      ]
     },
     "metadata": {},
     "output_type": "display_data"
    },
    {
     "name": "stdout",
     "output_type": "stream",
     "text": [
      "\n"
     ]
    }
   ],
   "source": [
    "exp_reg101 = setup(data = df, target = target, ignore_features=cat_f_to_ignore, categorical_features=cat_f_to_keep,\n",
    "                   remove_outliers=True, #remove_multicollinearity = True,# multicollinearity_threshold = 0.6,\n",
    "                   #polynomial_features = True, #feature_interaction=True, #trigonometry_features = True, \n",
    "                   normalize = True, normalize_method=\"robust\", transformation = True, transform_target = True, verbose=True, session_id=123)\n",
    "# normalize_method='robust'"
   ]
  },
  {
   "cell_type": "code",
   "execution_count": null,
   "metadata": {
    "ExecuteTime": {
     "end_time": "2020-10-01T20:35:00.791020Z",
     "start_time": "2020-10-01T20:35:00.778021Z"
    },
    "scrolled": false
   },
   "outputs": [],
   "source": [
    "# exp_reg101 = setup(data = data, target = 'valeur_fonciere', remove_outliers=True,\n",
    "#                    ignore_features=cat_features, create_clusters=True, polynomial_features=True, feature_ratio=True, \n",
    "#                    profile=True, session_id=123) \n",
    "# exp_reg101 = setup(data = data, target = target, remove_outliers=True, categorical_features=cat_f_tokeep,\n",
    "#                    numeric_features=num_f_tokeep, ignore_features=cat_f_toignore,\n",
    "#                    session_id=123) "
   ]
  },
  {
   "cell_type": "code",
   "execution_count": null,
   "metadata": {
    "ExecuteTime": {
     "end_time": "2020-10-16T21:04:43.008993Z",
     "start_time": "2020-10-16T21:03:20.018488Z"
    }
   },
   "outputs": [],
   "source": [
    "compare_models(exclude=[\"catboost\", \"svm\", \"et\", \"tr\", \"rf\", \"ransac\", \"gbr\",\"ada\"], fold=5, n_select=3)"
   ]
  },
  {
   "cell_type": "code",
   "execution_count": null,
   "metadata": {
    "ExecuteTime": {
     "end_time": "2020-10-04T19:54:26.267116Z",
     "start_time": "2020-10-04T19:54:26.193120Z"
    }
   },
   "outputs": [],
   "source": [
    "models()"
   ]
  },
  {
   "cell_type": "markdown",
   "metadata": {},
   "source": [
    "## Restes"
   ]
  },
  {
   "cell_type": "code",
   "execution_count": null,
   "metadata": {
    "ExecuteTime": {
     "end_time": "2020-10-03T18:13:00.754267Z",
     "start_time": "2020-10-03T18:12:43.359281Z"
    }
   },
   "outputs": [],
   "source": [
    "interpret_model(xg_reg)"
   ]
  },
  {
   "cell_type": "code",
   "execution_count": null,
   "metadata": {
    "ExecuteTime": {
     "end_time": "2020-10-03T18:03:29.865076Z",
     "start_time": "2020-10-03T18:02:24.202077Z"
    }
   },
   "outputs": [],
   "source": [
    "xg_reg = automl(use_holdout=False)\n",
    "xg_reg"
   ]
  },
  {
   "cell_type": "code",
   "execution_count": null,
   "metadata": {
    "ExecuteTime": {
     "end_time": "2020-10-03T18:03:41.201223Z",
     "start_time": "2020-10-03T18:03:36.706228Z"
    }
   },
   "outputs": [],
   "source": [
    "plot_model(xg_reg, plot = 'residuals')"
   ]
  },
  {
   "cell_type": "code",
   "execution_count": null,
   "metadata": {
    "ExecuteTime": {
     "end_time": "2020-10-03T18:15:23.458611Z",
     "start_time": "2020-10-03T18:15:23.435610Z"
    }
   },
   "outputs": [],
   "source": [
    "pull()"
   ]
  },
  {
   "cell_type": "code",
   "execution_count": null,
   "metadata": {
    "ExecuteTime": {
     "end_time": "2020-10-03T05:19:17.958566Z",
     "start_time": "2020-10-03T05:02:40.231490Z"
    },
    "scrolled": false
   },
   "outputs": [],
   "source": [
    "xg_reg = create_model(\"xgboost\")\n",
    "tune_xg_reg = tune_model(xg_reg, n_iter=100, fold=10, choose_better=True)\n",
    "print(tune_xg_reg)"
   ]
  },
  {
   "cell_type": "code",
   "execution_count": null,
   "metadata": {
    "ExecuteTime": {
     "end_time": "2020-10-03T04:06:33.623222Z",
     "start_time": "2020-10-03T04:03:09.778990Z"
    }
   },
   "outputs": [],
   "source": [
    "tune_xg_reg2 = tune_model(tune_xg_reg2, n_iter=10, fold=10, choose_better=True)\n",
    "print(tune_xg_reg)"
   ]
  },
  {
   "cell_type": "code",
   "execution_count": null,
   "metadata": {
    "ExecuteTime": {
     "end_time": "2020-10-03T04:01:40.799946Z",
     "start_time": "2020-10-03T04:01:40.790974Z"
    }
   },
   "outputs": [],
   "source": [
    "print(tune_xg_reg2)"
   ]
  },
  {
   "cell_type": "code",
   "execution_count": null,
   "metadata": {
    "ExecuteTime": {
     "end_time": "2020-10-03T03:47:30.766134Z",
     "start_time": "2020-10-03T03:46:43.943138Z"
    }
   },
   "outputs": [],
   "source": [
    "finalize_model(xg_reg)"
   ]
  },
  {
   "cell_type": "code",
   "execution_count": null,
   "metadata": {
    "ExecuteTime": {
     "end_time": "2020-10-03T03:47:31.290197Z",
     "start_time": "2020-10-03T03:47:31.196146Z"
    }
   },
   "outputs": [],
   "source": [
    "save_model(xg_reg,'../../models/final_xg_reg_for_streamlit_test')"
   ]
  },
  {
   "cell_type": "code",
   "execution_count": null,
   "metadata": {
    "ExecuteTime": {
     "end_time": "2020-10-03T03:46:19.483297Z",
     "start_time": "2020-10-03T03:46:19.303300Z"
    }
   },
   "outputs": [],
   "source": [
    "predict_model(xg_reg)"
   ]
  },
  {
   "cell_type": "code",
   "execution_count": null,
   "metadata": {
    "ExecuteTime": {
     "end_time": "2020-10-03T02:59:01.812967Z",
     "start_time": "2020-10-03T02:58:46.036734Z"
    }
   },
   "outputs": [],
   "source": [
    "interpret_model(xg_reg)"
   ]
  },
  {
   "cell_type": "code",
   "execution_count": null,
   "metadata": {},
   "outputs": [],
   "source": []
  },
  {
   "cell_type": "code",
   "execution_count": null,
   "metadata": {
    "ExecuteTime": {
     "start_time": "2020-09-27T17:00:35.706Z"
    }
   },
   "outputs": [],
   "source": [
    "rf_reg = create_model(\"rf\")\n",
    "tune_rf_reg = tune_model(rf_reg, n_iter=100, fold=10, choose_better=True)\n",
    "print(tune_rf_reg)"
   ]
  },
  {
   "cell_type": "code",
   "execution_count": null,
   "metadata": {
    "ExecuteTime": {
     "end_time": "2020-10-01T23:18:34.946269Z",
     "start_time": "2020-10-01T21:09:27.001306Z"
    }
   },
   "outputs": [],
   "source": [
    "compare_models(whitelist=[\"catboost\", \"svm\"], fold=5, n_select=2)"
   ]
  },
  {
   "cell_type": "code",
   "execution_count": null,
   "metadata": {},
   "outputs": [],
   "source": [
    "compare_models(blacklist=[\"catboost\"], fold=5, n_select=1)"
   ]
  },
  {
   "cell_type": "code",
   "execution_count": null,
   "metadata": {
    "ExecuteTime": {
     "end_time": "2020-09-27T03:15:19.826836Z",
     "start_time": "2020-09-27T03:10:00.200830Z"
    }
   },
   "outputs": [],
   "source": [
    "catboost_reg = create_model(\"catboost\")"
   ]
  },
  {
   "cell_type": "code",
   "execution_count": null,
   "metadata": {
    "ExecuteTime": {
     "end_time": "2020-09-26T03:00:27.419535Z",
     "start_time": "2020-09-26T03:00:26.980517Z"
    }
   },
   "outputs": [],
   "source": []
  },
  {
   "cell_type": "code",
   "execution_count": null,
   "metadata": {
    "ExecuteTime": {
     "end_time": "2020-09-25T19:26:18.761598Z",
     "start_time": "2020-09-25T19:25:55.548842Z"
    }
   },
   "outputs": [],
   "source": [
    "tune_huber_reg = tune_model(huber_reg, n_iter=100, fold=10, choose_better=True)\n",
    "print(tune_huber_reg)"
   ]
  },
  {
   "cell_type": "code",
   "execution_count": null,
   "metadata": {
    "ExecuteTime": {
     "end_time": "2020-09-25T19:19:21.353306Z",
     "start_time": "2020-09-25T19:19:21.340305Z"
    },
    "scrolled": false
   },
   "outputs": [],
   "source": [
    "#evaluate_model(tune_huber_reg)"
   ]
  },
  {
   "cell_type": "code",
   "execution_count": null,
   "metadata": {
    "ExecuteTime": {
     "end_time": "2020-09-25T19:27:38.010424Z",
     "start_time": "2020-09-25T19:27:37.951424Z"
    }
   },
   "outputs": [],
   "source": [
    "interpret_model(tune_huber_reg)"
   ]
  },
  {
   "cell_type": "code",
   "execution_count": null,
   "metadata": {
    "ExecuteTime": {
     "end_time": "2020-09-26T14:35:44.675932Z",
     "start_time": "2020-09-26T14:34:52.149380Z"
    }
   },
   "outputs": [],
   "source": [
    "exp_reg102 = setup(data = data, target = 'valeur_fonciere', remove_outliers=True,\n",
    "                   ignore_features=cat_features, polynomial_features=True,\n",
    "                   session_id=124) "
   ]
  },
  {
   "cell_type": "code",
   "execution_count": null,
   "metadata": {
    "ExecuteTime": {
     "end_time": "2020-09-26T14:53:44.644129Z",
     "start_time": "2020-09-26T14:48:01.207880Z"
    }
   },
   "outputs": [],
   "source": [
    "compare_models(blacklist=[\"catboost\",\"svm\"], fold=5, n_select=1)"
   ]
  },
  {
   "cell_type": "code",
   "execution_count": null,
   "metadata": {
    "ExecuteTime": {
     "end_time": "2020-09-26T14:35:53.531203Z",
     "start_time": "2020-09-26T14:35:52.685493Z"
    }
   },
   "outputs": [],
   "source": [
    "lr_reg = create_model(\"lr\")"
   ]
  },
  {
   "cell_type": "code",
   "execution_count": null,
   "metadata": {
    "ExecuteTime": {
     "end_time": "2020-09-26T14:36:36.204808Z",
     "start_time": "2020-09-26T14:36:28.820875Z"
    }
   },
   "outputs": [],
   "source": [
    "tune_lr_reg = tune_model(lr_reg, n_iter=100, fold=10, choose_better=True)\n",
    "print(tune_lr_reg)"
   ]
  },
  {
   "cell_type": "code",
   "execution_count": null,
   "metadata": {
    "ExecuteTime": {
     "end_time": "2020-09-26T14:36:51.680876Z",
     "start_time": "2020-09-26T14:36:51.498872Z"
    }
   },
   "outputs": [],
   "source": [
    "interpret_model(tune_lr_reg)"
   ]
  },
  {
   "cell_type": "code",
   "execution_count": null,
   "metadata": {
    "ExecuteTime": {
     "end_time": "2020-09-26T19:48:12.780964Z",
     "start_time": "2020-09-26T14:55:12.314387Z"
    }
   },
   "outputs": [],
   "source": [
    "blend_all = blend_models()"
   ]
  },
  {
   "cell_type": "code",
   "execution_count": null,
   "metadata": {
    "ExecuteTime": {
     "end_time": "2020-09-27T02:27:51.099353Z",
     "start_time": "2020-09-27T02:27:51.073354Z"
    }
   },
   "outputs": [],
   "source": [
    "data[\"code_postal\"] = data[\"code_postal\"].apply(lambda x: f\"{x}\")"
   ]
  },
  {
   "cell_type": "code",
   "execution_count": null,
   "metadata": {
    "ExecuteTime": {
     "end_time": "2020-09-27T02:27:53.642444Z",
     "start_time": "2020-09-27T02:27:53.624447Z"
    }
   },
   "outputs": [],
   "source": [
    "data[\"code_postal\"]"
   ]
  },
  {
   "cell_type": "code",
   "execution_count": null,
   "metadata": {},
   "outputs": [],
   "source": [
    "pd.Series.apply()"
   ]
  }
 ],
 "metadata": {
  "kernelspec": {
   "display_name": "Python 3",
   "language": "python",
   "name": "python3"
  },
  "language_info": {
   "codemirror_mode": {
    "name": "ipython",
    "version": 3
   },
   "file_extension": ".py",
   "mimetype": "text/x-python",
   "name": "python",
   "nbconvert_exporter": "python",
   "pygments_lexer": "ipython3",
   "version": "3.6.12"
  },
  "nbTranslate": {
   "displayLangs": [
    "*"
   ],
   "hotkey": "alt-t",
   "langInMainMenu": true,
   "sourceLang": "en",
   "targetLang": "fr",
   "useGoogleTranslate": true
  },
  "toc": {
   "base_numbering": 1,
   "nav_menu": {},
   "number_sections": true,
   "sideBar": true,
   "skip_h1_title": false,
   "title_cell": "Table of Contents",
   "title_sidebar": "Contents",
   "toc_cell": false,
   "toc_position": {},
   "toc_section_display": true,
   "toc_window_display": false
  },
  "varInspector": {
   "cols": {
    "lenName": 16,
    "lenType": 16,
    "lenVar": 40
   },
   "kernels_config": {
    "python": {
     "delete_cmd_postfix": "",
     "delete_cmd_prefix": "del ",
     "library": "var_list.py",
     "varRefreshCmd": "print(var_dic_list())"
    },
    "r": {
     "delete_cmd_postfix": ") ",
     "delete_cmd_prefix": "rm(",
     "library": "var_list.r",
     "varRefreshCmd": "cat(var_dic_list()) "
    }
   },
   "position": {
    "height": "343px",
    "left": "919px",
    "right": "20px",
    "top": "25px",
    "width": "427px"
   },
   "types_to_exclude": [
    "module",
    "function",
    "builtin_function_or_method",
    "instance",
    "_Feature"
   ],
   "window_display": false
  }
 },
 "nbformat": 4,
 "nbformat_minor": 4
}

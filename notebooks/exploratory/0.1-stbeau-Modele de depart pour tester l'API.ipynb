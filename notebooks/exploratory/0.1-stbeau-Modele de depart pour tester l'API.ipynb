{
 "cells": [
  {
   "cell_type": "code",
   "execution_count": 1,
   "metadata": {
    "ExecuteTime": {
     "end_time": "2020-10-17T23:30:21.615842Z",
     "start_time": "2020-10-17T23:30:20.735111Z"
    }
   },
   "outputs": [],
   "source": [
    "import pandas as pd\n",
    "#import janitor as jn"
   ]
  },
  {
   "cell_type": "code",
   "execution_count": 2,
   "metadata": {
    "ExecuteTime": {
     "end_time": "2020-10-17T23:30:21.740855Z",
     "start_time": "2020-10-17T23:30:21.727863Z"
    }
   },
   "outputs": [],
   "source": [
    "pd.set_option('max_columns', None)"
   ]
  },
  {
   "cell_type": "markdown",
   "metadata": {},
   "source": [
    "## Charger les données"
   ]
  },
  {
   "cell_type": "code",
   "execution_count": 32,
   "metadata": {
    "ExecuteTime": {
     "end_time": "2020-10-18T03:09:10.424050Z",
     "start_time": "2020-10-18T03:09:10.189113Z"
    }
   },
   "outputs": [],
   "source": [
    "data = pd.read_pickle(\"../../data/processed/maison.pkl\")\n",
    "#data.to_pickle(\"../../data/processed/maison.pkl\")"
   ]
  },
  {
   "cell_type": "code",
   "execution_count": 33,
   "metadata": {
    "ExecuteTime": {
     "end_time": "2020-10-18T03:09:12.073952Z",
     "start_time": "2020-10-18T03:09:11.925054Z"
    },
    "scrolled": true
   },
   "outputs": [
    {
     "name": "stdout",
     "output_type": "stream",
     "text": [
      "<class 'pandas.core.frame.DataFrame'>\n",
      "RangeIndex: 315650 entries, 0 to 315649\n",
      "Data columns (total 9 columns):\n",
      " #   Column                     Non-Null Count   Dtype   \n",
      "---  ------                     --------------   -----   \n",
      " 0   valeur_fonciere            315650 non-null  float64 \n",
      " 1   adresse_code_voie          315650 non-null  category\n",
      " 2   code_postal                315650 non-null  category\n",
      " 3   code_commune               315650 non-null  category\n",
      " 4   code_departement           315650 non-null  category\n",
      " 5   surface_reelle_bati        315650 non-null  float64 \n",
      " 6   nombre_pieces_principales  315650 non-null  float64 \n",
      " 7   code_nature_culture        315650 non-null  category\n",
      " 8   surface_terrain            315650 non-null  float64 \n",
      "dtypes: category(5), float64(4)\n",
      "memory usage: 14.1 MB\n",
      "None\n"
     ]
    }
   ],
   "source": [
    "# Afficher la table initiale\n",
    "print(data.info(null_counts=True))"
   ]
  },
  {
   "cell_type": "markdown",
   "metadata": {},
   "source": [
    "## Traitement des données"
   ]
  },
  {
   "cell_type": "code",
   "execution_count": 34,
   "metadata": {
    "ExecuteTime": {
     "end_time": "2020-10-18T03:09:15.927969Z",
     "start_time": "2020-10-18T03:09:15.771923Z"
    }
   },
   "outputs": [],
   "source": [
    "num_features = data.select_dtypes(\"float\").columns\n",
    "categ_features = data.select_dtypes(\"category\").columns"
   ]
  },
  {
   "cell_type": "code",
   "execution_count": 35,
   "metadata": {
    "ExecuteTime": {
     "end_time": "2020-10-18T03:09:16.986148Z",
     "start_time": "2020-10-18T03:09:16.568057Z"
    }
   },
   "outputs": [],
   "source": [
    "data[categ_features] = data[categ_features].astype(\"str\")\n",
    "data[num_features] = data[num_features].astype(\"float32\")\n",
    "#data[[\"surface_terrain\",\"valeur_fonciere\"]] = data[[\"surface_terrain\",\"valeur_fonciere\"]].astype(\"float32\")"
   ]
  },
  {
   "cell_type": "code",
   "execution_count": 36,
   "metadata": {
    "ExecuteTime": {
     "end_time": "2020-10-18T03:09:18.917746Z",
     "start_time": "2020-10-18T03:09:18.649808Z"
    }
   },
   "outputs": [],
   "source": [
    "data.replace([np.inf, -np.inf], np.nan).dropna(how=\"any\",inplace=True)"
   ]
  },
  {
   "cell_type": "code",
   "execution_count": 37,
   "metadata": {
    "ExecuteTime": {
     "end_time": "2020-10-18T03:09:19.388552Z",
     "start_time": "2020-10-18T03:09:19.302552Z"
    }
   },
   "outputs": [
    {
     "data": {
      "text/html": [
       "<div>\n",
       "<style scoped>\n",
       "    .dataframe tbody tr th:only-of-type {\n",
       "        vertical-align: middle;\n",
       "    }\n",
       "\n",
       "    .dataframe tbody tr th {\n",
       "        vertical-align: top;\n",
       "    }\n",
       "\n",
       "    .dataframe thead th {\n",
       "        text-align: right;\n",
       "    }\n",
       "</style>\n",
       "<table border=\"1\" class=\"dataframe\">\n",
       "  <thead>\n",
       "    <tr style=\"text-align: right;\">\n",
       "      <th></th>\n",
       "      <th>valeur_fonciere</th>\n",
       "      <th>surface_reelle_bati</th>\n",
       "      <th>nombre_pieces_principales</th>\n",
       "      <th>surface_terrain</th>\n",
       "    </tr>\n",
       "  </thead>\n",
       "  <tbody>\n",
       "    <tr>\n",
       "      <th>count</th>\n",
       "      <td>3.156500e+05</td>\n",
       "      <td>315650.000000</td>\n",
       "      <td>315650.000000</td>\n",
       "      <td>315650.000000</td>\n",
       "    </tr>\n",
       "    <tr>\n",
       "      <th>mean</th>\n",
       "      <td>2.590868e+05</td>\n",
       "      <td>97.899345</td>\n",
       "      <td>4.162534</td>\n",
       "      <td>539.635437</td>\n",
       "    </tr>\n",
       "    <tr>\n",
       "      <th>std</th>\n",
       "      <td>1.715642e+06</td>\n",
       "      <td>40.304310</td>\n",
       "      <td>1.428083</td>\n",
       "      <td>1275.445190</td>\n",
       "    </tr>\n",
       "    <tr>\n",
       "      <th>min</th>\n",
       "      <td>1.600000e-01</td>\n",
       "      <td>1.000000</td>\n",
       "      <td>0.000000</td>\n",
       "      <td>1.000000</td>\n",
       "    </tr>\n",
       "    <tr>\n",
       "      <th>25%</th>\n",
       "      <td>1.040000e+05</td>\n",
       "      <td>73.000000</td>\n",
       "      <td>3.000000</td>\n",
       "      <td>217.000000</td>\n",
       "    </tr>\n",
       "    <tr>\n",
       "      <th>50%</th>\n",
       "      <td>1.690000e+05</td>\n",
       "      <td>91.000000</td>\n",
       "      <td>4.000000</td>\n",
       "      <td>419.000000</td>\n",
       "    </tr>\n",
       "    <tr>\n",
       "      <th>75%</th>\n",
       "      <td>2.624038e+05</td>\n",
       "      <td>116.000000</td>\n",
       "      <td>5.000000</td>\n",
       "      <td>677.000000</td>\n",
       "    </tr>\n",
       "    <tr>\n",
       "      <th>max</th>\n",
       "      <td>4.000000e+08</td>\n",
       "      <td>820.000000</td>\n",
       "      <td>67.000000</td>\n",
       "      <td>454660.000000</td>\n",
       "    </tr>\n",
       "  </tbody>\n",
       "</table>\n",
       "</div>"
      ],
      "text/plain": [
       "       valeur_fonciere  surface_reelle_bati  nombre_pieces_principales  \\\n",
       "count     3.156500e+05        315650.000000              315650.000000   \n",
       "mean      2.590868e+05            97.899345                   4.162534   \n",
       "std       1.715642e+06            40.304310                   1.428083   \n",
       "min       1.600000e-01             1.000000                   0.000000   \n",
       "25%       1.040000e+05            73.000000                   3.000000   \n",
       "50%       1.690000e+05            91.000000                   4.000000   \n",
       "75%       2.624038e+05           116.000000                   5.000000   \n",
       "max       4.000000e+08           820.000000                  67.000000   \n",
       "\n",
       "       surface_terrain  \n",
       "count    315650.000000  \n",
       "mean        539.635437  \n",
       "std        1275.445190  \n",
       "min           1.000000  \n",
       "25%         217.000000  \n",
       "50%         419.000000  \n",
       "75%         677.000000  \n",
       "max      454660.000000  "
      ]
     },
     "execution_count": 37,
     "metadata": {},
     "output_type": "execute_result"
    }
   ],
   "source": [
    "data.describe()"
   ]
  },
  {
   "cell_type": "code",
   "execution_count": 38,
   "metadata": {
    "ExecuteTime": {
     "end_time": "2020-10-18T03:09:22.985550Z",
     "start_time": "2020-10-18T03:09:22.904506Z"
    }
   },
   "outputs": [
    {
     "name": "stdout",
     "output_type": "stream",
     "text": [
      "<class 'pandas.core.frame.DataFrame'>\n",
      "RangeIndex: 315650 entries, 0 to 315649\n",
      "Data columns (total 9 columns):\n",
      " #   Column                     Non-Null Count   Dtype  \n",
      "---  ------                     --------------   -----  \n",
      " 0   valeur_fonciere            315650 non-null  float32\n",
      " 1   adresse_code_voie          315650 non-null  object \n",
      " 2   code_postal                315650 non-null  object \n",
      " 3   code_commune               315650 non-null  object \n",
      " 4   code_departement           315650 non-null  object \n",
      " 5   surface_reelle_bati        315650 non-null  float32\n",
      " 6   nombre_pieces_principales  315650 non-null  float32\n",
      " 7   code_nature_culture        315650 non-null  object \n",
      " 8   surface_terrain            315650 non-null  float32\n",
      "dtypes: float32(4), object(5)\n",
      "memory usage: 16.9+ MB\n"
     ]
    }
   ],
   "source": [
    "data.info()"
   ]
  },
  {
   "cell_type": "code",
   "execution_count": 39,
   "metadata": {
    "ExecuteTime": {
     "end_time": "2020-10-18T03:09:26.019838Z",
     "start_time": "2020-10-18T03:09:26.004867Z"
    }
   },
   "outputs": [],
   "source": [
    "#data[\"code_postal\"] = data[\"code_postal\"].astype(\"str\")\n",
    "cat_f_to_keep = [\"code_postal\"]\n",
    "cat_f_to_ignore = categ_features[categ_features!=cat_f_to_keep[0]]\n",
    "\n",
    "target = 'valeur_fonciere'\n",
    "\n",
    "num_f_to_keep = list(num_features[num_features!=target])"
   ]
  },
  {
   "cell_type": "code",
   "execution_count": 40,
   "metadata": {
    "ExecuteTime": {
     "end_time": "2020-10-18T03:09:27.476209Z",
     "start_time": "2020-10-18T03:09:27.382216Z"
    }
   },
   "outputs": [
    {
     "name": "stdout",
     "output_type": "stream",
     "text": [
      "(315650, 9) (49845, 9) 158\n"
     ]
    }
   ],
   "source": [
    "sub_pc = (data[\"code_postal\"].value_counts().cumsum()<50000)\n",
    "list_sub_pc = list(sub_pc.index[sub_pc])\n",
    "df = data[data[\"code_postal\"].isin(list_sub_pc)]\n",
    "\n",
    "#df = df[(df[\"valeur_fonciere\"]>30000) & (df[\"valeur_fonciere\"]<300000)]\n",
    "print(data.shape, df.shape, sub_pc.sum())"
   ]
  },
  {
   "cell_type": "code",
   "execution_count": 41,
   "metadata": {
    "ExecuteTime": {
     "end_time": "2020-10-18T03:09:32.685571Z",
     "start_time": "2020-10-18T03:09:32.455477Z"
    }
   },
   "outputs": [
    {
     "data": {
      "text/plain": [
       "<AxesSubplot:>"
      ]
     },
     "execution_count": 41,
     "metadata": {},
     "output_type": "execute_result"
    },
    {
     "data": {
      "image/png": "[encoded data removed]",
      "text/plain": [
       "<Figure size 432x288 with 1 Axes>"
      ]
     },
     "metadata": {
      "needs_background": "light"
     },
     "output_type": "display_data"
    }
   ],
   "source": [
    "df[\"surface_terrain\"].hist()"
   ]
  },
  {
   "cell_type": "code",
   "execution_count": 43,
   "metadata": {
    "ExecuteTime": {
     "end_time": "2020-10-18T03:45:52.849460Z",
     "start_time": "2020-10-18T03:45:52.834943Z"
    }
   },
   "outputs": [
    {
     "data": {
      "text/plain": [
       "'72000'"
      ]
     },
     "execution_count": 43,
     "metadata": {},
     "output_type": "execute_result"
    }
   ],
   "source": [
    "#len(list_sub_pc)\n",
    "sub_pc.index[1]"
   ]
  },
  {
   "cell_type": "code",
   "execution_count": 122,
   "metadata": {
    "ExecuteTime": {
     "end_time": "2020-10-17T23:27:15.669538Z",
     "start_time": "2020-10-17T23:27:15.640501Z"
    }
   },
   "outputs": [
    {
     "data": {
      "text/plain": [
       "99928"
      ]
     },
     "execution_count": 122,
     "metadata": {},
     "output_type": "execute_result"
    }
   ],
   "source": [
    "data[\"code_postal\"].isin(list_sub_pc).sum()"
   ]
  },
  {
   "cell_type": "code",
   "execution_count": 117,
   "metadata": {
    "ExecuteTime": {
     "end_time": "2020-10-17T23:20:47.964527Z",
     "start_time": "2020-10-17T23:20:47.617015Z"
    }
   },
   "outputs": [
    {
     "data": {
      "text/html": [
       "<div>\n",
       "<style scoped>\n",
       "    .dataframe tbody tr th:only-of-type {\n",
       "        vertical-align: middle;\n",
       "    }\n",
       "\n",
       "    .dataframe tbody tr th {\n",
       "        vertical-align: top;\n",
       "    }\n",
       "\n",
       "    .dataframe thead th {\n",
       "        text-align: right;\n",
       "    }\n",
       "</style>\n",
       "<table border=\"1\" class=\"dataframe\">\n",
       "  <thead>\n",
       "    <tr style=\"text-align: right;\">\n",
       "      <th></th>\n",
       "      <th>code_postal</th>\n",
       "      <th>code_postal</th>\n",
       "    </tr>\n",
       "  </thead>\n",
       "  <tbody>\n",
       "    <tr>\n",
       "      <th>59200</th>\n",
       "      <td>944</td>\n",
       "      <td>944</td>\n",
       "    </tr>\n",
       "    <tr>\n",
       "      <th>72000</th>\n",
       "      <td>790</td>\n",
       "      <td>1734</td>\n",
       "    </tr>\n",
       "    <tr>\n",
       "      <th>79000</th>\n",
       "      <td>653</td>\n",
       "      <td>2387</td>\n",
       "    </tr>\n",
       "    <tr>\n",
       "      <th>49300</th>\n",
       "      <td>618</td>\n",
       "      <td>3005</td>\n",
       "    </tr>\n",
       "    <tr>\n",
       "      <th>59100</th>\n",
       "      <td>613</td>\n",
       "      <td>3618</td>\n",
       "    </tr>\n",
       "    <tr>\n",
       "      <th>...</th>\n",
       "      <td>...</td>\n",
       "      <td>...</td>\n",
       "    </tr>\n",
       "    <tr>\n",
       "      <th>12540</th>\n",
       "      <td>1</td>\n",
       "      <td>315646</td>\n",
       "    </tr>\n",
       "    <tr>\n",
       "      <th>73320</th>\n",
       "      <td>1</td>\n",
       "      <td>315647</td>\n",
       "    </tr>\n",
       "    <tr>\n",
       "      <th>74650</th>\n",
       "      <td>1</td>\n",
       "      <td>315648</td>\n",
       "    </tr>\n",
       "    <tr>\n",
       "      <th>14380</th>\n",
       "      <td>1</td>\n",
       "      <td>315649</td>\n",
       "    </tr>\n",
       "    <tr>\n",
       "      <th>38670</th>\n",
       "      <td>1</td>\n",
       "      <td>315650</td>\n",
       "    </tr>\n",
       "  </tbody>\n",
       "</table>\n",
       "<p>5678 rows × 2 columns</p>\n",
       "</div>"
      ],
      "text/plain": [
       "       code_postal  code_postal\n",
       "59200          944          944\n",
       "72000          790         1734\n",
       "79000          653         2387\n",
       "49300          618         3005\n",
       "59100          613         3618\n",
       "...            ...          ...\n",
       "12540            1       315646\n",
       "73320            1       315647\n",
       "74650            1       315648\n",
       "14380            1       315649\n",
       "38670            1       315650\n",
       "\n",
       "[5678 rows x 2 columns]"
      ]
     },
     "execution_count": 117,
     "metadata": {},
     "output_type": "execute_result"
    }
   ],
   "source": [
    "pd.DataFrame([data[\"code_postal\"].value_counts(), data[\"code_postal\"].value_counts().cumsum()]).T"
   ]
  },
  {
   "cell_type": "code",
   "execution_count": 120,
   "metadata": {
    "ExecuteTime": {
     "end_time": "2020-10-17T23:22:50.689005Z",
     "start_time": "2020-10-17T23:22:50.677975Z"
    }
   },
   "outputs": [
    {
     "data": {
      "text/plain": [
       "142"
      ]
     },
     "execution_count": 120,
     "metadata": {},
     "output_type": "execute_result"
    }
   ],
   "source": [
    "allo[444]"
   ]
  },
  {
   "cell_type": "code",
   "execution_count": 112,
   "metadata": {
    "ExecuteTime": {
     "end_time": "2020-10-17T23:17:38.590532Z",
     "start_time": "2020-10-17T23:17:38.575553Z"
    }
   },
   "outputs": [
    {
     "data": {
      "text/plain": [
       "(361,)"
      ]
     },
     "execution_count": 112,
     "metadata": {},
     "output_type": "execute_result"
    }
   ],
   "source": [
    "df[\"code_postal\"].value_counts().shape"
   ]
  },
  {
   "cell_type": "code",
   "execution_count": 16,
   "metadata": {
    "ExecuteTime": {
     "end_time": "2020-10-17T02:04:46.652690Z",
     "start_time": "2020-10-17T02:04:46.596687Z"
    }
   },
   "outputs": [
    {
     "name": "stdout",
     "output_type": "stream",
     "text": [
      "(315650, 9) (243287, 9)\n"
     ]
    }
   ],
   "source": [
    "df = data[(data[\"valeur_fonciere\"]>30000) & (data[\"valeur_fonciere\"]<300000)]\n",
    "print(data.shape, df.shape)"
   ]
  },
  {
   "cell_type": "markdown",
   "metadata": {},
   "source": [
    "## Pycaret - Regression"
   ]
  },
  {
   "cell_type": "markdown",
   "metadata": {},
   "source": [
    "PROB : pour la scission des données, faire proportionnel dans chaque classe. Mais il y a peut-etre des classes manquantes dans les données d'entrainement que l'on a seulement dans l'ensemble de test."
   ]
  },
  {
   "cell_type": "code",
   "execution_count": 30,
   "metadata": {
    "ExecuteTime": {
     "end_time": "2020-10-17T23:37:08.882452Z",
     "start_time": "2020-10-17T23:37:08.866616Z"
    }
   },
   "outputs": [],
   "source": [
    "from pycaret.regression import *"
   ]
  },
  {
   "cell_type": "code",
   "execution_count": 42,
   "metadata": {
    "ExecuteTime": {
     "end_time": "2020-10-18T03:45:51.868786Z",
     "start_time": "2020-10-18T03:09:41.501840Z"
    },
    "scrolled": false
   },
   "outputs": [
    {
     "name": "stdout",
     "output_type": "stream",
     "text": [
      " \n",
      "Setup Succesfully Completed.\n"
     ]
    },
    {
     "data": {
      "text/html": [
       "<style  type=\"text/css\" >\n",
       "#T_6b034c12_10f4_11eb_b977_d8ca52fa8622row1_col1,#T_6b034c12_10f4_11eb_b977_d8ca52fa8622row15_col1,#T_6b034c12_10f4_11eb_b977_d8ca52fa8622row17_col1,#T_6b034c12_10f4_11eb_b977_d8ca52fa8622row26_col1,#T_6b034c12_10f4_11eb_b977_d8ca52fa8622row30_col1,#T_6b034c12_10f4_11eb_b977_d8ca52fa8622row32_col1,#T_6b034c12_10f4_11eb_b977_d8ca52fa8622row34_col1,#T_6b034c12_10f4_11eb_b977_d8ca52fa8622row37_col1,#T_6b034c12_10f4_11eb_b977_d8ca52fa8622row39_col1,#T_6b034c12_10f4_11eb_b977_d8ca52fa8622row40_col1{\n",
       "            background-color:  yellow;\n",
       "        }</style><table id=\"T_6b034c12_10f4_11eb_b977_d8ca52fa8622\" ><thead>    <tr>        <th class=\"blank level0\" ></th>        <th class=\"col_heading level0 col0\" >Description</th>        <th class=\"col_heading level0 col1\" >Value</th>    </tr></thead><tbody>\n",
       "                <tr>\n",
       "                        <th id=\"T_6b034c12_10f4_11eb_b977_d8ca52fa8622level0_row0\" class=\"row_heading level0 row0\" >0</th>\n",
       "                        <td id=\"T_6b034c12_10f4_11eb_b977_d8ca52fa8622row0_col0\" class=\"data row0 col0\" >session_id</td>\n",
       "                        <td id=\"T_6b034c12_10f4_11eb_b977_d8ca52fa8622row0_col1\" class=\"data row0 col1\" >123</td>\n",
       "            </tr>\n",
       "            <tr>\n",
       "                        <th id=\"T_6b034c12_10f4_11eb_b977_d8ca52fa8622level0_row1\" class=\"row_heading level0 row1\" >1</th>\n",
       "                        <td id=\"T_6b034c12_10f4_11eb_b977_d8ca52fa8622row1_col0\" class=\"data row1 col0\" >Transform Target </td>\n",
       "                        <td id=\"T_6b034c12_10f4_11eb_b977_d8ca52fa8622row1_col1\" class=\"data row1 col1\" >True</td>\n",
       "            </tr>\n",
       "            <tr>\n",
       "                        <th id=\"T_6b034c12_10f4_11eb_b977_d8ca52fa8622level0_row2\" class=\"row_heading level0 row2\" >2</th>\n",
       "                        <td id=\"T_6b034c12_10f4_11eb_b977_d8ca52fa8622row2_col0\" class=\"data row2 col0\" >Transform Target Method</td>\n",
       "                        <td id=\"T_6b034c12_10f4_11eb_b977_d8ca52fa8622row2_col1\" class=\"data row2 col1\" >box-cox</td>\n",
       "            </tr>\n",
       "            <tr>\n",
       "                        <th id=\"T_6b034c12_10f4_11eb_b977_d8ca52fa8622level0_row3\" class=\"row_heading level0 row3\" >3</th>\n",
       "                        <td id=\"T_6b034c12_10f4_11eb_b977_d8ca52fa8622row3_col0\" class=\"data row3 col0\" >Original Data</td>\n",
       "                        <td id=\"T_6b034c12_10f4_11eb_b977_d8ca52fa8622row3_col1\" class=\"data row3 col1\" >(49845, 9)</td>\n",
       "            </tr>\n",
       "            <tr>\n",
       "                        <th id=\"T_6b034c12_10f4_11eb_b977_d8ca52fa8622level0_row4\" class=\"row_heading level0 row4\" >4</th>\n",
       "                        <td id=\"T_6b034c12_10f4_11eb_b977_d8ca52fa8622row4_col0\" class=\"data row4 col0\" >Missing Values </td>\n",
       "                        <td id=\"T_6b034c12_10f4_11eb_b977_d8ca52fa8622row4_col1\" class=\"data row4 col1\" >False</td>\n",
       "            </tr>\n",
       "            <tr>\n",
       "                        <th id=\"T_6b034c12_10f4_11eb_b977_d8ca52fa8622level0_row5\" class=\"row_heading level0 row5\" >5</th>\n",
       "                        <td id=\"T_6b034c12_10f4_11eb_b977_d8ca52fa8622row5_col0\" class=\"data row5 col0\" >Numeric Features </td>\n",
       "                        <td id=\"T_6b034c12_10f4_11eb_b977_d8ca52fa8622row5_col1\" class=\"data row5 col1\" >5</td>\n",
       "            </tr>\n",
       "            <tr>\n",
       "                        <th id=\"T_6b034c12_10f4_11eb_b977_d8ca52fa8622level0_row6\" class=\"row_heading level0 row6\" >6</th>\n",
       "                        <td id=\"T_6b034c12_10f4_11eb_b977_d8ca52fa8622row6_col0\" class=\"data row6 col0\" >Categorical Features </td>\n",
       "                        <td id=\"T_6b034c12_10f4_11eb_b977_d8ca52fa8622row6_col1\" class=\"data row6 col1\" >3</td>\n",
       "            </tr>\n",
       "            <tr>\n",
       "                        <th id=\"T_6b034c12_10f4_11eb_b977_d8ca52fa8622level0_row7\" class=\"row_heading level0 row7\" >7</th>\n",
       "                        <td id=\"T_6b034c12_10f4_11eb_b977_d8ca52fa8622row7_col0\" class=\"data row7 col0\" >Ordinal Features </td>\n",
       "                        <td id=\"T_6b034c12_10f4_11eb_b977_d8ca52fa8622row7_col1\" class=\"data row7 col1\" >False</td>\n",
       "            </tr>\n",
       "            <tr>\n",
       "                        <th id=\"T_6b034c12_10f4_11eb_b977_d8ca52fa8622level0_row8\" class=\"row_heading level0 row8\" >8</th>\n",
       "                        <td id=\"T_6b034c12_10f4_11eb_b977_d8ca52fa8622row8_col0\" class=\"data row8 col0\" >High Cardinality Features </td>\n",
       "                        <td id=\"T_6b034c12_10f4_11eb_b977_d8ca52fa8622row8_col1\" class=\"data row8 col1\" >False</td>\n",
       "            </tr>\n",
       "            <tr>\n",
       "                        <th id=\"T_6b034c12_10f4_11eb_b977_d8ca52fa8622level0_row9\" class=\"row_heading level0 row9\" >9</th>\n",
       "                        <td id=\"T_6b034c12_10f4_11eb_b977_d8ca52fa8622row9_col0\" class=\"data row9 col0\" >High Cardinality Method </td>\n",
       "                        <td id=\"T_6b034c12_10f4_11eb_b977_d8ca52fa8622row9_col1\" class=\"data row9 col1\" >None</td>\n",
       "            </tr>\n",
       "            <tr>\n",
       "                        <th id=\"T_6b034c12_10f4_11eb_b977_d8ca52fa8622level0_row10\" class=\"row_heading level0 row10\" >10</th>\n",
       "                        <td id=\"T_6b034c12_10f4_11eb_b977_d8ca52fa8622row10_col0\" class=\"data row10 col0\" >Sampled Data</td>\n",
       "                        <td id=\"T_6b034c12_10f4_11eb_b977_d8ca52fa8622row10_col1\" class=\"data row10 col1\" >(37881, 9)</td>\n",
       "            </tr>\n",
       "            <tr>\n",
       "                        <th id=\"T_6b034c12_10f4_11eb_b977_d8ca52fa8622level0_row11\" class=\"row_heading level0 row11\" >11</th>\n",
       "                        <td id=\"T_6b034c12_10f4_11eb_b977_d8ca52fa8622row11_col0\" class=\"data row11 col0\" >Transformed Train Set</td>\n",
       "                        <td id=\"T_6b034c12_10f4_11eb_b977_d8ca52fa8622row11_col1\" class=\"data row11 col1\" >(26516, 208)</td>\n",
       "            </tr>\n",
       "            <tr>\n",
       "                        <th id=\"T_6b034c12_10f4_11eb_b977_d8ca52fa8622level0_row12\" class=\"row_heading level0 row12\" >12</th>\n",
       "                        <td id=\"T_6b034c12_10f4_11eb_b977_d8ca52fa8622row12_col0\" class=\"data row12 col0\" >Transformed Test Set</td>\n",
       "                        <td id=\"T_6b034c12_10f4_11eb_b977_d8ca52fa8622row12_col1\" class=\"data row12 col1\" >(11365, 208)</td>\n",
       "            </tr>\n",
       "            <tr>\n",
       "                        <th id=\"T_6b034c12_10f4_11eb_b977_d8ca52fa8622level0_row13\" class=\"row_heading level0 row13\" >13</th>\n",
       "                        <td id=\"T_6b034c12_10f4_11eb_b977_d8ca52fa8622row13_col0\" class=\"data row13 col0\" >Numeric Imputer </td>\n",
       "                        <td id=\"T_6b034c12_10f4_11eb_b977_d8ca52fa8622row13_col1\" class=\"data row13 col1\" >mean</td>\n",
       "            </tr>\n",
       "            <tr>\n",
       "                        <th id=\"T_6b034c12_10f4_11eb_b977_d8ca52fa8622level0_row14\" class=\"row_heading level0 row14\" >14</th>\n",
       "                        <td id=\"T_6b034c12_10f4_11eb_b977_d8ca52fa8622row14_col0\" class=\"data row14 col0\" >Categorical Imputer </td>\n",
       "                        <td id=\"T_6b034c12_10f4_11eb_b977_d8ca52fa8622row14_col1\" class=\"data row14 col1\" >constant</td>\n",
       "            </tr>\n",
       "            <tr>\n",
       "                        <th id=\"T_6b034c12_10f4_11eb_b977_d8ca52fa8622level0_row15\" class=\"row_heading level0 row15\" >15</th>\n",
       "                        <td id=\"T_6b034c12_10f4_11eb_b977_d8ca52fa8622row15_col0\" class=\"data row15 col0\" >Normalize </td>\n",
       "                        <td id=\"T_6b034c12_10f4_11eb_b977_d8ca52fa8622row15_col1\" class=\"data row15 col1\" >True</td>\n",
       "            </tr>\n",
       "            <tr>\n",
       "                        <th id=\"T_6b034c12_10f4_11eb_b977_d8ca52fa8622level0_row16\" class=\"row_heading level0 row16\" >16</th>\n",
       "                        <td id=\"T_6b034c12_10f4_11eb_b977_d8ca52fa8622row16_col0\" class=\"data row16 col0\" >Normalize Method </td>\n",
       "                        <td id=\"T_6b034c12_10f4_11eb_b977_d8ca52fa8622row16_col1\" class=\"data row16 col1\" >robust</td>\n",
       "            </tr>\n",
       "            <tr>\n",
       "                        <th id=\"T_6b034c12_10f4_11eb_b977_d8ca52fa8622level0_row17\" class=\"row_heading level0 row17\" >17</th>\n",
       "                        <td id=\"T_6b034c12_10f4_11eb_b977_d8ca52fa8622row17_col0\" class=\"data row17 col0\" >Transformation </td>\n",
       "                        <td id=\"T_6b034c12_10f4_11eb_b977_d8ca52fa8622row17_col1\" class=\"data row17 col1\" >True</td>\n",
       "            </tr>\n",
       "            <tr>\n",
       "                        <th id=\"T_6b034c12_10f4_11eb_b977_d8ca52fa8622level0_row18\" class=\"row_heading level0 row18\" >18</th>\n",
       "                        <td id=\"T_6b034c12_10f4_11eb_b977_d8ca52fa8622row18_col0\" class=\"data row18 col0\" >Transformation Method </td>\n",
       "                        <td id=\"T_6b034c12_10f4_11eb_b977_d8ca52fa8622row18_col1\" class=\"data row18 col1\" >yeo-johnson</td>\n",
       "            </tr>\n",
       "            <tr>\n",
       "                        <th id=\"T_6b034c12_10f4_11eb_b977_d8ca52fa8622level0_row19\" class=\"row_heading level0 row19\" >19</th>\n",
       "                        <td id=\"T_6b034c12_10f4_11eb_b977_d8ca52fa8622row19_col0\" class=\"data row19 col0\" >PCA </td>\n",
       "                        <td id=\"T_6b034c12_10f4_11eb_b977_d8ca52fa8622row19_col1\" class=\"data row19 col1\" >False</td>\n",
       "            </tr>\n",
       "            <tr>\n",
       "                        <th id=\"T_6b034c12_10f4_11eb_b977_d8ca52fa8622level0_row20\" class=\"row_heading level0 row20\" >20</th>\n",
       "                        <td id=\"T_6b034c12_10f4_11eb_b977_d8ca52fa8622row20_col0\" class=\"data row20 col0\" >PCA Method </td>\n",
       "                        <td id=\"T_6b034c12_10f4_11eb_b977_d8ca52fa8622row20_col1\" class=\"data row20 col1\" >None</td>\n",
       "            </tr>\n",
       "            <tr>\n",
       "                        <th id=\"T_6b034c12_10f4_11eb_b977_d8ca52fa8622level0_row21\" class=\"row_heading level0 row21\" >21</th>\n",
       "                        <td id=\"T_6b034c12_10f4_11eb_b977_d8ca52fa8622row21_col0\" class=\"data row21 col0\" >PCA Components </td>\n",
       "                        <td id=\"T_6b034c12_10f4_11eb_b977_d8ca52fa8622row21_col1\" class=\"data row21 col1\" >None</td>\n",
       "            </tr>\n",
       "            <tr>\n",
       "                        <th id=\"T_6b034c12_10f4_11eb_b977_d8ca52fa8622level0_row22\" class=\"row_heading level0 row22\" >22</th>\n",
       "                        <td id=\"T_6b034c12_10f4_11eb_b977_d8ca52fa8622row22_col0\" class=\"data row22 col0\" >Ignore Low Variance </td>\n",
       "                        <td id=\"T_6b034c12_10f4_11eb_b977_d8ca52fa8622row22_col1\" class=\"data row22 col1\" >False</td>\n",
       "            </tr>\n",
       "            <tr>\n",
       "                        <th id=\"T_6b034c12_10f4_11eb_b977_d8ca52fa8622level0_row23\" class=\"row_heading level0 row23\" >23</th>\n",
       "                        <td id=\"T_6b034c12_10f4_11eb_b977_d8ca52fa8622row23_col0\" class=\"data row23 col0\" >Combine Rare Levels </td>\n",
       "                        <td id=\"T_6b034c12_10f4_11eb_b977_d8ca52fa8622row23_col1\" class=\"data row23 col1\" >False</td>\n",
       "            </tr>\n",
       "            <tr>\n",
       "                        <th id=\"T_6b034c12_10f4_11eb_b977_d8ca52fa8622level0_row24\" class=\"row_heading level0 row24\" >24</th>\n",
       "                        <td id=\"T_6b034c12_10f4_11eb_b977_d8ca52fa8622row24_col0\" class=\"data row24 col0\" >Rare Level Threshold </td>\n",
       "                        <td id=\"T_6b034c12_10f4_11eb_b977_d8ca52fa8622row24_col1\" class=\"data row24 col1\" >None</td>\n",
       "            </tr>\n",
       "            <tr>\n",
       "                        <th id=\"T_6b034c12_10f4_11eb_b977_d8ca52fa8622level0_row25\" class=\"row_heading level0 row25\" >25</th>\n",
       "                        <td id=\"T_6b034c12_10f4_11eb_b977_d8ca52fa8622row25_col0\" class=\"data row25 col0\" >Numeric Binning </td>\n",
       "                        <td id=\"T_6b034c12_10f4_11eb_b977_d8ca52fa8622row25_col1\" class=\"data row25 col1\" >False</td>\n",
       "            </tr>\n",
       "            <tr>\n",
       "                        <th id=\"T_6b034c12_10f4_11eb_b977_d8ca52fa8622level0_row26\" class=\"row_heading level0 row26\" >26</th>\n",
       "                        <td id=\"T_6b034c12_10f4_11eb_b977_d8ca52fa8622row26_col0\" class=\"data row26 col0\" >Remove Outliers </td>\n",
       "                        <td id=\"T_6b034c12_10f4_11eb_b977_d8ca52fa8622row26_col1\" class=\"data row26 col1\" >True</td>\n",
       "            </tr>\n",
       "            <tr>\n",
       "                        <th id=\"T_6b034c12_10f4_11eb_b977_d8ca52fa8622level0_row27\" class=\"row_heading level0 row27\" >27</th>\n",
       "                        <td id=\"T_6b034c12_10f4_11eb_b977_d8ca52fa8622row27_col0\" class=\"data row27 col0\" >Outliers Threshold </td>\n",
       "                        <td id=\"T_6b034c12_10f4_11eb_b977_d8ca52fa8622row27_col1\" class=\"data row27 col1\" >0.050000</td>\n",
       "            </tr>\n",
       "            <tr>\n",
       "                        <th id=\"T_6b034c12_10f4_11eb_b977_d8ca52fa8622level0_row28\" class=\"row_heading level0 row28\" >28</th>\n",
       "                        <td id=\"T_6b034c12_10f4_11eb_b977_d8ca52fa8622row28_col0\" class=\"data row28 col0\" >Remove Multicollinearity </td>\n",
       "                        <td id=\"T_6b034c12_10f4_11eb_b977_d8ca52fa8622row28_col1\" class=\"data row28 col1\" >False</td>\n",
       "            </tr>\n",
       "            <tr>\n",
       "                        <th id=\"T_6b034c12_10f4_11eb_b977_d8ca52fa8622level0_row29\" class=\"row_heading level0 row29\" >29</th>\n",
       "                        <td id=\"T_6b034c12_10f4_11eb_b977_d8ca52fa8622row29_col0\" class=\"data row29 col0\" >Multicollinearity Threshold </td>\n",
       "                        <td id=\"T_6b034c12_10f4_11eb_b977_d8ca52fa8622row29_col1\" class=\"data row29 col1\" >None</td>\n",
       "            </tr>\n",
       "            <tr>\n",
       "                        <th id=\"T_6b034c12_10f4_11eb_b977_d8ca52fa8622level0_row30\" class=\"row_heading level0 row30\" >30</th>\n",
       "                        <td id=\"T_6b034c12_10f4_11eb_b977_d8ca52fa8622row30_col0\" class=\"data row30 col0\" >Clustering </td>\n",
       "                        <td id=\"T_6b034c12_10f4_11eb_b977_d8ca52fa8622row30_col1\" class=\"data row30 col1\" >True</td>\n",
       "            </tr>\n",
       "            <tr>\n",
       "                        <th id=\"T_6b034c12_10f4_11eb_b977_d8ca52fa8622level0_row31\" class=\"row_heading level0 row31\" >31</th>\n",
       "                        <td id=\"T_6b034c12_10f4_11eb_b977_d8ca52fa8622row31_col0\" class=\"data row31 col0\" >Clustering Iteration </td>\n",
       "                        <td id=\"T_6b034c12_10f4_11eb_b977_d8ca52fa8622row31_col1\" class=\"data row31 col1\" >20</td>\n",
       "            </tr>\n",
       "            <tr>\n",
       "                        <th id=\"T_6b034c12_10f4_11eb_b977_d8ca52fa8622level0_row32\" class=\"row_heading level0 row32\" >32</th>\n",
       "                        <td id=\"T_6b034c12_10f4_11eb_b977_d8ca52fa8622row32_col0\" class=\"data row32 col0\" >Polynomial Features </td>\n",
       "                        <td id=\"T_6b034c12_10f4_11eb_b977_d8ca52fa8622row32_col1\" class=\"data row32 col1\" >True</td>\n",
       "            </tr>\n",
       "            <tr>\n",
       "                        <th id=\"T_6b034c12_10f4_11eb_b977_d8ca52fa8622level0_row33\" class=\"row_heading level0 row33\" >33</th>\n",
       "                        <td id=\"T_6b034c12_10f4_11eb_b977_d8ca52fa8622row33_col0\" class=\"data row33 col0\" >Polynomial Degree </td>\n",
       "                        <td id=\"T_6b034c12_10f4_11eb_b977_d8ca52fa8622row33_col1\" class=\"data row33 col1\" >2</td>\n",
       "            </tr>\n",
       "            <tr>\n",
       "                        <th id=\"T_6b034c12_10f4_11eb_b977_d8ca52fa8622level0_row34\" class=\"row_heading level0 row34\" >34</th>\n",
       "                        <td id=\"T_6b034c12_10f4_11eb_b977_d8ca52fa8622row34_col0\" class=\"data row34 col0\" >Trignometry Features </td>\n",
       "                        <td id=\"T_6b034c12_10f4_11eb_b977_d8ca52fa8622row34_col1\" class=\"data row34 col1\" >True</td>\n",
       "            </tr>\n",
       "            <tr>\n",
       "                        <th id=\"T_6b034c12_10f4_11eb_b977_d8ca52fa8622level0_row35\" class=\"row_heading level0 row35\" >35</th>\n",
       "                        <td id=\"T_6b034c12_10f4_11eb_b977_d8ca52fa8622row35_col0\" class=\"data row35 col0\" >Polynomial Threshold </td>\n",
       "                        <td id=\"T_6b034c12_10f4_11eb_b977_d8ca52fa8622row35_col1\" class=\"data row35 col1\" >0.100000</td>\n",
       "            </tr>\n",
       "            <tr>\n",
       "                        <th id=\"T_6b034c12_10f4_11eb_b977_d8ca52fa8622level0_row36\" class=\"row_heading level0 row36\" >36</th>\n",
       "                        <td id=\"T_6b034c12_10f4_11eb_b977_d8ca52fa8622row36_col0\" class=\"data row36 col0\" >Group Features </td>\n",
       "                        <td id=\"T_6b034c12_10f4_11eb_b977_d8ca52fa8622row36_col1\" class=\"data row36 col1\" >False</td>\n",
       "            </tr>\n",
       "            <tr>\n",
       "                        <th id=\"T_6b034c12_10f4_11eb_b977_d8ca52fa8622level0_row37\" class=\"row_heading level0 row37\" >37</th>\n",
       "                        <td id=\"T_6b034c12_10f4_11eb_b977_d8ca52fa8622row37_col0\" class=\"data row37 col0\" >Feature Selection </td>\n",
       "                        <td id=\"T_6b034c12_10f4_11eb_b977_d8ca52fa8622row37_col1\" class=\"data row37 col1\" >True</td>\n",
       "            </tr>\n",
       "            <tr>\n",
       "                        <th id=\"T_6b034c12_10f4_11eb_b977_d8ca52fa8622level0_row38\" class=\"row_heading level0 row38\" >38</th>\n",
       "                        <td id=\"T_6b034c12_10f4_11eb_b977_d8ca52fa8622row38_col0\" class=\"data row38 col0\" >Features Selection Threshold </td>\n",
       "                        <td id=\"T_6b034c12_10f4_11eb_b977_d8ca52fa8622row38_col1\" class=\"data row38 col1\" >0.800000</td>\n",
       "            </tr>\n",
       "            <tr>\n",
       "                        <th id=\"T_6b034c12_10f4_11eb_b977_d8ca52fa8622level0_row39\" class=\"row_heading level0 row39\" >39</th>\n",
       "                        <td id=\"T_6b034c12_10f4_11eb_b977_d8ca52fa8622row39_col0\" class=\"data row39 col0\" >Feature Interaction </td>\n",
       "                        <td id=\"T_6b034c12_10f4_11eb_b977_d8ca52fa8622row39_col1\" class=\"data row39 col1\" >True</td>\n",
       "            </tr>\n",
       "            <tr>\n",
       "                        <th id=\"T_6b034c12_10f4_11eb_b977_d8ca52fa8622level0_row40\" class=\"row_heading level0 row40\" >40</th>\n",
       "                        <td id=\"T_6b034c12_10f4_11eb_b977_d8ca52fa8622row40_col0\" class=\"data row40 col0\" >Feature Ratio </td>\n",
       "                        <td id=\"T_6b034c12_10f4_11eb_b977_d8ca52fa8622row40_col1\" class=\"data row40 col1\" >True</td>\n",
       "            </tr>\n",
       "            <tr>\n",
       "                        <th id=\"T_6b034c12_10f4_11eb_b977_d8ca52fa8622level0_row41\" class=\"row_heading level0 row41\" >41</th>\n",
       "                        <td id=\"T_6b034c12_10f4_11eb_b977_d8ca52fa8622row41_col0\" class=\"data row41 col0\" >Interaction Threshold </td>\n",
       "                        <td id=\"T_6b034c12_10f4_11eb_b977_d8ca52fa8622row41_col1\" class=\"data row41 col1\" >0.010000</td>\n",
       "            </tr>\n",
       "    </tbody></table>"
      ],
      "text/plain": [
       "<pandas.io.formats.style.Styler at 0x20d383d19b0>"
      ]
     },
     "metadata": {},
     "output_type": "display_data"
    }
   ],
   "source": [
    "exp_reg101 = setup(data = df, target = target, ignore_features=cat_f_to_ignore, categorical_features=cat_f_to_keep,\n",
    "                   numeric_features=num_f_to_keep,\n",
    "                   remove_outliers=True, #remove_multicollinearity = True,# multicollinearity_threshold = 0.6,\n",
    "                   #combine_rare_levels = True, rare_level_threshold=0.2,\n",
    "                   feature_selection=True,\n",
    "                   polynomial_features = True,\n",
    "                   trigonometry_features = True,\n",
    "                   feature_interaction=True,\n",
    "                   feature_ratio=True,\n",
    "                   create_clusters=True,\n",
    "                   use_gpu=True,\n",
    "                   normalize = True, normalize_method=\"robust\", transformation = True, transform_target = True, verbose=True, session_id=123)\n",
    "# normalize_method='robust'"
   ]
  },
  {
   "cell_type": "code",
   "execution_count": null,
   "metadata": {
    "ExecuteTime": {
     "end_time": "2020-10-01T20:35:00.791020Z",
     "start_time": "2020-10-01T20:35:00.778021Z"
    },
    "scrolled": false
   },
   "outputs": [],
   "source": [
    "# exp_reg101 = setup(data = data, target = 'valeur_fonciere', remove_outliers=True,\n",
    "#                    ignore_features=cat_features, create_clusters=True, polynomial_features=True, feature_ratio=True, \n",
    "#                    profile=True, session_id=123) \n",
    "# exp_reg101 = setup(data = data, target = target, remove_outliers=True, categorical_features=cat_f_tokeep,\n",
    "#                    numeric_features=num_f_tokeep, ignore_features=cat_f_toignore,\n",
    "#                    session_id=123) "
   ]
  },
  {
   "cell_type": "code",
   "execution_count": 44,
   "metadata": {
    "ExecuteTime": {
     "end_time": "2020-10-18T03:50:47.462591Z",
     "start_time": "2020-10-18T03:46:18.987850Z"
    }
   },
   "outputs": [
    {
     "data": {
      "text/html": [
       "<style  type=\"text/css\" >\n",
       "    #T_1b2ca9d0_10f5_11eb_8b4b_d8ca52fa8622 th {\n",
       "          text-align: left;\n",
       "    }#T_1b2ca9d0_10f5_11eb_8b4b_d8ca52fa8622row0_col0,#T_1b2ca9d0_10f5_11eb_8b4b_d8ca52fa8622row0_col1,#T_1b2ca9d0_10f5_11eb_8b4b_d8ca52fa8622row0_col5,#T_1b2ca9d0_10f5_11eb_8b4b_d8ca52fa8622row0_col6,#T_1b2ca9d0_10f5_11eb_8b4b_d8ca52fa8622row1_col0,#T_1b2ca9d0_10f5_11eb_8b4b_d8ca52fa8622row1_col1,#T_1b2ca9d0_10f5_11eb_8b4b_d8ca52fa8622row1_col2,#T_1b2ca9d0_10f5_11eb_8b4b_d8ca52fa8622row1_col3,#T_1b2ca9d0_10f5_11eb_8b4b_d8ca52fa8622row1_col4,#T_1b2ca9d0_10f5_11eb_8b4b_d8ca52fa8622row1_col5,#T_1b2ca9d0_10f5_11eb_8b4b_d8ca52fa8622row2_col0,#T_1b2ca9d0_10f5_11eb_8b4b_d8ca52fa8622row2_col1,#T_1b2ca9d0_10f5_11eb_8b4b_d8ca52fa8622row2_col2,#T_1b2ca9d0_10f5_11eb_8b4b_d8ca52fa8622row2_col3,#T_1b2ca9d0_10f5_11eb_8b4b_d8ca52fa8622row2_col4,#T_1b2ca9d0_10f5_11eb_8b4b_d8ca52fa8622row2_col6,#T_1b2ca9d0_10f5_11eb_8b4b_d8ca52fa8622row3_col0,#T_1b2ca9d0_10f5_11eb_8b4b_d8ca52fa8622row3_col1,#T_1b2ca9d0_10f5_11eb_8b4b_d8ca52fa8622row3_col2,#T_1b2ca9d0_10f5_11eb_8b4b_d8ca52fa8622row3_col3,#T_1b2ca9d0_10f5_11eb_8b4b_d8ca52fa8622row3_col4,#T_1b2ca9d0_10f5_11eb_8b4b_d8ca52fa8622row3_col5,#T_1b2ca9d0_10f5_11eb_8b4b_d8ca52fa8622row3_col6,#T_1b2ca9d0_10f5_11eb_8b4b_d8ca52fa8622row4_col0,#T_1b2ca9d0_10f5_11eb_8b4b_d8ca52fa8622row4_col1,#T_1b2ca9d0_10f5_11eb_8b4b_d8ca52fa8622row4_col2,#T_1b2ca9d0_10f5_11eb_8b4b_d8ca52fa8622row4_col3,#T_1b2ca9d0_10f5_11eb_8b4b_d8ca52fa8622row4_col4,#T_1b2ca9d0_10f5_11eb_8b4b_d8ca52fa8622row4_col5,#T_1b2ca9d0_10f5_11eb_8b4b_d8ca52fa8622row4_col6,#T_1b2ca9d0_10f5_11eb_8b4b_d8ca52fa8622row5_col0,#T_1b2ca9d0_10f5_11eb_8b4b_d8ca52fa8622row5_col2,#T_1b2ca9d0_10f5_11eb_8b4b_d8ca52fa8622row5_col3,#T_1b2ca9d0_10f5_11eb_8b4b_d8ca52fa8622row5_col4,#T_1b2ca9d0_10f5_11eb_8b4b_d8ca52fa8622row5_col5,#T_1b2ca9d0_10f5_11eb_8b4b_d8ca52fa8622row5_col6,#T_1b2ca9d0_10f5_11eb_8b4b_d8ca52fa8622row6_col0,#T_1b2ca9d0_10f5_11eb_8b4b_d8ca52fa8622row6_col1,#T_1b2ca9d0_10f5_11eb_8b4b_d8ca52fa8622row6_col2,#T_1b2ca9d0_10f5_11eb_8b4b_d8ca52fa8622row6_col3,#T_1b2ca9d0_10f5_11eb_8b4b_d8ca52fa8622row6_col4,#T_1b2ca9d0_10f5_11eb_8b4b_d8ca52fa8622row6_col5,#T_1b2ca9d0_10f5_11eb_8b4b_d8ca52fa8622row6_col6,#T_1b2ca9d0_10f5_11eb_8b4b_d8ca52fa8622row7_col0,#T_1b2ca9d0_10f5_11eb_8b4b_d8ca52fa8622row7_col1,#T_1b2ca9d0_10f5_11eb_8b4b_d8ca52fa8622row7_col2,#T_1b2ca9d0_10f5_11eb_8b4b_d8ca52fa8622row7_col3,#T_1b2ca9d0_10f5_11eb_8b4b_d8ca52fa8622row7_col4,#T_1b2ca9d0_10f5_11eb_8b4b_d8ca52fa8622row7_col5,#T_1b2ca9d0_10f5_11eb_8b4b_d8ca52fa8622row7_col6,#T_1b2ca9d0_10f5_11eb_8b4b_d8ca52fa8622row8_col0,#T_1b2ca9d0_10f5_11eb_8b4b_d8ca52fa8622row8_col1,#T_1b2ca9d0_10f5_11eb_8b4b_d8ca52fa8622row8_col2,#T_1b2ca9d0_10f5_11eb_8b4b_d8ca52fa8622row8_col3,#T_1b2ca9d0_10f5_11eb_8b4b_d8ca52fa8622row8_col4,#T_1b2ca9d0_10f5_11eb_8b4b_d8ca52fa8622row8_col5,#T_1b2ca9d0_10f5_11eb_8b4b_d8ca52fa8622row8_col6,#T_1b2ca9d0_10f5_11eb_8b4b_d8ca52fa8622row9_col0,#T_1b2ca9d0_10f5_11eb_8b4b_d8ca52fa8622row9_col1,#T_1b2ca9d0_10f5_11eb_8b4b_d8ca52fa8622row9_col2,#T_1b2ca9d0_10f5_11eb_8b4b_d8ca52fa8622row9_col3,#T_1b2ca9d0_10f5_11eb_8b4b_d8ca52fa8622row9_col4,#T_1b2ca9d0_10f5_11eb_8b4b_d8ca52fa8622row9_col5,#T_1b2ca9d0_10f5_11eb_8b4b_d8ca52fa8622row9_col6,#T_1b2ca9d0_10f5_11eb_8b4b_d8ca52fa8622row10_col0,#T_1b2ca9d0_10f5_11eb_8b4b_d8ca52fa8622row10_col1,#T_1b2ca9d0_10f5_11eb_8b4b_d8ca52fa8622row10_col2,#T_1b2ca9d0_10f5_11eb_8b4b_d8ca52fa8622row10_col3,#T_1b2ca9d0_10f5_11eb_8b4b_d8ca52fa8622row10_col4,#T_1b2ca9d0_10f5_11eb_8b4b_d8ca52fa8622row10_col5,#T_1b2ca9d0_10f5_11eb_8b4b_d8ca52fa8622row10_col6,#T_1b2ca9d0_10f5_11eb_8b4b_d8ca52fa8622row11_col0,#T_1b2ca9d0_10f5_11eb_8b4b_d8ca52fa8622row11_col1,#T_1b2ca9d0_10f5_11eb_8b4b_d8ca52fa8622row11_col2,#T_1b2ca9d0_10f5_11eb_8b4b_d8ca52fa8622row11_col3,#T_1b2ca9d0_10f5_11eb_8b4b_d8ca52fa8622row11_col4,#T_1b2ca9d0_10f5_11eb_8b4b_d8ca52fa8622row11_col5,#T_1b2ca9d0_10f5_11eb_8b4b_d8ca52fa8622row11_col6,#T_1b2ca9d0_10f5_11eb_8b4b_d8ca52fa8622row12_col0,#T_1b2ca9d0_10f5_11eb_8b4b_d8ca52fa8622row12_col1,#T_1b2ca9d0_10f5_11eb_8b4b_d8ca52fa8622row12_col2,#T_1b2ca9d0_10f5_11eb_8b4b_d8ca52fa8622row12_col3,#T_1b2ca9d0_10f5_11eb_8b4b_d8ca52fa8622row12_col4,#T_1b2ca9d0_10f5_11eb_8b4b_d8ca52fa8622row12_col5,#T_1b2ca9d0_10f5_11eb_8b4b_d8ca52fa8622row12_col6,#T_1b2ca9d0_10f5_11eb_8b4b_d8ca52fa8622row13_col0,#T_1b2ca9d0_10f5_11eb_8b4b_d8ca52fa8622row13_col1,#T_1b2ca9d0_10f5_11eb_8b4b_d8ca52fa8622row13_col2,#T_1b2ca9d0_10f5_11eb_8b4b_d8ca52fa8622row13_col3,#T_1b2ca9d0_10f5_11eb_8b4b_d8ca52fa8622row13_col4,#T_1b2ca9d0_10f5_11eb_8b4b_d8ca52fa8622row13_col5,#T_1b2ca9d0_10f5_11eb_8b4b_d8ca52fa8622row13_col6{\n",
       "            text-align:  left;\n",
       "        }#T_1b2ca9d0_10f5_11eb_8b4b_d8ca52fa8622row0_col2,#T_1b2ca9d0_10f5_11eb_8b4b_d8ca52fa8622row0_col3,#T_1b2ca9d0_10f5_11eb_8b4b_d8ca52fa8622row0_col4,#T_1b2ca9d0_10f5_11eb_8b4b_d8ca52fa8622row1_col6,#T_1b2ca9d0_10f5_11eb_8b4b_d8ca52fa8622row2_col5,#T_1b2ca9d0_10f5_11eb_8b4b_d8ca52fa8622row5_col1{\n",
       "            background-color:  yellow;\n",
       "            text-align:  left;\n",
       "        }#T_1b2ca9d0_10f5_11eb_8b4b_d8ca52fa8622row0_col7,#T_1b2ca9d0_10f5_11eb_8b4b_d8ca52fa8622row1_col7,#T_1b2ca9d0_10f5_11eb_8b4b_d8ca52fa8622row2_col7,#T_1b2ca9d0_10f5_11eb_8b4b_d8ca52fa8622row3_col7,#T_1b2ca9d0_10f5_11eb_8b4b_d8ca52fa8622row4_col7,#T_1b2ca9d0_10f5_11eb_8b4b_d8ca52fa8622row5_col7,#T_1b2ca9d0_10f5_11eb_8b4b_d8ca52fa8622row6_col7,#T_1b2ca9d0_10f5_11eb_8b4b_d8ca52fa8622row7_col7,#T_1b2ca9d0_10f5_11eb_8b4b_d8ca52fa8622row8_col7,#T_1b2ca9d0_10f5_11eb_8b4b_d8ca52fa8622row9_col7,#T_1b2ca9d0_10f5_11eb_8b4b_d8ca52fa8622row10_col7,#T_1b2ca9d0_10f5_11eb_8b4b_d8ca52fa8622row11_col7,#T_1b2ca9d0_10f5_11eb_8b4b_d8ca52fa8622row12_col7,#T_1b2ca9d0_10f5_11eb_8b4b_d8ca52fa8622row13_col7{\n",
       "            background-color:  lightgrey;\n",
       "            text-align:  left;\n",
       "        }</style><table id=\"T_1b2ca9d0_10f5_11eb_8b4b_d8ca52fa8622\" ><thead>    <tr>        <th class=\"blank level0\" ></th>        <th class=\"col_heading level0 col0\" >Model</th>        <th class=\"col_heading level0 col1\" >MAE</th>        <th class=\"col_heading level0 col2\" >MSE</th>        <th class=\"col_heading level0 col3\" >RMSE</th>        <th class=\"col_heading level0 col4\" >R2</th>        <th class=\"col_heading level0 col5\" >RMSLE</th>        <th class=\"col_heading level0 col6\" >MAPE</th>        <th class=\"col_heading level0 col7\" >TT (Sec)</th>    </tr></thead><tbody>\n",
       "                <tr>\n",
       "                        <th id=\"T_1b2ca9d0_10f5_11eb_8b4b_d8ca52fa8622level0_row0\" class=\"row_heading level0 row0\" >0</th>\n",
       "                        <td id=\"T_1b2ca9d0_10f5_11eb_8b4b_d8ca52fa8622row0_col0\" class=\"data row0 col0\" >K Neighbors Regressor</td>\n",
       "                        <td id=\"T_1b2ca9d0_10f5_11eb_8b4b_d8ca52fa8622row0_col1\" class=\"data row0 col1\" >176109.0875</td>\n",
       "                        <td id=\"T_1b2ca9d0_10f5_11eb_8b4b_d8ca52fa8622row0_col2\" class=\"data row0 col2\" >3163516252979.2002</td>\n",
       "                        <td id=\"T_1b2ca9d0_10f5_11eb_8b4b_d8ca52fa8622row0_col3\" class=\"data row0 col3\" >1735341.2250</td>\n",
       "                        <td id=\"T_1b2ca9d0_10f5_11eb_8b4b_d8ca52fa8622row0_col4\" class=\"data row0 col4\" >0.1133</td>\n",
       "                        <td id=\"T_1b2ca9d0_10f5_11eb_8b4b_d8ca52fa8622row0_col5\" class=\"data row0 col5\" >0.6898</td>\n",
       "                        <td id=\"T_1b2ca9d0_10f5_11eb_8b4b_d8ca52fa8622row0_col6\" class=\"data row0 col6\" >67.2653</td>\n",
       "                        <td id=\"T_1b2ca9d0_10f5_11eb_8b4b_d8ca52fa8622row0_col7\" class=\"data row0 col7\" >0.7226</td>\n",
       "            </tr>\n",
       "            <tr>\n",
       "                        <th id=\"T_1b2ca9d0_10f5_11eb_8b4b_d8ca52fa8622level0_row1\" class=\"row_heading level0 row1\" >1</th>\n",
       "                        <td id=\"T_1b2ca9d0_10f5_11eb_8b4b_d8ca52fa8622row1_col0\" class=\"data row1 col0\" >Extreme Gradient Boosting</td>\n",
       "                        <td id=\"T_1b2ca9d0_10f5_11eb_8b4b_d8ca52fa8622row1_col1\" class=\"data row1 col1\" >143395.8266</td>\n",
       "                        <td id=\"T_1b2ca9d0_10f5_11eb_8b4b_d8ca52fa8622row1_col2\" class=\"data row1 col2\" >3172454262374.3999</td>\n",
       "                        <td id=\"T_1b2ca9d0_10f5_11eb_8b4b_d8ca52fa8622row1_col3\" class=\"data row1 col3\" >1738768.4250</td>\n",
       "                        <td id=\"T_1b2ca9d0_10f5_11eb_8b4b_d8ca52fa8622row1_col4\" class=\"data row1 col4\" >0.1061</td>\n",
       "                        <td id=\"T_1b2ca9d0_10f5_11eb_8b4b_d8ca52fa8622row1_col5\" class=\"data row1 col5\" >0.5374</td>\n",
       "                        <td id=\"T_1b2ca9d0_10f5_11eb_8b4b_d8ca52fa8622row1_col6\" class=\"data row1 col6\" >65.4759</td>\n",
       "                        <td id=\"T_1b2ca9d0_10f5_11eb_8b4b_d8ca52fa8622row1_col7\" class=\"data row1 col7\" >8.2455</td>\n",
       "            </tr>\n",
       "            <tr>\n",
       "                        <th id=\"T_1b2ca9d0_10f5_11eb_8b4b_d8ca52fa8622level0_row2\" class=\"row_heading level0 row2\" >2</th>\n",
       "                        <td id=\"T_1b2ca9d0_10f5_11eb_8b4b_d8ca52fa8622row2_col0\" class=\"data row2 col0\" >Light Gradient Boosting Machine</td>\n",
       "                        <td id=\"T_1b2ca9d0_10f5_11eb_8b4b_d8ca52fa8622row2_col1\" class=\"data row2 col1\" >144139.6082</td>\n",
       "                        <td id=\"T_1b2ca9d0_10f5_11eb_8b4b_d8ca52fa8622row2_col2\" class=\"data row2 col2\" >3341844094676.2651</td>\n",
       "                        <td id=\"T_1b2ca9d0_10f5_11eb_8b4b_d8ca52fa8622row2_col3\" class=\"data row2 col3\" >1787805.8816</td>\n",
       "                        <td id=\"T_1b2ca9d0_10f5_11eb_8b4b_d8ca52fa8622row2_col4\" class=\"data row2 col4\" >0.0548</td>\n",
       "                        <td id=\"T_1b2ca9d0_10f5_11eb_8b4b_d8ca52fa8622row2_col5\" class=\"data row2 col5\" >0.5331</td>\n",
       "                        <td id=\"T_1b2ca9d0_10f5_11eb_8b4b_d8ca52fa8622row2_col6\" class=\"data row2 col6\" >67.7124</td>\n",
       "                        <td id=\"T_1b2ca9d0_10f5_11eb_8b4b_d8ca52fa8622row2_col7\" class=\"data row2 col7\" >1.9073</td>\n",
       "            </tr>\n",
       "            <tr>\n",
       "                        <th id=\"T_1b2ca9d0_10f5_11eb_8b4b_d8ca52fa8622level0_row3\" class=\"row_heading level0 row3\" >3</th>\n",
       "                        <td id=\"T_1b2ca9d0_10f5_11eb_8b4b_d8ca52fa8622row3_col0\" class=\"data row3 col0\" >Linear Regression</td>\n",
       "                        <td id=\"T_1b2ca9d0_10f5_11eb_8b4b_d8ca52fa8622row3_col1\" class=\"data row3 col1\" >142700.7708</td>\n",
       "                        <td id=\"T_1b2ca9d0_10f5_11eb_8b4b_d8ca52fa8622row3_col2\" class=\"data row3 col2\" >3482664054202.2383</td>\n",
       "                        <td id=\"T_1b2ca9d0_10f5_11eb_8b4b_d8ca52fa8622row3_col3\" class=\"data row3 col3\" >1829146.4349</td>\n",
       "                        <td id=\"T_1b2ca9d0_10f5_11eb_8b4b_d8ca52fa8622row3_col4\" class=\"data row3 col4\" >0.0068</td>\n",
       "                        <td id=\"T_1b2ca9d0_10f5_11eb_8b4b_d8ca52fa8622row3_col5\" class=\"data row3 col5\" >0.5385</td>\n",
       "                        <td id=\"T_1b2ca9d0_10f5_11eb_8b4b_d8ca52fa8622row3_col6\" class=\"data row3 col6\" >74.5597</td>\n",
       "                        <td id=\"T_1b2ca9d0_10f5_11eb_8b4b_d8ca52fa8622row3_col7\" class=\"data row3 col7\" >0.1246</td>\n",
       "            </tr>\n",
       "            <tr>\n",
       "                        <th id=\"T_1b2ca9d0_10f5_11eb_8b4b_d8ca52fa8622level0_row4\" class=\"row_heading level0 row4\" >4</th>\n",
       "                        <td id=\"T_1b2ca9d0_10f5_11eb_8b4b_d8ca52fa8622row4_col0\" class=\"data row4 col0\" >Ridge Regression</td>\n",
       "                        <td id=\"T_1b2ca9d0_10f5_11eb_8b4b_d8ca52fa8622row4_col1\" class=\"data row4 col1\" >142597.0096</td>\n",
       "                        <td id=\"T_1b2ca9d0_10f5_11eb_8b4b_d8ca52fa8622row4_col2\" class=\"data row4 col2\" >3484202158948.1377</td>\n",
       "                        <td id=\"T_1b2ca9d0_10f5_11eb_8b4b_d8ca52fa8622row4_col3\" class=\"data row4 col3\" >1829560.0935</td>\n",
       "                        <td id=\"T_1b2ca9d0_10f5_11eb_8b4b_d8ca52fa8622row4_col4\" class=\"data row4 col4\" >0.0063</td>\n",
       "                        <td id=\"T_1b2ca9d0_10f5_11eb_8b4b_d8ca52fa8622row4_col5\" class=\"data row4 col5\" >0.5380</td>\n",
       "                        <td id=\"T_1b2ca9d0_10f5_11eb_8b4b_d8ca52fa8622row4_col6\" class=\"data row4 col6\" >74.0281</td>\n",
       "                        <td id=\"T_1b2ca9d0_10f5_11eb_8b4b_d8ca52fa8622row4_col7\" class=\"data row4 col7\" >0.0682</td>\n",
       "            </tr>\n",
       "            <tr>\n",
       "                        <th id=\"T_1b2ca9d0_10f5_11eb_8b4b_d8ca52fa8622level0_row5\" class=\"row_heading level0 row5\" >5</th>\n",
       "                        <td id=\"T_1b2ca9d0_10f5_11eb_8b4b_d8ca52fa8622row5_col0\" class=\"data row5 col0\" >Bayesian Ridge</td>\n",
       "                        <td id=\"T_1b2ca9d0_10f5_11eb_8b4b_d8ca52fa8622row5_col1\" class=\"data row5 col1\" >142571.6453</td>\n",
       "                        <td id=\"T_1b2ca9d0_10f5_11eb_8b4b_d8ca52fa8622row5_col2\" class=\"data row5 col2\" >3484712617014.4692</td>\n",
       "                        <td id=\"T_1b2ca9d0_10f5_11eb_8b4b_d8ca52fa8622row5_col3\" class=\"data row5 col3\" >1829698.9832</td>\n",
       "                        <td id=\"T_1b2ca9d0_10f5_11eb_8b4b_d8ca52fa8622row5_col4\" class=\"data row5 col4\" >0.0061</td>\n",
       "                        <td id=\"T_1b2ca9d0_10f5_11eb_8b4b_d8ca52fa8622row5_col5\" class=\"data row5 col5\" >0.5380</td>\n",
       "                        <td id=\"T_1b2ca9d0_10f5_11eb_8b4b_d8ca52fa8622row5_col6\" class=\"data row5 col6\" >73.8348</td>\n",
       "                        <td id=\"T_1b2ca9d0_10f5_11eb_8b4b_d8ca52fa8622row5_col7\" class=\"data row5 col7\" >0.2661</td>\n",
       "            </tr>\n",
       "            <tr>\n",
       "                        <th id=\"T_1b2ca9d0_10f5_11eb_8b4b_d8ca52fa8622level0_row6\" class=\"row_heading level0 row6\" >6</th>\n",
       "                        <td id=\"T_1b2ca9d0_10f5_11eb_8b4b_d8ca52fa8622row6_col0\" class=\"data row6 col0\" >Orthogonal Matching Pursuit</td>\n",
       "                        <td id=\"T_1b2ca9d0_10f5_11eb_8b4b_d8ca52fa8622row6_col1\" class=\"data row6 col1\" >163531.5181</td>\n",
       "                        <td id=\"T_1b2ca9d0_10f5_11eb_8b4b_d8ca52fa8622row6_col2\" class=\"data row6 col2\" >3503157335857.0361</td>\n",
       "                        <td id=\"T_1b2ca9d0_10f5_11eb_8b4b_d8ca52fa8622row6_col3\" class=\"data row6 col3\" >1834632.3373</td>\n",
       "                        <td id=\"T_1b2ca9d0_10f5_11eb_8b4b_d8ca52fa8622row6_col4\" class=\"data row6 col4\" >0.0007</td>\n",
       "                        <td id=\"T_1b2ca9d0_10f5_11eb_8b4b_d8ca52fa8622row6_col5\" class=\"data row6 col5\" >0.6282</td>\n",
       "                        <td id=\"T_1b2ca9d0_10f5_11eb_8b4b_d8ca52fa8622row6_col6\" class=\"data row6 col6\" >77.8808</td>\n",
       "                        <td id=\"T_1b2ca9d0_10f5_11eb_8b4b_d8ca52fa8622row6_col7\" class=\"data row6 col7\" >0.0834</td>\n",
       "            </tr>\n",
       "            <tr>\n",
       "                        <th id=\"T_1b2ca9d0_10f5_11eb_8b4b_d8ca52fa8622level0_row7\" class=\"row_heading level0 row7\" >7</th>\n",
       "                        <td id=\"T_1b2ca9d0_10f5_11eb_8b4b_d8ca52fa8622row7_col0\" class=\"data row7 col0\" >Huber Regressor</td>\n",
       "                        <td id=\"T_1b2ca9d0_10f5_11eb_8b4b_d8ca52fa8622row7_col1\" class=\"data row7 col1\" >176218.4974</td>\n",
       "                        <td id=\"T_1b2ca9d0_10f5_11eb_8b4b_d8ca52fa8622row7_col2\" class=\"data row7 col2\" >3514885380036.0186</td>\n",
       "                        <td id=\"T_1b2ca9d0_10f5_11eb_8b4b_d8ca52fa8622row7_col3\" class=\"data row7 col3\" >1838131.9657</td>\n",
       "                        <td id=\"T_1b2ca9d0_10f5_11eb_8b4b_d8ca52fa8622row7_col4\" class=\"data row7 col4\" >-0.0036</td>\n",
       "                        <td id=\"T_1b2ca9d0_10f5_11eb_8b4b_d8ca52fa8622row7_col5\" class=\"data row7 col5\" >0.6801</td>\n",
       "                        <td id=\"T_1b2ca9d0_10f5_11eb_8b4b_d8ca52fa8622row7_col6\" class=\"data row7 col6\" >68.0086</td>\n",
       "                        <td id=\"T_1b2ca9d0_10f5_11eb_8b4b_d8ca52fa8622row7_col7\" class=\"data row7 col7\" >5.2740</td>\n",
       "            </tr>\n",
       "            <tr>\n",
       "                        <th id=\"T_1b2ca9d0_10f5_11eb_8b4b_d8ca52fa8622level0_row8\" class=\"row_heading level0 row8\" >8</th>\n",
       "                        <td id=\"T_1b2ca9d0_10f5_11eb_8b4b_d8ca52fa8622row8_col0\" class=\"data row8 col0\" >Lasso Regression</td>\n",
       "                        <td id=\"T_1b2ca9d0_10f5_11eb_8b4b_d8ca52fa8622row8_col1\" class=\"data row8 col1\" >191748.9021</td>\n",
       "                        <td id=\"T_1b2ca9d0_10f5_11eb_8b4b_d8ca52fa8622row8_col2\" class=\"data row8 col2\" >3515940226174.4297</td>\n",
       "                        <td id=\"T_1b2ca9d0_10f5_11eb_8b4b_d8ca52fa8622row8_col3\" class=\"data row8 col3\" >1838549.7486</td>\n",
       "                        <td id=\"T_1b2ca9d0_10f5_11eb_8b4b_d8ca52fa8622row8_col4\" class=\"data row8 col4\" >-0.0042</td>\n",
       "                        <td id=\"T_1b2ca9d0_10f5_11eb_8b4b_d8ca52fa8622row8_col5\" class=\"data row8 col5\" >0.7545</td>\n",
       "                        <td id=\"T_1b2ca9d0_10f5_11eb_8b4b_d8ca52fa8622row8_col6\" class=\"data row8 col6\" >89.1524</td>\n",
       "                        <td id=\"T_1b2ca9d0_10f5_11eb_8b4b_d8ca52fa8622row8_col7\" class=\"data row8 col7\" >0.0783</td>\n",
       "            </tr>\n",
       "            <tr>\n",
       "                        <th id=\"T_1b2ca9d0_10f5_11eb_8b4b_d8ca52fa8622level0_row9\" class=\"row_heading level0 row9\" >9</th>\n",
       "                        <td id=\"T_1b2ca9d0_10f5_11eb_8b4b_d8ca52fa8622row9_col0\" class=\"data row9 col0\" >Elastic Net</td>\n",
       "                        <td id=\"T_1b2ca9d0_10f5_11eb_8b4b_d8ca52fa8622row9_col1\" class=\"data row9 col1\" >191752.4443</td>\n",
       "                        <td id=\"T_1b2ca9d0_10f5_11eb_8b4b_d8ca52fa8622row9_col2\" class=\"data row9 col2\" >3515935475313.5625</td>\n",
       "                        <td id=\"T_1b2ca9d0_10f5_11eb_8b4b_d8ca52fa8622row9_col3\" class=\"data row9 col3\" >1838547.9460</td>\n",
       "                        <td id=\"T_1b2ca9d0_10f5_11eb_8b4b_d8ca52fa8622row9_col4\" class=\"data row9 col4\" >-0.0042</td>\n",
       "                        <td id=\"T_1b2ca9d0_10f5_11eb_8b4b_d8ca52fa8622row9_col5\" class=\"data row9 col5\" >0.7545</td>\n",
       "                        <td id=\"T_1b2ca9d0_10f5_11eb_8b4b_d8ca52fa8622row9_col6\" class=\"data row9 col6\" >89.1534</td>\n",
       "                        <td id=\"T_1b2ca9d0_10f5_11eb_8b4b_d8ca52fa8622row9_col7\" class=\"data row9 col7\" >0.0706</td>\n",
       "            </tr>\n",
       "            <tr>\n",
       "                        <th id=\"T_1b2ca9d0_10f5_11eb_8b4b_d8ca52fa8622level0_row10\" class=\"row_heading level0 row10\" >10</th>\n",
       "                        <td id=\"T_1b2ca9d0_10f5_11eb_8b4b_d8ca52fa8622row10_col0\" class=\"data row10 col0\" >Lasso Least Angle Regression</td>\n",
       "                        <td id=\"T_1b2ca9d0_10f5_11eb_8b4b_d8ca52fa8622row10_col1\" class=\"data row10 col1\" >191746.5066</td>\n",
       "                        <td id=\"T_1b2ca9d0_10f5_11eb_8b4b_d8ca52fa8622row10_col2\" class=\"data row10 col2\" >3515943916423.6655</td>\n",
       "                        <td id=\"T_1b2ca9d0_10f5_11eb_8b4b_d8ca52fa8622row10_col3\" class=\"data row10 col3\" >1838551.1383</td>\n",
       "                        <td id=\"T_1b2ca9d0_10f5_11eb_8b4b_d8ca52fa8622row10_col4\" class=\"data row10 col4\" >-0.0042</td>\n",
       "                        <td id=\"T_1b2ca9d0_10f5_11eb_8b4b_d8ca52fa8622row10_col5\" class=\"data row10 col5\" >0.7545</td>\n",
       "                        <td id=\"T_1b2ca9d0_10f5_11eb_8b4b_d8ca52fa8622row10_col6\" class=\"data row10 col6\" >89.1518</td>\n",
       "                        <td id=\"T_1b2ca9d0_10f5_11eb_8b4b_d8ca52fa8622row10_col7\" class=\"data row10 col7\" >0.0751</td>\n",
       "            </tr>\n",
       "            <tr>\n",
       "                        <th id=\"T_1b2ca9d0_10f5_11eb_8b4b_d8ca52fa8622level0_row11\" class=\"row_heading level0 row11\" >11</th>\n",
       "                        <td id=\"T_1b2ca9d0_10f5_11eb_8b4b_d8ca52fa8622row11_col0\" class=\"data row11 col0\" >Decision Tree</td>\n",
       "                        <td id=\"T_1b2ca9d0_10f5_11eb_8b4b_d8ca52fa8622row11_col1\" class=\"data row11 col1\" >179185.1615</td>\n",
       "                        <td id=\"T_1b2ca9d0_10f5_11eb_8b4b_d8ca52fa8622row11_col2\" class=\"data row11 col2\" >3949989768589.2490</td>\n",
       "                        <td id=\"T_1b2ca9d0_10f5_11eb_8b4b_d8ca52fa8622row11_col3\" class=\"data row11 col3\" >1974438.6201</td>\n",
       "                        <td id=\"T_1b2ca9d0_10f5_11eb_8b4b_d8ca52fa8622row11_col4\" class=\"data row11 col4\" >-0.2480</td>\n",
       "                        <td id=\"T_1b2ca9d0_10f5_11eb_8b4b_d8ca52fa8622row11_col5\" class=\"data row11 col5\" >0.7395</td>\n",
       "                        <td id=\"T_1b2ca9d0_10f5_11eb_8b4b_d8ca52fa8622row11_col6\" class=\"data row11 col6\" >92.7774</td>\n",
       "                        <td id=\"T_1b2ca9d0_10f5_11eb_8b4b_d8ca52fa8622row11_col7\" class=\"data row11 col7\" >3.8564</td>\n",
       "            </tr>\n",
       "            <tr>\n",
       "                        <th id=\"T_1b2ca9d0_10f5_11eb_8b4b_d8ca52fa8622level0_row12\" class=\"row_heading level0 row12\" >12</th>\n",
       "                        <td id=\"T_1b2ca9d0_10f5_11eb_8b4b_d8ca52fa8622row12_col0\" class=\"data row12 col0\" >Passive Aggressive Regressor</td>\n",
       "                        <td id=\"T_1b2ca9d0_10f5_11eb_8b4b_d8ca52fa8622row12_col1\" class=\"data row12 col1\" >406517341449001536.0000</td>\n",
       "                        <td id=\"T_1b2ca9d0_10f5_11eb_8b4b_d8ca52fa8622row12_col2\" class=\"data row12 col2\" >2409691798176834562579860567419416215552.0000</td>\n",
       "                        <td id=\"T_1b2ca9d0_10f5_11eb_8b4b_d8ca52fa8622row12_col3\" class=\"data row12 col3\" >22154231571602513920.0000</td>\n",
       "                        <td id=\"T_1b2ca9d0_10f5_11eb_8b4b_d8ca52fa8622row12_col4\" class=\"data row12 col4\" >-693904861038857870681047040.0000</td>\n",
       "                        <td id=\"T_1b2ca9d0_10f5_11eb_8b4b_d8ca52fa8622row12_col5\" class=\"data row12 col5\" >2.0617</td>\n",
       "                        <td id=\"T_1b2ca9d0_10f5_11eb_8b4b_d8ca52fa8622row12_col6\" class=\"data row12 col6\" >3894893597878.0586</td>\n",
       "                        <td id=\"T_1b2ca9d0_10f5_11eb_8b4b_d8ca52fa8622row12_col7\" class=\"data row12 col7\" >0.2821</td>\n",
       "            </tr>\n",
       "            <tr>\n",
       "                        <th id=\"T_1b2ca9d0_10f5_11eb_8b4b_d8ca52fa8622level0_row13\" class=\"row_heading level0 row13\" >13</th>\n",
       "                        <td id=\"T_1b2ca9d0_10f5_11eb_8b4b_d8ca52fa8622row13_col0\" class=\"data row13 col0\" >Least Angle Regression</td>\n",
       "                        <td id=\"T_1b2ca9d0_10f5_11eb_8b4b_d8ca52fa8622row13_col1\" class=\"data row13 col1\" >1269144904570092972348049399746764596020911923812926226432.0000</td>\n",
       "                        <td id=\"T_1b2ca9d0_10f5_11eb_8b4b_d8ca52fa8622row13_col2\" class=\"data row13 col2\" >3569147648693160457567665734867499248347795035861910316293594006089440717794724578327700774416529748181965299517489152.0000</td>\n",
       "                        <td id=\"T_1b2ca9d0_10f5_11eb_8b4b_d8ca52fa8622row13_col3\" class=\"data row13 col3\" >26717588396759033034820272662017811970896247324139726045184.0000</td>\n",
       "                        <td id=\"T_1b2ca9d0_10f5_11eb_8b4b_d8ca52fa8622row13_col4\" class=\"data row13 col4\" >-1027817677163028436201784277158248484155558947463482423018889573113639380277492042035089813155591799963648.0000</td>\n",
       "                        <td id=\"T_1b2ca9d0_10f5_11eb_8b4b_d8ca52fa8622row13_col5\" class=\"data row13 col5\" >20.4310</td>\n",
       "                        <td id=\"T_1b2ca9d0_10f5_11eb_8b4b_d8ca52fa8622row13_col6\" class=\"data row13 col6\" >5819105978932032645225392855316669825093628264972288.0000</td>\n",
       "                        <td id=\"T_1b2ca9d0_10f5_11eb_8b4b_d8ca52fa8622row13_col7\" class=\"data row13 col7\" >0.1733</td>\n",
       "            </tr>\n",
       "    </tbody></table>"
      ],
      "text/plain": [
       "<pandas.io.formats.style.Styler at 0x20d495084a8>"
      ]
     },
     "metadata": {},
     "output_type": "display_data"
    },
    {
     "data": {
      "text/plain": [
       "[KNeighborsRegressor(algorithm='auto', leaf_size=30, metric='minkowski',\n",
       "                     metric_params=None, n_jobs=-1, n_neighbors=5, p=2,\n",
       "                     weights='uniform'),\n",
       " XGBRegressor(base_score=0.5, booster='gbtree', colsample_bylevel=1,\n",
       "              colsample_bynode=1, colsample_bytree=1, gamma=0, gpu_id=-1,\n",
       "              importance_type='gain', interaction_constraints='',\n",
       "              learning_rate=0.300000012, max_delta_step=0, max_depth=6,\n",
       "              min_child_weight=1, missing=nan, monotone_constraints='()',\n",
       "              n_estimators=100, n_jobs=-1, num_parallel_tree=1,\n",
       "              objective='reg:squarederror', random_state=123, reg_alpha=0,\n",
       "              reg_lambda=1, scale_pos_weight=1, subsample=1, tree_method='exact',\n",
       "              validate_parameters=1, verbosity=0),\n",
       " LGBMRegressor(boosting_type='gbdt', class_weight=None, colsample_bytree=1.0,\n",
       "               importance_type='split', learning_rate=0.1, max_depth=-1,\n",
       "               min_child_samples=20, min_child_weight=0.001, min_split_gain=0.0,\n",
       "               n_estimators=100, n_jobs=-1, num_leaves=31, objective=None,\n",
       "               random_state=123, reg_alpha=0.0, reg_lambda=0.0, silent=True,\n",
       "               subsample=1.0, subsample_for_bin=200000, subsample_freq=0)]"
      ]
     },
     "execution_count": 44,
     "metadata": {},
     "output_type": "execute_result"
    }
   ],
   "source": [
    "compare_models(exclude=[\"catboost\", \"svm\", \"et\", \"tr\", \"rf\", \"ransac\", \"gbr\",\"ada\"], round=4, fold=5, n_select=3)"
   ]
  },
  {
   "cell_type": "code",
   "execution_count": 69,
   "metadata": {
    "ExecuteTime": {
     "end_time": "2020-10-17T21:29:33.913037Z",
     "start_time": "2020-10-17T21:29:32.745758Z"
    }
   },
   "outputs": [
    {
     "data": {
      "text/html": [
       "<style  type=\"text/css\" >\n",
       "#T_d981eba8_10bf_11eb_90e1_d8ca52fa8622row10_col0,#T_d981eba8_10bf_11eb_90e1_d8ca52fa8622row10_col1,#T_d981eba8_10bf_11eb_90e1_d8ca52fa8622row10_col2,#T_d981eba8_10bf_11eb_90e1_d8ca52fa8622row10_col3,#T_d981eba8_10bf_11eb_90e1_d8ca52fa8622row10_col4,#T_d981eba8_10bf_11eb_90e1_d8ca52fa8622row10_col5{\n",
       "            background:  yellow;\n",
       "        }</style><table id=\"T_d981eba8_10bf_11eb_90e1_d8ca52fa8622\" ><thead>    <tr>        <th class=\"blank level0\" ></th>        <th class=\"col_heading level0 col0\" >MAE</th>        <th class=\"col_heading level0 col1\" >MSE</th>        <th class=\"col_heading level0 col2\" >RMSE</th>        <th class=\"col_heading level0 col3\" >R2</th>        <th class=\"col_heading level0 col4\" >RMSLE</th>        <th class=\"col_heading level0 col5\" >MAPE</th>    </tr></thead><tbody>\n",
       "                <tr>\n",
       "                        <th id=\"T_d981eba8_10bf_11eb_90e1_d8ca52fa8622level0_row0\" class=\"row_heading level0 row0\" >0</th>\n",
       "                        <td id=\"T_d981eba8_10bf_11eb_90e1_d8ca52fa8622row0_col0\" class=\"data row0 col0\" >8025.4898</td>\n",
       "                        <td id=\"T_d981eba8_10bf_11eb_90e1_d8ca52fa8622row0_col1\" class=\"data row0 col1\" >88335445.6619</td>\n",
       "                        <td id=\"T_d981eba8_10bf_11eb_90e1_d8ca52fa8622row0_col2\" class=\"data row0 col2\" >9398.6938</td>\n",
       "                        <td id=\"T_d981eba8_10bf_11eb_90e1_d8ca52fa8622row0_col3\" class=\"data row0 col3\" >-0.0017</td>\n",
       "                        <td id=\"T_d981eba8_10bf_11eb_90e1_d8ca52fa8622row0_col4\" class=\"data row0 col4\" >0.1955</td>\n",
       "                        <td id=\"T_d981eba8_10bf_11eb_90e1_d8ca52fa8622row0_col5\" class=\"data row0 col5\" >0.1714</td>\n",
       "            </tr>\n",
       "            <tr>\n",
       "                        <th id=\"T_d981eba8_10bf_11eb_90e1_d8ca52fa8622level0_row1\" class=\"row_heading level0 row1\" >1</th>\n",
       "                        <td id=\"T_d981eba8_10bf_11eb_90e1_d8ca52fa8622row1_col0\" class=\"data row1 col0\" >8739.1465</td>\n",
       "                        <td id=\"T_d981eba8_10bf_11eb_90e1_d8ca52fa8622row1_col1\" class=\"data row1 col1\" >103111072.1829</td>\n",
       "                        <td id=\"T_d981eba8_10bf_11eb_90e1_d8ca52fa8622row1_col2\" class=\"data row1 col2\" >10154.3622</td>\n",
       "                        <td id=\"T_d981eba8_10bf_11eb_90e1_d8ca52fa8622row1_col3\" class=\"data row1 col3\" >-0.0023</td>\n",
       "                        <td id=\"T_d981eba8_10bf_11eb_90e1_d8ca52fa8622row1_col4\" class=\"data row1 col4\" >0.2135</td>\n",
       "                        <td id=\"T_d981eba8_10bf_11eb_90e1_d8ca52fa8622row1_col5\" class=\"data row1 col5\" >0.1896</td>\n",
       "            </tr>\n",
       "            <tr>\n",
       "                        <th id=\"T_d981eba8_10bf_11eb_90e1_d8ca52fa8622level0_row2\" class=\"row_heading level0 row2\" >2</th>\n",
       "                        <td id=\"T_d981eba8_10bf_11eb_90e1_d8ca52fa8622row2_col0\" class=\"data row2 col0\" >8482.8222</td>\n",
       "                        <td id=\"T_d981eba8_10bf_11eb_90e1_d8ca52fa8622row2_col1\" class=\"data row2 col1\" >96722925.6564</td>\n",
       "                        <td id=\"T_d981eba8_10bf_11eb_90e1_d8ca52fa8622row2_col2\" class=\"data row2 col2\" >9834.7814</td>\n",
       "                        <td id=\"T_d981eba8_10bf_11eb_90e1_d8ca52fa8622row2_col3\" class=\"data row2 col3\" >-0.0024</td>\n",
       "                        <td id=\"T_d981eba8_10bf_11eb_90e1_d8ca52fa8622row2_col4\" class=\"data row2 col4\" >0.2060</td>\n",
       "                        <td id=\"T_d981eba8_10bf_11eb_90e1_d8ca52fa8622row2_col5\" class=\"data row2 col5\" >0.1830</td>\n",
       "            </tr>\n",
       "            <tr>\n",
       "                        <th id=\"T_d981eba8_10bf_11eb_90e1_d8ca52fa8622level0_row3\" class=\"row_heading level0 row3\" >3</th>\n",
       "                        <td id=\"T_d981eba8_10bf_11eb_90e1_d8ca52fa8622row3_col0\" class=\"data row3 col0\" >8374.1796</td>\n",
       "                        <td id=\"T_d981eba8_10bf_11eb_90e1_d8ca52fa8622row3_col1\" class=\"data row3 col1\" >96363377.2081</td>\n",
       "                        <td id=\"T_d981eba8_10bf_11eb_90e1_d8ca52fa8622row3_col2\" class=\"data row3 col2\" >9816.4850</td>\n",
       "                        <td id=\"T_d981eba8_10bf_11eb_90e1_d8ca52fa8622row3_col3\" class=\"data row3 col3\" >-0.0089</td>\n",
       "                        <td id=\"T_d981eba8_10bf_11eb_90e1_d8ca52fa8622row3_col4\" class=\"data row3 col4\" >0.2073</td>\n",
       "                        <td id=\"T_d981eba8_10bf_11eb_90e1_d8ca52fa8622row3_col5\" class=\"data row3 col5\" >0.1833</td>\n",
       "            </tr>\n",
       "            <tr>\n",
       "                        <th id=\"T_d981eba8_10bf_11eb_90e1_d8ca52fa8622level0_row4\" class=\"row_heading level0 row4\" >4</th>\n",
       "                        <td id=\"T_d981eba8_10bf_11eb_90e1_d8ca52fa8622row4_col0\" class=\"data row4 col0\" >8989.7051</td>\n",
       "                        <td id=\"T_d981eba8_10bf_11eb_90e1_d8ca52fa8622row4_col1\" class=\"data row4 col1\" >106750816.3840</td>\n",
       "                        <td id=\"T_d981eba8_10bf_11eb_90e1_d8ca52fa8622row4_col2\" class=\"data row4 col2\" >10332.0287</td>\n",
       "                        <td id=\"T_d981eba8_10bf_11eb_90e1_d8ca52fa8622row4_col3\" class=\"data row4 col3\" >-0.0013</td>\n",
       "                        <td id=\"T_d981eba8_10bf_11eb_90e1_d8ca52fa8622row4_col4\" class=\"data row4 col4\" >0.2169</td>\n",
       "                        <td id=\"T_d981eba8_10bf_11eb_90e1_d8ca52fa8622row4_col5\" class=\"data row4 col5\" >0.1946</td>\n",
       "            </tr>\n",
       "            <tr>\n",
       "                        <th id=\"T_d981eba8_10bf_11eb_90e1_d8ca52fa8622level0_row5\" class=\"row_heading level0 row5\" >5</th>\n",
       "                        <td id=\"T_d981eba8_10bf_11eb_90e1_d8ca52fa8622row5_col0\" class=\"data row5 col0\" >8192.9627</td>\n",
       "                        <td id=\"T_d981eba8_10bf_11eb_90e1_d8ca52fa8622row5_col1\" class=\"data row5 col1\" >91974081.8524</td>\n",
       "                        <td id=\"T_d981eba8_10bf_11eb_90e1_d8ca52fa8622row5_col2\" class=\"data row5 col2\" >9590.3119</td>\n",
       "                        <td id=\"T_d981eba8_10bf_11eb_90e1_d8ca52fa8622row5_col3\" class=\"data row5 col3\" >-0.0046</td>\n",
       "                        <td id=\"T_d981eba8_10bf_11eb_90e1_d8ca52fa8622row5_col4\" class=\"data row5 col4\" >0.2000</td>\n",
       "                        <td id=\"T_d981eba8_10bf_11eb_90e1_d8ca52fa8622row5_col5\" class=\"data row5 col5\" >0.1757</td>\n",
       "            </tr>\n",
       "            <tr>\n",
       "                        <th id=\"T_d981eba8_10bf_11eb_90e1_d8ca52fa8622level0_row6\" class=\"row_heading level0 row6\" >6</th>\n",
       "                        <td id=\"T_d981eba8_10bf_11eb_90e1_d8ca52fa8622row6_col0\" class=\"data row6 col0\" >8230.2312</td>\n",
       "                        <td id=\"T_d981eba8_10bf_11eb_90e1_d8ca52fa8622row6_col1\" class=\"data row6 col1\" >94562709.1360</td>\n",
       "                        <td id=\"T_d981eba8_10bf_11eb_90e1_d8ca52fa8622row6_col2\" class=\"data row6 col2\" >9724.3359</td>\n",
       "                        <td id=\"T_d981eba8_10bf_11eb_90e1_d8ca52fa8622row6_col3\" class=\"data row6 col3\" >-0.0124</td>\n",
       "                        <td id=\"T_d981eba8_10bf_11eb_90e1_d8ca52fa8622row6_col4\" class=\"data row6 col4\" >0.2065</td>\n",
       "                        <td id=\"T_d981eba8_10bf_11eb_90e1_d8ca52fa8622row6_col5\" class=\"data row6 col5\" >0.1813</td>\n",
       "            </tr>\n",
       "            <tr>\n",
       "                        <th id=\"T_d981eba8_10bf_11eb_90e1_d8ca52fa8622level0_row7\" class=\"row_heading level0 row7\" >7</th>\n",
       "                        <td id=\"T_d981eba8_10bf_11eb_90e1_d8ca52fa8622row7_col0\" class=\"data row7 col0\" >8355.5675</td>\n",
       "                        <td id=\"T_d981eba8_10bf_11eb_90e1_d8ca52fa8622row7_col1\" class=\"data row7 col1\" >94493095.6245</td>\n",
       "                        <td id=\"T_d981eba8_10bf_11eb_90e1_d8ca52fa8622row7_col2\" class=\"data row7 col2\" >9720.7559</td>\n",
       "                        <td id=\"T_d981eba8_10bf_11eb_90e1_d8ca52fa8622row7_col3\" class=\"data row7 col3\" >-0.0001</td>\n",
       "                        <td id=\"T_d981eba8_10bf_11eb_90e1_d8ca52fa8622row7_col4\" class=\"data row7 col4\" >0.2018</td>\n",
       "                        <td id=\"T_d981eba8_10bf_11eb_90e1_d8ca52fa8622row7_col5\" class=\"data row7 col5\" >0.1778</td>\n",
       "            </tr>\n",
       "            <tr>\n",
       "                        <th id=\"T_d981eba8_10bf_11eb_90e1_d8ca52fa8622level0_row8\" class=\"row_heading level0 row8\" >8</th>\n",
       "                        <td id=\"T_d981eba8_10bf_11eb_90e1_d8ca52fa8622row8_col0\" class=\"data row8 col0\" >8248.2861</td>\n",
       "                        <td id=\"T_d981eba8_10bf_11eb_90e1_d8ca52fa8622row8_col1\" class=\"data row8 col1\" >96699064.2293</td>\n",
       "                        <td id=\"T_d981eba8_10bf_11eb_90e1_d8ca52fa8622row8_col2\" class=\"data row8 col2\" >9833.5682</td>\n",
       "                        <td id=\"T_d981eba8_10bf_11eb_90e1_d8ca52fa8622row8_col3\" class=\"data row8 col3\" >-0.0126</td>\n",
       "                        <td id=\"T_d981eba8_10bf_11eb_90e1_d8ca52fa8622row8_col4\" class=\"data row8 col4\" >0.2104</td>\n",
       "                        <td id=\"T_d981eba8_10bf_11eb_90e1_d8ca52fa8622row8_col5\" class=\"data row8 col5\" >0.1835</td>\n",
       "            </tr>\n",
       "            <tr>\n",
       "                        <th id=\"T_d981eba8_10bf_11eb_90e1_d8ca52fa8622level0_row9\" class=\"row_heading level0 row9\" >9</th>\n",
       "                        <td id=\"T_d981eba8_10bf_11eb_90e1_d8ca52fa8622row9_col0\" class=\"data row9 col0\" >8601.5701</td>\n",
       "                        <td id=\"T_d981eba8_10bf_11eb_90e1_d8ca52fa8622row9_col1\" class=\"data row9 col1\" >100793998.7163</td>\n",
       "                        <td id=\"T_d981eba8_10bf_11eb_90e1_d8ca52fa8622row9_col2\" class=\"data row9 col2\" >10039.6214</td>\n",
       "                        <td id=\"T_d981eba8_10bf_11eb_90e1_d8ca52fa8622row9_col3\" class=\"data row9 col3\" >-0.0001</td>\n",
       "                        <td id=\"T_d981eba8_10bf_11eb_90e1_d8ca52fa8622row9_col4\" class=\"data row9 col4\" >0.2104</td>\n",
       "                        <td id=\"T_d981eba8_10bf_11eb_90e1_d8ca52fa8622row9_col5\" class=\"data row9 col5\" >0.1852</td>\n",
       "            </tr>\n",
       "            <tr>\n",
       "                        <th id=\"T_d981eba8_10bf_11eb_90e1_d8ca52fa8622level0_row10\" class=\"row_heading level0 row10\" >Mean</th>\n",
       "                        <td id=\"T_d981eba8_10bf_11eb_90e1_d8ca52fa8622row10_col0\" class=\"data row10 col0\" >8423.9961</td>\n",
       "                        <td id=\"T_d981eba8_10bf_11eb_90e1_d8ca52fa8622row10_col1\" class=\"data row10 col1\" >96980658.6652</td>\n",
       "                        <td id=\"T_d981eba8_10bf_11eb_90e1_d8ca52fa8622row10_col2\" class=\"data row10 col2\" >9844.4945</td>\n",
       "                        <td id=\"T_d981eba8_10bf_11eb_90e1_d8ca52fa8622row10_col3\" class=\"data row10 col3\" >-0.0046</td>\n",
       "                        <td id=\"T_d981eba8_10bf_11eb_90e1_d8ca52fa8622row10_col4\" class=\"data row10 col4\" >0.2068</td>\n",
       "                        <td id=\"T_d981eba8_10bf_11eb_90e1_d8ca52fa8622row10_col5\" class=\"data row10 col5\" >0.1825</td>\n",
       "            </tr>\n",
       "            <tr>\n",
       "                        <th id=\"T_d981eba8_10bf_11eb_90e1_d8ca52fa8622level0_row11\" class=\"row_heading level0 row11\" >SD</th>\n",
       "                        <td id=\"T_d981eba8_10bf_11eb_90e1_d8ca52fa8622row11_col0\" class=\"data row11 col0\" >272.4163</td>\n",
       "                        <td id=\"T_d981eba8_10bf_11eb_90e1_d8ca52fa8622row11_col1\" class=\"data row11 col1\" >5098492.3388</td>\n",
       "                        <td id=\"T_d981eba8_10bf_11eb_90e1_d8ca52fa8622row11_col2\" class=\"data row11 col2\" >258.0459</td>\n",
       "                        <td id=\"T_d981eba8_10bf_11eb_90e1_d8ca52fa8622row11_col3\" class=\"data row11 col3\" >0.0046</td>\n",
       "                        <td id=\"T_d981eba8_10bf_11eb_90e1_d8ca52fa8622row11_col4\" class=\"data row11 col4\" >0.0061</td>\n",
       "                        <td id=\"T_d981eba8_10bf_11eb_90e1_d8ca52fa8622row11_col5\" class=\"data row11 col5\" >0.0063</td>\n",
       "            </tr>\n",
       "    </tbody></table>"
      ],
      "text/plain": [
       "<pandas.io.formats.style.Styler at 0x1c8821eab70>"
      ]
     },
     "metadata": {},
     "output_type": "display_data"
    }
   ],
   "source": [
    "llar = create_model(\"llar\")\n",
    "#mlp = create_model(\"mlp\")"
   ]
  },
  {
   "cell_type": "code",
   "execution_count": 71,
   "metadata": {
    "ExecuteTime": {
     "end_time": "2020-10-17T21:32:34.768522Z",
     "start_time": "2020-10-17T21:32:03.627701Z"
    }
   },
   "outputs": [
    {
     "data": {
      "text/html": [
       "<style  type=\"text/css\" >\n",
       "#T_454df8e8_10c0_11eb_b1f0_d8ca52fa8622row10_col0,#T_454df8e8_10c0_11eb_b1f0_d8ca52fa8622row10_col1,#T_454df8e8_10c0_11eb_b1f0_d8ca52fa8622row10_col2,#T_454df8e8_10c0_11eb_b1f0_d8ca52fa8622row10_col3,#T_454df8e8_10c0_11eb_b1f0_d8ca52fa8622row10_col4,#T_454df8e8_10c0_11eb_b1f0_d8ca52fa8622row10_col5{\n",
       "            background:  yellow;\n",
       "        }</style><table id=\"T_454df8e8_10c0_11eb_b1f0_d8ca52fa8622\" ><thead>    <tr>        <th class=\"blank level0\" ></th>        <th class=\"col_heading level0 col0\" >MAE</th>        <th class=\"col_heading level0 col1\" >MSE</th>        <th class=\"col_heading level0 col2\" >RMSE</th>        <th class=\"col_heading level0 col3\" >R2</th>        <th class=\"col_heading level0 col4\" >RMSLE</th>        <th class=\"col_heading level0 col5\" >MAPE</th>    </tr></thead><tbody>\n",
       "                <tr>\n",
       "                        <th id=\"T_454df8e8_10c0_11eb_b1f0_d8ca52fa8622level0_row0\" class=\"row_heading level0 row0\" >0</th>\n",
       "                        <td id=\"T_454df8e8_10c0_11eb_b1f0_d8ca52fa8622row0_col0\" class=\"data row0 col0\" >7962.9701</td>\n",
       "                        <td id=\"T_454df8e8_10c0_11eb_b1f0_d8ca52fa8622row0_col1\" class=\"data row0 col1\" >87934676.2779</td>\n",
       "                        <td id=\"T_454df8e8_10c0_11eb_b1f0_d8ca52fa8622row0_col2\" class=\"data row0 col2\" >9377.3491</td>\n",
       "                        <td id=\"T_454df8e8_10c0_11eb_b1f0_d8ca52fa8622row0_col3\" class=\"data row0 col3\" >0.0029</td>\n",
       "                        <td id=\"T_454df8e8_10c0_11eb_b1f0_d8ca52fa8622row0_col4\" class=\"data row0 col4\" >0.1944</td>\n",
       "                        <td id=\"T_454df8e8_10c0_11eb_b1f0_d8ca52fa8622row0_col5\" class=\"data row0 col5\" >0.1691</td>\n",
       "            </tr>\n",
       "            <tr>\n",
       "                        <th id=\"T_454df8e8_10c0_11eb_b1f0_d8ca52fa8622level0_row1\" class=\"row_heading level0 row1\" >1</th>\n",
       "                        <td id=\"T_454df8e8_10c0_11eb_b1f0_d8ca52fa8622row1_col0\" class=\"data row1 col0\" >8711.0878</td>\n",
       "                        <td id=\"T_454df8e8_10c0_11eb_b1f0_d8ca52fa8622row1_col1\" class=\"data row1 col1\" >104271863.5207</td>\n",
       "                        <td id=\"T_454df8e8_10c0_11eb_b1f0_d8ca52fa8622row1_col2\" class=\"data row1 col2\" >10211.3595</td>\n",
       "                        <td id=\"T_454df8e8_10c0_11eb_b1f0_d8ca52fa8622row1_col3\" class=\"data row1 col3\" >-0.0136</td>\n",
       "                        <td id=\"T_454df8e8_10c0_11eb_b1f0_d8ca52fa8622row1_col4\" class=\"data row1 col4\" >0.2142</td>\n",
       "                        <td id=\"T_454df8e8_10c0_11eb_b1f0_d8ca52fa8622row1_col5\" class=\"data row1 col5\" >0.1886</td>\n",
       "            </tr>\n",
       "            <tr>\n",
       "                        <th id=\"T_454df8e8_10c0_11eb_b1f0_d8ca52fa8622level0_row2\" class=\"row_heading level0 row2\" >2</th>\n",
       "                        <td id=\"T_454df8e8_10c0_11eb_b1f0_d8ca52fa8622row2_col0\" class=\"data row2 col0\" >8307.5918</td>\n",
       "                        <td id=\"T_454df8e8_10c0_11eb_b1f0_d8ca52fa8622row2_col1\" class=\"data row2 col1\" >94399306.3199</td>\n",
       "                        <td id=\"T_454df8e8_10c0_11eb_b1f0_d8ca52fa8622row2_col2\" class=\"data row2 col2\" >9715.9305</td>\n",
       "                        <td id=\"T_454df8e8_10c0_11eb_b1f0_d8ca52fa8622row2_col3\" class=\"data row2 col3\" >0.0216</td>\n",
       "                        <td id=\"T_454df8e8_10c0_11eb_b1f0_d8ca52fa8622row2_col4\" class=\"data row2 col4\" >0.2030</td>\n",
       "                        <td id=\"T_454df8e8_10c0_11eb_b1f0_d8ca52fa8622row2_col5\" class=\"data row2 col5\" >0.1785</td>\n",
       "            </tr>\n",
       "            <tr>\n",
       "                        <th id=\"T_454df8e8_10c0_11eb_b1f0_d8ca52fa8622level0_row3\" class=\"row_heading level0 row3\" >3</th>\n",
       "                        <td id=\"T_454df8e8_10c0_11eb_b1f0_d8ca52fa8622row3_col0\" class=\"data row3 col0\" >8220.5521</td>\n",
       "                        <td id=\"T_454df8e8_10c0_11eb_b1f0_d8ca52fa8622row3_col1\" class=\"data row3 col1\" >95984529.4829</td>\n",
       "                        <td id=\"T_454df8e8_10c0_11eb_b1f0_d8ca52fa8622row3_col2\" class=\"data row3 col2\" >9797.1695</td>\n",
       "                        <td id=\"T_454df8e8_10c0_11eb_b1f0_d8ca52fa8622row3_col3\" class=\"data row3 col3\" >-0.0050</td>\n",
       "                        <td id=\"T_454df8e8_10c0_11eb_b1f0_d8ca52fa8622row3_col4\" class=\"data row3 col4\" >0.2061</td>\n",
       "                        <td id=\"T_454df8e8_10c0_11eb_b1f0_d8ca52fa8622row3_col5\" class=\"data row3 col5\" >0.1787</td>\n",
       "            </tr>\n",
       "            <tr>\n",
       "                        <th id=\"T_454df8e8_10c0_11eb_b1f0_d8ca52fa8622level0_row4\" class=\"row_heading level0 row4\" >4</th>\n",
       "                        <td id=\"T_454df8e8_10c0_11eb_b1f0_d8ca52fa8622row4_col0\" class=\"data row4 col0\" >8813.9824</td>\n",
       "                        <td id=\"T_454df8e8_10c0_11eb_b1f0_d8ca52fa8622row4_col1\" class=\"data row4 col1\" >103535124.0452</td>\n",
       "                        <td id=\"T_454df8e8_10c0_11eb_b1f0_d8ca52fa8622row4_col2\" class=\"data row4 col2\" >10175.2211</td>\n",
       "                        <td id=\"T_454df8e8_10c0_11eb_b1f0_d8ca52fa8622row4_col3\" class=\"data row4 col3\" >0.0289</td>\n",
       "                        <td id=\"T_454df8e8_10c0_11eb_b1f0_d8ca52fa8622row4_col4\" class=\"data row4 col4\" >0.2140</td>\n",
       "                        <td id=\"T_454df8e8_10c0_11eb_b1f0_d8ca52fa8622row4_col5\" class=\"data row4 col5\" >0.1913</td>\n",
       "            </tr>\n",
       "            <tr>\n",
       "                        <th id=\"T_454df8e8_10c0_11eb_b1f0_d8ca52fa8622level0_row5\" class=\"row_heading level0 row5\" >5</th>\n",
       "                        <td id=\"T_454df8e8_10c0_11eb_b1f0_d8ca52fa8622row5_col0\" class=\"data row5 col0\" >8075.4124</td>\n",
       "                        <td id=\"T_454df8e8_10c0_11eb_b1f0_d8ca52fa8622row5_col1\" class=\"data row5 col1\" >93169897.1800</td>\n",
       "                        <td id=\"T_454df8e8_10c0_11eb_b1f0_d8ca52fa8622row5_col2\" class=\"data row5 col2\" >9652.4555</td>\n",
       "                        <td id=\"T_454df8e8_10c0_11eb_b1f0_d8ca52fa8622row5_col3\" class=\"data row5 col3\" >-0.0177</td>\n",
       "                        <td id=\"T_454df8e8_10c0_11eb_b1f0_d8ca52fa8622row5_col4\" class=\"data row5 col4\" >0.2002</td>\n",
       "                        <td id=\"T_454df8e8_10c0_11eb_b1f0_d8ca52fa8622row5_col5\" class=\"data row5 col5\" >0.1726</td>\n",
       "            </tr>\n",
       "            <tr>\n",
       "                        <th id=\"T_454df8e8_10c0_11eb_b1f0_d8ca52fa8622level0_row6\" class=\"row_heading level0 row6\" >6</th>\n",
       "                        <td id=\"T_454df8e8_10c0_11eb_b1f0_d8ca52fa8622row6_col0\" class=\"data row6 col0\" >7918.4959</td>\n",
       "                        <td id=\"T_454df8e8_10c0_11eb_b1f0_d8ca52fa8622row6_col1\" class=\"data row6 col1\" >90927423.4377</td>\n",
       "                        <td id=\"T_454df8e8_10c0_11eb_b1f0_d8ca52fa8622row6_col2\" class=\"data row6 col2\" >9535.5872</td>\n",
       "                        <td id=\"T_454df8e8_10c0_11eb_b1f0_d8ca52fa8622row6_col3\" class=\"data row6 col3\" >0.0265</td>\n",
       "                        <td id=\"T_454df8e8_10c0_11eb_b1f0_d8ca52fa8622row6_col4\" class=\"data row6 col4\" >0.2030</td>\n",
       "                        <td id=\"T_454df8e8_10c0_11eb_b1f0_d8ca52fa8622row6_col5\" class=\"data row6 col5\" >0.1754</td>\n",
       "            </tr>\n",
       "            <tr>\n",
       "                        <th id=\"T_454df8e8_10c0_11eb_b1f0_d8ca52fa8622level0_row7\" class=\"row_heading level0 row7\" >7</th>\n",
       "                        <td id=\"T_454df8e8_10c0_11eb_b1f0_d8ca52fa8622row7_col0\" class=\"data row7 col0\" >8277.4723</td>\n",
       "                        <td id=\"T_454df8e8_10c0_11eb_b1f0_d8ca52fa8622row7_col1\" class=\"data row7 col1\" >93652413.8169</td>\n",
       "                        <td id=\"T_454df8e8_10c0_11eb_b1f0_d8ca52fa8622row7_col2\" class=\"data row7 col2\" >9677.4177</td>\n",
       "                        <td id=\"T_454df8e8_10c0_11eb_b1f0_d8ca52fa8622row7_col3\" class=\"data row7 col3\" >0.0088</td>\n",
       "                        <td id=\"T_454df8e8_10c0_11eb_b1f0_d8ca52fa8622row7_col4\" class=\"data row7 col4\" >0.2008</td>\n",
       "                        <td id=\"T_454df8e8_10c0_11eb_b1f0_d8ca52fa8622row7_col5\" class=\"data row7 col5\" >0.1760</td>\n",
       "            </tr>\n",
       "            <tr>\n",
       "                        <th id=\"T_454df8e8_10c0_11eb_b1f0_d8ca52fa8622level0_row8\" class=\"row_heading level0 row8\" >8</th>\n",
       "                        <td id=\"T_454df8e8_10c0_11eb_b1f0_d8ca52fa8622row8_col0\" class=\"data row8 col0\" >8174.1351</td>\n",
       "                        <td id=\"T_454df8e8_10c0_11eb_b1f0_d8ca52fa8622row8_col1\" class=\"data row8 col1\" >97327459.7908</td>\n",
       "                        <td id=\"T_454df8e8_10c0_11eb_b1f0_d8ca52fa8622row8_col2\" class=\"data row8 col2\" >9865.4680</td>\n",
       "                        <td id=\"T_454df8e8_10c0_11eb_b1f0_d8ca52fa8622row8_col3\" class=\"data row8 col3\" >-0.0192</td>\n",
       "                        <td id=\"T_454df8e8_10c0_11eb_b1f0_d8ca52fa8622row8_col4\" class=\"data row8 col4\" >0.2106</td>\n",
       "                        <td id=\"T_454df8e8_10c0_11eb_b1f0_d8ca52fa8622row8_col5\" class=\"data row8 col5\" >0.1819</td>\n",
       "            </tr>\n",
       "            <tr>\n",
       "                        <th id=\"T_454df8e8_10c0_11eb_b1f0_d8ca52fa8622level0_row9\" class=\"row_heading level0 row9\" >9</th>\n",
       "                        <td id=\"T_454df8e8_10c0_11eb_b1f0_d8ca52fa8622row9_col0\" class=\"data row9 col0\" >8685.5187</td>\n",
       "                        <td id=\"T_454df8e8_10c0_11eb_b1f0_d8ca52fa8622row9_col1\" class=\"data row9 col1\" >104572202.7266</td>\n",
       "                        <td id=\"T_454df8e8_10c0_11eb_b1f0_d8ca52fa8622row9_col2\" class=\"data row9 col2\" >10226.0551</td>\n",
       "                        <td id=\"T_454df8e8_10c0_11eb_b1f0_d8ca52fa8622row9_col3\" class=\"data row9 col3\" >-0.0376</td>\n",
       "                        <td id=\"T_454df8e8_10c0_11eb_b1f0_d8ca52fa8622row9_col4\" class=\"data row9 col4\" >0.2130</td>\n",
       "                        <td id=\"T_454df8e8_10c0_11eb_b1f0_d8ca52fa8622row9_col5\" class=\"data row9 col5\" >0.1860</td>\n",
       "            </tr>\n",
       "            <tr>\n",
       "                        <th id=\"T_454df8e8_10c0_11eb_b1f0_d8ca52fa8622level0_row10\" class=\"row_heading level0 row10\" >Mean</th>\n",
       "                        <td id=\"T_454df8e8_10c0_11eb_b1f0_d8ca52fa8622row10_col0\" class=\"data row10 col0\" >8314.7219</td>\n",
       "                        <td id=\"T_454df8e8_10c0_11eb_b1f0_d8ca52fa8622row10_col1\" class=\"data row10 col1\" >96577489.6599</td>\n",
       "                        <td id=\"T_454df8e8_10c0_11eb_b1f0_d8ca52fa8622row10_col2\" class=\"data row10 col2\" >9823.4013</td>\n",
       "                        <td id=\"T_454df8e8_10c0_11eb_b1f0_d8ca52fa8622row10_col3\" class=\"data row10 col3\" >-0.0004</td>\n",
       "                        <td id=\"T_454df8e8_10c0_11eb_b1f0_d8ca52fa8622row10_col4\" class=\"data row10 col4\" >0.2059</td>\n",
       "                        <td id=\"T_454df8e8_10c0_11eb_b1f0_d8ca52fa8622row10_col5\" class=\"data row10 col5\" >0.1798</td>\n",
       "            </tr>\n",
       "            <tr>\n",
       "                        <th id=\"T_454df8e8_10c0_11eb_b1f0_d8ca52fa8622level0_row11\" class=\"row_heading level0 row11\" >SD</th>\n",
       "                        <td id=\"T_454df8e8_10c0_11eb_b1f0_d8ca52fa8622row11_col0\" class=\"data row11 col0\" >301.9804</td>\n",
       "                        <td id=\"T_454df8e8_10c0_11eb_b1f0_d8ca52fa8622row11_col1\" class=\"data row11 col1\" >5513395.2213</td>\n",
       "                        <td id=\"T_454df8e8_10c0_11eb_b1f0_d8ca52fa8622row11_col2\" class=\"data row11 col2\" >279.7784</td>\n",
       "                        <td id=\"T_454df8e8_10c0_11eb_b1f0_d8ca52fa8622row11_col3\" class=\"data row11 col3\" >0.0210</td>\n",
       "                        <td id=\"T_454df8e8_10c0_11eb_b1f0_d8ca52fa8622row11_col4\" class=\"data row11 col4\" >0.0064</td>\n",
       "                        <td id=\"T_454df8e8_10c0_11eb_b1f0_d8ca52fa8622row11_col5\" class=\"data row11 col5\" >0.0067</td>\n",
       "            </tr>\n",
       "    </tbody></table>"
      ],
      "text/plain": [
       "<pandas.io.formats.style.Styler at 0x1c8feab43c8>"
      ]
     },
     "metadata": {},
     "output_type": "display_data"
    }
   ],
   "source": [
    "tune_llar = tune_model(llar, n_iter=1000)"
   ]
  },
  {
   "cell_type": "code",
   "execution_count": 64,
   "metadata": {
    "ExecuteTime": {
     "end_time": "2020-10-17T04:11:59.341812Z",
     "start_time": "2020-10-17T04:11:59.289835Z"
    },
    "scrolled": false
   },
   "outputs": [
    {
     "data": {
      "application/vnd.jupyter.widget-view+json": {
       "model_id": "ab6f81ee8fe941b2852df5ba1febfe8a",
       "version_major": 2,
       "version_minor": 0
      },
      "text/plain": [
       "interactive(children=(ToggleButtons(description='Plot Type:', icons=('',), options=(('Hyperparameters', 'param…"
      ]
     },
     "metadata": {},
     "output_type": "display_data"
    },
    {
     "data": {
      "image/png": "[encoded data removed]",
      "text/plain": [
       "<Figure size 576x396 with 1 Axes>"
      ]
     },
     "metadata": {},
     "output_type": "display_data"
    }
   ],
   "source": [
    "evaluate_model(tune_llar)"
   ]
  },
  {
   "cell_type": "code",
   "execution_count": 65,
   "metadata": {
    "ExecuteTime": {
     "end_time": "2020-10-17T21:18:47.352921Z",
     "start_time": "2020-10-17T21:01:14.249659Z"
    }
   },
   "outputs": [
    {
     "data": {
      "text/html": [
       "<style  type=\"text/css\" >\n",
       "#T_581eff46_10be_11eb_ac85_d8ca52fa8622row10_col0,#T_581eff46_10be_11eb_ac85_d8ca52fa8622row10_col1,#T_581eff46_10be_11eb_ac85_d8ca52fa8622row10_col2,#T_581eff46_10be_11eb_ac85_d8ca52fa8622row10_col3,#T_581eff46_10be_11eb_ac85_d8ca52fa8622row10_col4,#T_581eff46_10be_11eb_ac85_d8ca52fa8622row10_col5{\n",
       "            background:  yellow;\n",
       "        }</style><table id=\"T_581eff46_10be_11eb_ac85_d8ca52fa8622\" ><thead>    <tr>        <th class=\"blank level0\" ></th>        <th class=\"col_heading level0 col0\" >MAE</th>        <th class=\"col_heading level0 col1\" >MSE</th>        <th class=\"col_heading level0 col2\" >RMSE</th>        <th class=\"col_heading level0 col3\" >R2</th>        <th class=\"col_heading level0 col4\" >RMSLE</th>        <th class=\"col_heading level0 col5\" >MAPE</th>    </tr></thead><tbody>\n",
       "                <tr>\n",
       "                        <th id=\"T_581eff46_10be_11eb_ac85_d8ca52fa8622level0_row0\" class=\"row_heading level0 row0\" >0</th>\n",
       "                        <td id=\"T_581eff46_10be_11eb_ac85_d8ca52fa8622row0_col0\" class=\"data row0 col0\" >8027.2832</td>\n",
       "                        <td id=\"T_581eff46_10be_11eb_ac85_d8ca52fa8622row0_col1\" class=\"data row0 col1\" >88221041.3812</td>\n",
       "                        <td id=\"T_581eff46_10be_11eb_ac85_d8ca52fa8622row0_col2\" class=\"data row0 col2\" >9392.6057</td>\n",
       "                        <td id=\"T_581eff46_10be_11eb_ac85_d8ca52fa8622row0_col3\" class=\"data row0 col3\" >-0.0004</td>\n",
       "                        <td id=\"T_581eff46_10be_11eb_ac85_d8ca52fa8622row0_col4\" class=\"data row0 col4\" >0.1951</td>\n",
       "                        <td id=\"T_581eff46_10be_11eb_ac85_d8ca52fa8622row0_col5\" class=\"data row0 col5\" >0.1707</td>\n",
       "            </tr>\n",
       "            <tr>\n",
       "                        <th id=\"T_581eff46_10be_11eb_ac85_d8ca52fa8622level0_row1\" class=\"row_heading level0 row1\" >1</th>\n",
       "                        <td id=\"T_581eff46_10be_11eb_ac85_d8ca52fa8622row1_col0\" class=\"data row1 col0\" >8742.2812</td>\n",
       "                        <td id=\"T_581eff46_10be_11eb_ac85_d8ca52fa8622row1_col1\" class=\"data row1 col1\" >102881007.7754</td>\n",
       "                        <td id=\"T_581eff46_10be_11eb_ac85_d8ca52fa8622row1_col2\" class=\"data row1 col2\" >10143.0275</td>\n",
       "                        <td id=\"T_581eff46_10be_11eb_ac85_d8ca52fa8622row1_col3\" class=\"data row1 col3\" >-0.0001</td>\n",
       "                        <td id=\"T_581eff46_10be_11eb_ac85_d8ca52fa8622row1_col4\" class=\"data row1 col4\" >0.2125</td>\n",
       "                        <td id=\"T_581eff46_10be_11eb_ac85_d8ca52fa8622row1_col5\" class=\"data row1 col5\" >0.1883</td>\n",
       "            </tr>\n",
       "            <tr>\n",
       "                        <th id=\"T_581eff46_10be_11eb_ac85_d8ca52fa8622level0_row2\" class=\"row_heading level0 row2\" >2</th>\n",
       "                        <td id=\"T_581eff46_10be_11eb_ac85_d8ca52fa8622row2_col0\" class=\"data row2 col0\" >8496.1658</td>\n",
       "                        <td id=\"T_581eff46_10be_11eb_ac85_d8ca52fa8622row2_col1\" class=\"data row2 col1\" >96496219.1724</td>\n",
       "                        <td id=\"T_581eff46_10be_11eb_ac85_d8ca52fa8622row2_col2\" class=\"data row2 col2\" >9823.2489</td>\n",
       "                        <td id=\"T_581eff46_10be_11eb_ac85_d8ca52fa8622row2_col3\" class=\"data row2 col3\" >-0.0001</td>\n",
       "                        <td id=\"T_581eff46_10be_11eb_ac85_d8ca52fa8622row2_col4\" class=\"data row2 col4\" >0.2051</td>\n",
       "                        <td id=\"T_581eff46_10be_11eb_ac85_d8ca52fa8622row2_col5\" class=\"data row2 col5\" >0.1819</td>\n",
       "            </tr>\n",
       "            <tr>\n",
       "                        <th id=\"T_581eff46_10be_11eb_ac85_d8ca52fa8622level0_row3\" class=\"row_heading level0 row3\" >3</th>\n",
       "                        <td id=\"T_581eff46_10be_11eb_ac85_d8ca52fa8622row3_col0\" class=\"data row3 col0\" >8374.8033</td>\n",
       "                        <td id=\"T_581eff46_10be_11eb_ac85_d8ca52fa8622row3_col1\" class=\"data row3 col1\" >96202361.0816</td>\n",
       "                        <td id=\"T_581eff46_10be_11eb_ac85_d8ca52fa8622row3_col2\" class=\"data row3 col2\" >9808.2802</td>\n",
       "                        <td id=\"T_581eff46_10be_11eb_ac85_d8ca52fa8622row3_col3\" class=\"data row3 col3\" >-0.0072</td>\n",
       "                        <td id=\"T_581eff46_10be_11eb_ac85_d8ca52fa8622row3_col4\" class=\"data row3 col4\" >0.2070</td>\n",
       "                        <td id=\"T_581eff46_10be_11eb_ac85_d8ca52fa8622row3_col5\" class=\"data row3 col5\" >0.1830</td>\n",
       "            </tr>\n",
       "            <tr>\n",
       "                        <th id=\"T_581eff46_10be_11eb_ac85_d8ca52fa8622level0_row4\" class=\"row_heading level0 row4\" >4</th>\n",
       "                        <td id=\"T_581eff46_10be_11eb_ac85_d8ca52fa8622row4_col0\" class=\"data row4 col0\" >9045.3681</td>\n",
       "                        <td id=\"T_581eff46_10be_11eb_ac85_d8ca52fa8622row4_col1\" class=\"data row4 col1\" >107321105.8508</td>\n",
       "                        <td id=\"T_581eff46_10be_11eb_ac85_d8ca52fa8622row4_col2\" class=\"data row4 col2\" >10359.5900</td>\n",
       "                        <td id=\"T_581eff46_10be_11eb_ac85_d8ca52fa8622row4_col3\" class=\"data row4 col3\" >-0.0066</td>\n",
       "                        <td id=\"T_581eff46_10be_11eb_ac85_d8ca52fa8622row4_col4\" class=\"data row4 col4\" >0.2149</td>\n",
       "                        <td id=\"T_581eff46_10be_11eb_ac85_d8ca52fa8622row4_col5\" class=\"data row4 col5\" >0.1912</td>\n",
       "            </tr>\n",
       "            <tr>\n",
       "                        <th id=\"T_581eff46_10be_11eb_ac85_d8ca52fa8622level0_row5\" class=\"row_heading level0 row5\" >5</th>\n",
       "                        <td id=\"T_581eff46_10be_11eb_ac85_d8ca52fa8622row5_col0\" class=\"data row5 col0\" >8168.1593</td>\n",
       "                        <td id=\"T_581eff46_10be_11eb_ac85_d8ca52fa8622row5_col1\" class=\"data row5 col1\" >91676555.1442</td>\n",
       "                        <td id=\"T_581eff46_10be_11eb_ac85_d8ca52fa8622row5_col2\" class=\"data row5 col2\" >9574.7875</td>\n",
       "                        <td id=\"T_581eff46_10be_11eb_ac85_d8ca52fa8622row5_col3\" class=\"data row5 col3\" >-0.0014</td>\n",
       "                        <td id=\"T_581eff46_10be_11eb_ac85_d8ca52fa8622row5_col4\" class=\"data row5 col4\" >0.1992</td>\n",
       "                        <td id=\"T_581eff46_10be_11eb_ac85_d8ca52fa8622row5_col5\" class=\"data row5 col5\" >0.1742</td>\n",
       "            </tr>\n",
       "            <tr>\n",
       "                        <th id=\"T_581eff46_10be_11eb_ac85_d8ca52fa8622level0_row6\" class=\"row_heading level0 row6\" >6</th>\n",
       "                        <td id=\"T_581eff46_10be_11eb_ac85_d8ca52fa8622row6_col0\" class=\"data row6 col0\" >8257.3186</td>\n",
       "                        <td id=\"T_581eff46_10be_11eb_ac85_d8ca52fa8622row6_col1\" class=\"data row6 col1\" >95599968.2532</td>\n",
       "                        <td id=\"T_581eff46_10be_11eb_ac85_d8ca52fa8622row6_col2\" class=\"data row6 col2\" >9777.5236</td>\n",
       "                        <td id=\"T_581eff46_10be_11eb_ac85_d8ca52fa8622row6_col3\" class=\"data row6 col3\" >-0.0235</td>\n",
       "                        <td id=\"T_581eff46_10be_11eb_ac85_d8ca52fa8622row6_col4\" class=\"data row6 col4\" >0.2082</td>\n",
       "                        <td id=\"T_581eff46_10be_11eb_ac85_d8ca52fa8622row6_col5\" class=\"data row6 col5\" >0.1832</td>\n",
       "            </tr>\n",
       "            <tr>\n",
       "                        <th id=\"T_581eff46_10be_11eb_ac85_d8ca52fa8622level0_row7\" class=\"row_heading level0 row7\" >7</th>\n",
       "                        <td id=\"T_581eff46_10be_11eb_ac85_d8ca52fa8622row7_col0\" class=\"data row7 col0\" >8365.4265</td>\n",
       "                        <td id=\"T_581eff46_10be_11eb_ac85_d8ca52fa8622row7_col1\" class=\"data row7 col1\" >94496780.9201</td>\n",
       "                        <td id=\"T_581eff46_10be_11eb_ac85_d8ca52fa8622row7_col2\" class=\"data row7 col2\" >9720.9455</td>\n",
       "                        <td id=\"T_581eff46_10be_11eb_ac85_d8ca52fa8622row7_col3\" class=\"data row7 col3\" >-0.0002</td>\n",
       "                        <td id=\"T_581eff46_10be_11eb_ac85_d8ca52fa8622row7_col4\" class=\"data row7 col4\" >0.2014</td>\n",
       "                        <td id=\"T_581eff46_10be_11eb_ac85_d8ca52fa8622row7_col5\" class=\"data row7 col5\" >0.1772</td>\n",
       "            </tr>\n",
       "            <tr>\n",
       "                        <th id=\"T_581eff46_10be_11eb_ac85_d8ca52fa8622level0_row8\" class=\"row_heading level0 row8\" >8</th>\n",
       "                        <td id=\"T_581eff46_10be_11eb_ac85_d8ca52fa8622row8_col0\" class=\"data row8 col0\" >8251.1683</td>\n",
       "                        <td id=\"T_581eff46_10be_11eb_ac85_d8ca52fa8622row8_col1\" class=\"data row8 col1\" >96993346.2266</td>\n",
       "                        <td id=\"T_581eff46_10be_11eb_ac85_d8ca52fa8622row8_col2\" class=\"data row8 col2\" >9848.5200</td>\n",
       "                        <td id=\"T_581eff46_10be_11eb_ac85_d8ca52fa8622row8_col3\" class=\"data row8 col3\" >-0.0157</td>\n",
       "                        <td id=\"T_581eff46_10be_11eb_ac85_d8ca52fa8622row8_col4\" class=\"data row8 col4\" >0.2109</td>\n",
       "                        <td id=\"T_581eff46_10be_11eb_ac85_d8ca52fa8622row8_col5\" class=\"data row8 col5\" >0.1840</td>\n",
       "            </tr>\n",
       "            <tr>\n",
       "                        <th id=\"T_581eff46_10be_11eb_ac85_d8ca52fa8622level0_row9\" class=\"row_heading level0 row9\" >9</th>\n",
       "                        <td id=\"T_581eff46_10be_11eb_ac85_d8ca52fa8622row9_col0\" class=\"data row9 col0\" >8607.1335</td>\n",
       "                        <td id=\"T_581eff46_10be_11eb_ac85_d8ca52fa8622row9_col1\" class=\"data row9 col1\" >100781941.2388</td>\n",
       "                        <td id=\"T_581eff46_10be_11eb_ac85_d8ca52fa8622row9_col2\" class=\"data row9 col2\" >10039.0209</td>\n",
       "                        <td id=\"T_581eff46_10be_11eb_ac85_d8ca52fa8622row9_col3\" class=\"data row9 col3\" >-0.0000</td>\n",
       "                        <td id=\"T_581eff46_10be_11eb_ac85_d8ca52fa8622row9_col4\" class=\"data row9 col4\" >0.2102</td>\n",
       "                        <td id=\"T_581eff46_10be_11eb_ac85_d8ca52fa8622row9_col5\" class=\"data row9 col5\" >0.1849</td>\n",
       "            </tr>\n",
       "            <tr>\n",
       "                        <th id=\"T_581eff46_10be_11eb_ac85_d8ca52fa8622level0_row10\" class=\"row_heading level0 row10\" >Mean</th>\n",
       "                        <td id=\"T_581eff46_10be_11eb_ac85_d8ca52fa8622row10_col0\" class=\"data row10 col0\" >8433.5108</td>\n",
       "                        <td id=\"T_581eff46_10be_11eb_ac85_d8ca52fa8622row10_col1\" class=\"data row10 col1\" >97067032.7044</td>\n",
       "                        <td id=\"T_581eff46_10be_11eb_ac85_d8ca52fa8622row10_col2\" class=\"data row10 col2\" >9848.7550</td>\n",
       "                        <td id=\"T_581eff46_10be_11eb_ac85_d8ca52fa8622row10_col3\" class=\"data row10 col3\" >-0.0055</td>\n",
       "                        <td id=\"T_581eff46_10be_11eb_ac85_d8ca52fa8622row10_col4\" class=\"data row10 col4\" >0.2064</td>\n",
       "                        <td id=\"T_581eff46_10be_11eb_ac85_d8ca52fa8622row10_col5\" class=\"data row10 col5\" >0.1819</td>\n",
       "            </tr>\n",
       "            <tr>\n",
       "                        <th id=\"T_581eff46_10be_11eb_ac85_d8ca52fa8622level0_row11\" class=\"row_heading level0 row11\" >SD</th>\n",
       "                        <td id=\"T_581eff46_10be_11eb_ac85_d8ca52fa8622row11_col0\" class=\"data row11 col0\" >284.8834</td>\n",
       "                        <td id=\"T_581eff46_10be_11eb_ac85_d8ca52fa8622row11_col1\" class=\"data row11 col1\" >5195142.5928</td>\n",
       "                        <td id=\"T_581eff46_10be_11eb_ac85_d8ca52fa8622row11_col2\" class=\"data row11 col2\" >262.7886</td>\n",
       "                        <td id=\"T_581eff46_10be_11eb_ac85_d8ca52fa8622row11_col3\" class=\"data row11 col3\" >0.0077</td>\n",
       "                        <td id=\"T_581eff46_10be_11eb_ac85_d8ca52fa8622row11_col4\" class=\"data row11 col4\" >0.0060</td>\n",
       "                        <td id=\"T_581eff46_10be_11eb_ac85_d8ca52fa8622row11_col5\" class=\"data row11 col5\" >0.0059</td>\n",
       "            </tr>\n",
       "    </tbody></table>"
      ],
      "text/plain": [
       "<pandas.io.formats.style.Styler at 0x1c88346f940>"
      ]
     },
     "metadata": {},
     "output_type": "display_data"
    }
   ],
   "source": [
    "tune_mlp = tune_model(mlp, n_iter=100)"
   ]
  },
  {
   "cell_type": "code",
   "execution_count": 73,
   "metadata": {
    "ExecuteTime": {
     "end_time": "2020-10-17T21:41:45.338591Z",
     "start_time": "2020-10-17T21:41:45.283597Z"
    }
   },
   "outputs": [
    {
     "data": {
      "text/html": [
       "<div>\n",
       "<style scoped>\n",
       "    .dataframe tbody tr th:only-of-type {\n",
       "        vertical-align: middle;\n",
       "    }\n",
       "\n",
       "    .dataframe tbody tr th {\n",
       "        vertical-align: top;\n",
       "    }\n",
       "\n",
       "    .dataframe thead th {\n",
       "        text-align: right;\n",
       "    }\n",
       "</style>\n",
       "<table border=\"1\" class=\"dataframe\">\n",
       "  <thead>\n",
       "    <tr style=\"text-align: right;\">\n",
       "      <th></th>\n",
       "      <th>Model</th>\n",
       "      <th>MAE</th>\n",
       "      <th>MSE</th>\n",
       "      <th>RMSE</th>\n",
       "      <th>R2</th>\n",
       "      <th>RMSLE</th>\n",
       "      <th>MAPE</th>\n",
       "    </tr>\n",
       "  </thead>\n",
       "  <tbody>\n",
       "    <tr>\n",
       "      <th>0</th>\n",
       "      <td>Lasso Lars</td>\n",
       "      <td>8305.4855</td>\n",
       "      <td>9.435857e+07</td>\n",
       "      <td>9713.834</td>\n",
       "      <td>0.0356</td>\n",
       "      <td>0.2035</td>\n",
       "      <td>0.1793</td>\n",
       "    </tr>\n",
       "  </tbody>\n",
       "</table>\n",
       "</div>"
      ],
      "text/plain": [
       "        Model        MAE           MSE      RMSE      R2   RMSLE    MAPE\n",
       "0  Lasso Lars  8305.4855  9.435857e+07  9713.834  0.0356  0.2035  0.1793"
      ]
     },
     "metadata": {},
     "output_type": "display_data"
    }
   ],
   "source": [
    "pm = predict_model(tune_llar)"
   ]
  },
  {
   "cell_type": "code",
   "execution_count": 77,
   "metadata": {
    "ExecuteTime": {
     "end_time": "2020-10-17T21:43:48.510532Z",
     "start_time": "2020-10-17T21:43:48.461508Z"
    }
   },
   "outputs": [
    {
     "data": {
      "text/html": [
       "<div>\n",
       "<style scoped>\n",
       "    .dataframe tbody tr th:only-of-type {\n",
       "        vertical-align: middle;\n",
       "    }\n",
       "\n",
       "    .dataframe tbody tr th {\n",
       "        vertical-align: top;\n",
       "    }\n",
       "\n",
       "    .dataframe thead th {\n",
       "        text-align: right;\n",
       "    }\n",
       "</style>\n",
       "<table border=\"1\" class=\"dataframe\">\n",
       "  <thead>\n",
       "    <tr style=\"text-align: right;\">\n",
       "      <th></th>\n",
       "      <th>code_postal_76140.0</th>\n",
       "      <th>code_postal_30190.0</th>\n",
       "      <th>code_postal_85600.0</th>\n",
       "      <th>code_postal_76600.0</th>\n",
       "      <th>code_postal_30700.0</th>\n",
       "      <th>code_postal_8300.0</th>\n",
       "      <th>code_postal_44160.0</th>\n",
       "      <th>code_postal_76400.0</th>\n",
       "      <th>code_postal_44450.0</th>\n",
       "      <th>code_postal_29260.0</th>\n",
       "      <th>...</th>\n",
       "      <th>nombre_pieces_principales_multiply_data_cluster_0</th>\n",
       "      <th>surface_terrain_Power2_multiply_code_postal_81200.0</th>\n",
       "      <th>surface_reelle_bati_multiply_data_cluster_0</th>\n",
       "      <th>code_postal_80300.0_multiply_nombre_pieces_principales_Power2</th>\n",
       "      <th>data_cluster_1_multiply_cos(surface_terrain)</th>\n",
       "      <th>nombre_pieces_principales_Power2_divide_surface_reelle_bati</th>\n",
       "      <th>surface_terrain_Power2_multiply_code_postal_59200.0</th>\n",
       "      <th>surface_terrain_multiply_surface_terrain_Power2</th>\n",
       "      <th>0</th>\n",
       "      <th>Label</th>\n",
       "    </tr>\n",
       "  </thead>\n",
       "  <tbody>\n",
       "    <tr>\n",
       "      <th>938</th>\n",
       "      <td>0.0</td>\n",
       "      <td>0.0</td>\n",
       "      <td>0.0</td>\n",
       "      <td>0.0</td>\n",
       "      <td>0.0</td>\n",
       "      <td>0.0</td>\n",
       "      <td>0.0</td>\n",
       "      <td>0.0</td>\n",
       "      <td>0.0</td>\n",
       "      <td>0.0</td>\n",
       "      <td>...</td>\n",
       "      <td>-0.134335</td>\n",
       "      <td>0.000000</td>\n",
       "      <td>0.398671</td>\n",
       "      <td>-0.0</td>\n",
       "      <td>-0.000000</td>\n",
       "      <td>-0.384511</td>\n",
       "      <td>0.0</td>\n",
       "      <td>0.593921</td>\n",
       "      <td>62016.007812</td>\n",
       "      <td>58574.0648</td>\n",
       "    </tr>\n",
       "    <tr>\n",
       "      <th>1742</th>\n",
       "      <td>0.0</td>\n",
       "      <td>0.0</td>\n",
       "      <td>0.0</td>\n",
       "      <td>0.0</td>\n",
       "      <td>0.0</td>\n",
       "      <td>0.0</td>\n",
       "      <td>0.0</td>\n",
       "      <td>0.0</td>\n",
       "      <td>0.0</td>\n",
       "      <td>0.0</td>\n",
       "      <td>...</td>\n",
       "      <td>0.000000</td>\n",
       "      <td>0.000000</td>\n",
       "      <td>0.000000</td>\n",
       "      <td>0.0</td>\n",
       "      <td>0.854470</td>\n",
       "      <td>2.571631</td>\n",
       "      <td>0.0</td>\n",
       "      <td>1.310693</td>\n",
       "      <td>49984.007812</td>\n",
       "      <td>58140.5702</td>\n",
       "    </tr>\n",
       "    <tr>\n",
       "      <th>1001</th>\n",
       "      <td>0.0</td>\n",
       "      <td>0.0</td>\n",
       "      <td>0.0</td>\n",
       "      <td>0.0</td>\n",
       "      <td>0.0</td>\n",
       "      <td>0.0</td>\n",
       "      <td>0.0</td>\n",
       "      <td>0.0</td>\n",
       "      <td>0.0</td>\n",
       "      <td>0.0</td>\n",
       "      <td>...</td>\n",
       "      <td>0.000000</td>\n",
       "      <td>0.000000</td>\n",
       "      <td>0.000000</td>\n",
       "      <td>0.0</td>\n",
       "      <td>0.378944</td>\n",
       "      <td>1.540529</td>\n",
       "      <td>0.0</td>\n",
       "      <td>0.112940</td>\n",
       "      <td>64992.003906</td>\n",
       "      <td>58136.0858</td>\n",
       "    </tr>\n",
       "    <tr>\n",
       "      <th>538</th>\n",
       "      <td>0.0</td>\n",
       "      <td>0.0</td>\n",
       "      <td>0.0</td>\n",
       "      <td>0.0</td>\n",
       "      <td>0.0</td>\n",
       "      <td>0.0</td>\n",
       "      <td>0.0</td>\n",
       "      <td>0.0</td>\n",
       "      <td>0.0</td>\n",
       "      <td>0.0</td>\n",
       "      <td>...</td>\n",
       "      <td>0.000000</td>\n",
       "      <td>0.000000</td>\n",
       "      <td>0.000000</td>\n",
       "      <td>0.0</td>\n",
       "      <td>0.520186</td>\n",
       "      <td>0.447671</td>\n",
       "      <td>0.0</td>\n",
       "      <td>2.600609</td>\n",
       "      <td>64992.003906</td>\n",
       "      <td>58053.1144</td>\n",
       "    </tr>\n",
       "    <tr>\n",
       "      <th>1723</th>\n",
       "      <td>0.0</td>\n",
       "      <td>0.0</td>\n",
       "      <td>0.0</td>\n",
       "      <td>0.0</td>\n",
       "      <td>0.0</td>\n",
       "      <td>0.0</td>\n",
       "      <td>0.0</td>\n",
       "      <td>0.0</td>\n",
       "      <td>0.0</td>\n",
       "      <td>0.0</td>\n",
       "      <td>...</td>\n",
       "      <td>0.000000</td>\n",
       "      <td>-0.000000</td>\n",
       "      <td>0.000000</td>\n",
       "      <td>0.0</td>\n",
       "      <td>1.406762</td>\n",
       "      <td>85513.901227</td>\n",
       "      <td>-0.0</td>\n",
       "      <td>-0.012245</td>\n",
       "      <td>35008.003906</td>\n",
       "      <td>57927.9236</td>\n",
       "    </tr>\n",
       "    <tr>\n",
       "      <th>...</th>\n",
       "      <td>...</td>\n",
       "      <td>...</td>\n",
       "      <td>...</td>\n",
       "      <td>...</td>\n",
       "      <td>...</td>\n",
       "      <td>...</td>\n",
       "      <td>...</td>\n",
       "      <td>...</td>\n",
       "      <td>...</td>\n",
       "      <td>...</td>\n",
       "      <td>...</td>\n",
       "      <td>...</td>\n",
       "      <td>...</td>\n",
       "      <td>...</td>\n",
       "      <td>...</td>\n",
       "      <td>...</td>\n",
       "      <td>...</td>\n",
       "      <td>...</td>\n",
       "      <td>...</td>\n",
       "      <td>...</td>\n",
       "      <td>...</td>\n",
       "    </tr>\n",
       "    <tr>\n",
       "      <th>614</th>\n",
       "      <td>0.0</td>\n",
       "      <td>0.0</td>\n",
       "      <td>0.0</td>\n",
       "      <td>0.0</td>\n",
       "      <td>0.0</td>\n",
       "      <td>0.0</td>\n",
       "      <td>0.0</td>\n",
       "      <td>0.0</td>\n",
       "      <td>0.0</td>\n",
       "      <td>0.0</td>\n",
       "      <td>...</td>\n",
       "      <td>-0.134335</td>\n",
       "      <td>0.000000</td>\n",
       "      <td>-0.922594</td>\n",
       "      <td>-0.0</td>\n",
       "      <td>-0.000000</td>\n",
       "      <td>0.166155</td>\n",
       "      <td>0.0</td>\n",
       "      <td>2.021090</td>\n",
       "      <td>55008.003906</td>\n",
       "      <td>44348.9329</td>\n",
       "    </tr>\n",
       "    <tr>\n",
       "      <th>482</th>\n",
       "      <td>0.0</td>\n",
       "      <td>0.0</td>\n",
       "      <td>0.0</td>\n",
       "      <td>0.0</td>\n",
       "      <td>0.0</td>\n",
       "      <td>0.0</td>\n",
       "      <td>0.0</td>\n",
       "      <td>0.0</td>\n",
       "      <td>0.0</td>\n",
       "      <td>0.0</td>\n",
       "      <td>...</td>\n",
       "      <td>-0.134335</td>\n",
       "      <td>-1.054684</td>\n",
       "      <td>-0.122058</td>\n",
       "      <td>-0.0</td>\n",
       "      <td>0.000000</td>\n",
       "      <td>1.255905</td>\n",
       "      <td>-0.0</td>\n",
       "      <td>1.303450</td>\n",
       "      <td>32000.003906</td>\n",
       "      <td>43708.1153</td>\n",
       "    </tr>\n",
       "    <tr>\n",
       "      <th>1804</th>\n",
       "      <td>0.0</td>\n",
       "      <td>0.0</td>\n",
       "      <td>0.0</td>\n",
       "      <td>0.0</td>\n",
       "      <td>0.0</td>\n",
       "      <td>0.0</td>\n",
       "      <td>0.0</td>\n",
       "      <td>0.0</td>\n",
       "      <td>0.0</td>\n",
       "      <td>0.0</td>\n",
       "      <td>...</td>\n",
       "      <td>-1.008948</td>\n",
       "      <td>0.000000</td>\n",
       "      <td>-0.768580</td>\n",
       "      <td>-0.0</td>\n",
       "      <td>0.000000</td>\n",
       "      <td>1.438158</td>\n",
       "      <td>0.0</td>\n",
       "      <td>0.060684</td>\n",
       "      <td>52000.003906</td>\n",
       "      <td>43482.3539</td>\n",
       "    </tr>\n",
       "    <tr>\n",
       "      <th>1565</th>\n",
       "      <td>0.0</td>\n",
       "      <td>0.0</td>\n",
       "      <td>0.0</td>\n",
       "      <td>0.0</td>\n",
       "      <td>0.0</td>\n",
       "      <td>0.0</td>\n",
       "      <td>0.0</td>\n",
       "      <td>0.0</td>\n",
       "      <td>0.0</td>\n",
       "      <td>0.0</td>\n",
       "      <td>...</td>\n",
       "      <td>-0.134335</td>\n",
       "      <td>-0.000000</td>\n",
       "      <td>-0.122058</td>\n",
       "      <td>-0.0</td>\n",
       "      <td>0.000000</td>\n",
       "      <td>1.255905</td>\n",
       "      <td>-0.0</td>\n",
       "      <td>0.901085</td>\n",
       "      <td>60000.003906</td>\n",
       "      <td>43473.1141</td>\n",
       "    </tr>\n",
       "    <tr>\n",
       "      <th>827</th>\n",
       "      <td>0.0</td>\n",
       "      <td>0.0</td>\n",
       "      <td>0.0</td>\n",
       "      <td>0.0</td>\n",
       "      <td>0.0</td>\n",
       "      <td>0.0</td>\n",
       "      <td>0.0</td>\n",
       "      <td>0.0</td>\n",
       "      <td>0.0</td>\n",
       "      <td>0.0</td>\n",
       "      <td>...</td>\n",
       "      <td>-1.981532</td>\n",
       "      <td>-0.000000</td>\n",
       "      <td>-1.828707</td>\n",
       "      <td>-0.0</td>\n",
       "      <td>-0.000000</td>\n",
       "      <td>1.012055</td>\n",
       "      <td>-0.0</td>\n",
       "      <td>0.205603</td>\n",
       "      <td>46016.000000</td>\n",
       "      <td>40099.9267</td>\n",
       "    </tr>\n",
       "  </tbody>\n",
       "</table>\n",
       "<p>1889 rows × 473 columns</p>\n",
       "</div>"
      ],
      "text/plain": [
       "      code_postal_76140.0  code_postal_30190.0  code_postal_85600.0  \\\n",
       "938                   0.0                  0.0                  0.0   \n",
       "1742                  0.0                  0.0                  0.0   \n",
       "1001                  0.0                  0.0                  0.0   \n",
       "538                   0.0                  0.0                  0.0   \n",
       "1723                  0.0                  0.0                  0.0   \n",
       "...                   ...                  ...                  ...   \n",
       "614                   0.0                  0.0                  0.0   \n",
       "482                   0.0                  0.0                  0.0   \n",
       "1804                  0.0                  0.0                  0.0   \n",
       "1565                  0.0                  0.0                  0.0   \n",
       "827                   0.0                  0.0                  0.0   \n",
       "\n",
       "      code_postal_76600.0  code_postal_30700.0  code_postal_8300.0  \\\n",
       "938                   0.0                  0.0                 0.0   \n",
       "1742                  0.0                  0.0                 0.0   \n",
       "1001                  0.0                  0.0                 0.0   \n",
       "538                   0.0                  0.0                 0.0   \n",
       "1723                  0.0                  0.0                 0.0   \n",
       "...                   ...                  ...                 ...   \n",
       "614                   0.0                  0.0                 0.0   \n",
       "482                   0.0                  0.0                 0.0   \n",
       "1804                  0.0                  0.0                 0.0   \n",
       "1565                  0.0                  0.0                 0.0   \n",
       "827                   0.0                  0.0                 0.0   \n",
       "\n",
       "      code_postal_44160.0  code_postal_76400.0  code_postal_44450.0  \\\n",
       "938                   0.0                  0.0                  0.0   \n",
       "1742                  0.0                  0.0                  0.0   \n",
       "1001                  0.0                  0.0                  0.0   \n",
       "538                   0.0                  0.0                  0.0   \n",
       "1723                  0.0                  0.0                  0.0   \n",
       "...                   ...                  ...                  ...   \n",
       "614                   0.0                  0.0                  0.0   \n",
       "482                   0.0                  0.0                  0.0   \n",
       "1804                  0.0                  0.0                  0.0   \n",
       "1565                  0.0                  0.0                  0.0   \n",
       "827                   0.0                  0.0                  0.0   \n",
       "\n",
       "      code_postal_29260.0  ...  \\\n",
       "938                   0.0  ...   \n",
       "1742                  0.0  ...   \n",
       "1001                  0.0  ...   \n",
       "538                   0.0  ...   \n",
       "1723                  0.0  ...   \n",
       "...                   ...  ...   \n",
       "614                   0.0  ...   \n",
       "482                   0.0  ...   \n",
       "1804                  0.0  ...   \n",
       "1565                  0.0  ...   \n",
       "827                   0.0  ...   \n",
       "\n",
       "      nombre_pieces_principales_multiply_data_cluster_0  \\\n",
       "938                                           -0.134335   \n",
       "1742                                           0.000000   \n",
       "1001                                           0.000000   \n",
       "538                                            0.000000   \n",
       "1723                                           0.000000   \n",
       "...                                                 ...   \n",
       "614                                           -0.134335   \n",
       "482                                           -0.134335   \n",
       "1804                                          -1.008948   \n",
       "1565                                          -0.134335   \n",
       "827                                           -1.981532   \n",
       "\n",
       "      surface_terrain_Power2_multiply_code_postal_81200.0  \\\n",
       "938                                            0.000000     \n",
       "1742                                           0.000000     \n",
       "1001                                           0.000000     \n",
       "538                                            0.000000     \n",
       "1723                                          -0.000000     \n",
       "...                                                 ...     \n",
       "614                                            0.000000     \n",
       "482                                           -1.054684     \n",
       "1804                                           0.000000     \n",
       "1565                                          -0.000000     \n",
       "827                                           -0.000000     \n",
       "\n",
       "      surface_reelle_bati_multiply_data_cluster_0  \\\n",
       "938                                      0.398671   \n",
       "1742                                     0.000000   \n",
       "1001                                     0.000000   \n",
       "538                                      0.000000   \n",
       "1723                                     0.000000   \n",
       "...                                           ...   \n",
       "614                                     -0.922594   \n",
       "482                                     -0.122058   \n",
       "1804                                    -0.768580   \n",
       "1565                                    -0.122058   \n",
       "827                                     -1.828707   \n",
       "\n",
       "      code_postal_80300.0_multiply_nombre_pieces_principales_Power2  \\\n",
       "938                                                -0.0               \n",
       "1742                                                0.0               \n",
       "1001                                                0.0               \n",
       "538                                                 0.0               \n",
       "1723                                                0.0               \n",
       "...                                                 ...               \n",
       "614                                                -0.0               \n",
       "482                                                -0.0               \n",
       "1804                                               -0.0               \n",
       "1565                                               -0.0               \n",
       "827                                                -0.0               \n",
       "\n",
       "      data_cluster_1_multiply_cos(surface_terrain)  \\\n",
       "938                                      -0.000000   \n",
       "1742                                      0.854470   \n",
       "1001                                      0.378944   \n",
       "538                                       0.520186   \n",
       "1723                                      1.406762   \n",
       "...                                            ...   \n",
       "614                                      -0.000000   \n",
       "482                                       0.000000   \n",
       "1804                                      0.000000   \n",
       "1565                                      0.000000   \n",
       "827                                      -0.000000   \n",
       "\n",
       "      nombre_pieces_principales_Power2_divide_surface_reelle_bati  \\\n",
       "938                                           -0.384511             \n",
       "1742                                           2.571631             \n",
       "1001                                           1.540529             \n",
       "538                                            0.447671             \n",
       "1723                                       85513.901227             \n",
       "...                                                 ...             \n",
       "614                                            0.166155             \n",
       "482                                            1.255905             \n",
       "1804                                           1.438158             \n",
       "1565                                           1.255905             \n",
       "827                                            1.012055             \n",
       "\n",
       "      surface_terrain_Power2_multiply_code_postal_59200.0  \\\n",
       "938                                                 0.0     \n",
       "1742                                                0.0     \n",
       "1001                                                0.0     \n",
       "538                                                 0.0     \n",
       "1723                                               -0.0     \n",
       "...                                                 ...     \n",
       "614                                                 0.0     \n",
       "482                                                -0.0     \n",
       "1804                                                0.0     \n",
       "1565                                               -0.0     \n",
       "827                                                -0.0     \n",
       "\n",
       "      surface_terrain_multiply_surface_terrain_Power2             0  \\\n",
       "938                                          0.593921  62016.007812   \n",
       "1742                                         1.310693  49984.007812   \n",
       "1001                                         0.112940  64992.003906   \n",
       "538                                          2.600609  64992.003906   \n",
       "1723                                        -0.012245  35008.003906   \n",
       "...                                               ...           ...   \n",
       "614                                          2.021090  55008.003906   \n",
       "482                                          1.303450  32000.003906   \n",
       "1804                                         0.060684  52000.003906   \n",
       "1565                                         0.901085  60000.003906   \n",
       "827                                          0.205603  46016.000000   \n",
       "\n",
       "           Label  \n",
       "938   58574.0648  \n",
       "1742  58140.5702  \n",
       "1001  58136.0858  \n",
       "538   58053.1144  \n",
       "1723  57927.9236  \n",
       "...          ...  \n",
       "614   44348.9329  \n",
       "482   43708.1153  \n",
       "1804  43482.3539  \n",
       "1565  43473.1141  \n",
       "827   40099.9267  \n",
       "\n",
       "[1889 rows x 473 columns]"
      ]
     },
     "execution_count": 77,
     "metadata": {},
     "output_type": "execute_result"
    }
   ],
   "source": [
    "pm.sort_values(by=\"Label\",ascending=False)"
   ]
  },
  {
   "cell_type": "code",
   "execution_count": 54,
   "metadata": {
    "ExecuteTime": {
     "end_time": "2020-10-17T03:47:19.912902Z",
     "start_time": "2020-10-17T03:47:19.894900Z"
    }
   },
   "outputs": [
    {
     "data": {
      "text/html": [
       "<div>\n",
       "<style scoped>\n",
       "    .dataframe tbody tr th:only-of-type {\n",
       "        vertical-align: middle;\n",
       "    }\n",
       "\n",
       "    .dataframe tbody tr th {\n",
       "        vertical-align: top;\n",
       "    }\n",
       "\n",
       "    .dataframe thead th {\n",
       "        text-align: right;\n",
       "    }\n",
       "</style>\n",
       "<table border=\"1\" class=\"dataframe\">\n",
       "  <thead>\n",
       "    <tr style=\"text-align: right;\">\n",
       "      <th></th>\n",
       "      <th>Name</th>\n",
       "      <th>Reference</th>\n",
       "      <th>Turbo</th>\n",
       "    </tr>\n",
       "    <tr>\n",
       "      <th>ID</th>\n",
       "      <th></th>\n",
       "      <th></th>\n",
       "      <th></th>\n",
       "    </tr>\n",
       "  </thead>\n",
       "  <tbody>\n",
       "    <tr>\n",
       "      <th>lr</th>\n",
       "      <td>Linear Regression</td>\n",
       "      <td>sklearn.linear_model.LinearRegression</td>\n",
       "      <td>True</td>\n",
       "    </tr>\n",
       "    <tr>\n",
       "      <th>lasso</th>\n",
       "      <td>Lasso Regression</td>\n",
       "      <td>sklearn.linear_model.Lasso</td>\n",
       "      <td>True</td>\n",
       "    </tr>\n",
       "    <tr>\n",
       "      <th>ridge</th>\n",
       "      <td>Ridge Regression</td>\n",
       "      <td>sklearn.linear_model.Ridge</td>\n",
       "      <td>True</td>\n",
       "    </tr>\n",
       "    <tr>\n",
       "      <th>en</th>\n",
       "      <td>Elastic Net</td>\n",
       "      <td>sklearn.linear_model.ElasticNet</td>\n",
       "      <td>True</td>\n",
       "    </tr>\n",
       "    <tr>\n",
       "      <th>lar</th>\n",
       "      <td>Least Angle Regression</td>\n",
       "      <td>sklearn.linear_model.Lars</td>\n",
       "      <td>True</td>\n",
       "    </tr>\n",
       "    <tr>\n",
       "      <th>llar</th>\n",
       "      <td>Lasso Least Angle Regression</td>\n",
       "      <td>sklearn.linear_model.LassoLars</td>\n",
       "      <td>True</td>\n",
       "    </tr>\n",
       "    <tr>\n",
       "      <th>omp</th>\n",
       "      <td>Orthogonal Matching Pursuit</td>\n",
       "      <td>sklearn.linear_model.OMP</td>\n",
       "      <td>True</td>\n",
       "    </tr>\n",
       "    <tr>\n",
       "      <th>br</th>\n",
       "      <td>Bayesian Ridge</td>\n",
       "      <td>sklearn.linear_model.BayesianRidge</td>\n",
       "      <td>True</td>\n",
       "    </tr>\n",
       "    <tr>\n",
       "      <th>ard</th>\n",
       "      <td>Automatic Relevance Determination</td>\n",
       "      <td>sklearn.linear_model.ARDRegression</td>\n",
       "      <td>False</td>\n",
       "    </tr>\n",
       "    <tr>\n",
       "      <th>par</th>\n",
       "      <td>Passive Aggressive Regressor</td>\n",
       "      <td>sklearn.linear_model.PAR</td>\n",
       "      <td>True</td>\n",
       "    </tr>\n",
       "    <tr>\n",
       "      <th>ransac</th>\n",
       "      <td>Random Sample Consensus</td>\n",
       "      <td>sklearn.linear_model.RANSACRegressor</td>\n",
       "      <td>True</td>\n",
       "    </tr>\n",
       "    <tr>\n",
       "      <th>tr</th>\n",
       "      <td>TheilSen Regressor</td>\n",
       "      <td>sklearn.linear_model.TheilSenRegressor</td>\n",
       "      <td>True</td>\n",
       "    </tr>\n",
       "    <tr>\n",
       "      <th>huber</th>\n",
       "      <td>Huber Regressor</td>\n",
       "      <td>sklearn.linear_model.HuberRegressor</td>\n",
       "      <td>True</td>\n",
       "    </tr>\n",
       "    <tr>\n",
       "      <th>kr</th>\n",
       "      <td>Kernel Ridge</td>\n",
       "      <td>sklearn.kernel_ridge.KernelRidge</td>\n",
       "      <td>False</td>\n",
       "    </tr>\n",
       "    <tr>\n",
       "      <th>svm</th>\n",
       "      <td>Support Vector Machine</td>\n",
       "      <td>sklearn.svm.SVR</td>\n",
       "      <td>True</td>\n",
       "    </tr>\n",
       "    <tr>\n",
       "      <th>knn</th>\n",
       "      <td>K Neighbors Regressor</td>\n",
       "      <td>sklearn.neighbors.KNeighborsRegressor</td>\n",
       "      <td>True</td>\n",
       "    </tr>\n",
       "    <tr>\n",
       "      <th>dt</th>\n",
       "      <td>Decision Tree</td>\n",
       "      <td>sklearn.tree.DecisionTreeRegressor</td>\n",
       "      <td>True</td>\n",
       "    </tr>\n",
       "    <tr>\n",
       "      <th>rf</th>\n",
       "      <td>Random Forest</td>\n",
       "      <td>sklearn.ensemble.RandomForestRegressor</td>\n",
       "      <td>True</td>\n",
       "    </tr>\n",
       "    <tr>\n",
       "      <th>et</th>\n",
       "      <td>Extra Trees Regressor</td>\n",
       "      <td>sklearn.ensemble.ExtraTreesRegressor</td>\n",
       "      <td>True</td>\n",
       "    </tr>\n",
       "    <tr>\n",
       "      <th>ada</th>\n",
       "      <td>AdaBoost Regressor</td>\n",
       "      <td>sklearn.ensemble.AdaBoostRegressor</td>\n",
       "      <td>True</td>\n",
       "    </tr>\n",
       "    <tr>\n",
       "      <th>gbr</th>\n",
       "      <td>Gradient Boosting Regressor</td>\n",
       "      <td>sklearn.ensemble.GradientBoostingRegressor</td>\n",
       "      <td>True</td>\n",
       "    </tr>\n",
       "    <tr>\n",
       "      <th>mlp</th>\n",
       "      <td>Multi Level Perceptron</td>\n",
       "      <td>sklearn.neural_network.MLPRegressor</td>\n",
       "      <td>False</td>\n",
       "    </tr>\n",
       "    <tr>\n",
       "      <th>xgboost</th>\n",
       "      <td>Extreme Gradient Boosting</td>\n",
       "      <td>xgboost.readthedocs.io</td>\n",
       "      <td>True</td>\n",
       "    </tr>\n",
       "    <tr>\n",
       "      <th>lightgbm</th>\n",
       "      <td>Light Gradient Boosting Machine</td>\n",
       "      <td>github.com/microsoft/LightGBM</td>\n",
       "      <td>True</td>\n",
       "    </tr>\n",
       "    <tr>\n",
       "      <th>catboost</th>\n",
       "      <td>CatBoost Regressor</td>\n",
       "      <td>https://catboost.ai</td>\n",
       "      <td>True</td>\n",
       "    </tr>\n",
       "  </tbody>\n",
       "</table>\n",
       "</div>"
      ],
      "text/plain": [
       "                                       Name  \\\n",
       "ID                                            \n",
       "lr                        Linear Regression   \n",
       "lasso                      Lasso Regression   \n",
       "ridge                      Ridge Regression   \n",
       "en                              Elastic Net   \n",
       "lar                  Least Angle Regression   \n",
       "llar           Lasso Least Angle Regression   \n",
       "omp             Orthogonal Matching Pursuit   \n",
       "br                           Bayesian Ridge   \n",
       "ard       Automatic Relevance Determination   \n",
       "par            Passive Aggressive Regressor   \n",
       "ransac              Random Sample Consensus   \n",
       "tr                       TheilSen Regressor   \n",
       "huber                       Huber Regressor   \n",
       "kr                             Kernel Ridge   \n",
       "svm                  Support Vector Machine   \n",
       "knn                   K Neighbors Regressor   \n",
       "dt                            Decision Tree   \n",
       "rf                            Random Forest   \n",
       "et                    Extra Trees Regressor   \n",
       "ada                      AdaBoost Regressor   \n",
       "gbr             Gradient Boosting Regressor   \n",
       "mlp                  Multi Level Perceptron   \n",
       "xgboost           Extreme Gradient Boosting   \n",
       "lightgbm    Light Gradient Boosting Machine   \n",
       "catboost                 CatBoost Regressor   \n",
       "\n",
       "                                           Reference  Turbo  \n",
       "ID                                                           \n",
       "lr             sklearn.linear_model.LinearRegression   True  \n",
       "lasso                     sklearn.linear_model.Lasso   True  \n",
       "ridge                     sklearn.linear_model.Ridge   True  \n",
       "en                   sklearn.linear_model.ElasticNet   True  \n",
       "lar                        sklearn.linear_model.Lars   True  \n",
       "llar                  sklearn.linear_model.LassoLars   True  \n",
       "omp                         sklearn.linear_model.OMP   True  \n",
       "br                sklearn.linear_model.BayesianRidge   True  \n",
       "ard               sklearn.linear_model.ARDRegression  False  \n",
       "par                         sklearn.linear_model.PAR   True  \n",
       "ransac          sklearn.linear_model.RANSACRegressor   True  \n",
       "tr            sklearn.linear_model.TheilSenRegressor   True  \n",
       "huber            sklearn.linear_model.HuberRegressor   True  \n",
       "kr                  sklearn.kernel_ridge.KernelRidge  False  \n",
       "svm                                  sklearn.svm.SVR   True  \n",
       "knn            sklearn.neighbors.KNeighborsRegressor   True  \n",
       "dt                sklearn.tree.DecisionTreeRegressor   True  \n",
       "rf            sklearn.ensemble.RandomForestRegressor   True  \n",
       "et              sklearn.ensemble.ExtraTreesRegressor   True  \n",
       "ada               sklearn.ensemble.AdaBoostRegressor   True  \n",
       "gbr       sklearn.ensemble.GradientBoostingRegressor   True  \n",
       "mlp              sklearn.neural_network.MLPRegressor  False  \n",
       "xgboost                       xgboost.readthedocs.io   True  \n",
       "lightgbm               github.com/microsoft/LightGBM   True  \n",
       "catboost                         https://catboost.ai   True  "
      ]
     },
     "execution_count": 54,
     "metadata": {},
     "output_type": "execute_result"
    }
   ],
   "source": [
    "models()"
   ]
  },
  {
   "cell_type": "markdown",
   "metadata": {},
   "source": [
    "## Un seul code postal"
   ]
  },
  {
   "cell_type": "code",
   "execution_count": 59,
   "metadata": {
    "ExecuteTime": {
     "end_time": "2020-10-18T04:00:53.123292Z",
     "start_time": "2020-10-18T04:00:53.103219Z"
    }
   },
   "outputs": [
    {
     "data": {
      "text/plain": [
       "Index(['adresse_code_voie', 'code_postal', 'code_commune', 'code_departement',\n",
       "       'code_nature_culture'],\n",
       "      dtype='object')"
      ]
     },
     "execution_count": 59,
     "metadata": {},
     "output_type": "execute_result"
    }
   ],
   "source": [
    "categ_features"
   ]
  },
  {
   "cell_type": "code",
   "execution_count": 63,
   "metadata": {
    "ExecuteTime": {
     "end_time": "2020-10-18T04:03:47.042517Z",
     "start_time": "2020-10-18T04:03:47.028514Z"
    }
   },
   "outputs": [
    {
     "data": {
      "text/plain": [
       "0         0125\n",
       "1         0375\n",
       "2         0060\n",
       "3         0190\n",
       "4         0270\n",
       "          ... \n",
       "315645    0120\n",
       "315646    0066\n",
       "315647    0259\n",
       "315648    0330\n",
       "315649    0134\n",
       "Name: adresse_code_voie, Length: 315650, dtype: object"
      ]
     },
     "execution_count": 63,
     "metadata": {},
     "output_type": "execute_result"
    }
   ],
   "source": [
    "data[\"adresse_code_voie\"]"
   ]
  },
  {
   "cell_type": "code",
   "execution_count": null,
   "metadata": {},
   "outputs": [],
   "source": []
  },
  {
   "cell_type": "code",
   "execution_count": 64,
   "metadata": {
    "ExecuteTime": {
     "end_time": "2020-10-18T04:08:17.039219Z",
     "start_time": "2020-10-18T04:08:16.984251Z"
    }
   },
   "outputs": [
    {
     "name": "stdout",
     "output_type": "stream",
     "text": [
      "59200\n",
      "(315650, 9) (887, 9) 315650 59200\n"
     ]
    }
   ],
   "source": [
    "#data[\"code_postal\"] = data[\"code_postal\"].astype(\"str\")\n",
    "cat_f_to_keep = [\"adresse_code_voie\"]\n",
    "cat_f_to_ignore = [\"code_postal\",\"code_commune\"]\n",
    "\n",
    "target = 'valeur_fonciere'\n",
    "\n",
    "num_f_to_keep = list(num_features[num_features!=target])\n",
    "\n",
    "sub_pc = data[\"code_postal\"].value_counts()\n",
    "list_sub_pc = sub_pc.index[0]\n",
    "print(list_sub_pc)\n",
    "df2 = data[data[\"code_postal\"].isin([list_sub_pc])]\n",
    "\n",
    "df2 = df2[(df2[\"valeur_fonciere\"]>30000) & (df2[\"valeur_fonciere\"]<300000)]\n",
    "print(data.shape, df2.shape, sub_pc.sum(), list_sub_pc)"
   ]
  },
  {
   "cell_type": "code",
   "execution_count": 66,
   "metadata": {
    "ExecuteTime": {
     "end_time": "2020-10-18T04:09:46.075330Z",
     "start_time": "2020-10-18T04:09:23.465997Z"
    }
   },
   "outputs": [
    {
     "name": "stdout",
     "output_type": "stream",
     "text": [
      " \n",
      "Setup Succesfully Completed.\n"
     ]
    },
    {
     "data": {
      "text/html": [
       "<style  type=\"text/css\" >\n",
       "#T_c1e07ad0_10f7_11eb_a0cb_d8ca52fa8622row1_col1,#T_c1e07ad0_10f7_11eb_a0cb_d8ca52fa8622row15_col1,#T_c1e07ad0_10f7_11eb_a0cb_d8ca52fa8622row17_col1,#T_c1e07ad0_10f7_11eb_a0cb_d8ca52fa8622row26_col1,#T_c1e07ad0_10f7_11eb_a0cb_d8ca52fa8622row30_col1,#T_c1e07ad0_10f7_11eb_a0cb_d8ca52fa8622row32_col1,#T_c1e07ad0_10f7_11eb_a0cb_d8ca52fa8622row34_col1,#T_c1e07ad0_10f7_11eb_a0cb_d8ca52fa8622row37_col1,#T_c1e07ad0_10f7_11eb_a0cb_d8ca52fa8622row39_col1,#T_c1e07ad0_10f7_11eb_a0cb_d8ca52fa8622row40_col1{\n",
       "            background-color:  yellow;\n",
       "        }</style><table id=\"T_c1e07ad0_10f7_11eb_a0cb_d8ca52fa8622\" ><thead>    <tr>        <th class=\"blank level0\" ></th>        <th class=\"col_heading level0 col0\" >Description</th>        <th class=\"col_heading level0 col1\" >Value</th>    </tr></thead><tbody>\n",
       "                <tr>\n",
       "                        <th id=\"T_c1e07ad0_10f7_11eb_a0cb_d8ca52fa8622level0_row0\" class=\"row_heading level0 row0\" >0</th>\n",
       "                        <td id=\"T_c1e07ad0_10f7_11eb_a0cb_d8ca52fa8622row0_col0\" class=\"data row0 col0\" >session_id</td>\n",
       "                        <td id=\"T_c1e07ad0_10f7_11eb_a0cb_d8ca52fa8622row0_col1\" class=\"data row0 col1\" >123</td>\n",
       "            </tr>\n",
       "            <tr>\n",
       "                        <th id=\"T_c1e07ad0_10f7_11eb_a0cb_d8ca52fa8622level0_row1\" class=\"row_heading level0 row1\" >1</th>\n",
       "                        <td id=\"T_c1e07ad0_10f7_11eb_a0cb_d8ca52fa8622row1_col0\" class=\"data row1 col0\" >Transform Target </td>\n",
       "                        <td id=\"T_c1e07ad0_10f7_11eb_a0cb_d8ca52fa8622row1_col1\" class=\"data row1 col1\" >True</td>\n",
       "            </tr>\n",
       "            <tr>\n",
       "                        <th id=\"T_c1e07ad0_10f7_11eb_a0cb_d8ca52fa8622level0_row2\" class=\"row_heading level0 row2\" >2</th>\n",
       "                        <td id=\"T_c1e07ad0_10f7_11eb_a0cb_d8ca52fa8622row2_col0\" class=\"data row2 col0\" >Transform Target Method</td>\n",
       "                        <td id=\"T_c1e07ad0_10f7_11eb_a0cb_d8ca52fa8622row2_col1\" class=\"data row2 col1\" >box-cox</td>\n",
       "            </tr>\n",
       "            <tr>\n",
       "                        <th id=\"T_c1e07ad0_10f7_11eb_a0cb_d8ca52fa8622level0_row3\" class=\"row_heading level0 row3\" >3</th>\n",
       "                        <td id=\"T_c1e07ad0_10f7_11eb_a0cb_d8ca52fa8622row3_col0\" class=\"data row3 col0\" >Original Data</td>\n",
       "                        <td id=\"T_c1e07ad0_10f7_11eb_a0cb_d8ca52fa8622row3_col1\" class=\"data row3 col1\" >(887, 9)</td>\n",
       "            </tr>\n",
       "            <tr>\n",
       "                        <th id=\"T_c1e07ad0_10f7_11eb_a0cb_d8ca52fa8622level0_row4\" class=\"row_heading level0 row4\" >4</th>\n",
       "                        <td id=\"T_c1e07ad0_10f7_11eb_a0cb_d8ca52fa8622row4_col0\" class=\"data row4 col0\" >Missing Values </td>\n",
       "                        <td id=\"T_c1e07ad0_10f7_11eb_a0cb_d8ca52fa8622row4_col1\" class=\"data row4 col1\" >False</td>\n",
       "            </tr>\n",
       "            <tr>\n",
       "                        <th id=\"T_c1e07ad0_10f7_11eb_a0cb_d8ca52fa8622level0_row5\" class=\"row_heading level0 row5\" >5</th>\n",
       "                        <td id=\"T_c1e07ad0_10f7_11eb_a0cb_d8ca52fa8622row5_col0\" class=\"data row5 col0\" >Numeric Features </td>\n",
       "                        <td id=\"T_c1e07ad0_10f7_11eb_a0cb_d8ca52fa8622row5_col1\" class=\"data row5 col1\" >3</td>\n",
       "            </tr>\n",
       "            <tr>\n",
       "                        <th id=\"T_c1e07ad0_10f7_11eb_a0cb_d8ca52fa8622level0_row6\" class=\"row_heading level0 row6\" >6</th>\n",
       "                        <td id=\"T_c1e07ad0_10f7_11eb_a0cb_d8ca52fa8622row6_col0\" class=\"data row6 col0\" >Categorical Features </td>\n",
       "                        <td id=\"T_c1e07ad0_10f7_11eb_a0cb_d8ca52fa8622row6_col1\" class=\"data row6 col1\" >5</td>\n",
       "            </tr>\n",
       "            <tr>\n",
       "                        <th id=\"T_c1e07ad0_10f7_11eb_a0cb_d8ca52fa8622level0_row7\" class=\"row_heading level0 row7\" >7</th>\n",
       "                        <td id=\"T_c1e07ad0_10f7_11eb_a0cb_d8ca52fa8622row7_col0\" class=\"data row7 col0\" >Ordinal Features </td>\n",
       "                        <td id=\"T_c1e07ad0_10f7_11eb_a0cb_d8ca52fa8622row7_col1\" class=\"data row7 col1\" >False</td>\n",
       "            </tr>\n",
       "            <tr>\n",
       "                        <th id=\"T_c1e07ad0_10f7_11eb_a0cb_d8ca52fa8622level0_row8\" class=\"row_heading level0 row8\" >8</th>\n",
       "                        <td id=\"T_c1e07ad0_10f7_11eb_a0cb_d8ca52fa8622row8_col0\" class=\"data row8 col0\" >High Cardinality Features </td>\n",
       "                        <td id=\"T_c1e07ad0_10f7_11eb_a0cb_d8ca52fa8622row8_col1\" class=\"data row8 col1\" >False</td>\n",
       "            </tr>\n",
       "            <tr>\n",
       "                        <th id=\"T_c1e07ad0_10f7_11eb_a0cb_d8ca52fa8622level0_row9\" class=\"row_heading level0 row9\" >9</th>\n",
       "                        <td id=\"T_c1e07ad0_10f7_11eb_a0cb_d8ca52fa8622row9_col0\" class=\"data row9 col0\" >High Cardinality Method </td>\n",
       "                        <td id=\"T_c1e07ad0_10f7_11eb_a0cb_d8ca52fa8622row9_col1\" class=\"data row9 col1\" >None</td>\n",
       "            </tr>\n",
       "            <tr>\n",
       "                        <th id=\"T_c1e07ad0_10f7_11eb_a0cb_d8ca52fa8622level0_row10\" class=\"row_heading level0 row10\" >10</th>\n",
       "                        <td id=\"T_c1e07ad0_10f7_11eb_a0cb_d8ca52fa8622row10_col0\" class=\"data row10 col0\" >Sampled Data</td>\n",
       "                        <td id=\"T_c1e07ad0_10f7_11eb_a0cb_d8ca52fa8622row10_col1\" class=\"data row10 col1\" >(842, 9)</td>\n",
       "            </tr>\n",
       "            <tr>\n",
       "                        <th id=\"T_c1e07ad0_10f7_11eb_a0cb_d8ca52fa8622level0_row11\" class=\"row_heading level0 row11\" >11</th>\n",
       "                        <td id=\"T_c1e07ad0_10f7_11eb_a0cb_d8ca52fa8622row11_col0\" class=\"data row11 col0\" >Transformed Train Set</td>\n",
       "                        <td id=\"T_c1e07ad0_10f7_11eb_a0cb_d8ca52fa8622row11_col1\" class=\"data row11 col1\" >(589, 6182)</td>\n",
       "            </tr>\n",
       "            <tr>\n",
       "                        <th id=\"T_c1e07ad0_10f7_11eb_a0cb_d8ca52fa8622level0_row12\" class=\"row_heading level0 row12\" >12</th>\n",
       "                        <td id=\"T_c1e07ad0_10f7_11eb_a0cb_d8ca52fa8622row12_col0\" class=\"data row12 col0\" >Transformed Test Set</td>\n",
       "                        <td id=\"T_c1e07ad0_10f7_11eb_a0cb_d8ca52fa8622row12_col1\" class=\"data row12 col1\" >(253, 6182)</td>\n",
       "            </tr>\n",
       "            <tr>\n",
       "                        <th id=\"T_c1e07ad0_10f7_11eb_a0cb_d8ca52fa8622level0_row13\" class=\"row_heading level0 row13\" >13</th>\n",
       "                        <td id=\"T_c1e07ad0_10f7_11eb_a0cb_d8ca52fa8622row13_col0\" class=\"data row13 col0\" >Numeric Imputer </td>\n",
       "                        <td id=\"T_c1e07ad0_10f7_11eb_a0cb_d8ca52fa8622row13_col1\" class=\"data row13 col1\" >mean</td>\n",
       "            </tr>\n",
       "            <tr>\n",
       "                        <th id=\"T_c1e07ad0_10f7_11eb_a0cb_d8ca52fa8622level0_row14\" class=\"row_heading level0 row14\" >14</th>\n",
       "                        <td id=\"T_c1e07ad0_10f7_11eb_a0cb_d8ca52fa8622row14_col0\" class=\"data row14 col0\" >Categorical Imputer </td>\n",
       "                        <td id=\"T_c1e07ad0_10f7_11eb_a0cb_d8ca52fa8622row14_col1\" class=\"data row14 col1\" >constant</td>\n",
       "            </tr>\n",
       "            <tr>\n",
       "                        <th id=\"T_c1e07ad0_10f7_11eb_a0cb_d8ca52fa8622level0_row15\" class=\"row_heading level0 row15\" >15</th>\n",
       "                        <td id=\"T_c1e07ad0_10f7_11eb_a0cb_d8ca52fa8622row15_col0\" class=\"data row15 col0\" >Normalize </td>\n",
       "                        <td id=\"T_c1e07ad0_10f7_11eb_a0cb_d8ca52fa8622row15_col1\" class=\"data row15 col1\" >True</td>\n",
       "            </tr>\n",
       "            <tr>\n",
       "                        <th id=\"T_c1e07ad0_10f7_11eb_a0cb_d8ca52fa8622level0_row16\" class=\"row_heading level0 row16\" >16</th>\n",
       "                        <td id=\"T_c1e07ad0_10f7_11eb_a0cb_d8ca52fa8622row16_col0\" class=\"data row16 col0\" >Normalize Method </td>\n",
       "                        <td id=\"T_c1e07ad0_10f7_11eb_a0cb_d8ca52fa8622row16_col1\" class=\"data row16 col1\" >robust</td>\n",
       "            </tr>\n",
       "            <tr>\n",
       "                        <th id=\"T_c1e07ad0_10f7_11eb_a0cb_d8ca52fa8622level0_row17\" class=\"row_heading level0 row17\" >17</th>\n",
       "                        <td id=\"T_c1e07ad0_10f7_11eb_a0cb_d8ca52fa8622row17_col0\" class=\"data row17 col0\" >Transformation </td>\n",
       "                        <td id=\"T_c1e07ad0_10f7_11eb_a0cb_d8ca52fa8622row17_col1\" class=\"data row17 col1\" >True</td>\n",
       "            </tr>\n",
       "            <tr>\n",
       "                        <th id=\"T_c1e07ad0_10f7_11eb_a0cb_d8ca52fa8622level0_row18\" class=\"row_heading level0 row18\" >18</th>\n",
       "                        <td id=\"T_c1e07ad0_10f7_11eb_a0cb_d8ca52fa8622row18_col0\" class=\"data row18 col0\" >Transformation Method </td>\n",
       "                        <td id=\"T_c1e07ad0_10f7_11eb_a0cb_d8ca52fa8622row18_col1\" class=\"data row18 col1\" >yeo-johnson</td>\n",
       "            </tr>\n",
       "            <tr>\n",
       "                        <th id=\"T_c1e07ad0_10f7_11eb_a0cb_d8ca52fa8622level0_row19\" class=\"row_heading level0 row19\" >19</th>\n",
       "                        <td id=\"T_c1e07ad0_10f7_11eb_a0cb_d8ca52fa8622row19_col0\" class=\"data row19 col0\" >PCA </td>\n",
       "                        <td id=\"T_c1e07ad0_10f7_11eb_a0cb_d8ca52fa8622row19_col1\" class=\"data row19 col1\" >False</td>\n",
       "            </tr>\n",
       "            <tr>\n",
       "                        <th id=\"T_c1e07ad0_10f7_11eb_a0cb_d8ca52fa8622level0_row20\" class=\"row_heading level0 row20\" >20</th>\n",
       "                        <td id=\"T_c1e07ad0_10f7_11eb_a0cb_d8ca52fa8622row20_col0\" class=\"data row20 col0\" >PCA Method </td>\n",
       "                        <td id=\"T_c1e07ad0_10f7_11eb_a0cb_d8ca52fa8622row20_col1\" class=\"data row20 col1\" >None</td>\n",
       "            </tr>\n",
       "            <tr>\n",
       "                        <th id=\"T_c1e07ad0_10f7_11eb_a0cb_d8ca52fa8622level0_row21\" class=\"row_heading level0 row21\" >21</th>\n",
       "                        <td id=\"T_c1e07ad0_10f7_11eb_a0cb_d8ca52fa8622row21_col0\" class=\"data row21 col0\" >PCA Components </td>\n",
       "                        <td id=\"T_c1e07ad0_10f7_11eb_a0cb_d8ca52fa8622row21_col1\" class=\"data row21 col1\" >None</td>\n",
       "            </tr>\n",
       "            <tr>\n",
       "                        <th id=\"T_c1e07ad0_10f7_11eb_a0cb_d8ca52fa8622level0_row22\" class=\"row_heading level0 row22\" >22</th>\n",
       "                        <td id=\"T_c1e07ad0_10f7_11eb_a0cb_d8ca52fa8622row22_col0\" class=\"data row22 col0\" >Ignore Low Variance </td>\n",
       "                        <td id=\"T_c1e07ad0_10f7_11eb_a0cb_d8ca52fa8622row22_col1\" class=\"data row22 col1\" >False</td>\n",
       "            </tr>\n",
       "            <tr>\n",
       "                        <th id=\"T_c1e07ad0_10f7_11eb_a0cb_d8ca52fa8622level0_row23\" class=\"row_heading level0 row23\" >23</th>\n",
       "                        <td id=\"T_c1e07ad0_10f7_11eb_a0cb_d8ca52fa8622row23_col0\" class=\"data row23 col0\" >Combine Rare Levels </td>\n",
       "                        <td id=\"T_c1e07ad0_10f7_11eb_a0cb_d8ca52fa8622row23_col1\" class=\"data row23 col1\" >False</td>\n",
       "            </tr>\n",
       "            <tr>\n",
       "                        <th id=\"T_c1e07ad0_10f7_11eb_a0cb_d8ca52fa8622level0_row24\" class=\"row_heading level0 row24\" >24</th>\n",
       "                        <td id=\"T_c1e07ad0_10f7_11eb_a0cb_d8ca52fa8622row24_col0\" class=\"data row24 col0\" >Rare Level Threshold </td>\n",
       "                        <td id=\"T_c1e07ad0_10f7_11eb_a0cb_d8ca52fa8622row24_col1\" class=\"data row24 col1\" >None</td>\n",
       "            </tr>\n",
       "            <tr>\n",
       "                        <th id=\"T_c1e07ad0_10f7_11eb_a0cb_d8ca52fa8622level0_row25\" class=\"row_heading level0 row25\" >25</th>\n",
       "                        <td id=\"T_c1e07ad0_10f7_11eb_a0cb_d8ca52fa8622row25_col0\" class=\"data row25 col0\" >Numeric Binning </td>\n",
       "                        <td id=\"T_c1e07ad0_10f7_11eb_a0cb_d8ca52fa8622row25_col1\" class=\"data row25 col1\" >False</td>\n",
       "            </tr>\n",
       "            <tr>\n",
       "                        <th id=\"T_c1e07ad0_10f7_11eb_a0cb_d8ca52fa8622level0_row26\" class=\"row_heading level0 row26\" >26</th>\n",
       "                        <td id=\"T_c1e07ad0_10f7_11eb_a0cb_d8ca52fa8622row26_col0\" class=\"data row26 col0\" >Remove Outliers </td>\n",
       "                        <td id=\"T_c1e07ad0_10f7_11eb_a0cb_d8ca52fa8622row26_col1\" class=\"data row26 col1\" >True</td>\n",
       "            </tr>\n",
       "            <tr>\n",
       "                        <th id=\"T_c1e07ad0_10f7_11eb_a0cb_d8ca52fa8622level0_row27\" class=\"row_heading level0 row27\" >27</th>\n",
       "                        <td id=\"T_c1e07ad0_10f7_11eb_a0cb_d8ca52fa8622row27_col0\" class=\"data row27 col0\" >Outliers Threshold </td>\n",
       "                        <td id=\"T_c1e07ad0_10f7_11eb_a0cb_d8ca52fa8622row27_col1\" class=\"data row27 col1\" >0.050000</td>\n",
       "            </tr>\n",
       "            <tr>\n",
       "                        <th id=\"T_c1e07ad0_10f7_11eb_a0cb_d8ca52fa8622level0_row28\" class=\"row_heading level0 row28\" >28</th>\n",
       "                        <td id=\"T_c1e07ad0_10f7_11eb_a0cb_d8ca52fa8622row28_col0\" class=\"data row28 col0\" >Remove Multicollinearity </td>\n",
       "                        <td id=\"T_c1e07ad0_10f7_11eb_a0cb_d8ca52fa8622row28_col1\" class=\"data row28 col1\" >False</td>\n",
       "            </tr>\n",
       "            <tr>\n",
       "                        <th id=\"T_c1e07ad0_10f7_11eb_a0cb_d8ca52fa8622level0_row29\" class=\"row_heading level0 row29\" >29</th>\n",
       "                        <td id=\"T_c1e07ad0_10f7_11eb_a0cb_d8ca52fa8622row29_col0\" class=\"data row29 col0\" >Multicollinearity Threshold </td>\n",
       "                        <td id=\"T_c1e07ad0_10f7_11eb_a0cb_d8ca52fa8622row29_col1\" class=\"data row29 col1\" >None</td>\n",
       "            </tr>\n",
       "            <tr>\n",
       "                        <th id=\"T_c1e07ad0_10f7_11eb_a0cb_d8ca52fa8622level0_row30\" class=\"row_heading level0 row30\" >30</th>\n",
       "                        <td id=\"T_c1e07ad0_10f7_11eb_a0cb_d8ca52fa8622row30_col0\" class=\"data row30 col0\" >Clustering </td>\n",
       "                        <td id=\"T_c1e07ad0_10f7_11eb_a0cb_d8ca52fa8622row30_col1\" class=\"data row30 col1\" >True</td>\n",
       "            </tr>\n",
       "            <tr>\n",
       "                        <th id=\"T_c1e07ad0_10f7_11eb_a0cb_d8ca52fa8622level0_row31\" class=\"row_heading level0 row31\" >31</th>\n",
       "                        <td id=\"T_c1e07ad0_10f7_11eb_a0cb_d8ca52fa8622row31_col0\" class=\"data row31 col0\" >Clustering Iteration </td>\n",
       "                        <td id=\"T_c1e07ad0_10f7_11eb_a0cb_d8ca52fa8622row31_col1\" class=\"data row31 col1\" >20</td>\n",
       "            </tr>\n",
       "            <tr>\n",
       "                        <th id=\"T_c1e07ad0_10f7_11eb_a0cb_d8ca52fa8622level0_row32\" class=\"row_heading level0 row32\" >32</th>\n",
       "                        <td id=\"T_c1e07ad0_10f7_11eb_a0cb_d8ca52fa8622row32_col0\" class=\"data row32 col0\" >Polynomial Features </td>\n",
       "                        <td id=\"T_c1e07ad0_10f7_11eb_a0cb_d8ca52fa8622row32_col1\" class=\"data row32 col1\" >True</td>\n",
       "            </tr>\n",
       "            <tr>\n",
       "                        <th id=\"T_c1e07ad0_10f7_11eb_a0cb_d8ca52fa8622level0_row33\" class=\"row_heading level0 row33\" >33</th>\n",
       "                        <td id=\"T_c1e07ad0_10f7_11eb_a0cb_d8ca52fa8622row33_col0\" class=\"data row33 col0\" >Polynomial Degree </td>\n",
       "                        <td id=\"T_c1e07ad0_10f7_11eb_a0cb_d8ca52fa8622row33_col1\" class=\"data row33 col1\" >2</td>\n",
       "            </tr>\n",
       "            <tr>\n",
       "                        <th id=\"T_c1e07ad0_10f7_11eb_a0cb_d8ca52fa8622level0_row34\" class=\"row_heading level0 row34\" >34</th>\n",
       "                        <td id=\"T_c1e07ad0_10f7_11eb_a0cb_d8ca52fa8622row34_col0\" class=\"data row34 col0\" >Trignometry Features </td>\n",
       "                        <td id=\"T_c1e07ad0_10f7_11eb_a0cb_d8ca52fa8622row34_col1\" class=\"data row34 col1\" >True</td>\n",
       "            </tr>\n",
       "            <tr>\n",
       "                        <th id=\"T_c1e07ad0_10f7_11eb_a0cb_d8ca52fa8622level0_row35\" class=\"row_heading level0 row35\" >35</th>\n",
       "                        <td id=\"T_c1e07ad0_10f7_11eb_a0cb_d8ca52fa8622row35_col0\" class=\"data row35 col0\" >Polynomial Threshold </td>\n",
       "                        <td id=\"T_c1e07ad0_10f7_11eb_a0cb_d8ca52fa8622row35_col1\" class=\"data row35 col1\" >0.100000</td>\n",
       "            </tr>\n",
       "            <tr>\n",
       "                        <th id=\"T_c1e07ad0_10f7_11eb_a0cb_d8ca52fa8622level0_row36\" class=\"row_heading level0 row36\" >36</th>\n",
       "                        <td id=\"T_c1e07ad0_10f7_11eb_a0cb_d8ca52fa8622row36_col0\" class=\"data row36 col0\" >Group Features </td>\n",
       "                        <td id=\"T_c1e07ad0_10f7_11eb_a0cb_d8ca52fa8622row36_col1\" class=\"data row36 col1\" >False</td>\n",
       "            </tr>\n",
       "            <tr>\n",
       "                        <th id=\"T_c1e07ad0_10f7_11eb_a0cb_d8ca52fa8622level0_row37\" class=\"row_heading level0 row37\" >37</th>\n",
       "                        <td id=\"T_c1e07ad0_10f7_11eb_a0cb_d8ca52fa8622row37_col0\" class=\"data row37 col0\" >Feature Selection </td>\n",
       "                        <td id=\"T_c1e07ad0_10f7_11eb_a0cb_d8ca52fa8622row37_col1\" class=\"data row37 col1\" >True</td>\n",
       "            </tr>\n",
       "            <tr>\n",
       "                        <th id=\"T_c1e07ad0_10f7_11eb_a0cb_d8ca52fa8622level0_row38\" class=\"row_heading level0 row38\" >38</th>\n",
       "                        <td id=\"T_c1e07ad0_10f7_11eb_a0cb_d8ca52fa8622row38_col0\" class=\"data row38 col0\" >Features Selection Threshold </td>\n",
       "                        <td id=\"T_c1e07ad0_10f7_11eb_a0cb_d8ca52fa8622row38_col1\" class=\"data row38 col1\" >0.800000</td>\n",
       "            </tr>\n",
       "            <tr>\n",
       "                        <th id=\"T_c1e07ad0_10f7_11eb_a0cb_d8ca52fa8622level0_row39\" class=\"row_heading level0 row39\" >39</th>\n",
       "                        <td id=\"T_c1e07ad0_10f7_11eb_a0cb_d8ca52fa8622row39_col0\" class=\"data row39 col0\" >Feature Interaction </td>\n",
       "                        <td id=\"T_c1e07ad0_10f7_11eb_a0cb_d8ca52fa8622row39_col1\" class=\"data row39 col1\" >True</td>\n",
       "            </tr>\n",
       "            <tr>\n",
       "                        <th id=\"T_c1e07ad0_10f7_11eb_a0cb_d8ca52fa8622level0_row40\" class=\"row_heading level0 row40\" >40</th>\n",
       "                        <td id=\"T_c1e07ad0_10f7_11eb_a0cb_d8ca52fa8622row40_col0\" class=\"data row40 col0\" >Feature Ratio </td>\n",
       "                        <td id=\"T_c1e07ad0_10f7_11eb_a0cb_d8ca52fa8622row40_col1\" class=\"data row40 col1\" >True</td>\n",
       "            </tr>\n",
       "            <tr>\n",
       "                        <th id=\"T_c1e07ad0_10f7_11eb_a0cb_d8ca52fa8622level0_row41\" class=\"row_heading level0 row41\" >41</th>\n",
       "                        <td id=\"T_c1e07ad0_10f7_11eb_a0cb_d8ca52fa8622row41_col0\" class=\"data row41 col0\" >Interaction Threshold </td>\n",
       "                        <td id=\"T_c1e07ad0_10f7_11eb_a0cb_d8ca52fa8622row41_col1\" class=\"data row41 col1\" >0.010000</td>\n",
       "            </tr>\n",
       "    </tbody></table>"
      ],
      "text/plain": [
       "<pandas.io.formats.style.Styler at 0x20d3c637518>"
      ]
     },
     "metadata": {},
     "output_type": "display_data"
    }
   ],
   "source": [
    "exp_un_1 = setup(data = df2, target = target, ignore_features=cat_f_to_ignore, categorical_features=cat_f_to_keep,\n",
    "                   numeric_features=num_f_to_keep,\n",
    "                   remove_outliers=True, #remove_multicollinearity = True,# multicollinearity_threshold = 0.6,\n",
    "                   #combine_rare_levels = True, rare_level_threshold=0.2,\n",
    "                   feature_selection=True,\n",
    "                   polynomial_features = True,\n",
    "                   trigonometry_features = True,\n",
    "                   feature_interaction=True,\n",
    "                   feature_ratio=True,\n",
    "                   create_clusters=True,\n",
    "                   use_gpu=True,\n",
    "                   normalize = True, normalize_method=\"robust\", transformation = True, transform_target = True, verbose=True, session_id=123)\n",
    "# normalize_method='robust'"
   ]
  },
  {
   "cell_type": "code",
   "execution_count": 67,
   "metadata": {
    "ExecuteTime": {
     "end_time": "2020-10-18T15:08:50.705427Z",
     "start_time": "2020-10-18T04:10:08.184350Z"
    },
    "scrolled": false
   },
   "outputs": [
    {
     "data": {
      "text/html": [
       "<style  type=\"text/css\" >\n",
       "    #T_d433c748_1153_11eb_8b1f_d8ca52fa8622 th {\n",
       "          text-align: left;\n",
       "    }#T_d433c748_1153_11eb_8b1f_d8ca52fa8622row0_col0,#T_d433c748_1153_11eb_8b1f_d8ca52fa8622row0_col6,#T_d433c748_1153_11eb_8b1f_d8ca52fa8622row1_col0,#T_d433c748_1153_11eb_8b1f_d8ca52fa8622row1_col1,#T_d433c748_1153_11eb_8b1f_d8ca52fa8622row1_col2,#T_d433c748_1153_11eb_8b1f_d8ca52fa8622row1_col3,#T_d433c748_1153_11eb_8b1f_d8ca52fa8622row1_col4,#T_d433c748_1153_11eb_8b1f_d8ca52fa8622row1_col5,#T_d433c748_1153_11eb_8b1f_d8ca52fa8622row1_col6,#T_d433c748_1153_11eb_8b1f_d8ca52fa8622row2_col0,#T_d433c748_1153_11eb_8b1f_d8ca52fa8622row2_col1,#T_d433c748_1153_11eb_8b1f_d8ca52fa8622row2_col2,#T_d433c748_1153_11eb_8b1f_d8ca52fa8622row2_col3,#T_d433c748_1153_11eb_8b1f_d8ca52fa8622row2_col4,#T_d433c748_1153_11eb_8b1f_d8ca52fa8622row2_col5,#T_d433c748_1153_11eb_8b1f_d8ca52fa8622row2_col6,#T_d433c748_1153_11eb_8b1f_d8ca52fa8622row3_col0,#T_d433c748_1153_11eb_8b1f_d8ca52fa8622row3_col1,#T_d433c748_1153_11eb_8b1f_d8ca52fa8622row3_col2,#T_d433c748_1153_11eb_8b1f_d8ca52fa8622row3_col3,#T_d433c748_1153_11eb_8b1f_d8ca52fa8622row3_col4,#T_d433c748_1153_11eb_8b1f_d8ca52fa8622row3_col5,#T_d433c748_1153_11eb_8b1f_d8ca52fa8622row3_col6,#T_d433c748_1153_11eb_8b1f_d8ca52fa8622row4_col0,#T_d433c748_1153_11eb_8b1f_d8ca52fa8622row4_col1,#T_d433c748_1153_11eb_8b1f_d8ca52fa8622row4_col2,#T_d433c748_1153_11eb_8b1f_d8ca52fa8622row4_col3,#T_d433c748_1153_11eb_8b1f_d8ca52fa8622row4_col4,#T_d433c748_1153_11eb_8b1f_d8ca52fa8622row4_col5,#T_d433c748_1153_11eb_8b1f_d8ca52fa8622row5_col0,#T_d433c748_1153_11eb_8b1f_d8ca52fa8622row5_col1,#T_d433c748_1153_11eb_8b1f_d8ca52fa8622row5_col2,#T_d433c748_1153_11eb_8b1f_d8ca52fa8622row5_col3,#T_d433c748_1153_11eb_8b1f_d8ca52fa8622row5_col4,#T_d433c748_1153_11eb_8b1f_d8ca52fa8622row5_col5,#T_d433c748_1153_11eb_8b1f_d8ca52fa8622row5_col6,#T_d433c748_1153_11eb_8b1f_d8ca52fa8622row6_col0,#T_d433c748_1153_11eb_8b1f_d8ca52fa8622row6_col1,#T_d433c748_1153_11eb_8b1f_d8ca52fa8622row6_col2,#T_d433c748_1153_11eb_8b1f_d8ca52fa8622row6_col3,#T_d433c748_1153_11eb_8b1f_d8ca52fa8622row6_col4,#T_d433c748_1153_11eb_8b1f_d8ca52fa8622row6_col5,#T_d433c748_1153_11eb_8b1f_d8ca52fa8622row6_col6,#T_d433c748_1153_11eb_8b1f_d8ca52fa8622row7_col0,#T_d433c748_1153_11eb_8b1f_d8ca52fa8622row7_col1,#T_d433c748_1153_11eb_8b1f_d8ca52fa8622row7_col2,#T_d433c748_1153_11eb_8b1f_d8ca52fa8622row7_col3,#T_d433c748_1153_11eb_8b1f_d8ca52fa8622row7_col4,#T_d433c748_1153_11eb_8b1f_d8ca52fa8622row7_col5,#T_d433c748_1153_11eb_8b1f_d8ca52fa8622row7_col6,#T_d433c748_1153_11eb_8b1f_d8ca52fa8622row8_col0,#T_d433c748_1153_11eb_8b1f_d8ca52fa8622row8_col1,#T_d433c748_1153_11eb_8b1f_d8ca52fa8622row8_col2,#T_d433c748_1153_11eb_8b1f_d8ca52fa8622row8_col3,#T_d433c748_1153_11eb_8b1f_d8ca52fa8622row8_col4,#T_d433c748_1153_11eb_8b1f_d8ca52fa8622row8_col5,#T_d433c748_1153_11eb_8b1f_d8ca52fa8622row8_col6,#T_d433c748_1153_11eb_8b1f_d8ca52fa8622row9_col0,#T_d433c748_1153_11eb_8b1f_d8ca52fa8622row9_col1,#T_d433c748_1153_11eb_8b1f_d8ca52fa8622row9_col2,#T_d433c748_1153_11eb_8b1f_d8ca52fa8622row9_col3,#T_d433c748_1153_11eb_8b1f_d8ca52fa8622row9_col4,#T_d433c748_1153_11eb_8b1f_d8ca52fa8622row9_col5,#T_d433c748_1153_11eb_8b1f_d8ca52fa8622row9_col6,#T_d433c748_1153_11eb_8b1f_d8ca52fa8622row10_col0,#T_d433c748_1153_11eb_8b1f_d8ca52fa8622row10_col1,#T_d433c748_1153_11eb_8b1f_d8ca52fa8622row10_col2,#T_d433c748_1153_11eb_8b1f_d8ca52fa8622row10_col3,#T_d433c748_1153_11eb_8b1f_d8ca52fa8622row10_col4,#T_d433c748_1153_11eb_8b1f_d8ca52fa8622row10_col5,#T_d433c748_1153_11eb_8b1f_d8ca52fa8622row10_col6,#T_d433c748_1153_11eb_8b1f_d8ca52fa8622row11_col0,#T_d433c748_1153_11eb_8b1f_d8ca52fa8622row11_col1,#T_d433c748_1153_11eb_8b1f_d8ca52fa8622row11_col2,#T_d433c748_1153_11eb_8b1f_d8ca52fa8622row11_col3,#T_d433c748_1153_11eb_8b1f_d8ca52fa8622row11_col4,#T_d433c748_1153_11eb_8b1f_d8ca52fa8622row11_col5,#T_d433c748_1153_11eb_8b1f_d8ca52fa8622row11_col6,#T_d433c748_1153_11eb_8b1f_d8ca52fa8622row12_col0,#T_d433c748_1153_11eb_8b1f_d8ca52fa8622row12_col1,#T_d433c748_1153_11eb_8b1f_d8ca52fa8622row12_col2,#T_d433c748_1153_11eb_8b1f_d8ca52fa8622row12_col3,#T_d433c748_1153_11eb_8b1f_d8ca52fa8622row12_col4,#T_d433c748_1153_11eb_8b1f_d8ca52fa8622row12_col5,#T_d433c748_1153_11eb_8b1f_d8ca52fa8622row12_col6,#T_d433c748_1153_11eb_8b1f_d8ca52fa8622row13_col0,#T_d433c748_1153_11eb_8b1f_d8ca52fa8622row13_col1,#T_d433c748_1153_11eb_8b1f_d8ca52fa8622row13_col2,#T_d433c748_1153_11eb_8b1f_d8ca52fa8622row13_col3,#T_d433c748_1153_11eb_8b1f_d8ca52fa8622row13_col4,#T_d433c748_1153_11eb_8b1f_d8ca52fa8622row13_col5,#T_d433c748_1153_11eb_8b1f_d8ca52fa8622row13_col6,#T_d433c748_1153_11eb_8b1f_d8ca52fa8622row14_col0,#T_d433c748_1153_11eb_8b1f_d8ca52fa8622row14_col1,#T_d433c748_1153_11eb_8b1f_d8ca52fa8622row14_col2,#T_d433c748_1153_11eb_8b1f_d8ca52fa8622row14_col3,#T_d433c748_1153_11eb_8b1f_d8ca52fa8622row14_col4,#T_d433c748_1153_11eb_8b1f_d8ca52fa8622row14_col5,#T_d433c748_1153_11eb_8b1f_d8ca52fa8622row14_col6,#T_d433c748_1153_11eb_8b1f_d8ca52fa8622row15_col0,#T_d433c748_1153_11eb_8b1f_d8ca52fa8622row15_col1,#T_d433c748_1153_11eb_8b1f_d8ca52fa8622row15_col2,#T_d433c748_1153_11eb_8b1f_d8ca52fa8622row15_col3,#T_d433c748_1153_11eb_8b1f_d8ca52fa8622row15_col4,#T_d433c748_1153_11eb_8b1f_d8ca52fa8622row15_col5,#T_d433c748_1153_11eb_8b1f_d8ca52fa8622row15_col6,#T_d433c748_1153_11eb_8b1f_d8ca52fa8622row16_col0,#T_d433c748_1153_11eb_8b1f_d8ca52fa8622row16_col1,#T_d433c748_1153_11eb_8b1f_d8ca52fa8622row16_col2,#T_d433c748_1153_11eb_8b1f_d8ca52fa8622row16_col3,#T_d433c748_1153_11eb_8b1f_d8ca52fa8622row16_col4,#T_d433c748_1153_11eb_8b1f_d8ca52fa8622row16_col5,#T_d433c748_1153_11eb_8b1f_d8ca52fa8622row16_col6,#T_d433c748_1153_11eb_8b1f_d8ca52fa8622row17_col0,#T_d433c748_1153_11eb_8b1f_d8ca52fa8622row17_col1,#T_d433c748_1153_11eb_8b1f_d8ca52fa8622row17_col2,#T_d433c748_1153_11eb_8b1f_d8ca52fa8622row17_col3,#T_d433c748_1153_11eb_8b1f_d8ca52fa8622row17_col4,#T_d433c748_1153_11eb_8b1f_d8ca52fa8622row17_col5,#T_d433c748_1153_11eb_8b1f_d8ca52fa8622row17_col6,#T_d433c748_1153_11eb_8b1f_d8ca52fa8622row18_col0,#T_d433c748_1153_11eb_8b1f_d8ca52fa8622row18_col1,#T_d433c748_1153_11eb_8b1f_d8ca52fa8622row18_col2,#T_d433c748_1153_11eb_8b1f_d8ca52fa8622row18_col3,#T_d433c748_1153_11eb_8b1f_d8ca52fa8622row18_col4,#T_d433c748_1153_11eb_8b1f_d8ca52fa8622row18_col5,#T_d433c748_1153_11eb_8b1f_d8ca52fa8622row18_col6,#T_d433c748_1153_11eb_8b1f_d8ca52fa8622row19_col0,#T_d433c748_1153_11eb_8b1f_d8ca52fa8622row19_col1,#T_d433c748_1153_11eb_8b1f_d8ca52fa8622row19_col2,#T_d433c748_1153_11eb_8b1f_d8ca52fa8622row19_col3,#T_d433c748_1153_11eb_8b1f_d8ca52fa8622row19_col4,#T_d433c748_1153_11eb_8b1f_d8ca52fa8622row19_col5,#T_d433c748_1153_11eb_8b1f_d8ca52fa8622row19_col6,#T_d433c748_1153_11eb_8b1f_d8ca52fa8622row20_col0,#T_d433c748_1153_11eb_8b1f_d8ca52fa8622row20_col1,#T_d433c748_1153_11eb_8b1f_d8ca52fa8622row20_col2,#T_d433c748_1153_11eb_8b1f_d8ca52fa8622row20_col3,#T_d433c748_1153_11eb_8b1f_d8ca52fa8622row20_col4,#T_d433c748_1153_11eb_8b1f_d8ca52fa8622row20_col5,#T_d433c748_1153_11eb_8b1f_d8ca52fa8622row20_col6,#T_d433c748_1153_11eb_8b1f_d8ca52fa8622row21_col0,#T_d433c748_1153_11eb_8b1f_d8ca52fa8622row21_col1,#T_d433c748_1153_11eb_8b1f_d8ca52fa8622row21_col2,#T_d433c748_1153_11eb_8b1f_d8ca52fa8622row21_col3,#T_d433c748_1153_11eb_8b1f_d8ca52fa8622row21_col4,#T_d433c748_1153_11eb_8b1f_d8ca52fa8622row21_col5,#T_d433c748_1153_11eb_8b1f_d8ca52fa8622row21_col6{\n",
       "            text-align:  left;\n",
       "        }#T_d433c748_1153_11eb_8b1f_d8ca52fa8622row0_col1,#T_d433c748_1153_11eb_8b1f_d8ca52fa8622row0_col2,#T_d433c748_1153_11eb_8b1f_d8ca52fa8622row0_col3,#T_d433c748_1153_11eb_8b1f_d8ca52fa8622row0_col4,#T_d433c748_1153_11eb_8b1f_d8ca52fa8622row0_col5,#T_d433c748_1153_11eb_8b1f_d8ca52fa8622row4_col6{\n",
       "            background-color:  yellow;\n",
       "            text-align:  left;\n",
       "        }#T_d433c748_1153_11eb_8b1f_d8ca52fa8622row0_col7,#T_d433c748_1153_11eb_8b1f_d8ca52fa8622row1_col7,#T_d433c748_1153_11eb_8b1f_d8ca52fa8622row2_col7,#T_d433c748_1153_11eb_8b1f_d8ca52fa8622row3_col7,#T_d433c748_1153_11eb_8b1f_d8ca52fa8622row4_col7,#T_d433c748_1153_11eb_8b1f_d8ca52fa8622row5_col7,#T_d433c748_1153_11eb_8b1f_d8ca52fa8622row6_col7,#T_d433c748_1153_11eb_8b1f_d8ca52fa8622row7_col7,#T_d433c748_1153_11eb_8b1f_d8ca52fa8622row8_col7,#T_d433c748_1153_11eb_8b1f_d8ca52fa8622row9_col7,#T_d433c748_1153_11eb_8b1f_d8ca52fa8622row10_col7,#T_d433c748_1153_11eb_8b1f_d8ca52fa8622row11_col7,#T_d433c748_1153_11eb_8b1f_d8ca52fa8622row12_col7,#T_d433c748_1153_11eb_8b1f_d8ca52fa8622row13_col7,#T_d433c748_1153_11eb_8b1f_d8ca52fa8622row14_col7,#T_d433c748_1153_11eb_8b1f_d8ca52fa8622row15_col7,#T_d433c748_1153_11eb_8b1f_d8ca52fa8622row16_col7,#T_d433c748_1153_11eb_8b1f_d8ca52fa8622row17_col7,#T_d433c748_1153_11eb_8b1f_d8ca52fa8622row18_col7,#T_d433c748_1153_11eb_8b1f_d8ca52fa8622row19_col7,#T_d433c748_1153_11eb_8b1f_d8ca52fa8622row20_col7,#T_d433c748_1153_11eb_8b1f_d8ca52fa8622row21_col7{\n",
       "            background-color:  lightgrey;\n",
       "            text-align:  left;\n",
       "        }</style><table id=\"T_d433c748_1153_11eb_8b1f_d8ca52fa8622\" ><thead>    <tr>        <th class=\"blank level0\" ></th>        <th class=\"col_heading level0 col0\" >Model</th>        <th class=\"col_heading level0 col1\" >MAE</th>        <th class=\"col_heading level0 col2\" >MSE</th>        <th class=\"col_heading level0 col3\" >RMSE</th>        <th class=\"col_heading level0 col4\" >R2</th>        <th class=\"col_heading level0 col5\" >RMSLE</th>        <th class=\"col_heading level0 col6\" >MAPE</th>        <th class=\"col_heading level0 col7\" >TT (Sec)</th>    </tr></thead><tbody>\n",
       "                <tr>\n",
       "                        <th id=\"T_d433c748_1153_11eb_8b1f_d8ca52fa8622level0_row0\" class=\"row_heading level0 row0\" >0</th>\n",
       "                        <td id=\"T_d433c748_1153_11eb_8b1f_d8ca52fa8622row0_col0\" class=\"data row0 col0\" >Gradient Boosting Regressor</td>\n",
       "                        <td id=\"T_d433c748_1153_11eb_8b1f_d8ca52fa8622row0_col1\" class=\"data row0 col1\" >33565.6798</td>\n",
       "                        <td id=\"T_d433c748_1153_11eb_8b1f_d8ca52fa8622row0_col2\" class=\"data row0 col2\" >1873091566.1455</td>\n",
       "                        <td id=\"T_d433c748_1153_11eb_8b1f_d8ca52fa8622row0_col3\" class=\"data row0 col3\" >43182.3267</td>\n",
       "                        <td id=\"T_d433c748_1153_11eb_8b1f_d8ca52fa8622row0_col4\" class=\"data row0 col4\" >0.2631</td>\n",
       "                        <td id=\"T_d433c748_1153_11eb_8b1f_d8ca52fa8622row0_col5\" class=\"data row0 col5\" >0.3379</td>\n",
       "                        <td id=\"T_d433c748_1153_11eb_8b1f_d8ca52fa8622row0_col6\" class=\"data row0 col6\" >0.2908</td>\n",
       "                        <td id=\"T_d433c748_1153_11eb_8b1f_d8ca52fa8622row0_col7\" class=\"data row0 col7\" >3.9087</td>\n",
       "            </tr>\n",
       "            <tr>\n",
       "                        <th id=\"T_d433c748_1153_11eb_8b1f_d8ca52fa8622level0_row1\" class=\"row_heading level0 row1\" >1</th>\n",
       "                        <td id=\"T_d433c748_1153_11eb_8b1f_d8ca52fa8622row1_col0\" class=\"data row1 col0\" >CatBoost Regressor</td>\n",
       "                        <td id=\"T_d433c748_1153_11eb_8b1f_d8ca52fa8622row1_col1\" class=\"data row1 col1\" >33871.6444</td>\n",
       "                        <td id=\"T_d433c748_1153_11eb_8b1f_d8ca52fa8622row1_col2\" class=\"data row1 col2\" >1901561768.1731</td>\n",
       "                        <td id=\"T_d433c748_1153_11eb_8b1f_d8ca52fa8622row1_col3\" class=\"data row1 col3\" >43516.4012</td>\n",
       "                        <td id=\"T_d433c748_1153_11eb_8b1f_d8ca52fa8622row1_col4\" class=\"data row1 col4\" >0.2527</td>\n",
       "                        <td id=\"T_d433c748_1153_11eb_8b1f_d8ca52fa8622row1_col5\" class=\"data row1 col5\" >0.3437</td>\n",
       "                        <td id=\"T_d433c748_1153_11eb_8b1f_d8ca52fa8622row1_col6\" class=\"data row1 col6\" >0.2952</td>\n",
       "                        <td id=\"T_d433c748_1153_11eb_8b1f_d8ca52fa8622row1_col7\" class=\"data row1 col7\" >73.2293</td>\n",
       "            </tr>\n",
       "            <tr>\n",
       "                        <th id=\"T_d433c748_1153_11eb_8b1f_d8ca52fa8622level0_row2\" class=\"row_heading level0 row2\" >2</th>\n",
       "                        <td id=\"T_d433c748_1153_11eb_8b1f_d8ca52fa8622row2_col0\" class=\"data row2 col0\" >Random Forest</td>\n",
       "                        <td id=\"T_d433c748_1153_11eb_8b1f_d8ca52fa8622row2_col1\" class=\"data row2 col1\" >33994.9846</td>\n",
       "                        <td id=\"T_d433c748_1153_11eb_8b1f_d8ca52fa8622row2_col2\" class=\"data row2 col2\" >1927984915.7232</td>\n",
       "                        <td id=\"T_d433c748_1153_11eb_8b1f_d8ca52fa8622row2_col3\" class=\"data row2 col3\" >43865.0794</td>\n",
       "                        <td id=\"T_d433c748_1153_11eb_8b1f_d8ca52fa8622row2_col4\" class=\"data row2 col4\" >0.2402</td>\n",
       "                        <td id=\"T_d433c748_1153_11eb_8b1f_d8ca52fa8622row2_col5\" class=\"data row2 col5\" >0.3451</td>\n",
       "                        <td id=\"T_d433c748_1153_11eb_8b1f_d8ca52fa8622row2_col6\" class=\"data row2 col6\" >0.2968</td>\n",
       "                        <td id=\"T_d433c748_1153_11eb_8b1f_d8ca52fa8622row2_col7\" class=\"data row2 col7\" >2.3578</td>\n",
       "            </tr>\n",
       "            <tr>\n",
       "                        <th id=\"T_d433c748_1153_11eb_8b1f_d8ca52fa8622level0_row3\" class=\"row_heading level0 row3\" >3</th>\n",
       "                        <td id=\"T_d433c748_1153_11eb_8b1f_d8ca52fa8622row3_col0\" class=\"data row3 col0\" >Support Vector Machine</td>\n",
       "                        <td id=\"T_d433c748_1153_11eb_8b1f_d8ca52fa8622row3_col1\" class=\"data row3 col1\" >33842.5272</td>\n",
       "                        <td id=\"T_d433c748_1153_11eb_8b1f_d8ca52fa8622row3_col2\" class=\"data row3 col2\" >1954574148.7029</td>\n",
       "                        <td id=\"T_d433c748_1153_11eb_8b1f_d8ca52fa8622row3_col3\" class=\"data row3 col3\" >44164.2094</td>\n",
       "                        <td id=\"T_d433c748_1153_11eb_8b1f_d8ca52fa8622row3_col4\" class=\"data row3 col4\" >0.2305</td>\n",
       "                        <td id=\"T_d433c748_1153_11eb_8b1f_d8ca52fa8622row3_col5\" class=\"data row3 col5\" >0.3501</td>\n",
       "                        <td id=\"T_d433c748_1153_11eb_8b1f_d8ca52fa8622row3_col6\" class=\"data row3 col6\" >0.3048</td>\n",
       "                        <td id=\"T_d433c748_1153_11eb_8b1f_d8ca52fa8622row3_col7\" class=\"data row3 col7\" >1.6416</td>\n",
       "            </tr>\n",
       "            <tr>\n",
       "                        <th id=\"T_d433c748_1153_11eb_8b1f_d8ca52fa8622level0_row4\" class=\"row_heading level0 row4\" >4</th>\n",
       "                        <td id=\"T_d433c748_1153_11eb_8b1f_d8ca52fa8622row4_col0\" class=\"data row4 col0\" >AdaBoost Regressor</td>\n",
       "                        <td id=\"T_d433c748_1153_11eb_8b1f_d8ca52fa8622row4_col1\" class=\"data row4 col1\" >34248.3122</td>\n",
       "                        <td id=\"T_d433c748_1153_11eb_8b1f_d8ca52fa8622row4_col2\" class=\"data row4 col2\" >1989843899.2476</td>\n",
       "                        <td id=\"T_d433c748_1153_11eb_8b1f_d8ca52fa8622row4_col3\" class=\"data row4 col3\" >44484.3460</td>\n",
       "                        <td id=\"T_d433c748_1153_11eb_8b1f_d8ca52fa8622row4_col4\" class=\"data row4 col4\" >0.2142</td>\n",
       "                        <td id=\"T_d433c748_1153_11eb_8b1f_d8ca52fa8622row4_col5\" class=\"data row4 col5\" >0.3445</td>\n",
       "                        <td id=\"T_d433c748_1153_11eb_8b1f_d8ca52fa8622row4_col6\" class=\"data row4 col6\" >0.2898</td>\n",
       "                        <td id=\"T_d433c748_1153_11eb_8b1f_d8ca52fa8622row4_col7\" class=\"data row4 col7\" >3.7911</td>\n",
       "            </tr>\n",
       "            <tr>\n",
       "                        <th id=\"T_d433c748_1153_11eb_8b1f_d8ca52fa8622level0_row5\" class=\"row_heading level0 row5\" >5</th>\n",
       "                        <td id=\"T_d433c748_1153_11eb_8b1f_d8ca52fa8622row5_col0\" class=\"data row5 col0\" >Bayesian Ridge</td>\n",
       "                        <td id=\"T_d433c748_1153_11eb_8b1f_d8ca52fa8622row5_col1\" class=\"data row5 col1\" >33602.0796</td>\n",
       "                        <td id=\"T_d433c748_1153_11eb_8b1f_d8ca52fa8622row5_col2\" class=\"data row5 col2\" >2003859735.4108</td>\n",
       "                        <td id=\"T_d433c748_1153_11eb_8b1f_d8ca52fa8622row5_col3\" class=\"data row5 col3\" >44678.8054</td>\n",
       "                        <td id=\"T_d433c748_1153_11eb_8b1f_d8ca52fa8622row5_col4\" class=\"data row5 col4\" >0.2107</td>\n",
       "                        <td id=\"T_d433c748_1153_11eb_8b1f_d8ca52fa8622row5_col5\" class=\"data row5 col5\" >0.3457</td>\n",
       "                        <td id=\"T_d433c748_1153_11eb_8b1f_d8ca52fa8622row5_col6\" class=\"data row5 col6\" >0.2930</td>\n",
       "                        <td id=\"T_d433c748_1153_11eb_8b1f_d8ca52fa8622row5_col7\" class=\"data row5 col7\" >3.5270</td>\n",
       "            </tr>\n",
       "            <tr>\n",
       "                        <th id=\"T_d433c748_1153_11eb_8b1f_d8ca52fa8622level0_row6\" class=\"row_heading level0 row6\" >6</th>\n",
       "                        <td id=\"T_d433c748_1153_11eb_8b1f_d8ca52fa8622row6_col0\" class=\"data row6 col0\" >K Neighbors Regressor</td>\n",
       "                        <td id=\"T_d433c748_1153_11eb_8b1f_d8ca52fa8622row6_col1\" class=\"data row6 col1\" >35350.7234</td>\n",
       "                        <td id=\"T_d433c748_1153_11eb_8b1f_d8ca52fa8622row6_col2\" class=\"data row6 col2\" >2042460979.2000</td>\n",
       "                        <td id=\"T_d433c748_1153_11eb_8b1f_d8ca52fa8622row6_col3\" class=\"data row6 col3\" >45172.3773</td>\n",
       "                        <td id=\"T_d433c748_1153_11eb_8b1f_d8ca52fa8622row6_col4\" class=\"data row6 col4\" >0.1945</td>\n",
       "                        <td id=\"T_d433c748_1153_11eb_8b1f_d8ca52fa8622row6_col5\" class=\"data row6 col5\" >0.3559</td>\n",
       "                        <td id=\"T_d433c748_1153_11eb_8b1f_d8ca52fa8622row6_col6\" class=\"data row6 col6\" >0.3074</td>\n",
       "                        <td id=\"T_d433c748_1153_11eb_8b1f_d8ca52fa8622row6_col7\" class=\"data row6 col7\" >0.2876</td>\n",
       "            </tr>\n",
       "            <tr>\n",
       "                        <th id=\"T_d433c748_1153_11eb_8b1f_d8ca52fa8622level0_row7\" class=\"row_heading level0 row7\" >7</th>\n",
       "                        <td id=\"T_d433c748_1153_11eb_8b1f_d8ca52fa8622row7_col0\" class=\"data row7 col0\" >Extra Trees Regressor</td>\n",
       "                        <td id=\"T_d433c748_1153_11eb_8b1f_d8ca52fa8622row7_col1\" class=\"data row7 col1\" >35238.6756</td>\n",
       "                        <td id=\"T_d433c748_1153_11eb_8b1f_d8ca52fa8622row7_col2\" class=\"data row7 col2\" >2071224827.2562</td>\n",
       "                        <td id=\"T_d433c748_1153_11eb_8b1f_d8ca52fa8622row7_col3\" class=\"data row7 col3\" >45459.0042</td>\n",
       "                        <td id=\"T_d433c748_1153_11eb_8b1f_d8ca52fa8622row7_col4\" class=\"data row7 col4\" >0.1850</td>\n",
       "                        <td id=\"T_d433c748_1153_11eb_8b1f_d8ca52fa8622row7_col5\" class=\"data row7 col5\" >0.3634</td>\n",
       "                        <td id=\"T_d433c748_1153_11eb_8b1f_d8ca52fa8622row7_col6\" class=\"data row7 col6\" >0.3136</td>\n",
       "                        <td id=\"T_d433c748_1153_11eb_8b1f_d8ca52fa8622row7_col7\" class=\"data row7 col7\" >3.3529</td>\n",
       "            </tr>\n",
       "            <tr>\n",
       "                        <th id=\"T_d433c748_1153_11eb_8b1f_d8ca52fa8622level0_row8\" class=\"row_heading level0 row8\" >8</th>\n",
       "                        <td id=\"T_d433c748_1153_11eb_8b1f_d8ca52fa8622row8_col0\" class=\"data row8 col0\" >Light Gradient Boosting Machine</td>\n",
       "                        <td id=\"T_d433c748_1153_11eb_8b1f_d8ca52fa8622row8_col1\" class=\"data row8 col1\" >36352.0515</td>\n",
       "                        <td id=\"T_d433c748_1153_11eb_8b1f_d8ca52fa8622row8_col2\" class=\"data row8 col2\" >2131104051.0252</td>\n",
       "                        <td id=\"T_d433c748_1153_11eb_8b1f_d8ca52fa8622row8_col3\" class=\"data row8 col3\" >46132.4827</td>\n",
       "                        <td id=\"T_d433c748_1153_11eb_8b1f_d8ca52fa8622row8_col4\" class=\"data row8 col4\" >0.1588</td>\n",
       "                        <td id=\"T_d433c748_1153_11eb_8b1f_d8ca52fa8622row8_col5\" class=\"data row8 col5\" >0.3614</td>\n",
       "                        <td id=\"T_d433c748_1153_11eb_8b1f_d8ca52fa8622row8_col6\" class=\"data row8 col6\" >0.3126</td>\n",
       "                        <td id=\"T_d433c748_1153_11eb_8b1f_d8ca52fa8622row8_col7\" class=\"data row8 col7\" >0.3937</td>\n",
       "            </tr>\n",
       "            <tr>\n",
       "                        <th id=\"T_d433c748_1153_11eb_8b1f_d8ca52fa8622level0_row9\" class=\"row_heading level0 row9\" >9</th>\n",
       "                        <td id=\"T_d433c748_1153_11eb_8b1f_d8ca52fa8622row9_col0\" class=\"data row9 col0\" >Extreme Gradient Boosting</td>\n",
       "                        <td id=\"T_d433c748_1153_11eb_8b1f_d8ca52fa8622row9_col1\" class=\"data row9 col1\" >36618.9555</td>\n",
       "                        <td id=\"T_d433c748_1153_11eb_8b1f_d8ca52fa8622row9_col2\" class=\"data row9 col2\" >2216280115.2000</td>\n",
       "                        <td id=\"T_d433c748_1153_11eb_8b1f_d8ca52fa8622row9_col3\" class=\"data row9 col3\" >47011.8086</td>\n",
       "                        <td id=\"T_d433c748_1153_11eb_8b1f_d8ca52fa8622row9_col4\" class=\"data row9 col4\" >0.1271</td>\n",
       "                        <td id=\"T_d433c748_1153_11eb_8b1f_d8ca52fa8622row9_col5\" class=\"data row9 col5\" >0.3712</td>\n",
       "                        <td id=\"T_d433c748_1153_11eb_8b1f_d8ca52fa8622row9_col6\" class=\"data row9 col6\" >0.3164</td>\n",
       "                        <td id=\"T_d433c748_1153_11eb_8b1f_d8ca52fa8622row9_col7\" class=\"data row9 col7\" >4.7517</td>\n",
       "            </tr>\n",
       "            <tr>\n",
       "                        <th id=\"T_d433c748_1153_11eb_8b1f_d8ca52fa8622level0_row10\" class=\"row_heading level0 row10\" >10</th>\n",
       "                        <td id=\"T_d433c748_1153_11eb_8b1f_d8ca52fa8622row10_col0\" class=\"data row10 col0\" >Huber Regressor</td>\n",
       "                        <td id=\"T_d433c748_1153_11eb_8b1f_d8ca52fa8622row10_col1\" class=\"data row10 col1\" >36353.4321</td>\n",
       "                        <td id=\"T_d433c748_1153_11eb_8b1f_d8ca52fa8622row10_col2\" class=\"data row10 col2\" >2376397372.7375</td>\n",
       "                        <td id=\"T_d433c748_1153_11eb_8b1f_d8ca52fa8622row10_col3\" class=\"data row10 col3\" >48534.9645</td>\n",
       "                        <td id=\"T_d433c748_1153_11eb_8b1f_d8ca52fa8622row10_col4\" class=\"data row10 col4\" >0.0701</td>\n",
       "                        <td id=\"T_d433c748_1153_11eb_8b1f_d8ca52fa8622row10_col5\" class=\"data row10 col5\" >0.3731</td>\n",
       "                        <td id=\"T_d433c748_1153_11eb_8b1f_d8ca52fa8622row10_col6\" class=\"data row10 col6\" >0.3226</td>\n",
       "                        <td id=\"T_d433c748_1153_11eb_8b1f_d8ca52fa8622row10_col7\" class=\"data row10 col7\" >4.4260</td>\n",
       "            </tr>\n",
       "            <tr>\n",
       "                        <th id=\"T_d433c748_1153_11eb_8b1f_d8ca52fa8622level0_row11\" class=\"row_heading level0 row11\" >11</th>\n",
       "                        <td id=\"T_d433c748_1153_11eb_8b1f_d8ca52fa8622row11_col0\" class=\"data row11 col0\" >Elastic Net</td>\n",
       "                        <td id=\"T_d433c748_1153_11eb_8b1f_d8ca52fa8622row11_col1\" class=\"data row11 col1\" >38749.4614</td>\n",
       "                        <td id=\"T_d433c748_1153_11eb_8b1f_d8ca52fa8622row11_col2\" class=\"data row11 col2\" >2593810098.2923</td>\n",
       "                        <td id=\"T_d433c748_1153_11eb_8b1f_d8ca52fa8622row11_col3\" class=\"data row11 col3\" >50859.8068</td>\n",
       "                        <td id=\"T_d433c748_1153_11eb_8b1f_d8ca52fa8622row11_col4\" class=\"data row11 col4\" >-0.0178</td>\n",
       "                        <td id=\"T_d433c748_1153_11eb_8b1f_d8ca52fa8622row11_col5\" class=\"data row11 col5\" >0.3912</td>\n",
       "                        <td id=\"T_d433c748_1153_11eb_8b1f_d8ca52fa8622row11_col6\" class=\"data row11 col6\" >0.3384</td>\n",
       "                        <td id=\"T_d433c748_1153_11eb_8b1f_d8ca52fa8622row11_col7\" class=\"data row11 col7\" >1.2648</td>\n",
       "            </tr>\n",
       "            <tr>\n",
       "                        <th id=\"T_d433c748_1153_11eb_8b1f_d8ca52fa8622level0_row12\" class=\"row_heading level0 row12\" >12</th>\n",
       "                        <td id=\"T_d433c748_1153_11eb_8b1f_d8ca52fa8622row12_col0\" class=\"data row12 col0\" >Lasso Regression</td>\n",
       "                        <td id=\"T_d433c748_1153_11eb_8b1f_d8ca52fa8622row12_col1\" class=\"data row12 col1\" >38864.6511</td>\n",
       "                        <td id=\"T_d433c748_1153_11eb_8b1f_d8ca52fa8622row12_col2\" class=\"data row12 col2\" >2608936777.9587</td>\n",
       "                        <td id=\"T_d433c748_1153_11eb_8b1f_d8ca52fa8622row12_col3\" class=\"data row12 col3\" >51006.1087</td>\n",
       "                        <td id=\"T_d433c748_1153_11eb_8b1f_d8ca52fa8622row12_col4\" class=\"data row12 col4\" >-0.0236</td>\n",
       "                        <td id=\"T_d433c748_1153_11eb_8b1f_d8ca52fa8622row12_col5\" class=\"data row12 col5\" >0.3924</td>\n",
       "                        <td id=\"T_d433c748_1153_11eb_8b1f_d8ca52fa8622row12_col6\" class=\"data row12 col6\" >0.3396</td>\n",
       "                        <td id=\"T_d433c748_1153_11eb_8b1f_d8ca52fa8622row12_col7\" class=\"data row12 col7\" >0.1518</td>\n",
       "            </tr>\n",
       "            <tr>\n",
       "                        <th id=\"T_d433c748_1153_11eb_8b1f_d8ca52fa8622level0_row13\" class=\"row_heading level0 row13\" >13</th>\n",
       "                        <td id=\"T_d433c748_1153_11eb_8b1f_d8ca52fa8622row13_col0\" class=\"data row13 col0\" >Lasso Least Angle Regression</td>\n",
       "                        <td id=\"T_d433c748_1153_11eb_8b1f_d8ca52fa8622row13_col1\" class=\"data row13 col1\" >38909.3617</td>\n",
       "                        <td id=\"T_d433c748_1153_11eb_8b1f_d8ca52fa8622row13_col2\" class=\"data row13 col2\" >2609308220.1063</td>\n",
       "                        <td id=\"T_d433c748_1153_11eb_8b1f_d8ca52fa8622row13_col3\" class=\"data row13 col3\" >51009.6342</td>\n",
       "                        <td id=\"T_d433c748_1153_11eb_8b1f_d8ca52fa8622row13_col4\" class=\"data row13 col4\" >-0.0238</td>\n",
       "                        <td id=\"T_d433c748_1153_11eb_8b1f_d8ca52fa8622row13_col5\" class=\"data row13 col5\" >0.3926</td>\n",
       "                        <td id=\"T_d433c748_1153_11eb_8b1f_d8ca52fa8622row13_col6\" class=\"data row13 col6\" >0.3403</td>\n",
       "                        <td id=\"T_d433c748_1153_11eb_8b1f_d8ca52fa8622row13_col7\" class=\"data row13 col7\" >0.1475</td>\n",
       "            </tr>\n",
       "            <tr>\n",
       "                        <th id=\"T_d433c748_1153_11eb_8b1f_d8ca52fa8622level0_row14\" class=\"row_heading level0 row14\" >14</th>\n",
       "                        <td id=\"T_d433c748_1153_11eb_8b1f_d8ca52fa8622row14_col0\" class=\"data row14 col0\" >Decision Tree</td>\n",
       "                        <td id=\"T_d433c748_1153_11eb_8b1f_d8ca52fa8622row14_col1\" class=\"data row14 col1\" >44753.5064</td>\n",
       "                        <td id=\"T_d433c748_1153_11eb_8b1f_d8ca52fa8622row14_col2\" class=\"data row14 col2\" >3228507976.0965</td>\n",
       "                        <td id=\"T_d433c748_1153_11eb_8b1f_d8ca52fa8622row14_col3\" class=\"data row14 col3\" >56794.0444</td>\n",
       "                        <td id=\"T_d433c748_1153_11eb_8b1f_d8ca52fa8622row14_col4\" class=\"data row14 col4\" >-0.2741</td>\n",
       "                        <td id=\"T_d433c748_1153_11eb_8b1f_d8ca52fa8622row14_col5\" class=\"data row14 col5\" >0.4529</td>\n",
       "                        <td id=\"T_d433c748_1153_11eb_8b1f_d8ca52fa8622row14_col6\" class=\"data row14 col6\" >0.3864</td>\n",
       "                        <td id=\"T_d433c748_1153_11eb_8b1f_d8ca52fa8622row14_col7\" class=\"data row14 col7\" >0.1949</td>\n",
       "            </tr>\n",
       "            <tr>\n",
       "                        <th id=\"T_d433c748_1153_11eb_8b1f_d8ca52fa8622level0_row15\" class=\"row_heading level0 row15\" >15</th>\n",
       "                        <td id=\"T_d433c748_1153_11eb_8b1f_d8ca52fa8622row15_col0\" class=\"data row15 col0\" >Ridge Regression</td>\n",
       "                        <td id=\"T_d433c748_1153_11eb_8b1f_d8ca52fa8622row15_col1\" class=\"data row15 col1\" >47087.4435</td>\n",
       "                        <td id=\"T_d433c748_1153_11eb_8b1f_d8ca52fa8622row15_col2\" class=\"data row15 col2\" >6971272629.2423</td>\n",
       "                        <td id=\"T_d433c748_1153_11eb_8b1f_d8ca52fa8622row15_col3\" class=\"data row15 col3\" >77040.4831</td>\n",
       "                        <td id=\"T_d433c748_1153_11eb_8b1f_d8ca52fa8622row15_col4\" class=\"data row15 col4\" >-1.7088</td>\n",
       "                        <td id=\"T_d433c748_1153_11eb_8b1f_d8ca52fa8622row15_col5\" class=\"data row15 col5\" >0.4827</td>\n",
       "                        <td id=\"T_d433c748_1153_11eb_8b1f_d8ca52fa8622row15_col6\" class=\"data row15 col6\" >0.4100</td>\n",
       "                        <td id=\"T_d433c748_1153_11eb_8b1f_d8ca52fa8622row15_col7\" class=\"data row15 col7\" >0.1621</td>\n",
       "            </tr>\n",
       "            <tr>\n",
       "                        <th id=\"T_d433c748_1153_11eb_8b1f_d8ca52fa8622level0_row16\" class=\"row_heading level0 row16\" >16</th>\n",
       "                        <td id=\"T_d433c748_1153_11eb_8b1f_d8ca52fa8622row16_col0\" class=\"data row16 col0\" >Random Sample Consensus</td>\n",
       "                        <td id=\"T_d433c748_1153_11eb_8b1f_d8ca52fa8622row16_col1\" class=\"data row16 col1\" >79205.0312</td>\n",
       "                        <td id=\"T_d433c748_1153_11eb_8b1f_d8ca52fa8622row16_col2\" class=\"data row16 col2\" >38440499754.3059</td>\n",
       "                        <td id=\"T_d433c748_1153_11eb_8b1f_d8ca52fa8622row16_col3\" class=\"data row16 col3\" >164311.0915</td>\n",
       "                        <td id=\"T_d433c748_1153_11eb_8b1f_d8ca52fa8622row16_col4\" class=\"data row16 col4\" >-13.9682</td>\n",
       "                        <td id=\"T_d433c748_1153_11eb_8b1f_d8ca52fa8622row16_col5\" class=\"data row16 col5\" >1.3655</td>\n",
       "                        <td id=\"T_d433c748_1153_11eb_8b1f_d8ca52fa8622row16_col6\" class=\"data row16 col6\" >0.7142</td>\n",
       "                        <td id=\"T_d433c748_1153_11eb_8b1f_d8ca52fa8622row16_col7\" class=\"data row16 col7\" >9.5083</td>\n",
       "            </tr>\n",
       "            <tr>\n",
       "                        <th id=\"T_d433c748_1153_11eb_8b1f_d8ca52fa8622level0_row17\" class=\"row_heading level0 row17\" >17</th>\n",
       "                        <td id=\"T_d433c748_1153_11eb_8b1f_d8ca52fa8622row17_col0\" class=\"data row17 col0\" >Passive Aggressive Regressor</td>\n",
       "                        <td id=\"T_d433c748_1153_11eb_8b1f_d8ca52fa8622row17_col1\" class=\"data row17 col1\" >63964.3959</td>\n",
       "                        <td id=\"T_d433c748_1153_11eb_8b1f_d8ca52fa8622row17_col2\" class=\"data row17 col2\" >214393759252.7567</td>\n",
       "                        <td id=\"T_d433c748_1153_11eb_8b1f_d8ca52fa8622row17_col3\" class=\"data row17 col3\" >255720.0712</td>\n",
       "                        <td id=\"T_d433c748_1153_11eb_8b1f_d8ca52fa8622row17_col4\" class=\"data row17 col4\" >-88.3265</td>\n",
       "                        <td id=\"T_d433c748_1153_11eb_8b1f_d8ca52fa8622row17_col5\" class=\"data row17 col5\" >0.9146</td>\n",
       "                        <td id=\"T_d433c748_1153_11eb_8b1f_d8ca52fa8622row17_col6\" class=\"data row17 col6\" >0.5522</td>\n",
       "                        <td id=\"T_d433c748_1153_11eb_8b1f_d8ca52fa8622row17_col7\" class=\"data row17 col7\" >0.5044</td>\n",
       "            </tr>\n",
       "            <tr>\n",
       "                        <th id=\"T_d433c748_1153_11eb_8b1f_d8ca52fa8622level0_row18\" class=\"row_heading level0 row18\" >18</th>\n",
       "                        <td id=\"T_d433c748_1153_11eb_8b1f_d8ca52fa8622row18_col0\" class=\"data row18 col0\" >Linear Regression</td>\n",
       "                        <td id=\"T_d433c748_1153_11eb_8b1f_d8ca52fa8622row18_col1\" class=\"data row18 col1\" >954127.9721</td>\n",
       "                        <td id=\"T_d433c748_1153_11eb_8b1f_d8ca52fa8622row18_col2\" class=\"data row18 col2\" >30682047266502.0430</td>\n",
       "                        <td id=\"T_d433c748_1153_11eb_8b1f_d8ca52fa8622row18_col3\" class=\"data row18 col3\" >3910946.6837</td>\n",
       "                        <td id=\"T_d433c748_1153_11eb_8b1f_d8ca52fa8622row18_col4\" class=\"data row18 col4\" >-12873.9948</td>\n",
       "                        <td id=\"T_d433c748_1153_11eb_8b1f_d8ca52fa8622row18_col5\" class=\"data row18 col5\" >4.2924</td>\n",
       "                        <td id=\"T_d433c748_1153_11eb_8b1f_d8ca52fa8622row18_col6\" class=\"data row18 col6\" >8.6098</td>\n",
       "                        <td id=\"T_d433c748_1153_11eb_8b1f_d8ca52fa8622row18_col7\" class=\"data row18 col7\" >0.2384</td>\n",
       "            </tr>\n",
       "            <tr>\n",
       "                        <th id=\"T_d433c748_1153_11eb_8b1f_d8ca52fa8622level0_row19\" class=\"row_heading level0 row19\" >19</th>\n",
       "                        <td id=\"T_d433c748_1153_11eb_8b1f_d8ca52fa8622row19_col0\" class=\"data row19 col0\" >TheilSen Regressor</td>\n",
       "                        <td id=\"T_d433c748_1153_11eb_8b1f_d8ca52fa8622row19_col1\" class=\"data row19 col1\" >954253.7614</td>\n",
       "                        <td id=\"T_d433c748_1153_11eb_8b1f_d8ca52fa8622row19_col2\" class=\"data row19 col2\" >30697190863328.0312</td>\n",
       "                        <td id=\"T_d433c748_1153_11eb_8b1f_d8ca52fa8622row19_col3\" class=\"data row19 col3\" >3912553.3705</td>\n",
       "                        <td id=\"T_d433c748_1153_11eb_8b1f_d8ca52fa8622row19_col4\" class=\"data row19 col4\" >-12880.3048</td>\n",
       "                        <td id=\"T_d433c748_1153_11eb_8b1f_d8ca52fa8622row19_col5\" class=\"data row19 col5\" >4.2942</td>\n",
       "                        <td id=\"T_d433c748_1153_11eb_8b1f_d8ca52fa8622row19_col6\" class=\"data row19 col6\" >8.6111</td>\n",
       "                        <td id=\"T_d433c748_1153_11eb_8b1f_d8ca52fa8622row19_col7\" class=\"data row19 col7\" >3.4825</td>\n",
       "            </tr>\n",
       "            <tr>\n",
       "                        <th id=\"T_d433c748_1153_11eb_8b1f_d8ca52fa8622level0_row20\" class=\"row_heading level0 row20\" >20</th>\n",
       "                        <td id=\"T_d433c748_1153_11eb_8b1f_d8ca52fa8622row20_col0\" class=\"data row20 col0\" >Orthogonal Matching Pursuit</td>\n",
       "                        <td id=\"T_d433c748_1153_11eb_8b1f_d8ca52fa8622row20_col1\" class=\"data row20 col1\" >211882055.0372</td>\n",
       "                        <td id=\"T_d433c748_1153_11eb_8b1f_d8ca52fa8622row20_col2\" class=\"data row20 col2\" >2921485376480482816.0000</td>\n",
       "                        <td id=\"T_d433c748_1153_11eb_8b1f_d8ca52fa8622row20_col3\" class=\"data row20 col3\" >1330327041.4423</td>\n",
       "                        <td id=\"T_d433c748_1153_11eb_8b1f_d8ca52fa8622row20_col4\" class=\"data row20 col4\" >-1203291795.6855</td>\n",
       "                        <td id=\"T_d433c748_1153_11eb_8b1f_d8ca52fa8622row20_col5\" class=\"data row20 col5\" >7.0785</td>\n",
       "                        <td id=\"T_d433c748_1153_11eb_8b1f_d8ca52fa8622row20_col6\" class=\"data row20 col6\" >2013.5914</td>\n",
       "                        <td id=\"T_d433c748_1153_11eb_8b1f_d8ca52fa8622row20_col7\" class=\"data row20 col7\" >1.1062</td>\n",
       "            </tr>\n",
       "            <tr>\n",
       "                        <th id=\"T_d433c748_1153_11eb_8b1f_d8ca52fa8622level0_row21\" class=\"row_heading level0 row21\" >21</th>\n",
       "                        <td id=\"T_d433c748_1153_11eb_8b1f_d8ca52fa8622row21_col0\" class=\"data row21 col0\" >Least Angle Regression</td>\n",
       "                        <td id=\"T_d433c748_1153_11eb_8b1f_d8ca52fa8622row21_col1\" class=\"data row21 col1\" >2106841806668230812730346064728033750538018868953088.0000</td>\n",
       "                        <td id=\"T_d433c748_1153_11eb_8b1f_d8ca52fa8622row21_col2\" class=\"data row21 col2\" >1401930701308971819427386190172711487187457574466719452785530516850520606780420169642637422607246748024832.0000</td>\n",
       "                        <td id=\"T_d433c748_1153_11eb_8b1f_d8ca52fa8622row21_col3\" class=\"data row21 col3\" >16745933781941072040744556829420862184512674997469184.0000</td>\n",
       "                        <td id=\"T_d433c748_1153_11eb_8b1f_d8ca52fa8622row21_col4\" class=\"data row21 col4\" >-584719702787786198634955722156072358744557791579527002061772663228791313792429592594737046487040.0000</td>\n",
       "                        <td id=\"T_d433c748_1153_11eb_8b1f_d8ca52fa8622row21_col5\" class=\"data row21 col5\" >22.7953</td>\n",
       "                        <td id=\"T_d433c748_1153_11eb_8b1f_d8ca52fa8622row21_col6\" class=\"data row21 col6\" >16295558528881837780184243592228844716955795456.0000</td>\n",
       "                        <td id=\"T_d433c748_1153_11eb_8b1f_d8ca52fa8622row21_col7\" class=\"data row21 col7\" >1.4227</td>\n",
       "            </tr>\n",
       "    </tbody></table>"
      ],
      "text/plain": [
       "<pandas.io.formats.style.Styler at 0x20d3c707400>"
      ]
     },
     "metadata": {},
     "output_type": "display_data"
    },
    {
     "data": {
      "text/plain": [
       "[GradientBoostingRegressor(alpha=0.9, ccp_alpha=0.0, criterion='friedman_mse',\n",
       "                           init=None, learning_rate=0.1, loss='ls', max_depth=3,\n",
       "                           max_features=None, max_leaf_nodes=None,\n",
       "                           min_impurity_decrease=0.0, min_impurity_split=None,\n",
       "                           min_samples_leaf=1, min_samples_split=2,\n",
       "                           min_weight_fraction_leaf=0.0, n_estimators=100,\n",
       "                           n_iter_no_change=None, presort='deprecated',\n",
       "                           random_state=123, subsample=1.0, tol=0.0001,\n",
       "                           validation_fraction=0.1, verbose=0, warm_start=False),\n",
       " <catboost.core.CatBoostRegressor at 0x20d37548e80>,\n",
       " RandomForestRegressor(bootstrap=True, ccp_alpha=0.0, criterion='mse',\n",
       "                       max_depth=None, max_features='auto', max_leaf_nodes=None,\n",
       "                       max_samples=None, min_impurity_decrease=0.0,\n",
       "                       min_impurity_split=None, min_samples_leaf=1,\n",
       "                       min_samples_split=2, min_weight_fraction_leaf=0.0,\n",
       "                       n_estimators=100, n_jobs=-1, oob_score=False,\n",
       "                       random_state=123, verbose=0, warm_start=False)]"
      ]
     },
     "execution_count": 67,
     "metadata": {},
     "output_type": "execute_result"
    }
   ],
   "source": [
    "compare_models(round=4, fold=5, n_select=3)"
   ]
  },
  {
   "cell_type": "code",
   "execution_count": 68,
   "metadata": {
    "ExecuteTime": {
     "end_time": "2020-10-18T15:10:10.836315Z",
     "start_time": "2020-10-18T15:08:58.305142Z"
    }
   },
   "outputs": [
    {
     "data": {
      "text/html": [
       "<style  type=\"text/css\" >\n",
       "#T_04115a0a_1154_11eb_b94b_d8ca52fa8622row10_col0,#T_04115a0a_1154_11eb_b94b_d8ca52fa8622row10_col1,#T_04115a0a_1154_11eb_b94b_d8ca52fa8622row10_col2,#T_04115a0a_1154_11eb_b94b_d8ca52fa8622row10_col3,#T_04115a0a_1154_11eb_b94b_d8ca52fa8622row10_col4,#T_04115a0a_1154_11eb_b94b_d8ca52fa8622row10_col5{\n",
       "            background:  yellow;\n",
       "        }</style><table id=\"T_04115a0a_1154_11eb_b94b_d8ca52fa8622\" ><thead>    <tr>        <th class=\"blank level0\" ></th>        <th class=\"col_heading level0 col0\" >MAE</th>        <th class=\"col_heading level0 col1\" >MSE</th>        <th class=\"col_heading level0 col2\" >RMSE</th>        <th class=\"col_heading level0 col3\" >R2</th>        <th class=\"col_heading level0 col4\" >RMSLE</th>        <th class=\"col_heading level0 col5\" >MAPE</th>    </tr></thead><tbody>\n",
       "                <tr>\n",
       "                        <th id=\"T_04115a0a_1154_11eb_b94b_d8ca52fa8622level0_row0\" class=\"row_heading level0 row0\" >0</th>\n",
       "                        <td id=\"T_04115a0a_1154_11eb_b94b_d8ca52fa8622row0_col0\" class=\"data row0 col0\" >31765.4817</td>\n",
       "                        <td id=\"T_04115a0a_1154_11eb_b94b_d8ca52fa8622row0_col1\" class=\"data row0 col1\" >1967804869.7112</td>\n",
       "                        <td id=\"T_04115a0a_1154_11eb_b94b_d8ca52fa8622row0_col2\" class=\"data row0 col2\" >44359.9467</td>\n",
       "                        <td id=\"T_04115a0a_1154_11eb_b94b_d8ca52fa8622row0_col3\" class=\"data row0 col3\" >0.1728</td>\n",
       "                        <td id=\"T_04115a0a_1154_11eb_b94b_d8ca52fa8622row0_col4\" class=\"data row0 col4\" >0.3661</td>\n",
       "                        <td id=\"T_04115a0a_1154_11eb_b94b_d8ca52fa8622row0_col5\" class=\"data row0 col5\" >0.3018</td>\n",
       "            </tr>\n",
       "            <tr>\n",
       "                        <th id=\"T_04115a0a_1154_11eb_b94b_d8ca52fa8622level0_row1\" class=\"row_heading level0 row1\" >1</th>\n",
       "                        <td id=\"T_04115a0a_1154_11eb_b94b_d8ca52fa8622row1_col0\" class=\"data row1 col0\" >36313.9541</td>\n",
       "                        <td id=\"T_04115a0a_1154_11eb_b94b_d8ca52fa8622row1_col1\" class=\"data row1 col1\" >2023527292.0921</td>\n",
       "                        <td id=\"T_04115a0a_1154_11eb_b94b_d8ca52fa8622row1_col2\" class=\"data row1 col2\" >44983.6336</td>\n",
       "                        <td id=\"T_04115a0a_1154_11eb_b94b_d8ca52fa8622row1_col3\" class=\"data row1 col3\" >0.1445</td>\n",
       "                        <td id=\"T_04115a0a_1154_11eb_b94b_d8ca52fa8622row1_col4\" class=\"data row1 col4\" >0.3797</td>\n",
       "                        <td id=\"T_04115a0a_1154_11eb_b94b_d8ca52fa8622row1_col5\" class=\"data row1 col5\" >0.3543</td>\n",
       "            </tr>\n",
       "            <tr>\n",
       "                        <th id=\"T_04115a0a_1154_11eb_b94b_d8ca52fa8622level0_row2\" class=\"row_heading level0 row2\" >2</th>\n",
       "                        <td id=\"T_04115a0a_1154_11eb_b94b_d8ca52fa8622row2_col0\" class=\"data row2 col0\" >30705.0266</td>\n",
       "                        <td id=\"T_04115a0a_1154_11eb_b94b_d8ca52fa8622row2_col1\" class=\"data row2 col1\" >1448292494.3986</td>\n",
       "                        <td id=\"T_04115a0a_1154_11eb_b94b_d8ca52fa8622row2_col2\" class=\"data row2 col2\" >38056.4383</td>\n",
       "                        <td id=\"T_04115a0a_1154_11eb_b94b_d8ca52fa8622row2_col3\" class=\"data row2 col3\" >0.3513</td>\n",
       "                        <td id=\"T_04115a0a_1154_11eb_b94b_d8ca52fa8622row2_col4\" class=\"data row2 col4\" >0.3289</td>\n",
       "                        <td id=\"T_04115a0a_1154_11eb_b94b_d8ca52fa8622row2_col5\" class=\"data row2 col5\" >0.2901</td>\n",
       "            </tr>\n",
       "            <tr>\n",
       "                        <th id=\"T_04115a0a_1154_11eb_b94b_d8ca52fa8622level0_row3\" class=\"row_heading level0 row3\" >3</th>\n",
       "                        <td id=\"T_04115a0a_1154_11eb_b94b_d8ca52fa8622row3_col0\" class=\"data row3 col0\" >28766.5281</td>\n",
       "                        <td id=\"T_04115a0a_1154_11eb_b94b_d8ca52fa8622row3_col1\" class=\"data row3 col1\" >1380332531.3741</td>\n",
       "                        <td id=\"T_04115a0a_1154_11eb_b94b_d8ca52fa8622row3_col2\" class=\"data row3 col2\" >37152.8267</td>\n",
       "                        <td id=\"T_04115a0a_1154_11eb_b94b_d8ca52fa8622row3_col3\" class=\"data row3 col3\" >0.4571</td>\n",
       "                        <td id=\"T_04115a0a_1154_11eb_b94b_d8ca52fa8622row3_col4\" class=\"data row3 col4\" >0.2795</td>\n",
       "                        <td id=\"T_04115a0a_1154_11eb_b94b_d8ca52fa8622row3_col5\" class=\"data row3 col5\" >0.2399</td>\n",
       "            </tr>\n",
       "            <tr>\n",
       "                        <th id=\"T_04115a0a_1154_11eb_b94b_d8ca52fa8622level0_row4\" class=\"row_heading level0 row4\" >4</th>\n",
       "                        <td id=\"T_04115a0a_1154_11eb_b94b_d8ca52fa8622row4_col0\" class=\"data row4 col0\" >31900.1592</td>\n",
       "                        <td id=\"T_04115a0a_1154_11eb_b94b_d8ca52fa8622row4_col1\" class=\"data row4 col1\" >1725070164.3945</td>\n",
       "                        <td id=\"T_04115a0a_1154_11eb_b94b_d8ca52fa8622row4_col2\" class=\"data row4 col2\" >41533.9640</td>\n",
       "                        <td id=\"T_04115a0a_1154_11eb_b94b_d8ca52fa8622row4_col3\" class=\"data row4 col3\" >0.2843</td>\n",
       "                        <td id=\"T_04115a0a_1154_11eb_b94b_d8ca52fa8622row4_col4\" class=\"data row4 col4\" >0.3176</td>\n",
       "                        <td id=\"T_04115a0a_1154_11eb_b94b_d8ca52fa8622row4_col5\" class=\"data row4 col5\" >0.2500</td>\n",
       "            </tr>\n",
       "            <tr>\n",
       "                        <th id=\"T_04115a0a_1154_11eb_b94b_d8ca52fa8622level0_row5\" class=\"row_heading level0 row5\" >5</th>\n",
       "                        <td id=\"T_04115a0a_1154_11eb_b94b_d8ca52fa8622row5_col0\" class=\"data row5 col0\" >33983.0880</td>\n",
       "                        <td id=\"T_04115a0a_1154_11eb_b94b_d8ca52fa8622row5_col1\" class=\"data row5 col1\" >2390258629.5162</td>\n",
       "                        <td id=\"T_04115a0a_1154_11eb_b94b_d8ca52fa8622row5_col2\" class=\"data row5 col2\" >48890.2713</td>\n",
       "                        <td id=\"T_04115a0a_1154_11eb_b94b_d8ca52fa8622row5_col3\" class=\"data row5 col3\" >0.3024</td>\n",
       "                        <td id=\"T_04115a0a_1154_11eb_b94b_d8ca52fa8622row5_col4\" class=\"data row5 col4\" >0.3265</td>\n",
       "                        <td id=\"T_04115a0a_1154_11eb_b94b_d8ca52fa8622row5_col5\" class=\"data row5 col5\" >0.2521</td>\n",
       "            </tr>\n",
       "            <tr>\n",
       "                        <th id=\"T_04115a0a_1154_11eb_b94b_d8ca52fa8622level0_row6\" class=\"row_heading level0 row6\" >6</th>\n",
       "                        <td id=\"T_04115a0a_1154_11eb_b94b_d8ca52fa8622row6_col0\" class=\"data row6 col0\" >32449.2199</td>\n",
       "                        <td id=\"T_04115a0a_1154_11eb_b94b_d8ca52fa8622row6_col1\" class=\"data row6 col1\" >1610660722.3643</td>\n",
       "                        <td id=\"T_04115a0a_1154_11eb_b94b_d8ca52fa8622row6_col2\" class=\"data row6 col2\" >40133.0378</td>\n",
       "                        <td id=\"T_04115a0a_1154_11eb_b94b_d8ca52fa8622row6_col3\" class=\"data row6 col3\" >0.2744</td>\n",
       "                        <td id=\"T_04115a0a_1154_11eb_b94b_d8ca52fa8622row6_col4\" class=\"data row6 col4\" >0.3437</td>\n",
       "                        <td id=\"T_04115a0a_1154_11eb_b94b_d8ca52fa8622row6_col5\" class=\"data row6 col5\" >0.3071</td>\n",
       "            </tr>\n",
       "            <tr>\n",
       "                        <th id=\"T_04115a0a_1154_11eb_b94b_d8ca52fa8622level0_row7\" class=\"row_heading level0 row7\" >7</th>\n",
       "                        <td id=\"T_04115a0a_1154_11eb_b94b_d8ca52fa8622row7_col0\" class=\"data row7 col0\" >35190.8101</td>\n",
       "                        <td id=\"T_04115a0a_1154_11eb_b94b_d8ca52fa8622row7_col1\" class=\"data row7 col1\" >2156303789.8766</td>\n",
       "                        <td id=\"T_04115a0a_1154_11eb_b94b_d8ca52fa8622row7_col2\" class=\"data row7 col2\" >46436.0182</td>\n",
       "                        <td id=\"T_04115a0a_1154_11eb_b94b_d8ca52fa8622row7_col3\" class=\"data row7 col3\" >0.2076</td>\n",
       "                        <td id=\"T_04115a0a_1154_11eb_b94b_d8ca52fa8622row7_col4\" class=\"data row7 col4\" >0.3347</td>\n",
       "                        <td id=\"T_04115a0a_1154_11eb_b94b_d8ca52fa8622row7_col5\" class=\"data row7 col5\" >0.2762</td>\n",
       "            </tr>\n",
       "            <tr>\n",
       "                        <th id=\"T_04115a0a_1154_11eb_b94b_d8ca52fa8622level0_row8\" class=\"row_heading level0 row8\" >8</th>\n",
       "                        <td id=\"T_04115a0a_1154_11eb_b94b_d8ca52fa8622row8_col0\" class=\"data row8 col0\" >31820.5175</td>\n",
       "                        <td id=\"T_04115a0a_1154_11eb_b94b_d8ca52fa8622row8_col1\" class=\"data row8 col1\" >1605410640.6650</td>\n",
       "                        <td id=\"T_04115a0a_1154_11eb_b94b_d8ca52fa8622row8_col2\" class=\"data row8 col2\" >40067.5759</td>\n",
       "                        <td id=\"T_04115a0a_1154_11eb_b94b_d8ca52fa8622row8_col3\" class=\"data row8 col3\" >0.2159</td>\n",
       "                        <td id=\"T_04115a0a_1154_11eb_b94b_d8ca52fa8622row8_col4\" class=\"data row8 col4\" >0.3067</td>\n",
       "                        <td id=\"T_04115a0a_1154_11eb_b94b_d8ca52fa8622row8_col5\" class=\"data row8 col5\" >0.2599</td>\n",
       "            </tr>\n",
       "            <tr>\n",
       "                        <th id=\"T_04115a0a_1154_11eb_b94b_d8ca52fa8622level0_row9\" class=\"row_heading level0 row9\" >9</th>\n",
       "                        <td id=\"T_04115a0a_1154_11eb_b94b_d8ca52fa8622row9_col0\" class=\"data row9 col0\" >35198.8067</td>\n",
       "                        <td id=\"T_04115a0a_1154_11eb_b94b_d8ca52fa8622row9_col1\" class=\"data row9 col1\" >1968324110.8326</td>\n",
       "                        <td id=\"T_04115a0a_1154_11eb_b94b_d8ca52fa8622row9_col2\" class=\"data row9 col2\" >44365.7989</td>\n",
       "                        <td id=\"T_04115a0a_1154_11eb_b94b_d8ca52fa8622row9_col3\" class=\"data row9 col3\" >0.3547</td>\n",
       "                        <td id=\"T_04115a0a_1154_11eb_b94b_d8ca52fa8622row9_col4\" class=\"data row9 col4\" >0.3586</td>\n",
       "                        <td id=\"T_04115a0a_1154_11eb_b94b_d8ca52fa8622row9_col5\" class=\"data row9 col5\" >0.3268</td>\n",
       "            </tr>\n",
       "            <tr>\n",
       "                        <th id=\"T_04115a0a_1154_11eb_b94b_d8ca52fa8622level0_row10\" class=\"row_heading level0 row10\" >Mean</th>\n",
       "                        <td id=\"T_04115a0a_1154_11eb_b94b_d8ca52fa8622row10_col0\" class=\"data row10 col0\" >32809.3592</td>\n",
       "                        <td id=\"T_04115a0a_1154_11eb_b94b_d8ca52fa8622row10_col1\" class=\"data row10 col1\" >1827598524.5225</td>\n",
       "                        <td id=\"T_04115a0a_1154_11eb_b94b_d8ca52fa8622row10_col2\" class=\"data row10 col2\" >42597.9511</td>\n",
       "                        <td id=\"T_04115a0a_1154_11eb_b94b_d8ca52fa8622row10_col3\" class=\"data row10 col3\" >0.2765</td>\n",
       "                        <td id=\"T_04115a0a_1154_11eb_b94b_d8ca52fa8622row10_col4\" class=\"data row10 col4\" >0.3342</td>\n",
       "                        <td id=\"T_04115a0a_1154_11eb_b94b_d8ca52fa8622row10_col5\" class=\"data row10 col5\" >0.2858</td>\n",
       "            </tr>\n",
       "            <tr>\n",
       "                        <th id=\"T_04115a0a_1154_11eb_b94b_d8ca52fa8622level0_row11\" class=\"row_heading level0 row11\" >SD</th>\n",
       "                        <td id=\"T_04115a0a_1154_11eb_b94b_d8ca52fa8622row11_col0\" class=\"data row11 col0\" >2209.9123</td>\n",
       "                        <td id=\"T_04115a0a_1154_11eb_b94b_d8ca52fa8622row11_col1\" class=\"data row11 col1\" >308762789.2966</td>\n",
       "                        <td id=\"T_04115a0a_1154_11eb_b94b_d8ca52fa8622row11_col2\" class=\"data row11 col2\" >3607.3651</td>\n",
       "                        <td id=\"T_04115a0a_1154_11eb_b94b_d8ca52fa8622row11_col3\" class=\"data row11 col3\" >0.0904</td>\n",
       "                        <td id=\"T_04115a0a_1154_11eb_b94b_d8ca52fa8622row11_col4\" class=\"data row11 col4\" >0.0281</td>\n",
       "                        <td id=\"T_04115a0a_1154_11eb_b94b_d8ca52fa8622row11_col5\" class=\"data row11 col5\" >0.0352</td>\n",
       "            </tr>\n",
       "    </tbody></table>"
      ],
      "text/plain": [
       "<pandas.io.formats.style.Styler at 0x20d3768d2e8>"
      ]
     },
     "metadata": {},
     "output_type": "display_data"
    }
   ],
   "source": [
    "gbr = create_model(\"gbr\")"
   ]
  },
  {
   "cell_type": "code",
   "execution_count": 69,
   "metadata": {
    "ExecuteTime": {
     "end_time": "2020-10-18T15:10:28.964898Z",
     "start_time": "2020-10-18T15:10:12.937315Z"
    }
   },
   "outputs": [
    {
     "data": {
      "text/html": [
       "<style  type=\"text/css\" >\n",
       "#T_0ede7dc6_1154_11eb_896e_d8ca52fa8622row10_col0,#T_0ede7dc6_1154_11eb_896e_d8ca52fa8622row10_col1,#T_0ede7dc6_1154_11eb_896e_d8ca52fa8622row10_col2,#T_0ede7dc6_1154_11eb_896e_d8ca52fa8622row10_col3,#T_0ede7dc6_1154_11eb_896e_d8ca52fa8622row10_col4,#T_0ede7dc6_1154_11eb_896e_d8ca52fa8622row10_col5{\n",
       "            background:  yellow;\n",
       "        }</style><table id=\"T_0ede7dc6_1154_11eb_896e_d8ca52fa8622\" ><thead>    <tr>        <th class=\"blank level0\" ></th>        <th class=\"col_heading level0 col0\" >MAE</th>        <th class=\"col_heading level0 col1\" >MSE</th>        <th class=\"col_heading level0 col2\" >RMSE</th>        <th class=\"col_heading level0 col3\" >R2</th>        <th class=\"col_heading level0 col4\" >RMSLE</th>        <th class=\"col_heading level0 col5\" >MAPE</th>    </tr></thead><tbody>\n",
       "                <tr>\n",
       "                        <th id=\"T_0ede7dc6_1154_11eb_896e_d8ca52fa8622level0_row0\" class=\"row_heading level0 row0\" >0</th>\n",
       "                        <td id=\"T_0ede7dc6_1154_11eb_896e_d8ca52fa8622row0_col0\" class=\"data row0 col0\" >34930.3983</td>\n",
       "                        <td id=\"T_0ede7dc6_1154_11eb_896e_d8ca52fa8622row0_col1\" class=\"data row0 col1\" >2053387864.9795</td>\n",
       "                        <td id=\"T_0ede7dc6_1154_11eb_896e_d8ca52fa8622row0_col2\" class=\"data row0 col2\" >45314.3230</td>\n",
       "                        <td id=\"T_0ede7dc6_1154_11eb_896e_d8ca52fa8622row0_col3\" class=\"data row0 col3\" >0.1368</td>\n",
       "                        <td id=\"T_0ede7dc6_1154_11eb_896e_d8ca52fa8622row0_col4\" class=\"data row0 col4\" >0.3773</td>\n",
       "                        <td id=\"T_0ede7dc6_1154_11eb_896e_d8ca52fa8622row0_col5\" class=\"data row0 col5\" >0.3218</td>\n",
       "            </tr>\n",
       "            <tr>\n",
       "                        <th id=\"T_0ede7dc6_1154_11eb_896e_d8ca52fa8622level0_row1\" class=\"row_heading level0 row1\" >1</th>\n",
       "                        <td id=\"T_0ede7dc6_1154_11eb_896e_d8ca52fa8622row1_col0\" class=\"data row1 col0\" >36584.9258</td>\n",
       "                        <td id=\"T_0ede7dc6_1154_11eb_896e_d8ca52fa8622row1_col1\" class=\"data row1 col1\" >2077879341.6829</td>\n",
       "                        <td id=\"T_0ede7dc6_1154_11eb_896e_d8ca52fa8622row1_col2\" class=\"data row1 col2\" >45583.7618</td>\n",
       "                        <td id=\"T_0ede7dc6_1154_11eb_896e_d8ca52fa8622row1_col3\" class=\"data row1 col3\" >0.1215</td>\n",
       "                        <td id=\"T_0ede7dc6_1154_11eb_896e_d8ca52fa8622row1_col4\" class=\"data row1 col4\" >0.3825</td>\n",
       "                        <td id=\"T_0ede7dc6_1154_11eb_896e_d8ca52fa8622row1_col5\" class=\"data row1 col5\" >0.3507</td>\n",
       "            </tr>\n",
       "            <tr>\n",
       "                        <th id=\"T_0ede7dc6_1154_11eb_896e_d8ca52fa8622level0_row2\" class=\"row_heading level0 row2\" >2</th>\n",
       "                        <td id=\"T_0ede7dc6_1154_11eb_896e_d8ca52fa8622row2_col0\" class=\"data row2 col0\" >32167.3785</td>\n",
       "                        <td id=\"T_0ede7dc6_1154_11eb_896e_d8ca52fa8622row2_col1\" class=\"data row2 col1\" >1729678009.8407</td>\n",
       "                        <td id=\"T_0ede7dc6_1154_11eb_896e_d8ca52fa8622row2_col2\" class=\"data row2 col2\" >41589.3978</td>\n",
       "                        <td id=\"T_0ede7dc6_1154_11eb_896e_d8ca52fa8622row2_col3\" class=\"data row2 col3\" >0.2253</td>\n",
       "                        <td id=\"T_0ede7dc6_1154_11eb_896e_d8ca52fa8622row2_col4\" class=\"data row2 col4\" >0.3450</td>\n",
       "                        <td id=\"T_0ede7dc6_1154_11eb_896e_d8ca52fa8622row2_col5\" class=\"data row2 col5\" >0.3029</td>\n",
       "            </tr>\n",
       "            <tr>\n",
       "                        <th id=\"T_0ede7dc6_1154_11eb_896e_d8ca52fa8622level0_row3\" class=\"row_heading level0 row3\" >3</th>\n",
       "                        <td id=\"T_0ede7dc6_1154_11eb_896e_d8ca52fa8622row3_col0\" class=\"data row3 col0\" >34829.7779</td>\n",
       "                        <td id=\"T_0ede7dc6_1154_11eb_896e_d8ca52fa8622row3_col1\" class=\"data row3 col1\" >1802095325.4607</td>\n",
       "                        <td id=\"T_0ede7dc6_1154_11eb_896e_d8ca52fa8622row3_col2\" class=\"data row3 col2\" >42451.0933</td>\n",
       "                        <td id=\"T_0ede7dc6_1154_11eb_896e_d8ca52fa8622row3_col3\" class=\"data row3 col3\" >0.2912</td>\n",
       "                        <td id=\"T_0ede7dc6_1154_11eb_896e_d8ca52fa8622row3_col4\" class=\"data row3 col4\" >0.3254</td>\n",
       "                        <td id=\"T_0ede7dc6_1154_11eb_896e_d8ca52fa8622row3_col5\" class=\"data row3 col5\" >0.2827</td>\n",
       "            </tr>\n",
       "            <tr>\n",
       "                        <th id=\"T_0ede7dc6_1154_11eb_896e_d8ca52fa8622level0_row4\" class=\"row_heading level0 row4\" >4</th>\n",
       "                        <td id=\"T_0ede7dc6_1154_11eb_896e_d8ca52fa8622row4_col0\" class=\"data row4 col0\" >35607.3126</td>\n",
       "                        <td id=\"T_0ede7dc6_1154_11eb_896e_d8ca52fa8622row4_col1\" class=\"data row4 col1\" >2115288824.5187</td>\n",
       "                        <td id=\"T_0ede7dc6_1154_11eb_896e_d8ca52fa8622row4_col2\" class=\"data row4 col2\" >45992.2692</td>\n",
       "                        <td id=\"T_0ede7dc6_1154_11eb_896e_d8ca52fa8622row4_col3\" class=\"data row4 col3\" >0.1223</td>\n",
       "                        <td id=\"T_0ede7dc6_1154_11eb_896e_d8ca52fa8622row4_col4\" class=\"data row4 col4\" >0.3538</td>\n",
       "                        <td id=\"T_0ede7dc6_1154_11eb_896e_d8ca52fa8622row4_col5\" class=\"data row4 col5\" >0.2970</td>\n",
       "            </tr>\n",
       "            <tr>\n",
       "                        <th id=\"T_0ede7dc6_1154_11eb_896e_d8ca52fa8622level0_row5\" class=\"row_heading level0 row5\" >5</th>\n",
       "                        <td id=\"T_0ede7dc6_1154_11eb_896e_d8ca52fa8622row5_col0\" class=\"data row5 col0\" >38914.1977</td>\n",
       "                        <td id=\"T_0ede7dc6_1154_11eb_896e_d8ca52fa8622row5_col1\" class=\"data row5 col1\" >2789659097.2599</td>\n",
       "                        <td id=\"T_0ede7dc6_1154_11eb_896e_d8ca52fa8622row5_col2\" class=\"data row5 col2\" >52817.2235</td>\n",
       "                        <td id=\"T_0ede7dc6_1154_11eb_896e_d8ca52fa8622row5_col3\" class=\"data row5 col3\" >0.1859</td>\n",
       "                        <td id=\"T_0ede7dc6_1154_11eb_896e_d8ca52fa8622row5_col4\" class=\"data row5 col4\" >0.3469</td>\n",
       "                        <td id=\"T_0ede7dc6_1154_11eb_896e_d8ca52fa8622row5_col5\" class=\"data row5 col5\" >0.2849</td>\n",
       "            </tr>\n",
       "            <tr>\n",
       "                        <th id=\"T_0ede7dc6_1154_11eb_896e_d8ca52fa8622level0_row6\" class=\"row_heading level0 row6\" >6</th>\n",
       "                        <td id=\"T_0ede7dc6_1154_11eb_896e_d8ca52fa8622row6_col0\" class=\"data row6 col0\" >38048.3749</td>\n",
       "                        <td id=\"T_0ede7dc6_1154_11eb_896e_d8ca52fa8622row6_col1\" class=\"data row6 col1\" >2011564491.5493</td>\n",
       "                        <td id=\"T_0ede7dc6_1154_11eb_896e_d8ca52fa8622row6_col2\" class=\"data row6 col2\" >44850.4681</td>\n",
       "                        <td id=\"T_0ede7dc6_1154_11eb_896e_d8ca52fa8622row6_col3\" class=\"data row6 col3\" >0.0939</td>\n",
       "                        <td id=\"T_0ede7dc6_1154_11eb_896e_d8ca52fa8622row6_col4\" class=\"data row6 col4\" >0.3737</td>\n",
       "                        <td id=\"T_0ede7dc6_1154_11eb_896e_d8ca52fa8622row6_col5\" class=\"data row6 col5\" >0.3415</td>\n",
       "            </tr>\n",
       "            <tr>\n",
       "                        <th id=\"T_0ede7dc6_1154_11eb_896e_d8ca52fa8622level0_row7\" class=\"row_heading level0 row7\" >7</th>\n",
       "                        <td id=\"T_0ede7dc6_1154_11eb_896e_d8ca52fa8622row7_col0\" class=\"data row7 col0\" >37037.3515</td>\n",
       "                        <td id=\"T_0ede7dc6_1154_11eb_896e_d8ca52fa8622row7_col1\" class=\"data row7 col1\" >2413173511.0270</td>\n",
       "                        <td id=\"T_0ede7dc6_1154_11eb_896e_d8ca52fa8622row7_col2\" class=\"data row7 col2\" >49124.0624</td>\n",
       "                        <td id=\"T_0ede7dc6_1154_11eb_896e_d8ca52fa8622row7_col3\" class=\"data row7 col3\" >0.1132</td>\n",
       "                        <td id=\"T_0ede7dc6_1154_11eb_896e_d8ca52fa8622row7_col4\" class=\"data row7 col4\" >0.3616</td>\n",
       "                        <td id=\"T_0ede7dc6_1154_11eb_896e_d8ca52fa8622row7_col5\" class=\"data row7 col5\" >0.2901</td>\n",
       "            </tr>\n",
       "            <tr>\n",
       "                        <th id=\"T_0ede7dc6_1154_11eb_896e_d8ca52fa8622level0_row8\" class=\"row_heading level0 row8\" >8</th>\n",
       "                        <td id=\"T_0ede7dc6_1154_11eb_896e_d8ca52fa8622row8_col0\" class=\"data row8 col0\" >35710.1508</td>\n",
       "                        <td id=\"T_0ede7dc6_1154_11eb_896e_d8ca52fa8622row8_col1\" class=\"data row8 col1\" >2109783278.6232</td>\n",
       "                        <td id=\"T_0ede7dc6_1154_11eb_896e_d8ca52fa8622row8_col2\" class=\"data row8 col2\" >45932.3772</td>\n",
       "                        <td id=\"T_0ede7dc6_1154_11eb_896e_d8ca52fa8622row8_col3\" class=\"data row8 col3\" >-0.0304</td>\n",
       "                        <td id=\"T_0ede7dc6_1154_11eb_896e_d8ca52fa8622row8_col4\" class=\"data row8 col4\" >0.3577</td>\n",
       "                        <td id=\"T_0ede7dc6_1154_11eb_896e_d8ca52fa8622row8_col5\" class=\"data row8 col5\" >0.3015</td>\n",
       "            </tr>\n",
       "            <tr>\n",
       "                        <th id=\"T_0ede7dc6_1154_11eb_896e_d8ca52fa8622level0_row9\" class=\"row_heading level0 row9\" >9</th>\n",
       "                        <td id=\"T_0ede7dc6_1154_11eb_896e_d8ca52fa8622row9_col0\" class=\"data row9 col0\" >38553.0128</td>\n",
       "                        <td id=\"T_0ede7dc6_1154_11eb_896e_d8ca52fa8622row9_col1\" class=\"data row9 col1\" >2473733316.0818</td>\n",
       "                        <td id=\"T_0ede7dc6_1154_11eb_896e_d8ca52fa8622row9_col2\" class=\"data row9 col2\" >49736.6396</td>\n",
       "                        <td id=\"T_0ede7dc6_1154_11eb_896e_d8ca52fa8622row9_col3\" class=\"data row9 col3\" >0.1889</td>\n",
       "                        <td id=\"T_0ede7dc6_1154_11eb_896e_d8ca52fa8622row9_col4\" class=\"data row9 col4\" >0.3999</td>\n",
       "                        <td id=\"T_0ede7dc6_1154_11eb_896e_d8ca52fa8622row9_col5\" class=\"data row9 col5\" >0.3527</td>\n",
       "            </tr>\n",
       "            <tr>\n",
       "                        <th id=\"T_0ede7dc6_1154_11eb_896e_d8ca52fa8622level0_row10\" class=\"row_heading level0 row10\" >Mean</th>\n",
       "                        <td id=\"T_0ede7dc6_1154_11eb_896e_d8ca52fa8622row10_col0\" class=\"data row10 col0\" >36238.2881</td>\n",
       "                        <td id=\"T_0ede7dc6_1154_11eb_896e_d8ca52fa8622row10_col1\" class=\"data row10 col1\" >2157624306.1024</td>\n",
       "                        <td id=\"T_0ede7dc6_1154_11eb_896e_d8ca52fa8622row10_col2\" class=\"data row10 col2\" >46339.1616</td>\n",
       "                        <td id=\"T_0ede7dc6_1154_11eb_896e_d8ca52fa8622row10_col3\" class=\"data row10 col3\" >0.1449</td>\n",
       "                        <td id=\"T_0ede7dc6_1154_11eb_896e_d8ca52fa8622row10_col4\" class=\"data row10 col4\" >0.3624</td>\n",
       "                        <td id=\"T_0ede7dc6_1154_11eb_896e_d8ca52fa8622row10_col5\" class=\"data row10 col5\" >0.3126</td>\n",
       "            </tr>\n",
       "            <tr>\n",
       "                        <th id=\"T_0ede7dc6_1154_11eb_896e_d8ca52fa8622level0_row11\" class=\"row_heading level0 row11\" >SD</th>\n",
       "                        <td id=\"T_0ede7dc6_1154_11eb_896e_d8ca52fa8622row11_col0\" class=\"data row11 col0\" >1936.4234</td>\n",
       "                        <td id=\"T_0ede7dc6_1154_11eb_896e_d8ca52fa8622row11_col1\" class=\"data row11 col1\" >302799634.9846</td>\n",
       "                        <td id=\"T_0ede7dc6_1154_11eb_896e_d8ca52fa8622row11_col2\" class=\"data row11 col2\" >3210.3596</td>\n",
       "                        <td id=\"T_0ede7dc6_1154_11eb_896e_d8ca52fa8622row11_col3\" class=\"data row11 col3\" >0.0818</td>\n",
       "                        <td id=\"T_0ede7dc6_1154_11eb_896e_d8ca52fa8622row11_col4\" class=\"data row11 col4\" >0.0204</td>\n",
       "                        <td id=\"T_0ede7dc6_1154_11eb_896e_d8ca52fa8622row11_col5\" class=\"data row11 col5\" >0.0257</td>\n",
       "            </tr>\n",
       "    </tbody></table>"
      ],
      "text/plain": [
       "<pandas.io.formats.style.Styler at 0x20d374afd30>"
      ]
     },
     "metadata": {},
     "output_type": "display_data"
    }
   ],
   "source": [
    "tuned_gbr = tune_model(gbr, n_iter)"
   ]
  },
  {
   "cell_type": "code",
   "execution_count": 70,
   "metadata": {
    "ExecuteTime": {
     "end_time": "2020-10-18T15:10:31.091894Z",
     "start_time": "2020-10-18T15:10:31.031892Z"
    }
   },
   "outputs": [
    {
     "data": {
      "application/vnd.jupyter.widget-view+json": {
       "model_id": "acb02ad26f2643a3a837a526e02380ae",
       "version_major": 2,
       "version_minor": 0
      },
      "text/plain": [
       "interactive(children=(ToggleButtons(description='Plot Type:', icons=('',), options=(('Hyperparameters', 'param…"
      ]
     },
     "metadata": {},
     "output_type": "display_data"
    }
   ],
   "source": [
    "evaluate_model(tuned_gbr)"
   ]
  },
  {
   "cell_type": "markdown",
   "metadata": {},
   "source": [
    "## Restes"
   ]
  },
  {
   "cell_type": "code",
   "execution_count": null,
   "metadata": {
    "ExecuteTime": {
     "end_time": "2020-10-03T18:13:00.754267Z",
     "start_time": "2020-10-03T18:12:43.359281Z"
    }
   },
   "outputs": [],
   "source": [
    "interpret_model(xg_reg)"
   ]
  },
  {
   "cell_type": "code",
   "execution_count": null,
   "metadata": {
    "ExecuteTime": {
     "end_time": "2020-10-03T18:03:29.865076Z",
     "start_time": "2020-10-03T18:02:24.202077Z"
    }
   },
   "outputs": [],
   "source": [
    "xg_reg = automl(use_holdout=False)\n",
    "xg_reg"
   ]
  },
  {
   "cell_type": "code",
   "execution_count": null,
   "metadata": {
    "ExecuteTime": {
     "end_time": "2020-10-03T18:03:41.201223Z",
     "start_time": "2020-10-03T18:03:36.706228Z"
    }
   },
   "outputs": [],
   "source": [
    "plot_model(xg_reg, plot = 'residuals')"
   ]
  },
  {
   "cell_type": "code",
   "execution_count": null,
   "metadata": {
    "ExecuteTime": {
     "end_time": "2020-10-03T18:15:23.458611Z",
     "start_time": "2020-10-03T18:15:23.435610Z"
    }
   },
   "outputs": [],
   "source": [
    "pull()"
   ]
  },
  {
   "cell_type": "code",
   "execution_count": null,
   "metadata": {
    "ExecuteTime": {
     "end_time": "2020-10-03T05:19:17.958566Z",
     "start_time": "2020-10-03T05:02:40.231490Z"
    },
    "scrolled": false
   },
   "outputs": [],
   "source": [
    "xg_reg = create_model(\"xgboost\")\n",
    "tune_xg_reg = tune_model(xg_reg, n_iter=100, fold=10, choose_better=True)\n",
    "print(tune_xg_reg)"
   ]
  },
  {
   "cell_type": "code",
   "execution_count": null,
   "metadata": {
    "ExecuteTime": {
     "end_time": "2020-10-03T04:06:33.623222Z",
     "start_time": "2020-10-03T04:03:09.778990Z"
    }
   },
   "outputs": [],
   "source": [
    "tune_xg_reg2 = tune_model(tune_xg_reg2, n_iter=10, fold=10, choose_better=True)\n",
    "print(tune_xg_reg)"
   ]
  },
  {
   "cell_type": "code",
   "execution_count": null,
   "metadata": {
    "ExecuteTime": {
     "end_time": "2020-10-03T04:01:40.799946Z",
     "start_time": "2020-10-03T04:01:40.790974Z"
    }
   },
   "outputs": [],
   "source": [
    "print(tune_xg_reg2)"
   ]
  },
  {
   "cell_type": "code",
   "execution_count": null,
   "metadata": {
    "ExecuteTime": {
     "end_time": "2020-10-03T03:47:30.766134Z",
     "start_time": "2020-10-03T03:46:43.943138Z"
    }
   },
   "outputs": [],
   "source": [
    "finalize_model(xg_reg)"
   ]
  },
  {
   "cell_type": "code",
   "execution_count": null,
   "metadata": {
    "ExecuteTime": {
     "end_time": "2020-10-03T03:47:31.290197Z",
     "start_time": "2020-10-03T03:47:31.196146Z"
    }
   },
   "outputs": [],
   "source": [
    "save_model(xg_reg,'../../models/final_xg_reg_for_streamlit_test')"
   ]
  },
  {
   "cell_type": "code",
   "execution_count": null,
   "metadata": {
    "ExecuteTime": {
     "end_time": "2020-10-03T03:46:19.483297Z",
     "start_time": "2020-10-03T03:46:19.303300Z"
    }
   },
   "outputs": [],
   "source": [
    "predict_model(xg_reg)"
   ]
  },
  {
   "cell_type": "code",
   "execution_count": null,
   "metadata": {
    "ExecuteTime": {
     "end_time": "2020-10-03T02:59:01.812967Z",
     "start_time": "2020-10-03T02:58:46.036734Z"
    }
   },
   "outputs": [],
   "source": [
    "interpret_model(xg_reg)"
   ]
  },
  {
   "cell_type": "code",
   "execution_count": null,
   "metadata": {},
   "outputs": [],
   "source": []
  },
  {
   "cell_type": "code",
   "execution_count": null,
   "metadata": {
    "ExecuteTime": {
     "start_time": "2020-09-27T17:00:35.706Z"
    }
   },
   "outputs": [],
   "source": [
    "rf_reg = create_model(\"rf\")\n",
    "tune_rf_reg = tune_model(rf_reg, n_iter=100, fold=10, choose_better=True)\n",
    "print(tune_rf_reg)"
   ]
  },
  {
   "cell_type": "code",
   "execution_count": null,
   "metadata": {
    "ExecuteTime": {
     "end_time": "2020-10-01T23:18:34.946269Z",
     "start_time": "2020-10-01T21:09:27.001306Z"
    }
   },
   "outputs": [],
   "source": [
    "compare_models(whitelist=[\"catboost\", \"svm\"], fold=5, n_select=2)"
   ]
  },
  {
   "cell_type": "code",
   "execution_count": null,
   "metadata": {},
   "outputs": [],
   "source": [
    "compare_models(blacklist=[\"catboost\"], fold=5, n_select=1)"
   ]
  },
  {
   "cell_type": "code",
   "execution_count": null,
   "metadata": {
    "ExecuteTime": {
     "end_time": "2020-09-27T03:15:19.826836Z",
     "start_time": "2020-09-27T03:10:00.200830Z"
    }
   },
   "outputs": [],
   "source": [
    "catboost_reg = create_model(\"catboost\")"
   ]
  },
  {
   "cell_type": "code",
   "execution_count": null,
   "metadata": {
    "ExecuteTime": {
     "end_time": "2020-09-26T03:00:27.419535Z",
     "start_time": "2020-09-26T03:00:26.980517Z"
    }
   },
   "outputs": [],
   "source": []
  },
  {
   "cell_type": "code",
   "execution_count": null,
   "metadata": {
    "ExecuteTime": {
     "end_time": "2020-09-25T19:26:18.761598Z",
     "start_time": "2020-09-25T19:25:55.548842Z"
    }
   },
   "outputs": [],
   "source": [
    "tune_huber_reg = tune_model(huber_reg, n_iter=100, fold=10, choose_better=True)\n",
    "print(tune_huber_reg)"
   ]
  },
  {
   "cell_type": "code",
   "execution_count": null,
   "metadata": {
    "ExecuteTime": {
     "end_time": "2020-09-25T19:19:21.353306Z",
     "start_time": "2020-09-25T19:19:21.340305Z"
    },
    "scrolled": false
   },
   "outputs": [],
   "source": [
    "#evaluate_model(tune_huber_reg)"
   ]
  },
  {
   "cell_type": "code",
   "execution_count": null,
   "metadata": {
    "ExecuteTime": {
     "end_time": "2020-09-25T19:27:38.010424Z",
     "start_time": "2020-09-25T19:27:37.951424Z"
    }
   },
   "outputs": [],
   "source": [
    "interpret_model(tune_huber_reg)"
   ]
  },
  {
   "cell_type": "code",
   "execution_count": null,
   "metadata": {
    "ExecuteTime": {
     "end_time": "2020-09-26T14:35:44.675932Z",
     "start_time": "2020-09-26T14:34:52.149380Z"
    }
   },
   "outputs": [],
   "source": [
    "exp_reg102 = setup(data = data, target = 'valeur_fonciere', remove_outliers=True,\n",
    "                   ignore_features=cat_features, polynomial_features=True,\n",
    "                   session_id=124) "
   ]
  },
  {
   "cell_type": "code",
   "execution_count": null,
   "metadata": {
    "ExecuteTime": {
     "end_time": "2020-09-26T14:53:44.644129Z",
     "start_time": "2020-09-26T14:48:01.207880Z"
    }
   },
   "outputs": [],
   "source": [
    "compare_models(blacklist=[\"catboost\",\"svm\"], fold=5, n_select=1)"
   ]
  },
  {
   "cell_type": "code",
   "execution_count": null,
   "metadata": {
    "ExecuteTime": {
     "end_time": "2020-09-26T14:35:53.531203Z",
     "start_time": "2020-09-26T14:35:52.685493Z"
    }
   },
   "outputs": [],
   "source": [
    "lr_reg = create_model(\"lr\")"
   ]
  },
  {
   "cell_type": "code",
   "execution_count": null,
   "metadata": {
    "ExecuteTime": {
     "end_time": "2020-09-26T14:36:36.204808Z",
     "start_time": "2020-09-26T14:36:28.820875Z"
    }
   },
   "outputs": [],
   "source": [
    "tune_lr_reg = tune_model(lr_reg, n_iter=100, fold=10, choose_better=True)\n",
    "print(tune_lr_reg)"
   ]
  },
  {
   "cell_type": "code",
   "execution_count": null,
   "metadata": {
    "ExecuteTime": {
     "end_time": "2020-09-26T14:36:51.680876Z",
     "start_time": "2020-09-26T14:36:51.498872Z"
    }
   },
   "outputs": [],
   "source": [
    "interpret_model(tune_lr_reg)"
   ]
  },
  {
   "cell_type": "code",
   "execution_count": null,
   "metadata": {
    "ExecuteTime": {
     "end_time": "2020-09-26T19:48:12.780964Z",
     "start_time": "2020-09-26T14:55:12.314387Z"
    }
   },
   "outputs": [],
   "source": [
    "blend_all = blend_models()"
   ]
  },
  {
   "cell_type": "code",
   "execution_count": null,
   "metadata": {
    "ExecuteTime": {
     "end_time": "2020-09-27T02:27:51.099353Z",
     "start_time": "2020-09-27T02:27:51.073354Z"
    }
   },
   "outputs": [],
   "source": [
    "data[\"code_postal\"] = data[\"code_postal\"].apply(lambda x: f\"{x}\")"
   ]
  },
  {
   "cell_type": "code",
   "execution_count": null,
   "metadata": {
    "ExecuteTime": {
     "end_time": "2020-09-27T02:27:53.642444Z",
     "start_time": "2020-09-27T02:27:53.624447Z"
    }
   },
   "outputs": [],
   "source": [
    "data[\"code_postal\"]"
   ]
  },
  {
   "cell_type": "code",
   "execution_count": null,
   "metadata": {},
   "outputs": [],
   "source": [
    "pd.Series.apply()"
   ]
  }
 ],
 "metadata": {
  "kernelspec": {
   "display_name": "Python 3",
   "language": "python",
   "name": "python3"
  },
  "language_info": {
   "codemirror_mode": {
    "name": "ipython",
    "version": 3
   },
   "file_extension": ".py",
   "mimetype": "text/x-python",
   "name": "python",
   "nbconvert_exporter": "python",
   "pygments_lexer": "ipython3",
   "version": "3.6.12"
  },
  "nbTranslate": {
   "displayLangs": [
    "*"
   ],
   "hotkey": "alt-t",
   "langInMainMenu": true,
   "sourceLang": "en",
   "targetLang": "fr",
   "useGoogleTranslate": true
  },
  "toc": {
   "base_numbering": 1,
   "nav_menu": {
    "height": "139px",
    "width": "246px"
   },
   "number_sections": true,
   "sideBar": true,
   "skip_h1_title": false,
   "title_cell": "Table of Contents",
   "title_sidebar": "Contents",
   "toc_cell": false,
   "toc_position": {},
   "toc_section_display": true,
   "toc_window_display": false
  },
  "varInspector": {
   "cols": {
    "lenName": 16,
    "lenType": 16,
    "lenVar": 40
   },
   "kernels_config": {
    "python": {
     "delete_cmd_postfix": "",
     "delete_cmd_prefix": "del ",
     "library": "var_list.py",
     "varRefreshCmd": "print(var_dic_list())"
    },
    "r": {
     "delete_cmd_postfix": ") ",
     "delete_cmd_prefix": "rm(",
     "library": "var_list.r",
     "varRefreshCmd": "cat(var_dic_list()) "
    }
   },
   "position": {
    "height": "343px",
    "left": "920px",
    "right": "20px",
    "top": "26px",
    "width": "427px"
   },
   "types_to_exclude": [
    "module",
    "function",
    "builtin_function_or_method",
    "instance",
    "_Feature"
   ],
   "window_display": false
  }
 },
 "nbformat": 4,
 "nbformat_minor": 4
}

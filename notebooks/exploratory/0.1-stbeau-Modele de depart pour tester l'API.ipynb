{
 "cells": [
  {
   "cell_type": "code",
   "execution_count": 1,
   "metadata": {
    "ExecuteTime": {
     "end_time": "2020-10-17T01:40:42.454063Z",
     "start_time": "2020-10-17T01:40:41.769415Z"
    }
   },
   "outputs": [],
   "source": [
    "import pandas as pd\n",
    "#import janitor as jn"
   ]
  },
  {
   "cell_type": "code",
   "execution_count": 2,
   "metadata": {
    "ExecuteTime": {
     "end_time": "2020-10-17T01:40:42.957281Z",
     "start_time": "2020-10-17T01:40:42.944245Z"
    }
   },
   "outputs": [],
   "source": [
    "pd.set_option('max_columns', None)"
   ]
  },
  {
   "cell_type": "markdown",
   "metadata": {},
   "source": [
    "## Charger les données"
   ]
  },
  {
   "cell_type": "code",
   "execution_count": 3,
   "metadata": {
    "ExecuteTime": {
     "end_time": "2020-10-17T01:40:45.734331Z",
     "start_time": "2020-10-17T01:40:45.688349Z"
    }
   },
   "outputs": [],
   "source": [
    "data = pd.read_pickle(\"../../data/processed/maison.pkl\")\n",
    "#data.to_pickle(\"../../data/processed/maison.pkl\")"
   ]
  },
  {
   "cell_type": "code",
   "execution_count": 4,
   "metadata": {
    "ExecuteTime": {
     "end_time": "2020-10-17T01:40:46.297366Z",
     "start_time": "2020-10-17T01:40:46.171317Z"
    },
    "scrolled": true
   },
   "outputs": [
    {
     "name": "stdout",
     "output_type": "stream",
     "text": [
      "<class 'pandas.core.frame.DataFrame'>\n",
      "RangeIndex: 315650 entries, 0 to 315649\n",
      "Data columns (total 9 columns):\n",
      " #   Column                     Non-Null Count   Dtype   \n",
      "---  ------                     --------------   -----   \n",
      " 0   valeur_fonciere            315650 non-null  float64 \n",
      " 1   adresse_code_voie          315650 non-null  category\n",
      " 2   code_postal                315650 non-null  category\n",
      " 3   code_commune               315650 non-null  category\n",
      " 4   code_departement           315650 non-null  category\n",
      " 5   surface_reelle_bati        315650 non-null  float64 \n",
      " 6   nombre_pieces_principales  315650 non-null  float64 \n",
      " 7   code_nature_culture        315650 non-null  category\n",
      " 8   surface_terrain            315650 non-null  float64 \n",
      "dtypes: category(5), float64(4)\n",
      "memory usage: 14.1 MB\n",
      "None\n"
     ]
    }
   ],
   "source": [
    "# Afficher la table initiale\n",
    "print(data.info(null_counts=True))"
   ]
  },
  {
   "cell_type": "markdown",
   "metadata": {},
   "source": [
    "## Traitement des données"
   ]
  },
  {
   "cell_type": "code",
   "execution_count": 5,
   "metadata": {
    "ExecuteTime": {
     "end_time": "2020-10-17T01:40:47.999749Z",
     "start_time": "2020-10-17T01:40:47.852435Z"
    }
   },
   "outputs": [],
   "source": [
    "num_features = data.select_dtypes(\"float\").columns\n",
    "categ_features = data.select_dtypes(\"category\").columns"
   ]
  },
  {
   "cell_type": "code",
   "execution_count": 43,
   "metadata": {
    "ExecuteTime": {
     "end_time": "2020-10-17T03:26:23.437897Z",
     "start_time": "2020-10-17T03:26:23.127895Z"
    }
   },
   "outputs": [],
   "source": [
    "data[categ_features] = data[categ_features].astype(\"str\")\n",
    "data[num_features] = data[num_features].astype(\"float32\")"
   ]
  },
  {
   "cell_type": "code",
   "execution_count": 44,
   "metadata": {
    "ExecuteTime": {
     "end_time": "2020-10-17T03:26:27.344378Z",
     "start_time": "2020-10-17T03:26:27.253134Z"
    }
   },
   "outputs": [
    {
     "name": "stdout",
     "output_type": "stream",
     "text": [
      "<class 'pandas.core.frame.DataFrame'>\n",
      "RangeIndex: 315650 entries, 0 to 315649\n",
      "Data columns (total 9 columns):\n",
      " #   Column                     Non-Null Count   Dtype  \n",
      "---  ------                     --------------   -----  \n",
      " 0   valeur_fonciere            315650 non-null  float32\n",
      " 1   adresse_code_voie          315650 non-null  object \n",
      " 2   code_postal                315650 non-null  object \n",
      " 3   code_commune               315650 non-null  object \n",
      " 4   code_departement           315650 non-null  object \n",
      " 5   surface_reelle_bati        315650 non-null  float32\n",
      " 6   nombre_pieces_principales  315650 non-null  float32\n",
      " 7   code_nature_culture        315650 non-null  object \n",
      " 8   surface_terrain            315650 non-null  float32\n",
      "dtypes: float32(4), object(5)\n",
      "memory usage: 16.9+ MB\n"
     ]
    }
   ],
   "source": [
    "data.info()"
   ]
  },
  {
   "cell_type": "code",
   "execution_count": 45,
   "metadata": {
    "ExecuteTime": {
     "end_time": "2020-10-17T03:26:31.219086Z",
     "start_time": "2020-10-17T03:26:31.205053Z"
    }
   },
   "outputs": [],
   "source": [
    "#data[\"code_postal\"] = data[\"code_postal\"].astype(\"str\")\n",
    "cat_f_to_keep = [\"code_postal\"]\n",
    "cat_f_to_ignore = categ_features[categ_features!=cat_f_to_keep[0]]\n",
    "\n",
    "target = 'valeur_fonciere'\n",
    "\n",
    "num_f_to_keep = list(num_features[num_features!=target])"
   ]
  },
  {
   "cell_type": "code",
   "execution_count": 51,
   "metadata": {
    "ExecuteTime": {
     "end_time": "2020-10-17T03:38:50.989908Z",
     "start_time": "2020-10-17T03:38:50.906876Z"
    }
   },
   "outputs": [
    {
     "name": "stdout",
     "output_type": "stream",
     "text": [
      "(315650, 9) (6628, 9)\n"
     ]
    }
   ],
   "source": [
    "sub_pc = (data[\"code_postal\"].value_counts().cumsum()<120000)\n",
    "list_sub_pc = list(sub_pc.index[sub_pc])\n",
    "df = data[data[\"code_postal\"].isin(list_sub_pc)]\n",
    "\n",
    "df = df[(df[\"valeur_fonciere\"]>30000) & (df[\"valeur_fonciere\"]<300000)]\n",
    "print(data.shape, df.shape)"
   ]
  },
  {
   "cell_type": "code",
   "execution_count": 16,
   "metadata": {
    "ExecuteTime": {
     "end_time": "2020-10-17T02:04:46.652690Z",
     "start_time": "2020-10-17T02:04:46.596687Z"
    }
   },
   "outputs": [
    {
     "name": "stdout",
     "output_type": "stream",
     "text": [
      "(315650, 9) (243287, 9)\n"
     ]
    }
   ],
   "source": [
    "df = data[(data[\"valeur_fonciere\"]>30000) & (data[\"valeur_fonciere\"]<300000)]\n",
    "print(data.shape, df.shape)"
   ]
  },
  {
   "cell_type": "markdown",
   "metadata": {},
   "source": [
    "## Pycaret - Regression"
   ]
  },
  {
   "cell_type": "markdown",
   "metadata": {},
   "source": [
    "PROB : pour la scission des données, faire proportionnel dans chaque classe. Mais il y a peut-etre des classes manquantes dans les données d'entrainement que l'on a seulement dans l'ensemble de test."
   ]
  },
  {
   "cell_type": "code",
   "execution_count": 13,
   "metadata": {
    "ExecuteTime": {
     "end_time": "2020-10-17T01:42:30.505477Z",
     "start_time": "2020-10-17T01:42:30.501463Z"
    }
   },
   "outputs": [],
   "source": [
    "from pycaret.regression import *"
   ]
  },
  {
   "cell_type": "code",
   "execution_count": 52,
   "metadata": {
    "ExecuteTime": {
     "end_time": "2020-10-17T03:40:53.581223Z",
     "start_time": "2020-10-17T03:38:57.345682Z"
    },
    "scrolled": false
   },
   "outputs": [
    {
     "name": "stdout",
     "output_type": "stream",
     "text": [
      " \n",
      "Setup Succesfully Completed.\n"
     ]
    },
    {
     "data": {
      "text/html": [
       "<style  type=\"text/css\" >\n",
       "#T_8eced3d0_102a_11eb_abc7_d8ca52fa8622row1_col1,#T_8eced3d0_102a_11eb_abc7_d8ca52fa8622row15_col1,#T_8eced3d0_102a_11eb_abc7_d8ca52fa8622row17_col1,#T_8eced3d0_102a_11eb_abc7_d8ca52fa8622row26_col1,#T_8eced3d0_102a_11eb_abc7_d8ca52fa8622row30_col1,#T_8eced3d0_102a_11eb_abc7_d8ca52fa8622row32_col1,#T_8eced3d0_102a_11eb_abc7_d8ca52fa8622row34_col1,#T_8eced3d0_102a_11eb_abc7_d8ca52fa8622row39_col1,#T_8eced3d0_102a_11eb_abc7_d8ca52fa8622row40_col1{\n",
       "            background-color:  yellow;\n",
       "        }</style><table id=\"T_8eced3d0_102a_11eb_abc7_d8ca52fa8622\" ><thead>    <tr>        <th class=\"blank level0\" ></th>        <th class=\"col_heading level0 col0\" >Description</th>        <th class=\"col_heading level0 col1\" >Value</th>    </tr></thead><tbody>\n",
       "                <tr>\n",
       "                        <th id=\"T_8eced3d0_102a_11eb_abc7_d8ca52fa8622level0_row0\" class=\"row_heading level0 row0\" >0</th>\n",
       "                        <td id=\"T_8eced3d0_102a_11eb_abc7_d8ca52fa8622row0_col0\" class=\"data row0 col0\" >session_id</td>\n",
       "                        <td id=\"T_8eced3d0_102a_11eb_abc7_d8ca52fa8622row0_col1\" class=\"data row0 col1\" >123</td>\n",
       "            </tr>\n",
       "            <tr>\n",
       "                        <th id=\"T_8eced3d0_102a_11eb_abc7_d8ca52fa8622level0_row1\" class=\"row_heading level0 row1\" >1</th>\n",
       "                        <td id=\"T_8eced3d0_102a_11eb_abc7_d8ca52fa8622row1_col0\" class=\"data row1 col0\" >Transform Target </td>\n",
       "                        <td id=\"T_8eced3d0_102a_11eb_abc7_d8ca52fa8622row1_col1\" class=\"data row1 col1\" >True</td>\n",
       "            </tr>\n",
       "            <tr>\n",
       "                        <th id=\"T_8eced3d0_102a_11eb_abc7_d8ca52fa8622level0_row2\" class=\"row_heading level0 row2\" >2</th>\n",
       "                        <td id=\"T_8eced3d0_102a_11eb_abc7_d8ca52fa8622row2_col0\" class=\"data row2 col0\" >Transform Target Method</td>\n",
       "                        <td id=\"T_8eced3d0_102a_11eb_abc7_d8ca52fa8622row2_col1\" class=\"data row2 col1\" >box-cox</td>\n",
       "            </tr>\n",
       "            <tr>\n",
       "                        <th id=\"T_8eced3d0_102a_11eb_abc7_d8ca52fa8622level0_row3\" class=\"row_heading level0 row3\" >3</th>\n",
       "                        <td id=\"T_8eced3d0_102a_11eb_abc7_d8ca52fa8622row3_col0\" class=\"data row3 col0\" >Original Data</td>\n",
       "                        <td id=\"T_8eced3d0_102a_11eb_abc7_d8ca52fa8622row3_col1\" class=\"data row3 col1\" >(6628, 9)</td>\n",
       "            </tr>\n",
       "            <tr>\n",
       "                        <th id=\"T_8eced3d0_102a_11eb_abc7_d8ca52fa8622level0_row4\" class=\"row_heading level0 row4\" >4</th>\n",
       "                        <td id=\"T_8eced3d0_102a_11eb_abc7_d8ca52fa8622row4_col0\" class=\"data row4 col0\" >Missing Values </td>\n",
       "                        <td id=\"T_8eced3d0_102a_11eb_abc7_d8ca52fa8622row4_col1\" class=\"data row4 col1\" >False</td>\n",
       "            </tr>\n",
       "            <tr>\n",
       "                        <th id=\"T_8eced3d0_102a_11eb_abc7_d8ca52fa8622level0_row5\" class=\"row_heading level0 row5\" >5</th>\n",
       "                        <td id=\"T_8eced3d0_102a_11eb_abc7_d8ca52fa8622row5_col0\" class=\"data row5 col0\" >Numeric Features </td>\n",
       "                        <td id=\"T_8eced3d0_102a_11eb_abc7_d8ca52fa8622row5_col1\" class=\"data row5 col1\" >5</td>\n",
       "            </tr>\n",
       "            <tr>\n",
       "                        <th id=\"T_8eced3d0_102a_11eb_abc7_d8ca52fa8622level0_row6\" class=\"row_heading level0 row6\" >6</th>\n",
       "                        <td id=\"T_8eced3d0_102a_11eb_abc7_d8ca52fa8622row6_col0\" class=\"data row6 col0\" >Categorical Features </td>\n",
       "                        <td id=\"T_8eced3d0_102a_11eb_abc7_d8ca52fa8622row6_col1\" class=\"data row6 col1\" >3</td>\n",
       "            </tr>\n",
       "            <tr>\n",
       "                        <th id=\"T_8eced3d0_102a_11eb_abc7_d8ca52fa8622level0_row7\" class=\"row_heading level0 row7\" >7</th>\n",
       "                        <td id=\"T_8eced3d0_102a_11eb_abc7_d8ca52fa8622row7_col0\" class=\"data row7 col0\" >Ordinal Features </td>\n",
       "                        <td id=\"T_8eced3d0_102a_11eb_abc7_d8ca52fa8622row7_col1\" class=\"data row7 col1\" >False</td>\n",
       "            </tr>\n",
       "            <tr>\n",
       "                        <th id=\"T_8eced3d0_102a_11eb_abc7_d8ca52fa8622level0_row8\" class=\"row_heading level0 row8\" >8</th>\n",
       "                        <td id=\"T_8eced3d0_102a_11eb_abc7_d8ca52fa8622row8_col0\" class=\"data row8 col0\" >High Cardinality Features </td>\n",
       "                        <td id=\"T_8eced3d0_102a_11eb_abc7_d8ca52fa8622row8_col1\" class=\"data row8 col1\" >False</td>\n",
       "            </tr>\n",
       "            <tr>\n",
       "                        <th id=\"T_8eced3d0_102a_11eb_abc7_d8ca52fa8622level0_row9\" class=\"row_heading level0 row9\" >9</th>\n",
       "                        <td id=\"T_8eced3d0_102a_11eb_abc7_d8ca52fa8622row9_col0\" class=\"data row9 col0\" >High Cardinality Method </td>\n",
       "                        <td id=\"T_8eced3d0_102a_11eb_abc7_d8ca52fa8622row9_col1\" class=\"data row9 col1\" >None</td>\n",
       "            </tr>\n",
       "            <tr>\n",
       "                        <th id=\"T_8eced3d0_102a_11eb_abc7_d8ca52fa8622level0_row10\" class=\"row_heading level0 row10\" >10</th>\n",
       "                        <td id=\"T_8eced3d0_102a_11eb_abc7_d8ca52fa8622row10_col0\" class=\"data row10 col0\" >Sampled Data</td>\n",
       "                        <td id=\"T_8eced3d0_102a_11eb_abc7_d8ca52fa8622row10_col1\" class=\"data row10 col1\" >(6296, 9)</td>\n",
       "            </tr>\n",
       "            <tr>\n",
       "                        <th id=\"T_8eced3d0_102a_11eb_abc7_d8ca52fa8622level0_row11\" class=\"row_heading level0 row11\" >11</th>\n",
       "                        <td id=\"T_8eced3d0_102a_11eb_abc7_d8ca52fa8622row11_col0\" class=\"data row11 col0\" >Transformed Train Set</td>\n",
       "                        <td id=\"T_8eced3d0_102a_11eb_abc7_d8ca52fa8622row11_col1\" class=\"data row11 col1\" >(4407, 473)</td>\n",
       "            </tr>\n",
       "            <tr>\n",
       "                        <th id=\"T_8eced3d0_102a_11eb_abc7_d8ca52fa8622level0_row12\" class=\"row_heading level0 row12\" >12</th>\n",
       "                        <td id=\"T_8eced3d0_102a_11eb_abc7_d8ca52fa8622row12_col0\" class=\"data row12 col0\" >Transformed Test Set</td>\n",
       "                        <td id=\"T_8eced3d0_102a_11eb_abc7_d8ca52fa8622row12_col1\" class=\"data row12 col1\" >(1889, 473)</td>\n",
       "            </tr>\n",
       "            <tr>\n",
       "                        <th id=\"T_8eced3d0_102a_11eb_abc7_d8ca52fa8622level0_row13\" class=\"row_heading level0 row13\" >13</th>\n",
       "                        <td id=\"T_8eced3d0_102a_11eb_abc7_d8ca52fa8622row13_col0\" class=\"data row13 col0\" >Numeric Imputer </td>\n",
       "                        <td id=\"T_8eced3d0_102a_11eb_abc7_d8ca52fa8622row13_col1\" class=\"data row13 col1\" >mean</td>\n",
       "            </tr>\n",
       "            <tr>\n",
       "                        <th id=\"T_8eced3d0_102a_11eb_abc7_d8ca52fa8622level0_row14\" class=\"row_heading level0 row14\" >14</th>\n",
       "                        <td id=\"T_8eced3d0_102a_11eb_abc7_d8ca52fa8622row14_col0\" class=\"data row14 col0\" >Categorical Imputer </td>\n",
       "                        <td id=\"T_8eced3d0_102a_11eb_abc7_d8ca52fa8622row14_col1\" class=\"data row14 col1\" >constant</td>\n",
       "            </tr>\n",
       "            <tr>\n",
       "                        <th id=\"T_8eced3d0_102a_11eb_abc7_d8ca52fa8622level0_row15\" class=\"row_heading level0 row15\" >15</th>\n",
       "                        <td id=\"T_8eced3d0_102a_11eb_abc7_d8ca52fa8622row15_col0\" class=\"data row15 col0\" >Normalize </td>\n",
       "                        <td id=\"T_8eced3d0_102a_11eb_abc7_d8ca52fa8622row15_col1\" class=\"data row15 col1\" >True</td>\n",
       "            </tr>\n",
       "            <tr>\n",
       "                        <th id=\"T_8eced3d0_102a_11eb_abc7_d8ca52fa8622level0_row16\" class=\"row_heading level0 row16\" >16</th>\n",
       "                        <td id=\"T_8eced3d0_102a_11eb_abc7_d8ca52fa8622row16_col0\" class=\"data row16 col0\" >Normalize Method </td>\n",
       "                        <td id=\"T_8eced3d0_102a_11eb_abc7_d8ca52fa8622row16_col1\" class=\"data row16 col1\" >robust</td>\n",
       "            </tr>\n",
       "            <tr>\n",
       "                        <th id=\"T_8eced3d0_102a_11eb_abc7_d8ca52fa8622level0_row17\" class=\"row_heading level0 row17\" >17</th>\n",
       "                        <td id=\"T_8eced3d0_102a_11eb_abc7_d8ca52fa8622row17_col0\" class=\"data row17 col0\" >Transformation </td>\n",
       "                        <td id=\"T_8eced3d0_102a_11eb_abc7_d8ca52fa8622row17_col1\" class=\"data row17 col1\" >True</td>\n",
       "            </tr>\n",
       "            <tr>\n",
       "                        <th id=\"T_8eced3d0_102a_11eb_abc7_d8ca52fa8622level0_row18\" class=\"row_heading level0 row18\" >18</th>\n",
       "                        <td id=\"T_8eced3d0_102a_11eb_abc7_d8ca52fa8622row18_col0\" class=\"data row18 col0\" >Transformation Method </td>\n",
       "                        <td id=\"T_8eced3d0_102a_11eb_abc7_d8ca52fa8622row18_col1\" class=\"data row18 col1\" >yeo-johnson</td>\n",
       "            </tr>\n",
       "            <tr>\n",
       "                        <th id=\"T_8eced3d0_102a_11eb_abc7_d8ca52fa8622level0_row19\" class=\"row_heading level0 row19\" >19</th>\n",
       "                        <td id=\"T_8eced3d0_102a_11eb_abc7_d8ca52fa8622row19_col0\" class=\"data row19 col0\" >PCA </td>\n",
       "                        <td id=\"T_8eced3d0_102a_11eb_abc7_d8ca52fa8622row19_col1\" class=\"data row19 col1\" >False</td>\n",
       "            </tr>\n",
       "            <tr>\n",
       "                        <th id=\"T_8eced3d0_102a_11eb_abc7_d8ca52fa8622level0_row20\" class=\"row_heading level0 row20\" >20</th>\n",
       "                        <td id=\"T_8eced3d0_102a_11eb_abc7_d8ca52fa8622row20_col0\" class=\"data row20 col0\" >PCA Method </td>\n",
       "                        <td id=\"T_8eced3d0_102a_11eb_abc7_d8ca52fa8622row20_col1\" class=\"data row20 col1\" >None</td>\n",
       "            </tr>\n",
       "            <tr>\n",
       "                        <th id=\"T_8eced3d0_102a_11eb_abc7_d8ca52fa8622level0_row21\" class=\"row_heading level0 row21\" >21</th>\n",
       "                        <td id=\"T_8eced3d0_102a_11eb_abc7_d8ca52fa8622row21_col0\" class=\"data row21 col0\" >PCA Components </td>\n",
       "                        <td id=\"T_8eced3d0_102a_11eb_abc7_d8ca52fa8622row21_col1\" class=\"data row21 col1\" >None</td>\n",
       "            </tr>\n",
       "            <tr>\n",
       "                        <th id=\"T_8eced3d0_102a_11eb_abc7_d8ca52fa8622level0_row22\" class=\"row_heading level0 row22\" >22</th>\n",
       "                        <td id=\"T_8eced3d0_102a_11eb_abc7_d8ca52fa8622row22_col0\" class=\"data row22 col0\" >Ignore Low Variance </td>\n",
       "                        <td id=\"T_8eced3d0_102a_11eb_abc7_d8ca52fa8622row22_col1\" class=\"data row22 col1\" >False</td>\n",
       "            </tr>\n",
       "            <tr>\n",
       "                        <th id=\"T_8eced3d0_102a_11eb_abc7_d8ca52fa8622level0_row23\" class=\"row_heading level0 row23\" >23</th>\n",
       "                        <td id=\"T_8eced3d0_102a_11eb_abc7_d8ca52fa8622row23_col0\" class=\"data row23 col0\" >Combine Rare Levels </td>\n",
       "                        <td id=\"T_8eced3d0_102a_11eb_abc7_d8ca52fa8622row23_col1\" class=\"data row23 col1\" >False</td>\n",
       "            </tr>\n",
       "            <tr>\n",
       "                        <th id=\"T_8eced3d0_102a_11eb_abc7_d8ca52fa8622level0_row24\" class=\"row_heading level0 row24\" >24</th>\n",
       "                        <td id=\"T_8eced3d0_102a_11eb_abc7_d8ca52fa8622row24_col0\" class=\"data row24 col0\" >Rare Level Threshold </td>\n",
       "                        <td id=\"T_8eced3d0_102a_11eb_abc7_d8ca52fa8622row24_col1\" class=\"data row24 col1\" >None</td>\n",
       "            </tr>\n",
       "            <tr>\n",
       "                        <th id=\"T_8eced3d0_102a_11eb_abc7_d8ca52fa8622level0_row25\" class=\"row_heading level0 row25\" >25</th>\n",
       "                        <td id=\"T_8eced3d0_102a_11eb_abc7_d8ca52fa8622row25_col0\" class=\"data row25 col0\" >Numeric Binning </td>\n",
       "                        <td id=\"T_8eced3d0_102a_11eb_abc7_d8ca52fa8622row25_col1\" class=\"data row25 col1\" >False</td>\n",
       "            </tr>\n",
       "            <tr>\n",
       "                        <th id=\"T_8eced3d0_102a_11eb_abc7_d8ca52fa8622level0_row26\" class=\"row_heading level0 row26\" >26</th>\n",
       "                        <td id=\"T_8eced3d0_102a_11eb_abc7_d8ca52fa8622row26_col0\" class=\"data row26 col0\" >Remove Outliers </td>\n",
       "                        <td id=\"T_8eced3d0_102a_11eb_abc7_d8ca52fa8622row26_col1\" class=\"data row26 col1\" >True</td>\n",
       "            </tr>\n",
       "            <tr>\n",
       "                        <th id=\"T_8eced3d0_102a_11eb_abc7_d8ca52fa8622level0_row27\" class=\"row_heading level0 row27\" >27</th>\n",
       "                        <td id=\"T_8eced3d0_102a_11eb_abc7_d8ca52fa8622row27_col0\" class=\"data row27 col0\" >Outliers Threshold </td>\n",
       "                        <td id=\"T_8eced3d0_102a_11eb_abc7_d8ca52fa8622row27_col1\" class=\"data row27 col1\" >0.050000</td>\n",
       "            </tr>\n",
       "            <tr>\n",
       "                        <th id=\"T_8eced3d0_102a_11eb_abc7_d8ca52fa8622level0_row28\" class=\"row_heading level0 row28\" >28</th>\n",
       "                        <td id=\"T_8eced3d0_102a_11eb_abc7_d8ca52fa8622row28_col0\" class=\"data row28 col0\" >Remove Multicollinearity </td>\n",
       "                        <td id=\"T_8eced3d0_102a_11eb_abc7_d8ca52fa8622row28_col1\" class=\"data row28 col1\" >False</td>\n",
       "            </tr>\n",
       "            <tr>\n",
       "                        <th id=\"T_8eced3d0_102a_11eb_abc7_d8ca52fa8622level0_row29\" class=\"row_heading level0 row29\" >29</th>\n",
       "                        <td id=\"T_8eced3d0_102a_11eb_abc7_d8ca52fa8622row29_col0\" class=\"data row29 col0\" >Multicollinearity Threshold </td>\n",
       "                        <td id=\"T_8eced3d0_102a_11eb_abc7_d8ca52fa8622row29_col1\" class=\"data row29 col1\" >None</td>\n",
       "            </tr>\n",
       "            <tr>\n",
       "                        <th id=\"T_8eced3d0_102a_11eb_abc7_d8ca52fa8622level0_row30\" class=\"row_heading level0 row30\" >30</th>\n",
       "                        <td id=\"T_8eced3d0_102a_11eb_abc7_d8ca52fa8622row30_col0\" class=\"data row30 col0\" >Clustering </td>\n",
       "                        <td id=\"T_8eced3d0_102a_11eb_abc7_d8ca52fa8622row30_col1\" class=\"data row30 col1\" >True</td>\n",
       "            </tr>\n",
       "            <tr>\n",
       "                        <th id=\"T_8eced3d0_102a_11eb_abc7_d8ca52fa8622level0_row31\" class=\"row_heading level0 row31\" >31</th>\n",
       "                        <td id=\"T_8eced3d0_102a_11eb_abc7_d8ca52fa8622row31_col0\" class=\"data row31 col0\" >Clustering Iteration </td>\n",
       "                        <td id=\"T_8eced3d0_102a_11eb_abc7_d8ca52fa8622row31_col1\" class=\"data row31 col1\" >20</td>\n",
       "            </tr>\n",
       "            <tr>\n",
       "                        <th id=\"T_8eced3d0_102a_11eb_abc7_d8ca52fa8622level0_row32\" class=\"row_heading level0 row32\" >32</th>\n",
       "                        <td id=\"T_8eced3d0_102a_11eb_abc7_d8ca52fa8622row32_col0\" class=\"data row32 col0\" >Polynomial Features </td>\n",
       "                        <td id=\"T_8eced3d0_102a_11eb_abc7_d8ca52fa8622row32_col1\" class=\"data row32 col1\" >True</td>\n",
       "            </tr>\n",
       "            <tr>\n",
       "                        <th id=\"T_8eced3d0_102a_11eb_abc7_d8ca52fa8622level0_row33\" class=\"row_heading level0 row33\" >33</th>\n",
       "                        <td id=\"T_8eced3d0_102a_11eb_abc7_d8ca52fa8622row33_col0\" class=\"data row33 col0\" >Polynomial Degree </td>\n",
       "                        <td id=\"T_8eced3d0_102a_11eb_abc7_d8ca52fa8622row33_col1\" class=\"data row33 col1\" >2</td>\n",
       "            </tr>\n",
       "            <tr>\n",
       "                        <th id=\"T_8eced3d0_102a_11eb_abc7_d8ca52fa8622level0_row34\" class=\"row_heading level0 row34\" >34</th>\n",
       "                        <td id=\"T_8eced3d0_102a_11eb_abc7_d8ca52fa8622row34_col0\" class=\"data row34 col0\" >Trignometry Features </td>\n",
       "                        <td id=\"T_8eced3d0_102a_11eb_abc7_d8ca52fa8622row34_col1\" class=\"data row34 col1\" >True</td>\n",
       "            </tr>\n",
       "            <tr>\n",
       "                        <th id=\"T_8eced3d0_102a_11eb_abc7_d8ca52fa8622level0_row35\" class=\"row_heading level0 row35\" >35</th>\n",
       "                        <td id=\"T_8eced3d0_102a_11eb_abc7_d8ca52fa8622row35_col0\" class=\"data row35 col0\" >Polynomial Threshold </td>\n",
       "                        <td id=\"T_8eced3d0_102a_11eb_abc7_d8ca52fa8622row35_col1\" class=\"data row35 col1\" >0.100000</td>\n",
       "            </tr>\n",
       "            <tr>\n",
       "                        <th id=\"T_8eced3d0_102a_11eb_abc7_d8ca52fa8622level0_row36\" class=\"row_heading level0 row36\" >36</th>\n",
       "                        <td id=\"T_8eced3d0_102a_11eb_abc7_d8ca52fa8622row36_col0\" class=\"data row36 col0\" >Group Features </td>\n",
       "                        <td id=\"T_8eced3d0_102a_11eb_abc7_d8ca52fa8622row36_col1\" class=\"data row36 col1\" >False</td>\n",
       "            </tr>\n",
       "            <tr>\n",
       "                        <th id=\"T_8eced3d0_102a_11eb_abc7_d8ca52fa8622level0_row37\" class=\"row_heading level0 row37\" >37</th>\n",
       "                        <td id=\"T_8eced3d0_102a_11eb_abc7_d8ca52fa8622row37_col0\" class=\"data row37 col0\" >Feature Selection </td>\n",
       "                        <td id=\"T_8eced3d0_102a_11eb_abc7_d8ca52fa8622row37_col1\" class=\"data row37 col1\" >False</td>\n",
       "            </tr>\n",
       "            <tr>\n",
       "                        <th id=\"T_8eced3d0_102a_11eb_abc7_d8ca52fa8622level0_row38\" class=\"row_heading level0 row38\" >38</th>\n",
       "                        <td id=\"T_8eced3d0_102a_11eb_abc7_d8ca52fa8622row38_col0\" class=\"data row38 col0\" >Features Selection Threshold </td>\n",
       "                        <td id=\"T_8eced3d0_102a_11eb_abc7_d8ca52fa8622row38_col1\" class=\"data row38 col1\" >None</td>\n",
       "            </tr>\n",
       "            <tr>\n",
       "                        <th id=\"T_8eced3d0_102a_11eb_abc7_d8ca52fa8622level0_row39\" class=\"row_heading level0 row39\" >39</th>\n",
       "                        <td id=\"T_8eced3d0_102a_11eb_abc7_d8ca52fa8622row39_col0\" class=\"data row39 col0\" >Feature Interaction </td>\n",
       "                        <td id=\"T_8eced3d0_102a_11eb_abc7_d8ca52fa8622row39_col1\" class=\"data row39 col1\" >True</td>\n",
       "            </tr>\n",
       "            <tr>\n",
       "                        <th id=\"T_8eced3d0_102a_11eb_abc7_d8ca52fa8622level0_row40\" class=\"row_heading level0 row40\" >40</th>\n",
       "                        <td id=\"T_8eced3d0_102a_11eb_abc7_d8ca52fa8622row40_col0\" class=\"data row40 col0\" >Feature Ratio </td>\n",
       "                        <td id=\"T_8eced3d0_102a_11eb_abc7_d8ca52fa8622row40_col1\" class=\"data row40 col1\" >True</td>\n",
       "            </tr>\n",
       "            <tr>\n",
       "                        <th id=\"T_8eced3d0_102a_11eb_abc7_d8ca52fa8622level0_row41\" class=\"row_heading level0 row41\" >41</th>\n",
       "                        <td id=\"T_8eced3d0_102a_11eb_abc7_d8ca52fa8622row41_col0\" class=\"data row41 col0\" >Interaction Threshold </td>\n",
       "                        <td id=\"T_8eced3d0_102a_11eb_abc7_d8ca52fa8622row41_col1\" class=\"data row41 col1\" >0.010000</td>\n",
       "            </tr>\n",
       "    </tbody></table>"
      ],
      "text/plain": [
       "<pandas.io.formats.style.Styler at 0x1c8821f94a8>"
      ]
     },
     "metadata": {},
     "output_type": "display_data"
    }
   ],
   "source": [
    "exp_reg101 = setup(data = df, target = target, ignore_features=cat_f_to_ignore, categorical_features=cat_f_to_keep,\n",
    "                   numeric_features=num_f_to_keep,\n",
    "                   remove_outliers=True, #remove_multicollinearity = True,# multicollinearity_threshold = 0.6,\n",
    "                   #combine_rare_levels = True, rare_level_threshold=0.2,\n",
    "                   polynomial_features = True,\n",
    "                   trigonometry_features = True,\n",
    "                   feature_interaction=True,\n",
    "                   feature_ratio=True,\n",
    "                   create_clusters=True,\n",
    "                   use_gpu=True,\n",
    "                   normalize = True, normalize_method=\"robust\", transformation = True, transform_target = True, verbose=True, session_id=123)\n",
    "# normalize_method='robust'"
   ]
  },
  {
   "cell_type": "code",
   "execution_count": null,
   "metadata": {
    "ExecuteTime": {
     "end_time": "2020-10-01T20:35:00.791020Z",
     "start_time": "2020-10-01T20:35:00.778021Z"
    },
    "scrolled": false
   },
   "outputs": [],
   "source": [
    "# exp_reg101 = setup(data = data, target = 'valeur_fonciere', remove_outliers=True,\n",
    "#                    ignore_features=cat_features, create_clusters=True, polynomial_features=True, feature_ratio=True, \n",
    "#                    profile=True, session_id=123) \n",
    "# exp_reg101 = setup(data = data, target = target, remove_outliers=True, categorical_features=cat_f_tokeep,\n",
    "#                    numeric_features=num_f_tokeep, ignore_features=cat_f_toignore,\n",
    "#                    session_id=123) "
   ]
  },
  {
   "cell_type": "code",
   "execution_count": 53,
   "metadata": {
    "ExecuteTime": {
     "end_time": "2020-10-17T03:42:26.412054Z",
     "start_time": "2020-10-17T03:41:19.197402Z"
    }
   },
   "outputs": [
    {
     "data": {
      "text/html": [
       "<style  type=\"text/css\" >\n",
       "    #T_c6218d1e_102a_11eb_bd3a_d8ca52fa8622 th {\n",
       "          text-align: left;\n",
       "    }#T_c6218d1e_102a_11eb_bd3a_d8ca52fa8622row0_col0,#T_c6218d1e_102a_11eb_bd3a_d8ca52fa8622row0_col6,#T_c6218d1e_102a_11eb_bd3a_d8ca52fa8622row1_col0,#T_c6218d1e_102a_11eb_bd3a_d8ca52fa8622row1_col1,#T_c6218d1e_102a_11eb_bd3a_d8ca52fa8622row1_col2,#T_c6218d1e_102a_11eb_bd3a_d8ca52fa8622row1_col3,#T_c6218d1e_102a_11eb_bd3a_d8ca52fa8622row1_col4,#T_c6218d1e_102a_11eb_bd3a_d8ca52fa8622row1_col5,#T_c6218d1e_102a_11eb_bd3a_d8ca52fa8622row1_col6,#T_c6218d1e_102a_11eb_bd3a_d8ca52fa8622row2_col0,#T_c6218d1e_102a_11eb_bd3a_d8ca52fa8622row2_col1,#T_c6218d1e_102a_11eb_bd3a_d8ca52fa8622row2_col2,#T_c6218d1e_102a_11eb_bd3a_d8ca52fa8622row2_col3,#T_c6218d1e_102a_11eb_bd3a_d8ca52fa8622row2_col4,#T_c6218d1e_102a_11eb_bd3a_d8ca52fa8622row2_col5,#T_c6218d1e_102a_11eb_bd3a_d8ca52fa8622row2_col6,#T_c6218d1e_102a_11eb_bd3a_d8ca52fa8622row3_col0,#T_c6218d1e_102a_11eb_bd3a_d8ca52fa8622row3_col1,#T_c6218d1e_102a_11eb_bd3a_d8ca52fa8622row3_col2,#T_c6218d1e_102a_11eb_bd3a_d8ca52fa8622row3_col3,#T_c6218d1e_102a_11eb_bd3a_d8ca52fa8622row3_col4,#T_c6218d1e_102a_11eb_bd3a_d8ca52fa8622row3_col5,#T_c6218d1e_102a_11eb_bd3a_d8ca52fa8622row3_col6,#T_c6218d1e_102a_11eb_bd3a_d8ca52fa8622row4_col0,#T_c6218d1e_102a_11eb_bd3a_d8ca52fa8622row4_col1,#T_c6218d1e_102a_11eb_bd3a_d8ca52fa8622row4_col2,#T_c6218d1e_102a_11eb_bd3a_d8ca52fa8622row4_col3,#T_c6218d1e_102a_11eb_bd3a_d8ca52fa8622row4_col4,#T_c6218d1e_102a_11eb_bd3a_d8ca52fa8622row4_col5,#T_c6218d1e_102a_11eb_bd3a_d8ca52fa8622row4_col6,#T_c6218d1e_102a_11eb_bd3a_d8ca52fa8622row5_col0,#T_c6218d1e_102a_11eb_bd3a_d8ca52fa8622row5_col1,#T_c6218d1e_102a_11eb_bd3a_d8ca52fa8622row5_col2,#T_c6218d1e_102a_11eb_bd3a_d8ca52fa8622row5_col3,#T_c6218d1e_102a_11eb_bd3a_d8ca52fa8622row5_col4,#T_c6218d1e_102a_11eb_bd3a_d8ca52fa8622row5_col5,#T_c6218d1e_102a_11eb_bd3a_d8ca52fa8622row6_col0,#T_c6218d1e_102a_11eb_bd3a_d8ca52fa8622row6_col1,#T_c6218d1e_102a_11eb_bd3a_d8ca52fa8622row6_col2,#T_c6218d1e_102a_11eb_bd3a_d8ca52fa8622row6_col3,#T_c6218d1e_102a_11eb_bd3a_d8ca52fa8622row6_col4,#T_c6218d1e_102a_11eb_bd3a_d8ca52fa8622row6_col5,#T_c6218d1e_102a_11eb_bd3a_d8ca52fa8622row6_col6,#T_c6218d1e_102a_11eb_bd3a_d8ca52fa8622row7_col0,#T_c6218d1e_102a_11eb_bd3a_d8ca52fa8622row7_col1,#T_c6218d1e_102a_11eb_bd3a_d8ca52fa8622row7_col2,#T_c6218d1e_102a_11eb_bd3a_d8ca52fa8622row7_col3,#T_c6218d1e_102a_11eb_bd3a_d8ca52fa8622row7_col4,#T_c6218d1e_102a_11eb_bd3a_d8ca52fa8622row7_col5,#T_c6218d1e_102a_11eb_bd3a_d8ca52fa8622row7_col6,#T_c6218d1e_102a_11eb_bd3a_d8ca52fa8622row8_col0,#T_c6218d1e_102a_11eb_bd3a_d8ca52fa8622row8_col1,#T_c6218d1e_102a_11eb_bd3a_d8ca52fa8622row8_col2,#T_c6218d1e_102a_11eb_bd3a_d8ca52fa8622row8_col3,#T_c6218d1e_102a_11eb_bd3a_d8ca52fa8622row8_col4,#T_c6218d1e_102a_11eb_bd3a_d8ca52fa8622row8_col5,#T_c6218d1e_102a_11eb_bd3a_d8ca52fa8622row8_col6,#T_c6218d1e_102a_11eb_bd3a_d8ca52fa8622row9_col0,#T_c6218d1e_102a_11eb_bd3a_d8ca52fa8622row9_col1,#T_c6218d1e_102a_11eb_bd3a_d8ca52fa8622row9_col2,#T_c6218d1e_102a_11eb_bd3a_d8ca52fa8622row9_col3,#T_c6218d1e_102a_11eb_bd3a_d8ca52fa8622row9_col4,#T_c6218d1e_102a_11eb_bd3a_d8ca52fa8622row9_col5,#T_c6218d1e_102a_11eb_bd3a_d8ca52fa8622row9_col6,#T_c6218d1e_102a_11eb_bd3a_d8ca52fa8622row10_col0,#T_c6218d1e_102a_11eb_bd3a_d8ca52fa8622row10_col1,#T_c6218d1e_102a_11eb_bd3a_d8ca52fa8622row10_col2,#T_c6218d1e_102a_11eb_bd3a_d8ca52fa8622row10_col3,#T_c6218d1e_102a_11eb_bd3a_d8ca52fa8622row10_col4,#T_c6218d1e_102a_11eb_bd3a_d8ca52fa8622row10_col5,#T_c6218d1e_102a_11eb_bd3a_d8ca52fa8622row10_col6,#T_c6218d1e_102a_11eb_bd3a_d8ca52fa8622row11_col0,#T_c6218d1e_102a_11eb_bd3a_d8ca52fa8622row11_col1,#T_c6218d1e_102a_11eb_bd3a_d8ca52fa8622row11_col2,#T_c6218d1e_102a_11eb_bd3a_d8ca52fa8622row11_col3,#T_c6218d1e_102a_11eb_bd3a_d8ca52fa8622row11_col4,#T_c6218d1e_102a_11eb_bd3a_d8ca52fa8622row11_col5,#T_c6218d1e_102a_11eb_bd3a_d8ca52fa8622row11_col6,#T_c6218d1e_102a_11eb_bd3a_d8ca52fa8622row12_col0,#T_c6218d1e_102a_11eb_bd3a_d8ca52fa8622row12_col1,#T_c6218d1e_102a_11eb_bd3a_d8ca52fa8622row12_col2,#T_c6218d1e_102a_11eb_bd3a_d8ca52fa8622row12_col3,#T_c6218d1e_102a_11eb_bd3a_d8ca52fa8622row12_col4,#T_c6218d1e_102a_11eb_bd3a_d8ca52fa8622row12_col5,#T_c6218d1e_102a_11eb_bd3a_d8ca52fa8622row12_col6,#T_c6218d1e_102a_11eb_bd3a_d8ca52fa8622row13_col0,#T_c6218d1e_102a_11eb_bd3a_d8ca52fa8622row13_col1,#T_c6218d1e_102a_11eb_bd3a_d8ca52fa8622row13_col2,#T_c6218d1e_102a_11eb_bd3a_d8ca52fa8622row13_col3,#T_c6218d1e_102a_11eb_bd3a_d8ca52fa8622row13_col4,#T_c6218d1e_102a_11eb_bd3a_d8ca52fa8622row13_col5,#T_c6218d1e_102a_11eb_bd3a_d8ca52fa8622row13_col6{\n",
       "            text-align:  left;\n",
       "        }#T_c6218d1e_102a_11eb_bd3a_d8ca52fa8622row0_col1,#T_c6218d1e_102a_11eb_bd3a_d8ca52fa8622row0_col2,#T_c6218d1e_102a_11eb_bd3a_d8ca52fa8622row0_col3,#T_c6218d1e_102a_11eb_bd3a_d8ca52fa8622row0_col4,#T_c6218d1e_102a_11eb_bd3a_d8ca52fa8622row0_col5,#T_c6218d1e_102a_11eb_bd3a_d8ca52fa8622row5_col6{\n",
       "            background-color:  yellow;\n",
       "            text-align:  left;\n",
       "        }#T_c6218d1e_102a_11eb_bd3a_d8ca52fa8622row0_col7,#T_c6218d1e_102a_11eb_bd3a_d8ca52fa8622row1_col7,#T_c6218d1e_102a_11eb_bd3a_d8ca52fa8622row2_col7,#T_c6218d1e_102a_11eb_bd3a_d8ca52fa8622row3_col7,#T_c6218d1e_102a_11eb_bd3a_d8ca52fa8622row4_col7,#T_c6218d1e_102a_11eb_bd3a_d8ca52fa8622row5_col7,#T_c6218d1e_102a_11eb_bd3a_d8ca52fa8622row6_col7,#T_c6218d1e_102a_11eb_bd3a_d8ca52fa8622row7_col7,#T_c6218d1e_102a_11eb_bd3a_d8ca52fa8622row8_col7,#T_c6218d1e_102a_11eb_bd3a_d8ca52fa8622row9_col7,#T_c6218d1e_102a_11eb_bd3a_d8ca52fa8622row10_col7,#T_c6218d1e_102a_11eb_bd3a_d8ca52fa8622row11_col7,#T_c6218d1e_102a_11eb_bd3a_d8ca52fa8622row12_col7,#T_c6218d1e_102a_11eb_bd3a_d8ca52fa8622row13_col7{\n",
       "            background-color:  lightgrey;\n",
       "            text-align:  left;\n",
       "        }</style><table id=\"T_c6218d1e_102a_11eb_bd3a_d8ca52fa8622\" ><thead>    <tr>        <th class=\"blank level0\" ></th>        <th class=\"col_heading level0 col0\" >Model</th>        <th class=\"col_heading level0 col1\" >MAE</th>        <th class=\"col_heading level0 col2\" >MSE</th>        <th class=\"col_heading level0 col3\" >RMSE</th>        <th class=\"col_heading level0 col4\" >R2</th>        <th class=\"col_heading level0 col5\" >RMSLE</th>        <th class=\"col_heading level0 col6\" >MAPE</th>        <th class=\"col_heading level0 col7\" >TT (Sec)</th>    </tr></thead><tbody>\n",
       "                <tr>\n",
       "                        <th id=\"T_c6218d1e_102a_11eb_bd3a_d8ca52fa8622level0_row0\" class=\"row_heading level0 row0\" >0</th>\n",
       "                        <td id=\"T_c6218d1e_102a_11eb_bd3a_d8ca52fa8622row0_col0\" class=\"data row0 col0\" >Lasso Least Angle Regression</td>\n",
       "                        <td id=\"T_c6218d1e_102a_11eb_bd3a_d8ca52fa8622row0_col1\" class=\"data row0 col1\" >8422.7936</td>\n",
       "                        <td id=\"T_c6218d1e_102a_11eb_bd3a_d8ca52fa8622row0_col2\" class=\"data row0 col2\" >96961679.8430</td>\n",
       "                        <td id=\"T_c6218d1e_102a_11eb_bd3a_d8ca52fa8622row0_col3\" class=\"data row0 col3\" >9846.4943</td>\n",
       "                        <td id=\"T_c6218d1e_102a_11eb_bd3a_d8ca52fa8622row0_col4\" class=\"data row0 col4\" >-0.0035</td>\n",
       "                        <td id=\"T_c6218d1e_102a_11eb_bd3a_d8ca52fa8622row0_col5\" class=\"data row0 col5\" >0.2069</td>\n",
       "                        <td id=\"T_c6218d1e_102a_11eb_bd3a_d8ca52fa8622row0_col6\" class=\"data row0 col6\" >0.1825</td>\n",
       "                        <td id=\"T_c6218d1e_102a_11eb_bd3a_d8ca52fa8622row0_col7\" class=\"data row0 col7\" >0.0500</td>\n",
       "            </tr>\n",
       "            <tr>\n",
       "                        <th id=\"T_c6218d1e_102a_11eb_bd3a_d8ca52fa8622level0_row1\" class=\"row_heading level0 row1\" >1</th>\n",
       "                        <td id=\"T_c6218d1e_102a_11eb_bd3a_d8ca52fa8622row1_col0\" class=\"data row1 col0\" >Lasso Regression</td>\n",
       "                        <td id=\"T_c6218d1e_102a_11eb_bd3a_d8ca52fa8622row1_col1\" class=\"data row1 col1\" >8444.3850</td>\n",
       "                        <td id=\"T_c6218d1e_102a_11eb_bd3a_d8ca52fa8622row1_col2\" class=\"data row1 col2\" >97457360.0366</td>\n",
       "                        <td id=\"T_c6218d1e_102a_11eb_bd3a_d8ca52fa8622row1_col3\" class=\"data row1 col3\" >9871.5929</td>\n",
       "                        <td id=\"T_c6218d1e_102a_11eb_bd3a_d8ca52fa8622row1_col4\" class=\"data row1 col4\" >-0.0086</td>\n",
       "                        <td id=\"T_c6218d1e_102a_11eb_bd3a_d8ca52fa8622row1_col5\" class=\"data row1 col5\" >0.2074</td>\n",
       "                        <td id=\"T_c6218d1e_102a_11eb_bd3a_d8ca52fa8622row1_col6\" class=\"data row1 col6\" >0.1830</td>\n",
       "                        <td id=\"T_c6218d1e_102a_11eb_bd3a_d8ca52fa8622row1_col7\" class=\"data row1 col7\" >0.4068</td>\n",
       "            </tr>\n",
       "            <tr>\n",
       "                        <th id=\"T_c6218d1e_102a_11eb_bd3a_d8ca52fa8622level0_row2\" class=\"row_heading level0 row2\" >2</th>\n",
       "                        <td id=\"T_c6218d1e_102a_11eb_bd3a_d8ca52fa8622row2_col0\" class=\"data row2 col0\" >Elastic Net</td>\n",
       "                        <td id=\"T_c6218d1e_102a_11eb_bd3a_d8ca52fa8622row2_col1\" class=\"data row2 col1\" >8452.0132</td>\n",
       "                        <td id=\"T_c6218d1e_102a_11eb_bd3a_d8ca52fa8622row2_col2\" class=\"data row2 col2\" >97704232.6577</td>\n",
       "                        <td id=\"T_c6218d1e_102a_11eb_bd3a_d8ca52fa8622row2_col3\" class=\"data row2 col3\" >9884.0324</td>\n",
       "                        <td id=\"T_c6218d1e_102a_11eb_bd3a_d8ca52fa8622row2_col4\" class=\"data row2 col4\" >-0.0111</td>\n",
       "                        <td id=\"T_c6218d1e_102a_11eb_bd3a_d8ca52fa8622row2_col5\" class=\"data row2 col5\" >0.2077</td>\n",
       "                        <td id=\"T_c6218d1e_102a_11eb_bd3a_d8ca52fa8622row2_col6\" class=\"data row2 col6\" >0.1831</td>\n",
       "                        <td id=\"T_c6218d1e_102a_11eb_bd3a_d8ca52fa8622row2_col7\" class=\"data row2 col7\" >0.5171</td>\n",
       "            </tr>\n",
       "            <tr>\n",
       "                        <th id=\"T_c6218d1e_102a_11eb_bd3a_d8ca52fa8622level0_row3\" class=\"row_heading level0 row3\" >3</th>\n",
       "                        <td id=\"T_c6218d1e_102a_11eb_bd3a_d8ca52fa8622row3_col0\" class=\"data row3 col0\" >Bayesian Ridge</td>\n",
       "                        <td id=\"T_c6218d1e_102a_11eb_bd3a_d8ca52fa8622row3_col1\" class=\"data row3 col1\" >8459.0942</td>\n",
       "                        <td id=\"T_c6218d1e_102a_11eb_bd3a_d8ca52fa8622row3_col2\" class=\"data row3 col2\" >98172685.8848</td>\n",
       "                        <td id=\"T_c6218d1e_102a_11eb_bd3a_d8ca52fa8622row3_col3\" class=\"data row3 col3\" >9907.3612</td>\n",
       "                        <td id=\"T_c6218d1e_102a_11eb_bd3a_d8ca52fa8622row3_col4\" class=\"data row3 col4\" >-0.0159</td>\n",
       "                        <td id=\"T_c6218d1e_102a_11eb_bd3a_d8ca52fa8622row3_col5\" class=\"data row3 col5\" >0.2093</td>\n",
       "                        <td id=\"T_c6218d1e_102a_11eb_bd3a_d8ca52fa8622row3_col6\" class=\"data row3 col6\" >0.1833</td>\n",
       "                        <td id=\"T_c6218d1e_102a_11eb_bd3a_d8ca52fa8622row3_col7\" class=\"data row3 col7\" >0.3416</td>\n",
       "            </tr>\n",
       "            <tr>\n",
       "                        <th id=\"T_c6218d1e_102a_11eb_bd3a_d8ca52fa8622level0_row4\" class=\"row_heading level0 row4\" >4</th>\n",
       "                        <td id=\"T_c6218d1e_102a_11eb_bd3a_d8ca52fa8622row4_col0\" class=\"data row4 col0\" >Huber Regressor</td>\n",
       "                        <td id=\"T_c6218d1e_102a_11eb_bd3a_d8ca52fa8622row4_col1\" class=\"data row4 col1\" >8464.0308</td>\n",
       "                        <td id=\"T_c6218d1e_102a_11eb_bd3a_d8ca52fa8622row4_col2\" class=\"data row4 col2\" >98232497.6927</td>\n",
       "                        <td id=\"T_c6218d1e_102a_11eb_bd3a_d8ca52fa8622row4_col3\" class=\"data row4 col3\" >9910.3991</td>\n",
       "                        <td id=\"T_c6218d1e_102a_11eb_bd3a_d8ca52fa8622row4_col4\" class=\"data row4 col4\" >-0.0165</td>\n",
       "                        <td id=\"T_c6218d1e_102a_11eb_bd3a_d8ca52fa8622row4_col5\" class=\"data row4 col5\" >0.2086</td>\n",
       "                        <td id=\"T_c6218d1e_102a_11eb_bd3a_d8ca52fa8622row4_col6\" class=\"data row4 col6\" >0.1836</td>\n",
       "                        <td id=\"T_c6218d1e_102a_11eb_bd3a_d8ca52fa8622row4_col7\" class=\"data row4 col7\" >2.2889</td>\n",
       "            </tr>\n",
       "            <tr>\n",
       "                        <th id=\"T_c6218d1e_102a_11eb_bd3a_d8ca52fa8622level0_row5\" class=\"row_heading level0 row5\" >5</th>\n",
       "                        <td id=\"T_c6218d1e_102a_11eb_bd3a_d8ca52fa8622row5_col0\" class=\"data row5 col0\" >Orthogonal Matching Pursuit</td>\n",
       "                        <td id=\"T_c6218d1e_102a_11eb_bd3a_d8ca52fa8622row5_col1\" class=\"data row5 col1\" >8424.4908</td>\n",
       "                        <td id=\"T_c6218d1e_102a_11eb_bd3a_d8ca52fa8622row5_col2\" class=\"data row5 col2\" >99805641.2097</td>\n",
       "                        <td id=\"T_c6218d1e_102a_11eb_bd3a_d8ca52fa8622row5_col3\" class=\"data row5 col3\" >9989.2870</td>\n",
       "                        <td id=\"T_c6218d1e_102a_11eb_bd3a_d8ca52fa8622row5_col4\" class=\"data row5 col4\" >-0.0328</td>\n",
       "                        <td id=\"T_c6218d1e_102a_11eb_bd3a_d8ca52fa8622row5_col5\" class=\"data row5 col5\" >0.2091</td>\n",
       "                        <td id=\"T_c6218d1e_102a_11eb_bd3a_d8ca52fa8622row5_col6\" class=\"data row5 col6\" >0.1822</td>\n",
       "                        <td id=\"T_c6218d1e_102a_11eb_bd3a_d8ca52fa8622row5_col7\" class=\"data row5 col7\" >0.0582</td>\n",
       "            </tr>\n",
       "            <tr>\n",
       "                        <th id=\"T_c6218d1e_102a_11eb_bd3a_d8ca52fa8622level0_row6\" class=\"row_heading level0 row6\" >6</th>\n",
       "                        <td id=\"T_c6218d1e_102a_11eb_bd3a_d8ca52fa8622row6_col0\" class=\"data row6 col0\" >Ridge Regression</td>\n",
       "                        <td id=\"T_c6218d1e_102a_11eb_bd3a_d8ca52fa8622row6_col1\" class=\"data row6 col1\" >8486.7595</td>\n",
       "                        <td id=\"T_c6218d1e_102a_11eb_bd3a_d8ca52fa8622row6_col2\" class=\"data row6 col2\" >104053050.1590</td>\n",
       "                        <td id=\"T_c6218d1e_102a_11eb_bd3a_d8ca52fa8622row6_col3\" class=\"data row6 col3\" >10196.8749</td>\n",
       "                        <td id=\"T_c6218d1e_102a_11eb_bd3a_d8ca52fa8622row6_col4\" class=\"data row6 col4\" >-0.0762</td>\n",
       "                        <td id=\"T_c6218d1e_102a_11eb_bd3a_d8ca52fa8622row6_col5\" class=\"data row6 col5\" >0.3349</td>\n",
       "                        <td id=\"T_c6218d1e_102a_11eb_bd3a_d8ca52fa8622row6_col6\" class=\"data row6 col6\" >0.1828</td>\n",
       "                        <td id=\"T_c6218d1e_102a_11eb_bd3a_d8ca52fa8622row6_col7\" class=\"data row6 col7\" >0.0518</td>\n",
       "            </tr>\n",
       "            <tr>\n",
       "                        <th id=\"T_c6218d1e_102a_11eb_bd3a_d8ca52fa8622level0_row7\" class=\"row_heading level0 row7\" >7</th>\n",
       "                        <td id=\"T_c6218d1e_102a_11eb_bd3a_d8ca52fa8622row7_col0\" class=\"data row7 col0\" >Light Gradient Boosting Machine</td>\n",
       "                        <td id=\"T_c6218d1e_102a_11eb_bd3a_d8ca52fa8622row7_col1\" class=\"data row7 col1\" >8545.3583</td>\n",
       "                        <td id=\"T_c6218d1e_102a_11eb_bd3a_d8ca52fa8622row7_col2\" class=\"data row7 col2\" >104208391.6485</td>\n",
       "                        <td id=\"T_c6218d1e_102a_11eb_bd3a_d8ca52fa8622row7_col3\" class=\"data row7 col3\" >10206.7599</td>\n",
       "                        <td id=\"T_c6218d1e_102a_11eb_bd3a_d8ca52fa8622row7_col4\" class=\"data row7 col4\" >-0.0783</td>\n",
       "                        <td id=\"T_c6218d1e_102a_11eb_bd3a_d8ca52fa8622row7_col5\" class=\"data row7 col5\" >0.2128</td>\n",
       "                        <td id=\"T_c6218d1e_102a_11eb_bd3a_d8ca52fa8622row7_col6\" class=\"data row7 col6\" >0.1842</td>\n",
       "                        <td id=\"T_c6218d1e_102a_11eb_bd3a_d8ca52fa8622row7_col7\" class=\"data row7 col7\" >1.2291</td>\n",
       "            </tr>\n",
       "            <tr>\n",
       "                        <th id=\"T_c6218d1e_102a_11eb_bd3a_d8ca52fa8622level0_row8\" class=\"row_heading level0 row8\" >8</th>\n",
       "                        <td id=\"T_c6218d1e_102a_11eb_bd3a_d8ca52fa8622row8_col0\" class=\"data row8 col0\" >Extreme Gradient Boosting</td>\n",
       "                        <td id=\"T_c6218d1e_102a_11eb_bd3a_d8ca52fa8622row8_col1\" class=\"data row8 col1\" >8713.5539</td>\n",
       "                        <td id=\"T_c6218d1e_102a_11eb_bd3a_d8ca52fa8622row8_col2\" class=\"data row8 col2\" >109156928.0000</td>\n",
       "                        <td id=\"T_c6218d1e_102a_11eb_bd3a_d8ca52fa8622row8_col3\" class=\"data row8 col3\" >10444.8441</td>\n",
       "                        <td id=\"T_c6218d1e_102a_11eb_bd3a_d8ca52fa8622row8_col4\" class=\"data row8 col4\" >-0.1291</td>\n",
       "                        <td id=\"T_c6218d1e_102a_11eb_bd3a_d8ca52fa8622row8_col5\" class=\"data row8 col5\" >0.2173</td>\n",
       "                        <td id=\"T_c6218d1e_102a_11eb_bd3a_d8ca52fa8622row8_col6\" class=\"data row8 col6\" >0.1873</td>\n",
       "                        <td id=\"T_c6218d1e_102a_11eb_bd3a_d8ca52fa8622row8_col7\" class=\"data row8 col7\" >3.7371</td>\n",
       "            </tr>\n",
       "            <tr>\n",
       "                        <th id=\"T_c6218d1e_102a_11eb_bd3a_d8ca52fa8622level0_row9\" class=\"row_heading level0 row9\" >9</th>\n",
       "                        <td id=\"T_c6218d1e_102a_11eb_bd3a_d8ca52fa8622row9_col0\" class=\"data row9 col0\" >K Neighbors Regressor</td>\n",
       "                        <td id=\"T_c6218d1e_102a_11eb_bd3a_d8ca52fa8622row9_col1\" class=\"data row9 col1\" >8859.3119</td>\n",
       "                        <td id=\"T_c6218d1e_102a_11eb_bd3a_d8ca52fa8622row9_col2\" class=\"data row9 col2\" >113846880.0000</td>\n",
       "                        <td id=\"T_c6218d1e_102a_11eb_bd3a_d8ca52fa8622row9_col3\" class=\"data row9 col3\" >10668.3701</td>\n",
       "                        <td id=\"T_c6218d1e_102a_11eb_bd3a_d8ca52fa8622row9_col4\" class=\"data row9 col4\" >-0.1780</td>\n",
       "                        <td id=\"T_c6218d1e_102a_11eb_bd3a_d8ca52fa8622row9_col5\" class=\"data row9 col5\" >0.2216</td>\n",
       "                        <td id=\"T_c6218d1e_102a_11eb_bd3a_d8ca52fa8622row9_col6\" class=\"data row9 col6\" >0.1906</td>\n",
       "                        <td id=\"T_c6218d1e_102a_11eb_bd3a_d8ca52fa8622row9_col7\" class=\"data row9 col7\" >0.2222</td>\n",
       "            </tr>\n",
       "            <tr>\n",
       "                        <th id=\"T_c6218d1e_102a_11eb_bd3a_d8ca52fa8622level0_row10\" class=\"row_heading level0 row10\" >10</th>\n",
       "                        <td id=\"T_c6218d1e_102a_11eb_bd3a_d8ca52fa8622row10_col0\" class=\"data row10 col0\" >Decision Tree</td>\n",
       "                        <td id=\"T_c6218d1e_102a_11eb_bd3a_d8ca52fa8622row10_col1\" class=\"data row10 col1\" >11132.8036</td>\n",
       "                        <td id=\"T_c6218d1e_102a_11eb_bd3a_d8ca52fa8622row10_col2\" class=\"data row10 col2\" >189805755.0341</td>\n",
       "                        <td id=\"T_c6218d1e_102a_11eb_bd3a_d8ca52fa8622row10_col3\" class=\"data row10 col3\" >13775.3795</td>\n",
       "                        <td id=\"T_c6218d1e_102a_11eb_bd3a_d8ca52fa8622row10_col4\" class=\"data row10 col4\" >-0.9640</td>\n",
       "                        <td id=\"T_c6218d1e_102a_11eb_bd3a_d8ca52fa8622row10_col5\" class=\"data row10 col5\" >0.2868</td>\n",
       "                        <td id=\"T_c6218d1e_102a_11eb_bd3a_d8ca52fa8622row10_col6\" class=\"data row10 col6\" >0.2344</td>\n",
       "                        <td id=\"T_c6218d1e_102a_11eb_bd3a_d8ca52fa8622row10_col7\" class=\"data row10 col7\" >0.7857</td>\n",
       "            </tr>\n",
       "            <tr>\n",
       "                        <th id=\"T_c6218d1e_102a_11eb_bd3a_d8ca52fa8622level0_row11\" class=\"row_heading level0 row11\" >11</th>\n",
       "                        <td id=\"T_c6218d1e_102a_11eb_bd3a_d8ca52fa8622row11_col0\" class=\"data row11 col0\" >Passive Aggressive Regressor</td>\n",
       "                        <td id=\"T_c6218d1e_102a_11eb_bd3a_d8ca52fa8622row11_col1\" class=\"data row11 col1\" >39931.1910</td>\n",
       "                        <td id=\"T_c6218d1e_102a_11eb_bd3a_d8ca52fa8622row11_col2\" class=\"data row11 col2\" >134131119324.3471</td>\n",
       "                        <td id=\"T_c6218d1e_102a_11eb_bd3a_d8ca52fa8622row11_col3\" class=\"data row11 col3\" >359754.5374</td>\n",
       "                        <td id=\"T_c6218d1e_102a_11eb_bd3a_d8ca52fa8622row11_col4\" class=\"data row11 col4\" >-1390.5586</td>\n",
       "                        <td id=\"T_c6218d1e_102a_11eb_bd3a_d8ca52fa8622row11_col5\" class=\"data row11 col5\" >2.0791</td>\n",
       "                        <td id=\"T_c6218d1e_102a_11eb_bd3a_d8ca52fa8622row11_col6\" class=\"data row11 col6\" >0.8229</td>\n",
       "                        <td id=\"T_c6218d1e_102a_11eb_bd3a_d8ca52fa8622row11_col7\" class=\"data row11 col7\" >0.1473</td>\n",
       "            </tr>\n",
       "            <tr>\n",
       "                        <th id=\"T_c6218d1e_102a_11eb_bd3a_d8ca52fa8622level0_row12\" class=\"row_heading level0 row12\" >12</th>\n",
       "                        <td id=\"T_c6218d1e_102a_11eb_bd3a_d8ca52fa8622row12_col0\" class=\"data row12 col0\" >Least Angle Regression</td>\n",
       "                        <td id=\"T_c6218d1e_102a_11eb_bd3a_d8ca52fa8622row12_col1\" class=\"data row12 col1\" >411357.3858</td>\n",
       "                        <td id=\"T_c6218d1e_102a_11eb_bd3a_d8ca52fa8622row12_col2\" class=\"data row12 col2\" >652601445989.0198</td>\n",
       "                        <td id=\"T_c6218d1e_102a_11eb_bd3a_d8ca52fa8622row12_col3\" class=\"data row12 col3\" >748332.4163</td>\n",
       "                        <td id=\"T_c6218d1e_102a_11eb_bd3a_d8ca52fa8622row12_col4\" class=\"data row12 col4\" >-6729.3351</td>\n",
       "                        <td id=\"T_c6218d1e_102a_11eb_bd3a_d8ca52fa8622row12_col5\" class=\"data row12 col5\" >7.7370</td>\n",
       "                        <td id=\"T_c6218d1e_102a_11eb_bd3a_d8ca52fa8622row12_col6\" class=\"data row12 col6\" >8.4703</td>\n",
       "                        <td id=\"T_c6218d1e_102a_11eb_bd3a_d8ca52fa8622row12_col7\" class=\"data row12 col7\" >0.7550</td>\n",
       "            </tr>\n",
       "            <tr>\n",
       "                        <th id=\"T_c6218d1e_102a_11eb_bd3a_d8ca52fa8622level0_row13\" class=\"row_heading level0 row13\" >13</th>\n",
       "                        <td id=\"T_c6218d1e_102a_11eb_bd3a_d8ca52fa8622row13_col0\" class=\"data row13 col0\" >Linear Regression</td>\n",
       "                        <td id=\"T_c6218d1e_102a_11eb_bd3a_d8ca52fa8622row13_col1\" class=\"data row13 col1\" >545156.0836</td>\n",
       "                        <td id=\"T_c6218d1e_102a_11eb_bd3a_d8ca52fa8622row13_col2\" class=\"data row13 col2\" >163378371442376.3125</td>\n",
       "                        <td id=\"T_c6218d1e_102a_11eb_bd3a_d8ca52fa8622row13_col3\" class=\"data row13 col3\" >7994237.2579</td>\n",
       "                        <td id=\"T_c6218d1e_102a_11eb_bd3a_d8ca52fa8622row13_col4\" class=\"data row13 col4\" >-1709362.3287</td>\n",
       "                        <td id=\"T_c6218d1e_102a_11eb_bd3a_d8ca52fa8622row13_col5\" class=\"data row13 col5\" >0.8146</td>\n",
       "                        <td id=\"T_c6218d1e_102a_11eb_bd3a_d8ca52fa8622row13_col6\" class=\"data row13 col6\" >10.6965</td>\n",
       "                        <td id=\"T_c6218d1e_102a_11eb_bd3a_d8ca52fa8622row13_col7\" class=\"data row13 col7\" >0.0970</td>\n",
       "            </tr>\n",
       "    </tbody></table>"
      ],
      "text/plain": [
       "<pandas.io.formats.style.Styler at 0x1c8821fabe0>"
      ]
     },
     "metadata": {},
     "output_type": "display_data"
    },
    {
     "data": {
      "text/plain": [
       "[LassoLars(alpha=1.0, copy_X=True, eps=2.220446049250313e-16, fit_intercept=True,\n",
       "           fit_path=True, jitter=None, max_iter=500, normalize=True,\n",
       "           positive=False, precompute='auto', random_state=None, verbose=False),\n",
       " Lasso(alpha=1.0, copy_X=True, fit_intercept=True, max_iter=1000,\n",
       "       normalize=False, positive=False, precompute=False, random_state=123,\n",
       "       selection='cyclic', tol=0.0001, warm_start=False),\n",
       " ElasticNet(alpha=1.0, copy_X=True, fit_intercept=True, l1_ratio=0.5,\n",
       "            max_iter=1000, normalize=False, positive=False, precompute=False,\n",
       "            random_state=123, selection='cyclic', tol=0.0001, warm_start=False)]"
      ]
     },
     "execution_count": 53,
     "metadata": {},
     "output_type": "execute_result"
    }
   ],
   "source": [
    "compare_models(exclude=[\"catboost\", \"svm\", \"et\", \"tr\", \"rf\", \"ransac\", \"gbr\",\"ada\"], round=4, fold=5, n_select=3)"
   ]
  },
  {
   "cell_type": "code",
   "execution_count": 57,
   "metadata": {
    "ExecuteTime": {
     "end_time": "2020-10-17T03:58:39.045951Z",
     "start_time": "2020-10-17T03:58:09.906924Z"
    }
   },
   "outputs": [
    {
     "data": {
      "text/html": [
       "<style  type=\"text/css\" >\n",
       "#T_09dfd7a6_102d_11eb_ac9c_d8ca52fa8622row10_col0,#T_09dfd7a6_102d_11eb_ac9c_d8ca52fa8622row10_col1,#T_09dfd7a6_102d_11eb_ac9c_d8ca52fa8622row10_col2,#T_09dfd7a6_102d_11eb_ac9c_d8ca52fa8622row10_col3,#T_09dfd7a6_102d_11eb_ac9c_d8ca52fa8622row10_col4,#T_09dfd7a6_102d_11eb_ac9c_d8ca52fa8622row10_col5{\n",
       "            background:  yellow;\n",
       "        }</style><table id=\"T_09dfd7a6_102d_11eb_ac9c_d8ca52fa8622\" ><thead>    <tr>        <th class=\"blank level0\" ></th>        <th class=\"col_heading level0 col0\" >MAE</th>        <th class=\"col_heading level0 col1\" >MSE</th>        <th class=\"col_heading level0 col2\" >RMSE</th>        <th class=\"col_heading level0 col3\" >R2</th>        <th class=\"col_heading level0 col4\" >RMSLE</th>        <th class=\"col_heading level0 col5\" >MAPE</th>    </tr></thead><tbody>\n",
       "                <tr>\n",
       "                        <th id=\"T_09dfd7a6_102d_11eb_ac9c_d8ca52fa8622level0_row0\" class=\"row_heading level0 row0\" >0</th>\n",
       "                        <td id=\"T_09dfd7a6_102d_11eb_ac9c_d8ca52fa8622row0_col0\" class=\"data row0 col0\" >28790.5509</td>\n",
       "                        <td id=\"T_09dfd7a6_102d_11eb_ac9c_d8ca52fa8622row0_col1\" class=\"data row0 col1\" >51051448496.3527</td>\n",
       "                        <td id=\"T_09dfd7a6_102d_11eb_ac9c_d8ca52fa8622row0_col2\" class=\"data row0 col2\" >225945.6760</td>\n",
       "                        <td id=\"T_09dfd7a6_102d_11eb_ac9c_d8ca52fa8622row0_col3\" class=\"data row0 col3\" >-577.8834</td>\n",
       "                        <td id=\"T_09dfd7a6_102d_11eb_ac9c_d8ca52fa8622row0_col4\" class=\"data row0 col4\" >1.3291</td>\n",
       "                        <td id=\"T_09dfd7a6_102d_11eb_ac9c_d8ca52fa8622row0_col5\" class=\"data row0 col5\" >0.5763</td>\n",
       "            </tr>\n",
       "            <tr>\n",
       "                        <th id=\"T_09dfd7a6_102d_11eb_ac9c_d8ca52fa8622level0_row1\" class=\"row_heading level0 row1\" >1</th>\n",
       "                        <td id=\"T_09dfd7a6_102d_11eb_ac9c_d8ca52fa8622row1_col0\" class=\"data row1 col0\" >24525.3201</td>\n",
       "                        <td id=\"T_09dfd7a6_102d_11eb_ac9c_d8ca52fa8622row1_col1\" class=\"data row1 col1\" >23802114591.1408</td>\n",
       "                        <td id=\"T_09dfd7a6_102d_11eb_ac9c_d8ca52fa8622row1_col2\" class=\"data row1 col2\" >154279.3395</td>\n",
       "                        <td id=\"T_09dfd7a6_102d_11eb_ac9c_d8ca52fa8622row1_col3\" class=\"data row1 col3\" >-230.3811</td>\n",
       "                        <td id=\"T_09dfd7a6_102d_11eb_ac9c_d8ca52fa8622row1_col4\" class=\"data row1 col4\" >1.8211</td>\n",
       "                        <td id=\"T_09dfd7a6_102d_11eb_ac9c_d8ca52fa8622row1_col5\" class=\"data row1 col5\" >0.5140</td>\n",
       "            </tr>\n",
       "            <tr>\n",
       "                        <th id=\"T_09dfd7a6_102d_11eb_ac9c_d8ca52fa8622level0_row2\" class=\"row_heading level0 row2\" >2</th>\n",
       "                        <td id=\"T_09dfd7a6_102d_11eb_ac9c_d8ca52fa8622row2_col0\" class=\"data row2 col0\" >13056.5051</td>\n",
       "                        <td id=\"T_09dfd7a6_102d_11eb_ac9c_d8ca52fa8622row2_col1\" class=\"data row2 col1\" >1847114555.4504</td>\n",
       "                        <td id=\"T_09dfd7a6_102d_11eb_ac9c_d8ca52fa8622row2_col2\" class=\"data row2 col2\" >42978.0706</td>\n",
       "                        <td id=\"T_09dfd7a6_102d_11eb_ac9c_d8ca52fa8622row2_col3\" class=\"data row2 col3\" >-18.1435</td>\n",
       "                        <td id=\"T_09dfd7a6_102d_11eb_ac9c_d8ca52fa8622row2_col4\" class=\"data row2 col4\" >1.5691</td>\n",
       "                        <td id=\"T_09dfd7a6_102d_11eb_ac9c_d8ca52fa8622row2_col5\" class=\"data row2 col5\" >0.2783</td>\n",
       "            </tr>\n",
       "            <tr>\n",
       "                        <th id=\"T_09dfd7a6_102d_11eb_ac9c_d8ca52fa8622level0_row3\" class=\"row_heading level0 row3\" >3</th>\n",
       "                        <td id=\"T_09dfd7a6_102d_11eb_ac9c_d8ca52fa8622row3_col0\" class=\"data row3 col0\" >14488.7416</td>\n",
       "                        <td id=\"T_09dfd7a6_102d_11eb_ac9c_d8ca52fa8622row3_col1\" class=\"data row3 col1\" >2310469065.3199</td>\n",
       "                        <td id=\"T_09dfd7a6_102d_11eb_ac9c_d8ca52fa8622row3_col2\" class=\"data row3 col2\" >48067.3389</td>\n",
       "                        <td id=\"T_09dfd7a6_102d_11eb_ac9c_d8ca52fa8622row3_col3\" class=\"data row3 col3\" >-23.1905</td>\n",
       "                        <td id=\"T_09dfd7a6_102d_11eb_ac9c_d8ca52fa8622row3_col4\" class=\"data row3 col4\" >1.8786</td>\n",
       "                        <td id=\"T_09dfd7a6_102d_11eb_ac9c_d8ca52fa8622row3_col5\" class=\"data row3 col5\" >0.2918</td>\n",
       "            </tr>\n",
       "            <tr>\n",
       "                        <th id=\"T_09dfd7a6_102d_11eb_ac9c_d8ca52fa8622level0_row4\" class=\"row_heading level0 row4\" >4</th>\n",
       "                        <td id=\"T_09dfd7a6_102d_11eb_ac9c_d8ca52fa8622row4_col0\" class=\"data row4 col0\" >29347.2733</td>\n",
       "                        <td id=\"T_09dfd7a6_102d_11eb_ac9c_d8ca52fa8622row4_col1\" class=\"data row4 col1\" >116955923230.6604</td>\n",
       "                        <td id=\"T_09dfd7a6_102d_11eb_ac9c_d8ca52fa8622row4_col2\" class=\"data row4 col2\" >341988.1917</td>\n",
       "                        <td id=\"T_09dfd7a6_102d_11eb_ac9c_d8ca52fa8622row4_col3\" class=\"data row4 col3\" >-1095.9750</td>\n",
       "                        <td id=\"T_09dfd7a6_102d_11eb_ac9c_d8ca52fa8622row4_col4\" class=\"data row4 col4\" >2.0310</td>\n",
       "                        <td id=\"T_09dfd7a6_102d_11eb_ac9c_d8ca52fa8622row4_col5\" class=\"data row4 col5\" >0.6888</td>\n",
       "            </tr>\n",
       "            <tr>\n",
       "                        <th id=\"T_09dfd7a6_102d_11eb_ac9c_d8ca52fa8622level0_row5\" class=\"row_heading level0 row5\" >5</th>\n",
       "                        <td id=\"T_09dfd7a6_102d_11eb_ac9c_d8ca52fa8622row5_col0\" class=\"data row5 col0\" >15094.1894</td>\n",
       "                        <td id=\"T_09dfd7a6_102d_11eb_ac9c_d8ca52fa8622row5_col1\" class=\"data row5 col1\" >6642934263.6349</td>\n",
       "                        <td id=\"T_09dfd7a6_102d_11eb_ac9c_d8ca52fa8622row5_col2\" class=\"data row5 col2\" >81504.1978</td>\n",
       "                        <td id=\"T_09dfd7a6_102d_11eb_ac9c_d8ca52fa8622row5_col3\" class=\"data row5 col3\" >-71.5586</td>\n",
       "                        <td id=\"T_09dfd7a6_102d_11eb_ac9c_d8ca52fa8622row5_col4\" class=\"data row5 col4\" >1.5662</td>\n",
       "                        <td id=\"T_09dfd7a6_102d_11eb_ac9c_d8ca52fa8622row5_col5\" class=\"data row5 col5\" >0.3188</td>\n",
       "            </tr>\n",
       "            <tr>\n",
       "                        <th id=\"T_09dfd7a6_102d_11eb_ac9c_d8ca52fa8622level0_row6\" class=\"row_heading level0 row6\" >6</th>\n",
       "                        <td id=\"T_09dfd7a6_102d_11eb_ac9c_d8ca52fa8622row6_col0\" class=\"data row6 col0\" >52566.5892</td>\n",
       "                        <td id=\"T_09dfd7a6_102d_11eb_ac9c_d8ca52fa8622row6_col1\" class=\"data row6 col1\" >123514891833.6324</td>\n",
       "                        <td id=\"T_09dfd7a6_102d_11eb_ac9c_d8ca52fa8622row6_col2\" class=\"data row6 col2\" >351446.8549</td>\n",
       "                        <td id=\"T_09dfd7a6_102d_11eb_ac9c_d8ca52fa8622row6_col3\" class=\"data row6 col3\" >-1321.3703</td>\n",
       "                        <td id=\"T_09dfd7a6_102d_11eb_ac9c_d8ca52fa8622row6_col4\" class=\"data row6 col4\" >1.9333</td>\n",
       "                        <td id=\"T_09dfd7a6_102d_11eb_ac9c_d8ca52fa8622row6_col5\" class=\"data row6 col5\" >1.0386</td>\n",
       "            </tr>\n",
       "            <tr>\n",
       "                        <th id=\"T_09dfd7a6_102d_11eb_ac9c_d8ca52fa8622level0_row7\" class=\"row_heading level0 row7\" >7</th>\n",
       "                        <td id=\"T_09dfd7a6_102d_11eb_ac9c_d8ca52fa8622row7_col0\" class=\"data row7 col0\" >20772.7456</td>\n",
       "                        <td id=\"T_09dfd7a6_102d_11eb_ac9c_d8ca52fa8622row7_col1\" class=\"data row7 col1\" >47320720978.9233</td>\n",
       "                        <td id=\"T_09dfd7a6_102d_11eb_ac9c_d8ca52fa8622row7_col2\" class=\"data row7 col2\" >217533.2641</td>\n",
       "                        <td id=\"T_09dfd7a6_102d_11eb_ac9c_d8ca52fa8622row7_col3\" class=\"data row7 col3\" >-499.8465</td>\n",
       "                        <td id=\"T_09dfd7a6_102d_11eb_ac9c_d8ca52fa8622row7_col4\" class=\"data row7 col4\" >1.4043</td>\n",
       "                        <td id=\"T_09dfd7a6_102d_11eb_ac9c_d8ca52fa8622row7_col5\" class=\"data row7 col5\" >0.3799</td>\n",
       "            </tr>\n",
       "            <tr>\n",
       "                        <th id=\"T_09dfd7a6_102d_11eb_ac9c_d8ca52fa8622level0_row8\" class=\"row_heading level0 row8\" >8</th>\n",
       "                        <td id=\"T_09dfd7a6_102d_11eb_ac9c_d8ca52fa8622row8_col0\" class=\"data row8 col0\" >11624.5655</td>\n",
       "                        <td id=\"T_09dfd7a6_102d_11eb_ac9c_d8ca52fa8622row8_col1\" class=\"data row8 col1\" >313409838.9595</td>\n",
       "                        <td id=\"T_09dfd7a6_102d_11eb_ac9c_d8ca52fa8622row8_col2\" class=\"data row8 col2\" >17703.3850</td>\n",
       "                        <td id=\"T_09dfd7a6_102d_11eb_ac9c_d8ca52fa8622row8_col3\" class=\"data row8 col3\" >-2.2819</td>\n",
       "                        <td id=\"T_09dfd7a6_102d_11eb_ac9c_d8ca52fa8622row8_col4\" class=\"data row8 col4\" >1.5764</td>\n",
       "                        <td id=\"T_09dfd7a6_102d_11eb_ac9c_d8ca52fa8622row8_col5\" class=\"data row8 col5\" >0.2467</td>\n",
       "            </tr>\n",
       "            <tr>\n",
       "                        <th id=\"T_09dfd7a6_102d_11eb_ac9c_d8ca52fa8622level0_row9\" class=\"row_heading level0 row9\" >9</th>\n",
       "                        <td id=\"T_09dfd7a6_102d_11eb_ac9c_d8ca52fa8622row9_col0\" class=\"data row9 col0\" >27419.6840</td>\n",
       "                        <td id=\"T_09dfd7a6_102d_11eb_ac9c_d8ca52fa8622row9_col1\" class=\"data row9 col1\" >73375283198.0676</td>\n",
       "                        <td id=\"T_09dfd7a6_102d_11eb_ac9c_d8ca52fa8622row9_col2\" class=\"data row9 col2\" >270878.7242</td>\n",
       "                        <td id=\"T_09dfd7a6_102d_11eb_ac9c_d8ca52fa8622row9_col3\" class=\"data row9 col3\" >-727.0600</td>\n",
       "                        <td id=\"T_09dfd7a6_102d_11eb_ac9c_d8ca52fa8622row9_col4\" class=\"data row9 col4\" >1.2141</td>\n",
       "                        <td id=\"T_09dfd7a6_102d_11eb_ac9c_d8ca52fa8622row9_col5\" class=\"data row9 col5\" >0.5456</td>\n",
       "            </tr>\n",
       "            <tr>\n",
       "                        <th id=\"T_09dfd7a6_102d_11eb_ac9c_d8ca52fa8622level0_row10\" class=\"row_heading level0 row10\" >Mean</th>\n",
       "                        <td id=\"T_09dfd7a6_102d_11eb_ac9c_d8ca52fa8622row10_col0\" class=\"data row10 col0\" >23768.6165</td>\n",
       "                        <td id=\"T_09dfd7a6_102d_11eb_ac9c_d8ca52fa8622row10_col1\" class=\"data row10 col1\" >44713431005.2142</td>\n",
       "                        <td id=\"T_09dfd7a6_102d_11eb_ac9c_d8ca52fa8622row10_col2\" class=\"data row10 col2\" >175232.5043</td>\n",
       "                        <td id=\"T_09dfd7a6_102d_11eb_ac9c_d8ca52fa8622row10_col3\" class=\"data row10 col3\" >-456.7691</td>\n",
       "                        <td id=\"T_09dfd7a6_102d_11eb_ac9c_d8ca52fa8622row10_col4\" class=\"data row10 col4\" >1.6323</td>\n",
       "                        <td id=\"T_09dfd7a6_102d_11eb_ac9c_d8ca52fa8622row10_col5\" class=\"data row10 col5\" >0.4879</td>\n",
       "            </tr>\n",
       "            <tr>\n",
       "                        <th id=\"T_09dfd7a6_102d_11eb_ac9c_d8ca52fa8622level0_row11\" class=\"row_heading level0 row11\" >SD</th>\n",
       "                        <td id=\"T_09dfd7a6_102d_11eb_ac9c_d8ca52fa8622row11_col0\" class=\"data row11 col0\" >11541.8009</td>\n",
       "                        <td id=\"T_09dfd7a6_102d_11eb_ac9c_d8ca52fa8622row11_col1\" class=\"data row11 col1\" >44486692541.2732</td>\n",
       "                        <td id=\"T_09dfd7a6_102d_11eb_ac9c_d8ca52fa8622row11_col2\" class=\"data row11 col2\" >118351.1743</td>\n",
       "                        <td id=\"T_09dfd7a6_102d_11eb_ac9c_d8ca52fa8622row11_col3\" class=\"data row11 col3\" >450.8083</td>\n",
       "                        <td id=\"T_09dfd7a6_102d_11eb_ac9c_d8ca52fa8622row11_col4\" class=\"data row11 col4\" >0.2600</td>\n",
       "                        <td id=\"T_09dfd7a6_102d_11eb_ac9c_d8ca52fa8622row11_col5\" class=\"data row11 col5\" >0.2316</td>\n",
       "            </tr>\n",
       "    </tbody></table>"
      ],
      "text/plain": [
       "<pandas.io.formats.style.Styler at 0x1c8821ffe48>"
      ]
     },
     "metadata": {},
     "output_type": "display_data"
    }
   ],
   "source": [
    "llar = create_model(\"llar\")\n",
    "mlp = create_model(\"mlp\")"
   ]
  },
  {
   "cell_type": "code",
   "execution_count": 61,
   "metadata": {
    "ExecuteTime": {
     "end_time": "2020-10-17T04:01:33.431569Z",
     "start_time": "2020-10-17T04:01:05.061583Z"
    }
   },
   "outputs": [
    {
     "data": {
      "text/html": [
       "<style  type=\"text/css\" >\n",
       "#T_71d147f6_102d_11eb_bebd_d8ca52fa8622row10_col0,#T_71d147f6_102d_11eb_bebd_d8ca52fa8622row10_col1,#T_71d147f6_102d_11eb_bebd_d8ca52fa8622row10_col2,#T_71d147f6_102d_11eb_bebd_d8ca52fa8622row10_col3,#T_71d147f6_102d_11eb_bebd_d8ca52fa8622row10_col4,#T_71d147f6_102d_11eb_bebd_d8ca52fa8622row10_col5{\n",
       "            background:  yellow;\n",
       "        }</style><table id=\"T_71d147f6_102d_11eb_bebd_d8ca52fa8622\" ><thead>    <tr>        <th class=\"blank level0\" ></th>        <th class=\"col_heading level0 col0\" >MAE</th>        <th class=\"col_heading level0 col1\" >MSE</th>        <th class=\"col_heading level0 col2\" >RMSE</th>        <th class=\"col_heading level0 col3\" >R2</th>        <th class=\"col_heading level0 col4\" >RMSLE</th>        <th class=\"col_heading level0 col5\" >MAPE</th>    </tr></thead><tbody>\n",
       "                <tr>\n",
       "                        <th id=\"T_71d147f6_102d_11eb_bebd_d8ca52fa8622level0_row0\" class=\"row_heading level0 row0\" >0</th>\n",
       "                        <td id=\"T_71d147f6_102d_11eb_bebd_d8ca52fa8622row0_col0\" class=\"data row0 col0\" >8001.7424</td>\n",
       "                        <td id=\"T_71d147f6_102d_11eb_bebd_d8ca52fa8622row0_col1\" class=\"data row0 col1\" >88000166.7001</td>\n",
       "                        <td id=\"T_71d147f6_102d_11eb_bebd_d8ca52fa8622row0_col2\" class=\"data row0 col2\" >9380.8404</td>\n",
       "                        <td id=\"T_71d147f6_102d_11eb_bebd_d8ca52fa8622row0_col3\" class=\"data row0 col3\" >0.0021</td>\n",
       "                        <td id=\"T_71d147f6_102d_11eb_bebd_d8ca52fa8622row0_col4\" class=\"data row0 col4\" >0.1951</td>\n",
       "                        <td id=\"T_71d147f6_102d_11eb_bebd_d8ca52fa8622row0_col5\" class=\"data row0 col5\" >0.1707</td>\n",
       "            </tr>\n",
       "            <tr>\n",
       "                        <th id=\"T_71d147f6_102d_11eb_bebd_d8ca52fa8622level0_row1\" class=\"row_heading level0 row1\" >1</th>\n",
       "                        <td id=\"T_71d147f6_102d_11eb_bebd_d8ca52fa8622row1_col0\" class=\"data row1 col0\" >8733.6652</td>\n",
       "                        <td id=\"T_71d147f6_102d_11eb_bebd_d8ca52fa8622row1_col1\" class=\"data row1 col1\" >102997941.6577</td>\n",
       "                        <td id=\"T_71d147f6_102d_11eb_bebd_d8ca52fa8622row1_col2\" class=\"data row1 col2\" >10148.7902</td>\n",
       "                        <td id=\"T_71d147f6_102d_11eb_bebd_d8ca52fa8622row1_col3\" class=\"data row1 col3\" >-0.0012</td>\n",
       "                        <td id=\"T_71d147f6_102d_11eb_bebd_d8ca52fa8622row1_col4\" class=\"data row1 col4\" >0.2134</td>\n",
       "                        <td id=\"T_71d147f6_102d_11eb_bebd_d8ca52fa8622row1_col5\" class=\"data row1 col5\" >0.1895</td>\n",
       "            </tr>\n",
       "            <tr>\n",
       "                        <th id=\"T_71d147f6_102d_11eb_bebd_d8ca52fa8622level0_row2\" class=\"row_heading level0 row2\" >2</th>\n",
       "                        <td id=\"T_71d147f6_102d_11eb_bebd_d8ca52fa8622row2_col0\" class=\"data row2 col0\" >8449.2756</td>\n",
       "                        <td id=\"T_71d147f6_102d_11eb_bebd_d8ca52fa8622row2_col1\" class=\"data row2 col1\" >95859051.1800</td>\n",
       "                        <td id=\"T_71d147f6_102d_11eb_bebd_d8ca52fa8622row2_col2\" class=\"data row2 col2\" >9790.7636</td>\n",
       "                        <td id=\"T_71d147f6_102d_11eb_bebd_d8ca52fa8622row2_col3\" class=\"data row2 col3\" >0.0065</td>\n",
       "                        <td id=\"T_71d147f6_102d_11eb_bebd_d8ca52fa8622row2_col4\" class=\"data row2 col4\" >0.2051</td>\n",
       "                        <td id=\"T_71d147f6_102d_11eb_bebd_d8ca52fa8622row2_col5\" class=\"data row2 col5\" >0.1823</td>\n",
       "            </tr>\n",
       "            <tr>\n",
       "                        <th id=\"T_71d147f6_102d_11eb_bebd_d8ca52fa8622level0_row3\" class=\"row_heading level0 row3\" >3</th>\n",
       "                        <td id=\"T_71d147f6_102d_11eb_bebd_d8ca52fa8622row3_col0\" class=\"data row3 col0\" >8340.7053</td>\n",
       "                        <td id=\"T_71d147f6_102d_11eb_bebd_d8ca52fa8622row3_col1\" class=\"data row3 col1\" >95697950.4711</td>\n",
       "                        <td id=\"T_71d147f6_102d_11eb_bebd_d8ca52fa8622row3_col2\" class=\"data row3 col2\" >9782.5329</td>\n",
       "                        <td id=\"T_71d147f6_102d_11eb_bebd_d8ca52fa8622row3_col3\" class=\"data row3 col3\" >-0.0020</td>\n",
       "                        <td id=\"T_71d147f6_102d_11eb_bebd_d8ca52fa8622row3_col4\" class=\"data row3 col4\" >0.2067</td>\n",
       "                        <td id=\"T_71d147f6_102d_11eb_bebd_d8ca52fa8622row3_col5\" class=\"data row3 col5\" >0.1827</td>\n",
       "            </tr>\n",
       "            <tr>\n",
       "                        <th id=\"T_71d147f6_102d_11eb_bebd_d8ca52fa8622level0_row4\" class=\"row_heading level0 row4\" >4</th>\n",
       "                        <td id=\"T_71d147f6_102d_11eb_bebd_d8ca52fa8622row4_col0\" class=\"data row4 col0\" >8950.9794</td>\n",
       "                        <td id=\"T_71d147f6_102d_11eb_bebd_d8ca52fa8622row4_col1\" class=\"data row4 col1\" >105965543.1154</td>\n",
       "                        <td id=\"T_71d147f6_102d_11eb_bebd_d8ca52fa8622row4_col2\" class=\"data row4 col2\" >10293.9566</td>\n",
       "                        <td id=\"T_71d147f6_102d_11eb_bebd_d8ca52fa8622row4_col3\" class=\"data row4 col3\" >0.0061</td>\n",
       "                        <td id=\"T_71d147f6_102d_11eb_bebd_d8ca52fa8622row4_col4\" class=\"data row4 col4\" >0.2161</td>\n",
       "                        <td id=\"T_71d147f6_102d_11eb_bebd_d8ca52fa8622row4_col5\" class=\"data row4 col5\" >0.1939</td>\n",
       "            </tr>\n",
       "            <tr>\n",
       "                        <th id=\"T_71d147f6_102d_11eb_bebd_d8ca52fa8622level0_row5\" class=\"row_heading level0 row5\" >5</th>\n",
       "                        <td id=\"T_71d147f6_102d_11eb_bebd_d8ca52fa8622row5_col0\" class=\"data row5 col0\" >8166.4693</td>\n",
       "                        <td id=\"T_71d147f6_102d_11eb_bebd_d8ca52fa8622row5_col1\" class=\"data row5 col1\" >91006447.9247</td>\n",
       "                        <td id=\"T_71d147f6_102d_11eb_bebd_d8ca52fa8622row5_col2\" class=\"data row5 col2\" >9539.7300</td>\n",
       "                        <td id=\"T_71d147f6_102d_11eb_bebd_d8ca52fa8622row5_col3\" class=\"data row5 col3\" >0.0060</td>\n",
       "                        <td id=\"T_71d147f6_102d_11eb_bebd_d8ca52fa8622row5_col4\" class=\"data row5 col4\" >0.1990</td>\n",
       "                        <td id=\"T_71d147f6_102d_11eb_bebd_d8ca52fa8622row5_col5\" class=\"data row5 col5\" >0.1751</td>\n",
       "            </tr>\n",
       "            <tr>\n",
       "                        <th id=\"T_71d147f6_102d_11eb_bebd_d8ca52fa8622level0_row6\" class=\"row_heading level0 row6\" >6</th>\n",
       "                        <td id=\"T_71d147f6_102d_11eb_bebd_d8ca52fa8622row6_col0\" class=\"data row6 col0\" >8187.8982</td>\n",
       "                        <td id=\"T_71d147f6_102d_11eb_bebd_d8ca52fa8622row6_col1\" class=\"data row6 col1\" >93651666.8560</td>\n",
       "                        <td id=\"T_71d147f6_102d_11eb_bebd_d8ca52fa8622row6_col2\" class=\"data row6 col2\" >9677.3791</td>\n",
       "                        <td id=\"T_71d147f6_102d_11eb_bebd_d8ca52fa8622row6_col3\" class=\"data row6 col3\" >-0.0026</td>\n",
       "                        <td id=\"T_71d147f6_102d_11eb_bebd_d8ca52fa8622row6_col4\" class=\"data row6 col4\" >0.2056</td>\n",
       "                        <td id=\"T_71d147f6_102d_11eb_bebd_d8ca52fa8622row6_col5\" class=\"data row6 col5\" >0.1804</td>\n",
       "            </tr>\n",
       "            <tr>\n",
       "                        <th id=\"T_71d147f6_102d_11eb_bebd_d8ca52fa8622level0_row7\" class=\"row_heading level0 row7\" >7</th>\n",
       "                        <td id=\"T_71d147f6_102d_11eb_bebd_d8ca52fa8622row7_col0\" class=\"data row7 col0\" >8347.2690</td>\n",
       "                        <td id=\"T_71d147f6_102d_11eb_bebd_d8ca52fa8622row7_col1\" class=\"data row7 col1\" >94299387.5692</td>\n",
       "                        <td id=\"T_71d147f6_102d_11eb_bebd_d8ca52fa8622row7_col2\" class=\"data row7 col2\" >9710.7872</td>\n",
       "                        <td id=\"T_71d147f6_102d_11eb_bebd_d8ca52fa8622row7_col3\" class=\"data row7 col3\" >0.0019</td>\n",
       "                        <td id=\"T_71d147f6_102d_11eb_bebd_d8ca52fa8622row7_col4\" class=\"data row7 col4\" >0.2015</td>\n",
       "                        <td id=\"T_71d147f6_102d_11eb_bebd_d8ca52fa8622row7_col5\" class=\"data row7 col5\" >0.1775</td>\n",
       "            </tr>\n",
       "            <tr>\n",
       "                        <th id=\"T_71d147f6_102d_11eb_bebd_d8ca52fa8622level0_row8\" class=\"row_heading level0 row8\" >8</th>\n",
       "                        <td id=\"T_71d147f6_102d_11eb_bebd_d8ca52fa8622row8_col0\" class=\"data row8 col0\" >8240.3795</td>\n",
       "                        <td id=\"T_71d147f6_102d_11eb_bebd_d8ca52fa8622row8_col1\" class=\"data row8 col1\" >96681350.5259</td>\n",
       "                        <td id=\"T_71d147f6_102d_11eb_bebd_d8ca52fa8622row8_col2\" class=\"data row8 col2\" >9832.6675</td>\n",
       "                        <td id=\"T_71d147f6_102d_11eb_bebd_d8ca52fa8622row8_col3\" class=\"data row8 col3\" >-0.0124</td>\n",
       "                        <td id=\"T_71d147f6_102d_11eb_bebd_d8ca52fa8622row8_col4\" class=\"data row8 col4\" >0.2103</td>\n",
       "                        <td id=\"T_71d147f6_102d_11eb_bebd_d8ca52fa8622row8_col5\" class=\"data row8 col5\" >0.1834</td>\n",
       "            </tr>\n",
       "            <tr>\n",
       "                        <th id=\"T_71d147f6_102d_11eb_bebd_d8ca52fa8622level0_row9\" class=\"row_heading level0 row9\" >9</th>\n",
       "                        <td id=\"T_71d147f6_102d_11eb_bebd_d8ca52fa8622row9_col0\" class=\"data row9 col0\" >8560.0327</td>\n",
       "                        <td id=\"T_71d147f6_102d_11eb_bebd_d8ca52fa8622row9_col1\" class=\"data row9 col1\" >100049465.4886</td>\n",
       "                        <td id=\"T_71d147f6_102d_11eb_bebd_d8ca52fa8622row9_col2\" class=\"data row9 col2\" >10002.4730</td>\n",
       "                        <td id=\"T_71d147f6_102d_11eb_bebd_d8ca52fa8622row9_col3\" class=\"data row9 col3\" >0.0073</td>\n",
       "                        <td id=\"T_71d147f6_102d_11eb_bebd_d8ca52fa8622row9_col4\" class=\"data row9 col4\" >0.2097</td>\n",
       "                        <td id=\"T_71d147f6_102d_11eb_bebd_d8ca52fa8622row9_col5\" class=\"data row9 col5\" >0.1843</td>\n",
       "            </tr>\n",
       "            <tr>\n",
       "                        <th id=\"T_71d147f6_102d_11eb_bebd_d8ca52fa8622level0_row10\" class=\"row_heading level0 row10\" >Mean</th>\n",
       "                        <td id=\"T_71d147f6_102d_11eb_bebd_d8ca52fa8622row10_col0\" class=\"data row10 col0\" >8397.8417</td>\n",
       "                        <td id=\"T_71d147f6_102d_11eb_bebd_d8ca52fa8622row10_col1\" class=\"data row10 col1\" >96420897.1489</td>\n",
       "                        <td id=\"T_71d147f6_102d_11eb_bebd_d8ca52fa8622row10_col2\" class=\"data row10 col2\" >9815.9920</td>\n",
       "                        <td id=\"T_71d147f6_102d_11eb_bebd_d8ca52fa8622row10_col3\" class=\"data row10 col3\" >0.0012</td>\n",
       "                        <td id=\"T_71d147f6_102d_11eb_bebd_d8ca52fa8622row10_col4\" class=\"data row10 col4\" >0.2063</td>\n",
       "                        <td id=\"T_71d147f6_102d_11eb_bebd_d8ca52fa8622row10_col5\" class=\"data row10 col5\" >0.1820</td>\n",
       "            </tr>\n",
       "            <tr>\n",
       "                        <th id=\"T_71d147f6_102d_11eb_bebd_d8ca52fa8622level0_row11\" class=\"row_heading level0 row11\" >SD</th>\n",
       "                        <td id=\"T_71d147f6_102d_11eb_bebd_d8ca52fa8622row11_col0\" class=\"data row11 col0\" >270.7048</td>\n",
       "                        <td id=\"T_71d147f6_102d_11eb_bebd_d8ca52fa8622row11_col1\" class=\"data row11 col1\" >5107101.4191</td>\n",
       "                        <td id=\"T_71d147f6_102d_11eb_bebd_d8ca52fa8622row11_col2\" class=\"data row11 col2\" >259.2245</td>\n",
       "                        <td id=\"T_71d147f6_102d_11eb_bebd_d8ca52fa8622row11_col3\" class=\"data row11 col3\" >0.0057</td>\n",
       "                        <td id=\"T_71d147f6_102d_11eb_bebd_d8ca52fa8622row11_col4\" class=\"data row11 col4\" >0.0061</td>\n",
       "                        <td id=\"T_71d147f6_102d_11eb_bebd_d8ca52fa8622row11_col5\" class=\"data row11 col5\" >0.0063</td>\n",
       "            </tr>\n",
       "    </tbody></table>"
      ],
      "text/plain": [
       "<pandas.io.formats.style.Styler at 0x1c8fe85b860>"
      ]
     },
     "metadata": {},
     "output_type": "display_data"
    }
   ],
   "source": [
    "tune_llar = tune_model(llar, n_iter=1000)"
   ]
  },
  {
   "cell_type": "code",
   "execution_count": 64,
   "metadata": {
    "ExecuteTime": {
     "end_time": "2020-10-17T04:11:59.341812Z",
     "start_time": "2020-10-17T04:11:59.289835Z"
    },
    "scrolled": false
   },
   "outputs": [
    {
     "data": {
      "application/vnd.jupyter.widget-view+json": {
       "model_id": "ab6f81ee8fe941b2852df5ba1febfe8a",
       "version_major": 2,
       "version_minor": 0
      },
      "text/plain": [
       "interactive(children=(ToggleButtons(description='Plot Type:', icons=('',), options=(('Hyperparameters', 'param…"
      ]
     },
     "metadata": {},
     "output_type": "display_data"
    }
   ],
   "source": [
    "evaluate_model(tune_llar)"
   ]
  },
  {
   "cell_type": "code",
   "execution_count": null,
   "metadata": {
    "ExecuteTime": {
     "start_time": "2020-10-17T04:23:47.267Z"
    }
   },
   "outputs": [],
   "source": [
    "tune_mlp = tune_model(mlp, n_iter=100)"
   ]
  },
  {
   "cell_type": "code",
   "execution_count": 54,
   "metadata": {
    "ExecuteTime": {
     "end_time": "2020-10-17T03:47:19.912902Z",
     "start_time": "2020-10-17T03:47:19.894900Z"
    }
   },
   "outputs": [
    {
     "data": {
      "text/html": [
       "<div>\n",
       "<style scoped>\n",
       "    .dataframe tbody tr th:only-of-type {\n",
       "        vertical-align: middle;\n",
       "    }\n",
       "\n",
       "    .dataframe tbody tr th {\n",
       "        vertical-align: top;\n",
       "    }\n",
       "\n",
       "    .dataframe thead th {\n",
       "        text-align: right;\n",
       "    }\n",
       "</style>\n",
       "<table border=\"1\" class=\"dataframe\">\n",
       "  <thead>\n",
       "    <tr style=\"text-align: right;\">\n",
       "      <th></th>\n",
       "      <th>Name</th>\n",
       "      <th>Reference</th>\n",
       "      <th>Turbo</th>\n",
       "    </tr>\n",
       "    <tr>\n",
       "      <th>ID</th>\n",
       "      <th></th>\n",
       "      <th></th>\n",
       "      <th></th>\n",
       "    </tr>\n",
       "  </thead>\n",
       "  <tbody>\n",
       "    <tr>\n",
       "      <th>lr</th>\n",
       "      <td>Linear Regression</td>\n",
       "      <td>sklearn.linear_model.LinearRegression</td>\n",
       "      <td>True</td>\n",
       "    </tr>\n",
       "    <tr>\n",
       "      <th>lasso</th>\n",
       "      <td>Lasso Regression</td>\n",
       "      <td>sklearn.linear_model.Lasso</td>\n",
       "      <td>True</td>\n",
       "    </tr>\n",
       "    <tr>\n",
       "      <th>ridge</th>\n",
       "      <td>Ridge Regression</td>\n",
       "      <td>sklearn.linear_model.Ridge</td>\n",
       "      <td>True</td>\n",
       "    </tr>\n",
       "    <tr>\n",
       "      <th>en</th>\n",
       "      <td>Elastic Net</td>\n",
       "      <td>sklearn.linear_model.ElasticNet</td>\n",
       "      <td>True</td>\n",
       "    </tr>\n",
       "    <tr>\n",
       "      <th>lar</th>\n",
       "      <td>Least Angle Regression</td>\n",
       "      <td>sklearn.linear_model.Lars</td>\n",
       "      <td>True</td>\n",
       "    </tr>\n",
       "    <tr>\n",
       "      <th>llar</th>\n",
       "      <td>Lasso Least Angle Regression</td>\n",
       "      <td>sklearn.linear_model.LassoLars</td>\n",
       "      <td>True</td>\n",
       "    </tr>\n",
       "    <tr>\n",
       "      <th>omp</th>\n",
       "      <td>Orthogonal Matching Pursuit</td>\n",
       "      <td>sklearn.linear_model.OMP</td>\n",
       "      <td>True</td>\n",
       "    </tr>\n",
       "    <tr>\n",
       "      <th>br</th>\n",
       "      <td>Bayesian Ridge</td>\n",
       "      <td>sklearn.linear_model.BayesianRidge</td>\n",
       "      <td>True</td>\n",
       "    </tr>\n",
       "    <tr>\n",
       "      <th>ard</th>\n",
       "      <td>Automatic Relevance Determination</td>\n",
       "      <td>sklearn.linear_model.ARDRegression</td>\n",
       "      <td>False</td>\n",
       "    </tr>\n",
       "    <tr>\n",
       "      <th>par</th>\n",
       "      <td>Passive Aggressive Regressor</td>\n",
       "      <td>sklearn.linear_model.PAR</td>\n",
       "      <td>True</td>\n",
       "    </tr>\n",
       "    <tr>\n",
       "      <th>ransac</th>\n",
       "      <td>Random Sample Consensus</td>\n",
       "      <td>sklearn.linear_model.RANSACRegressor</td>\n",
       "      <td>True</td>\n",
       "    </tr>\n",
       "    <tr>\n",
       "      <th>tr</th>\n",
       "      <td>TheilSen Regressor</td>\n",
       "      <td>sklearn.linear_model.TheilSenRegressor</td>\n",
       "      <td>True</td>\n",
       "    </tr>\n",
       "    <tr>\n",
       "      <th>huber</th>\n",
       "      <td>Huber Regressor</td>\n",
       "      <td>sklearn.linear_model.HuberRegressor</td>\n",
       "      <td>True</td>\n",
       "    </tr>\n",
       "    <tr>\n",
       "      <th>kr</th>\n",
       "      <td>Kernel Ridge</td>\n",
       "      <td>sklearn.kernel_ridge.KernelRidge</td>\n",
       "      <td>False</td>\n",
       "    </tr>\n",
       "    <tr>\n",
       "      <th>svm</th>\n",
       "      <td>Support Vector Machine</td>\n",
       "      <td>sklearn.svm.SVR</td>\n",
       "      <td>True</td>\n",
       "    </tr>\n",
       "    <tr>\n",
       "      <th>knn</th>\n",
       "      <td>K Neighbors Regressor</td>\n",
       "      <td>sklearn.neighbors.KNeighborsRegressor</td>\n",
       "      <td>True</td>\n",
       "    </tr>\n",
       "    <tr>\n",
       "      <th>dt</th>\n",
       "      <td>Decision Tree</td>\n",
       "      <td>sklearn.tree.DecisionTreeRegressor</td>\n",
       "      <td>True</td>\n",
       "    </tr>\n",
       "    <tr>\n",
       "      <th>rf</th>\n",
       "      <td>Random Forest</td>\n",
       "      <td>sklearn.ensemble.RandomForestRegressor</td>\n",
       "      <td>True</td>\n",
       "    </tr>\n",
       "    <tr>\n",
       "      <th>et</th>\n",
       "      <td>Extra Trees Regressor</td>\n",
       "      <td>sklearn.ensemble.ExtraTreesRegressor</td>\n",
       "      <td>True</td>\n",
       "    </tr>\n",
       "    <tr>\n",
       "      <th>ada</th>\n",
       "      <td>AdaBoost Regressor</td>\n",
       "      <td>sklearn.ensemble.AdaBoostRegressor</td>\n",
       "      <td>True</td>\n",
       "    </tr>\n",
       "    <tr>\n",
       "      <th>gbr</th>\n",
       "      <td>Gradient Boosting Regressor</td>\n",
       "      <td>sklearn.ensemble.GradientBoostingRegressor</td>\n",
       "      <td>True</td>\n",
       "    </tr>\n",
       "    <tr>\n",
       "      <th>mlp</th>\n",
       "      <td>Multi Level Perceptron</td>\n",
       "      <td>sklearn.neural_network.MLPRegressor</td>\n",
       "      <td>False</td>\n",
       "    </tr>\n",
       "    <tr>\n",
       "      <th>xgboost</th>\n",
       "      <td>Extreme Gradient Boosting</td>\n",
       "      <td>xgboost.readthedocs.io</td>\n",
       "      <td>True</td>\n",
       "    </tr>\n",
       "    <tr>\n",
       "      <th>lightgbm</th>\n",
       "      <td>Light Gradient Boosting Machine</td>\n",
       "      <td>github.com/microsoft/LightGBM</td>\n",
       "      <td>True</td>\n",
       "    </tr>\n",
       "    <tr>\n",
       "      <th>catboost</th>\n",
       "      <td>CatBoost Regressor</td>\n",
       "      <td>https://catboost.ai</td>\n",
       "      <td>True</td>\n",
       "    </tr>\n",
       "  </tbody>\n",
       "</table>\n",
       "</div>"
      ],
      "text/plain": [
       "                                       Name  \\\n",
       "ID                                            \n",
       "lr                        Linear Regression   \n",
       "lasso                      Lasso Regression   \n",
       "ridge                      Ridge Regression   \n",
       "en                              Elastic Net   \n",
       "lar                  Least Angle Regression   \n",
       "llar           Lasso Least Angle Regression   \n",
       "omp             Orthogonal Matching Pursuit   \n",
       "br                           Bayesian Ridge   \n",
       "ard       Automatic Relevance Determination   \n",
       "par            Passive Aggressive Regressor   \n",
       "ransac              Random Sample Consensus   \n",
       "tr                       TheilSen Regressor   \n",
       "huber                       Huber Regressor   \n",
       "kr                             Kernel Ridge   \n",
       "svm                  Support Vector Machine   \n",
       "knn                   K Neighbors Regressor   \n",
       "dt                            Decision Tree   \n",
       "rf                            Random Forest   \n",
       "et                    Extra Trees Regressor   \n",
       "ada                      AdaBoost Regressor   \n",
       "gbr             Gradient Boosting Regressor   \n",
       "mlp                  Multi Level Perceptron   \n",
       "xgboost           Extreme Gradient Boosting   \n",
       "lightgbm    Light Gradient Boosting Machine   \n",
       "catboost                 CatBoost Regressor   \n",
       "\n",
       "                                           Reference  Turbo  \n",
       "ID                                                           \n",
       "lr             sklearn.linear_model.LinearRegression   True  \n",
       "lasso                     sklearn.linear_model.Lasso   True  \n",
       "ridge                     sklearn.linear_model.Ridge   True  \n",
       "en                   sklearn.linear_model.ElasticNet   True  \n",
       "lar                        sklearn.linear_model.Lars   True  \n",
       "llar                  sklearn.linear_model.LassoLars   True  \n",
       "omp                         sklearn.linear_model.OMP   True  \n",
       "br                sklearn.linear_model.BayesianRidge   True  \n",
       "ard               sklearn.linear_model.ARDRegression  False  \n",
       "par                         sklearn.linear_model.PAR   True  \n",
       "ransac          sklearn.linear_model.RANSACRegressor   True  \n",
       "tr            sklearn.linear_model.TheilSenRegressor   True  \n",
       "huber            sklearn.linear_model.HuberRegressor   True  \n",
       "kr                  sklearn.kernel_ridge.KernelRidge  False  \n",
       "svm                                  sklearn.svm.SVR   True  \n",
       "knn            sklearn.neighbors.KNeighborsRegressor   True  \n",
       "dt                sklearn.tree.DecisionTreeRegressor   True  \n",
       "rf            sklearn.ensemble.RandomForestRegressor   True  \n",
       "et              sklearn.ensemble.ExtraTreesRegressor   True  \n",
       "ada               sklearn.ensemble.AdaBoostRegressor   True  \n",
       "gbr       sklearn.ensemble.GradientBoostingRegressor   True  \n",
       "mlp              sklearn.neural_network.MLPRegressor  False  \n",
       "xgboost                       xgboost.readthedocs.io   True  \n",
       "lightgbm               github.com/microsoft/LightGBM   True  \n",
       "catboost                         https://catboost.ai   True  "
      ]
     },
     "execution_count": 54,
     "metadata": {},
     "output_type": "execute_result"
    }
   ],
   "source": [
    "models()"
   ]
  },
  {
   "cell_type": "markdown",
   "metadata": {},
   "source": [
    "## Restes"
   ]
  },
  {
   "cell_type": "code",
   "execution_count": null,
   "metadata": {
    "ExecuteTime": {
     "end_time": "2020-10-03T18:13:00.754267Z",
     "start_time": "2020-10-03T18:12:43.359281Z"
    }
   },
   "outputs": [],
   "source": [
    "interpret_model(xg_reg)"
   ]
  },
  {
   "cell_type": "code",
   "execution_count": null,
   "metadata": {
    "ExecuteTime": {
     "end_time": "2020-10-03T18:03:29.865076Z",
     "start_time": "2020-10-03T18:02:24.202077Z"
    }
   },
   "outputs": [],
   "source": [
    "xg_reg = automl(use_holdout=False)\n",
    "xg_reg"
   ]
  },
  {
   "cell_type": "code",
   "execution_count": null,
   "metadata": {
    "ExecuteTime": {
     "end_time": "2020-10-03T18:03:41.201223Z",
     "start_time": "2020-10-03T18:03:36.706228Z"
    }
   },
   "outputs": [],
   "source": [
    "plot_model(xg_reg, plot = 'residuals')"
   ]
  },
  {
   "cell_type": "code",
   "execution_count": null,
   "metadata": {
    "ExecuteTime": {
     "end_time": "2020-10-03T18:15:23.458611Z",
     "start_time": "2020-10-03T18:15:23.435610Z"
    }
   },
   "outputs": [],
   "source": [
    "pull()"
   ]
  },
  {
   "cell_type": "code",
   "execution_count": null,
   "metadata": {
    "ExecuteTime": {
     "end_time": "2020-10-03T05:19:17.958566Z",
     "start_time": "2020-10-03T05:02:40.231490Z"
    },
    "scrolled": false
   },
   "outputs": [],
   "source": [
    "xg_reg = create_model(\"xgboost\")\n",
    "tune_xg_reg = tune_model(xg_reg, n_iter=100, fold=10, choose_better=True)\n",
    "print(tune_xg_reg)"
   ]
  },
  {
   "cell_type": "code",
   "execution_count": null,
   "metadata": {
    "ExecuteTime": {
     "end_time": "2020-10-03T04:06:33.623222Z",
     "start_time": "2020-10-03T04:03:09.778990Z"
    }
   },
   "outputs": [],
   "source": [
    "tune_xg_reg2 = tune_model(tune_xg_reg2, n_iter=10, fold=10, choose_better=True)\n",
    "print(tune_xg_reg)"
   ]
  },
  {
   "cell_type": "code",
   "execution_count": null,
   "metadata": {
    "ExecuteTime": {
     "end_time": "2020-10-03T04:01:40.799946Z",
     "start_time": "2020-10-03T04:01:40.790974Z"
    }
   },
   "outputs": [],
   "source": [
    "print(tune_xg_reg2)"
   ]
  },
  {
   "cell_type": "code",
   "execution_count": null,
   "metadata": {
    "ExecuteTime": {
     "end_time": "2020-10-03T03:47:30.766134Z",
     "start_time": "2020-10-03T03:46:43.943138Z"
    }
   },
   "outputs": [],
   "source": [
    "finalize_model(xg_reg)"
   ]
  },
  {
   "cell_type": "code",
   "execution_count": null,
   "metadata": {
    "ExecuteTime": {
     "end_time": "2020-10-03T03:47:31.290197Z",
     "start_time": "2020-10-03T03:47:31.196146Z"
    }
   },
   "outputs": [],
   "source": [
    "save_model(xg_reg,'../../models/final_xg_reg_for_streamlit_test')"
   ]
  },
  {
   "cell_type": "code",
   "execution_count": null,
   "metadata": {
    "ExecuteTime": {
     "end_time": "2020-10-03T03:46:19.483297Z",
     "start_time": "2020-10-03T03:46:19.303300Z"
    }
   },
   "outputs": [],
   "source": [
    "predict_model(xg_reg)"
   ]
  },
  {
   "cell_type": "code",
   "execution_count": null,
   "metadata": {
    "ExecuteTime": {
     "end_time": "2020-10-03T02:59:01.812967Z",
     "start_time": "2020-10-03T02:58:46.036734Z"
    }
   },
   "outputs": [],
   "source": [
    "interpret_model(xg_reg)"
   ]
  },
  {
   "cell_type": "code",
   "execution_count": null,
   "metadata": {},
   "outputs": [],
   "source": []
  },
  {
   "cell_type": "code",
   "execution_count": null,
   "metadata": {
    "ExecuteTime": {
     "start_time": "2020-09-27T17:00:35.706Z"
    }
   },
   "outputs": [],
   "source": [
    "rf_reg = create_model(\"rf\")\n",
    "tune_rf_reg = tune_model(rf_reg, n_iter=100, fold=10, choose_better=True)\n",
    "print(tune_rf_reg)"
   ]
  },
  {
   "cell_type": "code",
   "execution_count": null,
   "metadata": {
    "ExecuteTime": {
     "end_time": "2020-10-01T23:18:34.946269Z",
     "start_time": "2020-10-01T21:09:27.001306Z"
    }
   },
   "outputs": [],
   "source": [
    "compare_models(whitelist=[\"catboost\", \"svm\"], fold=5, n_select=2)"
   ]
  },
  {
   "cell_type": "code",
   "execution_count": null,
   "metadata": {},
   "outputs": [],
   "source": [
    "compare_models(blacklist=[\"catboost\"], fold=5, n_select=1)"
   ]
  },
  {
   "cell_type": "code",
   "execution_count": null,
   "metadata": {
    "ExecuteTime": {
     "end_time": "2020-09-27T03:15:19.826836Z",
     "start_time": "2020-09-27T03:10:00.200830Z"
    }
   },
   "outputs": [],
   "source": [
    "catboost_reg = create_model(\"catboost\")"
   ]
  },
  {
   "cell_type": "code",
   "execution_count": null,
   "metadata": {
    "ExecuteTime": {
     "end_time": "2020-09-26T03:00:27.419535Z",
     "start_time": "2020-09-26T03:00:26.980517Z"
    }
   },
   "outputs": [],
   "source": []
  },
  {
   "cell_type": "code",
   "execution_count": null,
   "metadata": {
    "ExecuteTime": {
     "end_time": "2020-09-25T19:26:18.761598Z",
     "start_time": "2020-09-25T19:25:55.548842Z"
    }
   },
   "outputs": [],
   "source": [
    "tune_huber_reg = tune_model(huber_reg, n_iter=100, fold=10, choose_better=True)\n",
    "print(tune_huber_reg)"
   ]
  },
  {
   "cell_type": "code",
   "execution_count": null,
   "metadata": {
    "ExecuteTime": {
     "end_time": "2020-09-25T19:19:21.353306Z",
     "start_time": "2020-09-25T19:19:21.340305Z"
    },
    "scrolled": false
   },
   "outputs": [],
   "source": [
    "#evaluate_model(tune_huber_reg)"
   ]
  },
  {
   "cell_type": "code",
   "execution_count": null,
   "metadata": {
    "ExecuteTime": {
     "end_time": "2020-09-25T19:27:38.010424Z",
     "start_time": "2020-09-25T19:27:37.951424Z"
    }
   },
   "outputs": [],
   "source": [
    "interpret_model(tune_huber_reg)"
   ]
  },
  {
   "cell_type": "code",
   "execution_count": null,
   "metadata": {
    "ExecuteTime": {
     "end_time": "2020-09-26T14:35:44.675932Z",
     "start_time": "2020-09-26T14:34:52.149380Z"
    }
   },
   "outputs": [],
   "source": [
    "exp_reg102 = setup(data = data, target = 'valeur_fonciere', remove_outliers=True,\n",
    "                   ignore_features=cat_features, polynomial_features=True,\n",
    "                   session_id=124) "
   ]
  },
  {
   "cell_type": "code",
   "execution_count": null,
   "metadata": {
    "ExecuteTime": {
     "end_time": "2020-09-26T14:53:44.644129Z",
     "start_time": "2020-09-26T14:48:01.207880Z"
    }
   },
   "outputs": [],
   "source": [
    "compare_models(blacklist=[\"catboost\",\"svm\"], fold=5, n_select=1)"
   ]
  },
  {
   "cell_type": "code",
   "execution_count": null,
   "metadata": {
    "ExecuteTime": {
     "end_time": "2020-09-26T14:35:53.531203Z",
     "start_time": "2020-09-26T14:35:52.685493Z"
    }
   },
   "outputs": [],
   "source": [
    "lr_reg = create_model(\"lr\")"
   ]
  },
  {
   "cell_type": "code",
   "execution_count": null,
   "metadata": {
    "ExecuteTime": {
     "end_time": "2020-09-26T14:36:36.204808Z",
     "start_time": "2020-09-26T14:36:28.820875Z"
    }
   },
   "outputs": [],
   "source": [
    "tune_lr_reg = tune_model(lr_reg, n_iter=100, fold=10, choose_better=True)\n",
    "print(tune_lr_reg)"
   ]
  },
  {
   "cell_type": "code",
   "execution_count": null,
   "metadata": {
    "ExecuteTime": {
     "end_time": "2020-09-26T14:36:51.680876Z",
     "start_time": "2020-09-26T14:36:51.498872Z"
    }
   },
   "outputs": [],
   "source": [
    "interpret_model(tune_lr_reg)"
   ]
  },
  {
   "cell_type": "code",
   "execution_count": null,
   "metadata": {
    "ExecuteTime": {
     "end_time": "2020-09-26T19:48:12.780964Z",
     "start_time": "2020-09-26T14:55:12.314387Z"
    }
   },
   "outputs": [],
   "source": [
    "blend_all = blend_models()"
   ]
  },
  {
   "cell_type": "code",
   "execution_count": null,
   "metadata": {
    "ExecuteTime": {
     "end_time": "2020-09-27T02:27:51.099353Z",
     "start_time": "2020-09-27T02:27:51.073354Z"
    }
   },
   "outputs": [],
   "source": [
    "data[\"code_postal\"] = data[\"code_postal\"].apply(lambda x: f\"{x}\")"
   ]
  },
  {
   "cell_type": "code",
   "execution_count": null,
   "metadata": {
    "ExecuteTime": {
     "end_time": "2020-09-27T02:27:53.642444Z",
     "start_time": "2020-09-27T02:27:53.624447Z"
    }
   },
   "outputs": [],
   "source": [
    "data[\"code_postal\"]"
   ]
  },
  {
   "cell_type": "code",
   "execution_count": null,
   "metadata": {},
   "outputs": [],
   "source": [
    "pd.Series.apply()"
   ]
  }
 ],
 "metadata": {
  "kernelspec": {
   "display_name": "Python 3",
   "language": "python",
   "name": "python3"
  },
  "language_info": {
   "codemirror_mode": {
    "name": "ipython",
    "version": 3
   },
   "file_extension": ".py",
   "mimetype": "text/x-python",
   "name": "python",
   "nbconvert_exporter": "python",
   "pygments_lexer": "ipython3",
   "version": "3.6.12"
  },
  "nbTranslate": {
   "displayLangs": [
    "*"
   ],
   "hotkey": "alt-t",
   "langInMainMenu": true,
   "sourceLang": "en",
   "targetLang": "fr",
   "useGoogleTranslate": true
  },
  "toc": {
   "base_numbering": 1,
   "nav_menu": {},
   "number_sections": true,
   "sideBar": true,
   "skip_h1_title": false,
   "title_cell": "Table of Contents",
   "title_sidebar": "Contents",
   "toc_cell": false,
   "toc_position": {},
   "toc_section_display": true,
   "toc_window_display": false
  },
  "varInspector": {
   "cols": {
    "lenName": 16,
    "lenType": 16,
    "lenVar": 40
   },
   "kernels_config": {
    "python": {
     "delete_cmd_postfix": "",
     "delete_cmd_prefix": "del ",
     "library": "var_list.py",
     "varRefreshCmd": "print(var_dic_list())"
    },
    "r": {
     "delete_cmd_postfix": ") ",
     "delete_cmd_prefix": "rm(",
     "library": "var_list.r",
     "varRefreshCmd": "cat(var_dic_list()) "
    }
   },
   "position": {
    "height": "343px",
    "left": "920px",
    "right": "20px",
    "top": "26px",
    "width": "427px"
   },
   "types_to_exclude": [
    "module",
    "function",
    "builtin_function_or_method",
    "instance",
    "_Feature"
   ],
   "window_display": false
  }
 },
 "nbformat": 4,
 "nbformat_minor": 4
}
